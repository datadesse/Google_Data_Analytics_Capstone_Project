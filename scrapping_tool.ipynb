{
 "cells": [
  {
   "cell_type": "markdown",
   "id": "2fbc732e",
   "metadata": {},
   "source": [
    "# Web Scraping of Data Analyst Jobs Analysis "
   ]
  },
  {
   "cell_type": "markdown",
   "id": "62331700",
   "metadata": {},
   "source": [
    "This project is a showcase for Scrape and Analyze data analyst job requirements with Python Coursera Project which is part of the Google Data Analytics Professional Certificate course I completed.\n",
    "- https://www.coursera.org/professional-certificates/google-data-analytics\n",
    "- https://www.coursera.org/learn/scrape-job-postings-data-analyst/supplement/uKwPr/the-project-scenario"
   ]
  },
  {
   "cell_type": "markdown",
   "id": "d9bbe838",
   "metadata": {},
   "source": [
    "## Overview\n",
    "\n",
    "I am acting as a data analyst at a medium-sized recruitment agency to help improve its sourcing of job vacancies\n",
    "\n",
    "## 1. Business Problem\n",
    "\n",
    "The agency relies on multiple job posting sites to identify potential job openings for its clients. It searches through each site manually which is time-consuming and often leads to missed opportunities.  \n",
    "\n",
    "They want me to  analyse **Data Analyst** role advert data using web scraping tools that can ** automatically** extract job posting data from a job posting site.  The team will use my analysis to provide a more efficient way to provide job vacancies to better serve its clients. This feature will help the recruitment agency by getting relevant openings to their clients more quickly, giving their clients a competitive advantage over other applicants.\n",
    "\n",
    "## Project Objectives\n",
    "\n",
    "- To  create a web scraping tool that can automatically extract data of  Data Analyst jobs from a job posting site\n",
    "- To increase the efficiency &  quality of job vacancy sourcing \n",
    "- To gain a competitive advantage\n",
    "- To give suggestions on my findings \n",
    "  \n",
    "\n",
    "## Selecting a job posting site\n",
    "\n",
    "* Most job websites I tried have an anti-scraping filter which can affect my results.\n",
    "\n",
    "* I have chosen **www.reed.co.uk** for this project because it is easier to scrape and specialised in advertising local jobs in the UK \n"
   ]
  },
  {
   "cell_type": "markdown",
   "id": "41405b03",
   "metadata": {},
   "source": [
    "# THE SCRAPPING TOOL (Application)\n",
    "\n",
    "**A one-line code function to extract the required information from all pages of the website, download and save the data as a CSV file format**"
   ]
  },
  {
   "cell_type": "code",
   "execution_count": 2,
   "id": "6c4b85c5",
   "metadata": {},
   "outputs": [],
   "source": [
    "#importing libraries\n",
    "import pandas as pd\n",
    "import requests\n",
    "from bs4 import BeautifulSoup\n",
    "\n",
    "\n",
    "def divs_all_pages(div):\n",
    "        \n",
    "    title = div.h2.text\n",
    "\n",
    "    date  = div.find('div', class_=\"job-card_jobResultHeading__postedBy__sK_25\").text.partition('by')[0].strip()\n",
    "\n",
    "    employer = div.find('a', {'data-element':\"recruiter\"}).text\n",
    "\n",
    "    location = div.find('li',{'data-qa' :'job-card-location'}).text\n",
    "\n",
    "    salary = div.find_all('li', class_=\"job-card_jobMetadata__item___QNud list-group-item\")[0].text\n",
    "\n",
    "    working_hrs = div.find_all('li', class_=\"job-card_jobMetadata__item___QNud list-group-item\")[2].text\n",
    "    \n",
    "    weblink  = \"https://www.reed.co.uk\" + div.h2.a.get('href')\n",
    "\n",
    "    description = div.find('p', {'data-qa':\"jobDescriptionDetails\"}).text\n",
    "    \n",
    "\n",
    "    # Append the above a tuple (files)\n",
    "\n",
    "    files = (title, date, employer, location,salary, working_hrs,weblink, description)\n",
    "    \n",
    "    # Create a tuple list\n",
    "    return files \n",
    "        \n",
    "\n",
    "\n",
    "def main():\n",
    "    \n",
    "    # Initiate an empty list and base url\n",
    "\n",
    "    data_all =[]\n",
    "    url = \"https://www.reed.co.uk/jobs/data-analyst-jobs-in-england\"\n",
    "    \n",
    "\n",
    "    while True:\n",
    "    \n",
    "        headers = {\n",
    "            \"User-agent\": \"Mozilla/5.0 (X11; Linux x86_64) AppleWebKit/537.36 (KHTML, like Gecko) Chrome/77.0.3865.120 Safari/537.36\"}\n",
    "\n",
    "        response = requests.get(url, headers=headers)\n",
    "        data = response.text\n",
    "        soup = BeautifulSoup(data, 'html')\n",
    "        \n",
    "        divs = soup.find_all('div', class_= 'col-sm-12 col-md-7 col-lg-8 col-xl-9')\n",
    "        \n",
    "        # Run all divs in divs_all_pages(div) function created above \n",
    "        for div in divs:\n",
    "            files = divs_all_pages(div)\n",
    "            data_all.append(files)\n",
    "        \n",
    "        # the function to try extracting url if reached the final 'Next' page to break out from the while loop\n",
    "        try:\n",
    "            \n",
    "            url = \"https://www.reed.co.uk\" + soup.find('a', {'aria-label':\"Next page\"}).get('href')\n",
    "\n",
    "        except AttributeError as AttError:\n",
    "\n",
    "            break\n",
    "            \n",
    "        # create a Dataframe      \n",
    "        df_first = pd.DataFrame(data_all, columns = ['title', 'date', 'employer', 'location', 'salary','working_hours',\n",
    "                                                     'job_weblink', 'job_description'])\n",
    "\n",
    "        # save the data as csv file format \n",
    "        df_first.to_csv('data_analyst_28_04_24.csv', index=None)\n",
    "\n",
    "\n",
    "# Run the function \n",
    "main()\n",
    "\n"
   ]
  },
  {
   "cell_type": "markdown",
   "id": "6ed712e9",
   "metadata": {},
   "source": [
    "## Load the scrapped data"
   ]
  },
  {
   "cell_type": "code",
   "execution_count": 2,
   "id": "0ba2d0e7",
   "metadata": {},
   "outputs": [
    {
     "data": {
      "text/html": [
       "<div>\n",
       "<style scoped>\n",
       "    .dataframe tbody tr th:only-of-type {\n",
       "        vertical-align: middle;\n",
       "    }\n",
       "\n",
       "    .dataframe tbody tr th {\n",
       "        vertical-align: top;\n",
       "    }\n",
       "\n",
       "    .dataframe thead th {\n",
       "        text-align: right;\n",
       "    }\n",
       "</style>\n",
       "<table border=\"1\" class=\"dataframe\">\n",
       "  <thead>\n",
       "    <tr style=\"text-align: right;\">\n",
       "      <th></th>\n",
       "      <th>title</th>\n",
       "      <th>date</th>\n",
       "      <th>employer</th>\n",
       "      <th>location</th>\n",
       "      <th>salary</th>\n",
       "      <th>working_hours</th>\n",
       "      <th>job_weblink</th>\n",
       "      <th>job_description</th>\n",
       "    </tr>\n",
       "  </thead>\n",
       "  <tbody>\n",
       "    <tr>\n",
       "      <th>0</th>\n",
       "      <td>Data Analyst</td>\n",
       "      <td>28 March</td>\n",
       "      <td>SES Water</td>\n",
       "      <td>Redhill</td>\n",
       "      <td>£28,000 - £32,000 per annum</td>\n",
       "      <td>Permanent, full-time</td>\n",
       "      <td>https://www.reed.co.uk/jobs/data-analyst/52392...</td>\n",
       "      <td>If you are a Data Analyst with a commitment to...</td>\n",
       "    </tr>\n",
       "    <tr>\n",
       "      <th>1</th>\n",
       "      <td>Business Data Analyst/Data Analyst</td>\n",
       "      <td>3 days ago</td>\n",
       "      <td>Deutsche Bank</td>\n",
       "      <td>Birmingham</td>\n",
       "      <td>Competitive salary</td>\n",
       "      <td>Contract, full-time</td>\n",
       "      <td>https://www.reed.co.uk/jobs/business-data-anal...</td>\n",
       "      <td>AMS is the world's leading provider of Talent ...</td>\n",
       "    </tr>\n",
       "  </tbody>\n",
       "</table>\n",
       "</div>"
      ],
      "text/plain": [
       "                                title        date       employer    location  \\\n",
       "0                        Data Analyst    28 March      SES Water     Redhill   \n",
       "1  Business Data Analyst/Data Analyst  3 days ago  Deutsche Bank  Birmingham   \n",
       "\n",
       "                        salary         working_hours  \\\n",
       "0  £28,000 - £32,000 per annum  Permanent, full-time   \n",
       "1           Competitive salary   Contract, full-time   \n",
       "\n",
       "                                         job_weblink  \\\n",
       "0  https://www.reed.co.uk/jobs/data-analyst/52392...   \n",
       "1  https://www.reed.co.uk/jobs/business-data-anal...   \n",
       "\n",
       "                                     job_description  \n",
       "0  If you are a Data Analyst with a commitment to...  \n",
       "1  AMS is the world's leading provider of Talent ...  "
      ]
     },
     "execution_count": 2,
     "metadata": {},
     "output_type": "execute_result"
    }
   ],
   "source": [
    "#importing libraries\n",
    "import pandas as pd\n",
    "pd.options.display.max_rows = None\n",
    "\n",
    "df_original  = pd.read_csv('data_analyst_28_04_24.csv')\n",
    "df_original.head(2)\n"
   ]
  }
 ],
 "metadata": {
  "kernelspec": {
   "display_name": "Python 3 (ipykernel)",
   "language": "python",
   "name": "python3"
  },
  "language_info": {
   "codemirror_mode": {
    "name": "ipython",
    "version": 3
   },
   "file_extension": ".py",
   "mimetype": "text/x-python",
   "name": "python",
   "nbconvert_exporter": "python",
   "pygments_lexer": "ipython3",
   "version": "3.8.18"
  },
  "varInspector": {
   "cols": {
    "lenName": 16,
    "lenType": 16,
    "lenVar": 40
   },
   "kernels_config": {
    "python": {
     "delete_cmd_postfix": "",
     "delete_cmd_prefix": "del ",
     "library": "var_list.py",
     "varRefreshCmd": "print(var_dic_list())"
    },
    "r": {
     "delete_cmd_postfix": ") ",
     "delete_cmd_prefix": "rm(",
     "library": "var_list.r",
     "varRefreshCmd": "cat(var_dic_list()) "
    }
   },
   "types_to_exclude": [
    "module",
    "function",
    "builtin_function_or_method",
    "instance",
    "_Feature"
   ],
   "window_display": false
  }
 },
 "nbformat": 4,
 "nbformat_minor": 5
}
