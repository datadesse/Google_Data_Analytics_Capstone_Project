{
 "cells": [
  {
   "cell_type": "markdown",
   "id": "2fbc732e",
   "metadata": {},
   "source": [
    "# Web Scraping of Data Analyst Jobs Analysis "
   ]
  },
  {
   "cell_type": "markdown",
   "id": "cebff87d",
   "metadata": {},
   "source": [
    "## 3. Data Cleaning & Preparation for analysis  \n",
    "- Read back he the downloaded data   'data_analyst_28_04_24.csv' file for analysis\n",
    "- Display all rows of the dataframe & investigate "
   ]
  },
  {
   "cell_type": "code",
   "execution_count": 2,
   "id": "0ba2d0e7",
   "metadata": {},
   "outputs": [
    {
     "data": {
      "text/html": [
       "<div>\n",
       "<style scoped>\n",
       "    .dataframe tbody tr th:only-of-type {\n",
       "        vertical-align: middle;\n",
       "    }\n",
       "\n",
       "    .dataframe tbody tr th {\n",
       "        vertical-align: top;\n",
       "    }\n",
       "\n",
       "    .dataframe thead th {\n",
       "        text-align: right;\n",
       "    }\n",
       "</style>\n",
       "<table border=\"1\" class=\"dataframe\">\n",
       "  <thead>\n",
       "    <tr style=\"text-align: right;\">\n",
       "      <th></th>\n",
       "      <th>title</th>\n",
       "      <th>date</th>\n",
       "      <th>employer</th>\n",
       "      <th>location</th>\n",
       "      <th>salary</th>\n",
       "      <th>working_hours</th>\n",
       "      <th>job_weblink</th>\n",
       "      <th>job_description</th>\n",
       "    </tr>\n",
       "  </thead>\n",
       "  <tbody>\n",
       "    <tr>\n",
       "      <th>0</th>\n",
       "      <td>Data Analyst</td>\n",
       "      <td>28 March</td>\n",
       "      <td>SES Water</td>\n",
       "      <td>Redhill</td>\n",
       "      <td>£28,000 - £32,000 per annum</td>\n",
       "      <td>Permanent, full-time</td>\n",
       "      <td>https://www.reed.co.uk/jobs/data-analyst/52392...</td>\n",
       "      <td>If you are a Data Analyst with a commitment to...</td>\n",
       "    </tr>\n",
       "    <tr>\n",
       "      <th>1</th>\n",
       "      <td>Business Data Analyst/Data Analyst</td>\n",
       "      <td>3 days ago</td>\n",
       "      <td>Deutsche Bank</td>\n",
       "      <td>Birmingham</td>\n",
       "      <td>Competitive salary</td>\n",
       "      <td>Contract, full-time</td>\n",
       "      <td>https://www.reed.co.uk/jobs/business-data-anal...</td>\n",
       "      <td>AMS is the world's leading provider of Talent ...</td>\n",
       "    </tr>\n",
       "  </tbody>\n",
       "</table>\n",
       "</div>"
      ],
      "text/plain": [
       "                                title        date       employer    location  \\\n",
       "0                        Data Analyst    28 March      SES Water     Redhill   \n",
       "1  Business Data Analyst/Data Analyst  3 days ago  Deutsche Bank  Birmingham   \n",
       "\n",
       "                        salary         working_hours  \\\n",
       "0  £28,000 - £32,000 per annum  Permanent, full-time   \n",
       "1           Competitive salary   Contract, full-time   \n",
       "\n",
       "                                         job_weblink  \\\n",
       "0  https://www.reed.co.uk/jobs/data-analyst/52392...   \n",
       "1  https://www.reed.co.uk/jobs/business-data-anal...   \n",
       "\n",
       "                                     job_description  \n",
       "0  If you are a Data Analyst with a commitment to...  \n",
       "1  AMS is the world's leading provider of Talent ...  "
      ]
     },
     "execution_count": 2,
     "metadata": {},
     "output_type": "execute_result"
    }
   ],
   "source": [
    "#importing libraries\n",
    "import pandas as pd\n",
    "pd.options.display.max_rows = None\n",
    "\n",
    "df_original  = pd.read_csv('data_analyst_28_04_24.csv')\n",
    "df_original.head(2)\n"
   ]
  },
  {
   "cell_type": "code",
   "execution_count": 7,
   "id": "5e79eadd",
   "metadata": {},
   "outputs": [
    {
     "name": "stdout",
     "output_type": "stream",
     "text": [
      "<class 'pandas.core.frame.DataFrame'>\n",
      "RangeIndex: 2874 entries, 0 to 2873\n",
      "Data columns (total 8 columns):\n",
      " #   Column           Non-Null Count  Dtype \n",
      "---  ------           --------------  ----- \n",
      " 0   title            2874 non-null   object\n",
      " 1   date             2874 non-null   object\n",
      " 2   employer         2874 non-null   object\n",
      " 3   location         2874 non-null   object\n",
      " 4   salary           2874 non-null   object\n",
      " 5   working_hours    2874 non-null   object\n",
      " 6   job_weblink      2874 non-null   object\n",
      " 7   job_description  2874 non-null   object\n",
      "dtypes: object(8)\n",
      "memory usage: 179.8+ KB\n"
     ]
    }
   ],
   "source": [
    "df_original.info()"
   ]
  },
  {
   "cell_type": "markdown",
   "id": "f0569b9d",
   "metadata": {},
   "source": [
    "### Check for duplicate "
   ]
  },
  {
   "cell_type": "code",
   "execution_count": 4,
   "id": "ef5f1dee",
   "metadata": {},
   "outputs": [
    {
     "data": {
      "text/plain": [
       "0"
      ]
     },
     "execution_count": 4,
     "metadata": {},
     "output_type": "execute_result"
    }
   ],
   "source": [
    "# No duplicated values in df_original \n",
    "df_original.duplicated().sum()"
   ]
  },
  {
   "cell_type": "code",
   "execution_count": 3,
   "id": "a7246dee",
   "metadata": {},
   "outputs": [
    {
     "data": {
      "text/plain": [
       "Index(['title', 'date', 'employer', 'location', 'salary', 'working_hours',\n",
       "       'job_weblink', 'job_description'],\n",
       "      dtype='object')"
      ]
     },
     "execution_count": 3,
     "metadata": {},
     "output_type": "execute_result"
    }
   ],
   "source": [
    "df_original.columns"
   ]
  },
  {
   "cell_type": "markdown",
   "id": "2ce8764c",
   "metadata": {},
   "source": [
    "### The data contains  jobs unrelated to Data Analyst (like Commercial Underwriter, etc)\n",
    "- Filter out the title column to extract only jobs conatining data analyst and create a dataframe \n"
   ]
  },
  {
   "cell_type": "code",
   "execution_count": 6,
   "id": "40706a1c",
   "metadata": {},
   "outputs": [
    {
     "data": {
      "text/html": [
       "<div>\n",
       "<style scoped>\n",
       "    .dataframe tbody tr th:only-of-type {\n",
       "        vertical-align: middle;\n",
       "    }\n",
       "\n",
       "    .dataframe tbody tr th {\n",
       "        vertical-align: top;\n",
       "    }\n",
       "\n",
       "    .dataframe thead th {\n",
       "        text-align: right;\n",
       "    }\n",
       "</style>\n",
       "<table border=\"1\" class=\"dataframe\">\n",
       "  <thead>\n",
       "    <tr style=\"text-align: right;\">\n",
       "      <th></th>\n",
       "      <th>title</th>\n",
       "      <th>date</th>\n",
       "      <th>employer</th>\n",
       "      <th>location</th>\n",
       "      <th>salary</th>\n",
       "      <th>working_hours</th>\n",
       "    </tr>\n",
       "  </thead>\n",
       "  <tbody>\n",
       "    <tr>\n",
       "      <th>0</th>\n",
       "      <td>Data Analyst</td>\n",
       "      <td>28 March</td>\n",
       "      <td>SES Water</td>\n",
       "      <td>Redhill</td>\n",
       "      <td>£28,000 - £32,000 per annum</td>\n",
       "      <td>Permanent, full-time</td>\n",
       "    </tr>\n",
       "    <tr>\n",
       "      <th>1</th>\n",
       "      <td>Business Data Analyst/Data Analyst</td>\n",
       "      <td>3 days ago</td>\n",
       "      <td>Deutsche Bank</td>\n",
       "      <td>Birmingham</td>\n",
       "      <td>Competitive salary</td>\n",
       "      <td>Contract, full-time</td>\n",
       "    </tr>\n",
       "  </tbody>\n",
       "</table>\n",
       "</div>"
      ],
      "text/plain": [
       "                                title        date       employer    location  \\\n",
       "0                        Data Analyst    28 March      SES Water     Redhill   \n",
       "1  Business Data Analyst/Data Analyst  3 days ago  Deutsche Bank  Birmingham   \n",
       "\n",
       "                        salary         working_hours  \n",
       "0  £28,000 - £32,000 per annum  Permanent, full-time  \n",
       "1           Competitive salary   Contract, full-time  "
      ]
     },
     "execution_count": 6,
     "metadata": {},
     "output_type": "execute_result"
    }
   ],
   "source": [
    "# Select only Data Analyst jobs\n",
    "df_data_analyst = df_original.loc[df_original.title.str.contains('Data Analyst'), \n",
    "                         ['title', 'date', 'employer', 'location', 'salary', 'working_hours']]\n",
    "df_data_analyst.head(2)\n"
   ]
  },
  {
   "cell_type": "code",
   "execution_count": 12,
   "id": "a61e309c",
   "metadata": {},
   "outputs": [
    {
     "name": "stdout",
     "output_type": "stream",
     "text": [
      "<class 'pandas.core.frame.DataFrame'>\n",
      "Index: 523 entries, 0 to 2863\n",
      "Data columns (total 6 columns):\n",
      " #   Column         Non-Null Count  Dtype \n",
      "---  ------         --------------  ----- \n",
      " 0   title          523 non-null    object\n",
      " 1   date           523 non-null    object\n",
      " 2   employer       523 non-null    object\n",
      " 3   location       523 non-null    object\n",
      " 4   salary         523 non-null    object\n",
      " 5   working_hours  523 non-null    object\n",
      "dtypes: object(6)\n",
      "memory usage: 28.6+ KB\n"
     ]
    }
   ],
   "source": [
    "df_data_analyst.info()"
   ]
  },
  {
   "cell_type": "markdown",
   "id": "030cf73f",
   "metadata": {},
   "source": [
    "### Check for duplicate values in df_data_analyst "
   ]
  },
  {
   "cell_type": "code",
   "execution_count": 6,
   "id": "2ee1ddbf",
   "metadata": {},
   "outputs": [
    {
     "data": {
      "text/plain": [
       "229"
      ]
     },
     "execution_count": 6,
     "metadata": {},
     "output_type": "execute_result"
    }
   ],
   "source": [
    "# 229 duplicate values \n",
    "df_data_analyst.duplicated().sum()\n"
   ]
  },
  {
   "cell_type": "code",
   "execution_count": 7,
   "id": "0f29b9b1",
   "metadata": {},
   "outputs": [
    {
     "data": {
      "text/html": [
       "<div>\n",
       "<style scoped>\n",
       "    .dataframe tbody tr th:only-of-type {\n",
       "        vertical-align: middle;\n",
       "    }\n",
       "\n",
       "    .dataframe tbody tr th {\n",
       "        vertical-align: top;\n",
       "    }\n",
       "\n",
       "    .dataframe thead th {\n",
       "        text-align: right;\n",
       "    }\n",
       "</style>\n",
       "<table border=\"1\" class=\"dataframe\">\n",
       "  <thead>\n",
       "    <tr style=\"text-align: right;\">\n",
       "      <th></th>\n",
       "      <th>title</th>\n",
       "      <th>date</th>\n",
       "      <th>employer</th>\n",
       "      <th>location</th>\n",
       "      <th>salary</th>\n",
       "      <th>working_hours</th>\n",
       "    </tr>\n",
       "  </thead>\n",
       "  <tbody>\n",
       "    <tr>\n",
       "      <th>4</th>\n",
       "      <td>Data Analyst</td>\n",
       "      <td>28 March</td>\n",
       "      <td>SES Water</td>\n",
       "      <td>Redhill</td>\n",
       "      <td>£28,000 - £32,000 per annum</td>\n",
       "      <td>Permanent, full-time</td>\n",
       "    </tr>\n",
       "    <tr>\n",
       "      <th>5</th>\n",
       "      <td>Business Data Analyst/Data Analyst</td>\n",
       "      <td>3 days ago</td>\n",
       "      <td>Deutsche Bank</td>\n",
       "      <td>Birmingham</td>\n",
       "      <td>Competitive salary</td>\n",
       "      <td>Contract, full-time</td>\n",
       "    </tr>\n",
       "    <tr>\n",
       "      <th>27</th>\n",
       "      <td>Data Analyst</td>\n",
       "      <td>28 March</td>\n",
       "      <td>SES Water</td>\n",
       "      <td>Redhill</td>\n",
       "      <td>£28,000 - £32,000 per annum</td>\n",
       "      <td>Permanent, full-time</td>\n",
       "    </tr>\n",
       "    <tr>\n",
       "      <th>28</th>\n",
       "      <td>Business Data Analyst/Data Analyst</td>\n",
       "      <td>3 days ago</td>\n",
       "      <td>Deutsche Bank</td>\n",
       "      <td>Birmingham</td>\n",
       "      <td>Competitive salary</td>\n",
       "      <td>Contract, full-time</td>\n",
       "    </tr>\n",
       "    <tr>\n",
       "      <th>33</th>\n",
       "      <td>Data Analyst Trainee</td>\n",
       "      <td>16 January</td>\n",
       "      <td>ITonlinelearning Recruitment</td>\n",
       "      <td>London</td>\n",
       "      <td>Training Course</td>\n",
       "      <td>Permanent, full-time</td>\n",
       "    </tr>\n",
       "  </tbody>\n",
       "</table>\n",
       "</div>"
      ],
      "text/plain": [
       "                                 title        date  \\\n",
       "4                         Data Analyst    28 March   \n",
       "5   Business Data Analyst/Data Analyst  3 days ago   \n",
       "27                        Data Analyst    28 March   \n",
       "28  Business Data Analyst/Data Analyst  3 days ago   \n",
       "33                Data Analyst Trainee  16 January   \n",
       "\n",
       "                        employer    location                       salary  \\\n",
       "4                      SES Water     Redhill  £28,000 - £32,000 per annum   \n",
       "5                  Deutsche Bank  Birmingham           Competitive salary   \n",
       "27                     SES Water     Redhill  £28,000 - £32,000 per annum   \n",
       "28                 Deutsche Bank  Birmingham           Competitive salary   \n",
       "33  ITonlinelearning Recruitment      London              Training Course   \n",
       "\n",
       "           working_hours  \n",
       "4   Permanent, full-time  \n",
       "5    Contract, full-time  \n",
       "27  Permanent, full-time  \n",
       "28   Contract, full-time  \n",
       "33  Permanent, full-time  "
      ]
     },
     "execution_count": 7,
     "metadata": {},
     "output_type": "execute_result"
    }
   ],
   "source": [
    "df_data_analyst[df_data_analyst.duplicated()].head()\n"
   ]
  },
  {
   "cell_type": "code",
   "execution_count": 9,
   "id": "9fe9ea72",
   "metadata": {},
   "outputs": [
    {
     "name": "stdout",
     "output_type": "stream",
     "text": [
      "<class 'pandas.core.frame.DataFrame'>\n",
      "Index: 523 entries, 0 to 2863\n",
      "Data columns (total 6 columns):\n",
      " #   Column         Non-Null Count  Dtype \n",
      "---  ------         --------------  ----- \n",
      " 0   title          523 non-null    object\n",
      " 1   date           523 non-null    object\n",
      " 2   employer       523 non-null    object\n",
      " 3   location       523 non-null    object\n",
      " 4   salary         523 non-null    object\n",
      " 5   working_hours  523 non-null    object\n",
      "dtypes: object(6)\n",
      "memory usage: 28.6+ KB\n"
     ]
    }
   ],
   "source": [
    "df_data_analyst.info()"
   ]
  },
  {
   "cell_type": "markdown",
   "id": "577b61ff",
   "metadata": {},
   "source": [
    "### Remove duplicated rows"
   ]
  },
  {
   "cell_type": "code",
   "execution_count": 8,
   "id": "b3e1f7b3",
   "metadata": {},
   "outputs": [],
   "source": [
    "# remove 229 duplicated values from df_data_analyst= \n",
    "df_data_analyst.drop_duplicates(inplace=True)\n"
   ]
  },
  {
   "cell_type": "code",
   "execution_count": 9,
   "id": "20405b3c",
   "metadata": {},
   "outputs": [
    {
     "name": "stdout",
     "output_type": "stream",
     "text": [
      "<class 'pandas.core.frame.DataFrame'>\n",
      "Index: 294 entries, 0 to 2157\n",
      "Data columns (total 6 columns):\n",
      " #   Column         Non-Null Count  Dtype \n",
      "---  ------         --------------  ----- \n",
      " 0   title          294 non-null    object\n",
      " 1   date           294 non-null    object\n",
      " 2   employer       294 non-null    object\n",
      " 3   location       294 non-null    object\n",
      " 4   salary         294 non-null    object\n",
      " 5   working_hours  294 non-null    object\n",
      "dtypes: object(6)\n",
      "memory usage: 16.1+ KB\n"
     ]
    }
   ],
   "source": [
    "df_data_analyst.info()"
   ]
  },
  {
   "cell_type": "markdown",
   "id": "fb778361",
   "metadata": {},
   "source": [
    "### Values count of the title with Data Analyst role"
   ]
  },
  {
   "cell_type": "code",
   "execution_count": 7,
   "id": "9422ffea",
   "metadata": {},
   "outputs": [
    {
     "data": {
      "text/plain": [
       "title\n",
       "Data Analyst                                                    159\n",
       "Business Data Analyst/Data Analyst                              108\n",
       "Data Analyst Trainee                                             85\n",
       "Senior Data Analyst                                              15\n",
       "Senior Marketing Data Analyst E-Commerce                          5\n",
       "Product Data Analyst                                              4\n",
       "Junior Data Analyst                                               4\n",
       "Entry-Level Data Analyst                                          3\n",
       "Data Analyst                                                      3\n",
       "Marketing Data Analyst                                            3\n",
       "Behavioural Data Analyst                                          3\n",
       "Customer Data Analyst                                             3\n",
       "Geospatial Data Analyst                                           3\n",
       "CAD Data Analyst                                                  2\n",
       "Senior Business/Data Analyst - Sql, Excel, Data Vis, Banking      2\n",
       "Name: count, dtype: int64"
      ]
     },
     "execution_count": 7,
     "metadata": {},
     "output_type": "execute_result"
    }
   ],
   "source": [
    "df_data_analyst.title.value_counts().head(15)"
   ]
  },
  {
   "cell_type": "markdown",
   "id": "9fb8105f",
   "metadata": {},
   "source": [
    "### Check for data types and missing values of each columns  \n"
   ]
  },
  {
   "cell_type": "code",
   "execution_count": 13,
   "id": "fce8c110",
   "metadata": {},
   "outputs": [
    {
     "data": {
      "text/plain": [
       "title            0\n",
       "date             0\n",
       "employer         0\n",
       "location         0\n",
       "salary           0\n",
       "working_hours    0\n",
       "dtype: int64"
      ]
     },
     "execution_count": 13,
     "metadata": {},
     "output_type": "execute_result"
    }
   ],
   "source": [
    "# no missing values \n",
    "df_data_analyst.isna().sum()\n"
   ]
  },
  {
   "cell_type": "markdown",
   "id": "b3f7941f",
   "metadata": {},
   "source": [
    "# Date column\n",
    "- The  \"date\" column values treated as strings (objects) & needs changing to datetime format "
   ]
  },
  {
   "cell_type": "code",
   "execution_count": 10,
   "id": "888fd050",
   "metadata": {},
   "outputs": [
    {
     "data": {
      "text/plain": [
       "array(['28 March', '3 days ago', '18 April', '9 April', '24 January',\n",
       "       '2 January', '15 April', '29 January', '23 January', '27 December',\n",
       "       '3 January', '25 January', '16 January', '8 January', '9 January',\n",
       "       '4 January', '10 January', '15 January', '12 January',\n",
       "       '26 January', '22 January', '8 December', '28 December',\n",
       "       '5 January', '2 days ago', '12 April', '4 days ago', '17 April',\n",
       "       '21 March', '8 April', '16 April', '5 days ago', 'Yesterday',\n",
       "       '30 March', '22 March', '10 April', '3 April', '18 March',\n",
       "       '11 April', '27 Feburary', '19 April', '19 March', '5 June',\n",
       "       '24 March', '29 March', '4 April', '20 April', '5 April',\n",
       "       '1 April', '2 April', '22 April', '27 March', '12 March',\n",
       "       '17 March', '13 Feburary', '20 March', '26 March', '5 March'],\n",
       "      dtype=object)"
      ]
     },
     "execution_count": 10,
     "metadata": {},
     "output_type": "execute_result"
    }
   ],
   "source": [
    "# Explore unique values\n",
    "unique = df_data_analyst[\"date\"].unique()\n",
    "unique"
   ]
  },
  {
   "cell_type": "markdown",
   "id": "a8221d56",
   "metadata": {},
   "source": [
    "## The 'date' column is string and has different formats of values \n",
    "### The next task\n",
    "\n",
    "* Change days ago , yesterday to propper date formats\n",
    "* Extract the number of dates from 'days ago' then calculate the date from the scrapping date using datetime & timedelta functions\n",
    "* Replace days ago with the relevant date before the date scraping the website ('28 April 2024')\n",
    "* Replace 'Yesterday' with the day before from the scraping date ('27 April 2024')\n",
    "* Add 2023 to months- like June & December\n",
    "* Add 2024 to month - January, February, March and April  \n",
    "* Change the \"date\" column to date format"
   ]
  },
  {
   "cell_type": "code",
   "execution_count": 8,
   "id": "d28864c8",
   "metadata": {},
   "outputs": [
    {
     "data": {
      "text/plain": [
       "date\n",
       "3 days ago    118\n",
       "28 March      110\n",
       "15 April       20\n",
       "2 days ago     18\n",
       "18 April       14\n",
       "22 March       12\n",
       "5 days ago     11\n",
       "16 January     11\n",
       "9 April        10\n",
       "23 January     10\n",
       "17 April        9\n",
       "19 March        8\n",
       "19 April        8\n",
       "16 April        8\n",
       "4 days ago      8\n",
       "Name: count, dtype: int64"
      ]
     },
     "execution_count": 8,
     "metadata": {},
     "output_type": "execute_result"
    }
   ],
   "source": [
    "date_counts = df_data_analyst.date.value_counts()\n",
    "date_counts.head(15)"
   ]
  },
  {
   "cell_type": "code",
   "execution_count": 24,
   "id": "c822e7de",
   "metadata": {},
   "outputs": [
    {
     "data": {
      "text/plain": [
       "Index(['15 April', '2 days ago', '18 April', '22 March', '5 days ago',\n",
       "       '9 April', '3 days ago', '23 January', '17 April', '16 January',\n",
       "       '19 March', '16 April', '12 April', '19 April', '8 April', '29 January',\n",
       "       '5 April', '27 March', '21 March', '3 April', '2 January', '4 days ago',\n",
       "       '10 April', 'Yesterday', '24 January', '11 April', '20 March',\n",
       "       '27 December', '4 January', '10 January', '18 March', '22 January',\n",
       "       '4 April', '3 January', '2 April', '28 March', '9 January',\n",
       "       '28 December', '26 March', '25 January', '24 March', '20 April',\n",
       "       '22 April', '30 March', '13 Feburary', '17 March', '12 March',\n",
       "       '8 January', '15 January', '1 April', '5 January', '12 January',\n",
       "       '29 March', '5 June', '26 January', '8 December', '27 Feburary',\n",
       "       '5 March'],\n",
       "      dtype='object', name='date')"
      ]
     },
     "execution_count": 24,
     "metadata": {},
     "output_type": "execute_result"
    }
   ],
   "source": [
    "date_counts.index"
   ]
  },
  {
   "cell_type": "markdown",
   "id": "4681296d",
   "metadata": {},
   "source": [
    "### Check how many 'Yesterday' is in the date column "
   ]
  },
  {
   "cell_type": "code",
   "execution_count": 25,
   "id": "352a194d",
   "metadata": {},
   "outputs": [
    {
     "name": "stdout",
     "output_type": "stream",
     "text": [
      "5\n"
     ]
    }
   ],
   "source": [
    "#Count how many times 'Yesterday' appears in \"date\" column \n",
    "print(df_data_analyst[\"date\"].value_counts()['Yesterday'])\n"
   ]
  },
  {
   "cell_type": "code",
   "execution_count": 26,
   "id": "a16a5d02",
   "metadata": {},
   "outputs": [
    {
     "data": {
      "text/plain": [
       "0"
      ]
     },
     "execution_count": 26,
     "metadata": {},
     "output_type": "execute_result"
    }
   ],
   "source": [
    "# no hrs or hr ago (none)\n",
    "df_data_analyst[\"date\"].str.match('.*hr').sum()#][\"date\"]\n"
   ]
  },
  {
   "cell_type": "markdown",
   "id": "f3f4012e",
   "metadata": {},
   "source": [
    "### Check how many 'days ago' are in the date column "
   ]
  },
  {
   "cell_type": "code",
   "execution_count": 12,
   "id": "7167fa31",
   "metadata": {},
   "outputs": [
    {
     "data": {
      "text/plain": [
       "44"
      ]
     },
     "execution_count": 12,
     "metadata": {},
     "output_type": "execute_result"
    }
   ],
   "source": [
    "# there are 44 days or weeks ago \n",
    "df_data_analyst[\"date\"].str.match('.*ago').sum()\n"
   ]
  },
  {
   "cell_type": "code",
   "execution_count": 10,
   "id": "1eca6c8b",
   "metadata": {},
   "outputs": [
    {
     "data": {
      "text/html": [
       "<div>\n",
       "<style scoped>\n",
       "    .dataframe tbody tr th:only-of-type {\n",
       "        vertical-align: middle;\n",
       "    }\n",
       "\n",
       "    .dataframe tbody tr th {\n",
       "        vertical-align: top;\n",
       "    }\n",
       "\n",
       "    .dataframe thead th {\n",
       "        text-align: right;\n",
       "    }\n",
       "</style>\n",
       "<table border=\"1\" class=\"dataframe\">\n",
       "  <thead>\n",
       "    <tr style=\"text-align: right;\">\n",
       "      <th></th>\n",
       "      <th>date</th>\n",
       "    </tr>\n",
       "  </thead>\n",
       "  <tbody>\n",
       "    <tr>\n",
       "      <th>1</th>\n",
       "      <td>3 days ago</td>\n",
       "    </tr>\n",
       "    <tr>\n",
       "      <th>5</th>\n",
       "      <td>3 days ago</td>\n",
       "    </tr>\n",
       "    <tr>\n",
       "      <th>28</th>\n",
       "      <td>3 days ago</td>\n",
       "    </tr>\n",
       "    <tr>\n",
       "      <th>55</th>\n",
       "      <td>3 days ago</td>\n",
       "    </tr>\n",
       "    <tr>\n",
       "      <th>72</th>\n",
       "      <td>3 days ago</td>\n",
       "    </tr>\n",
       "    <tr>\n",
       "      <th>82</th>\n",
       "      <td>3 days ago</td>\n",
       "    </tr>\n",
       "    <tr>\n",
       "      <th>99</th>\n",
       "      <td>3 days ago</td>\n",
       "    </tr>\n",
       "    <tr>\n",
       "      <th>100</th>\n",
       "      <td>2 days ago</td>\n",
       "    </tr>\n",
       "    <tr>\n",
       "      <th>103</th>\n",
       "      <td>4 days ago</td>\n",
       "    </tr>\n",
       "    <tr>\n",
       "      <th>109</th>\n",
       "      <td>3 days ago</td>\n",
       "    </tr>\n",
       "  </tbody>\n",
       "</table>\n",
       "</div>"
      ],
      "text/plain": [
       "           date\n",
       "1    3 days ago\n",
       "5    3 days ago\n",
       "28   3 days ago\n",
       "55   3 days ago\n",
       "72   3 days ago\n",
       "82   3 days ago\n",
       "99   3 days ago\n",
       "100  2 days ago\n",
       "103  4 days ago\n",
       "109  3 days ago"
      ]
     },
     "execution_count": 10,
     "metadata": {},
     "output_type": "execute_result"
    }
   ],
   "source": [
    "# display values containing 'ago'\n",
    "df_data_analyst.loc[df_data_analyst[\"date\"].str.match('.*ago'), [\"date\"]].head(10)\n"
   ]
  },
  {
   "cell_type": "code",
   "execution_count": 16,
   "id": "31e85bf3",
   "metadata": {},
   "outputs": [
    {
     "data": {
      "text/plain": [
       "date      \n",
       "2 days ago    17\n",
       "5 days ago    11\n",
       "3 days ago    10\n",
       "4 days ago     6\n",
       "Name: count, dtype: int64"
      ]
     },
     "execution_count": 16,
     "metadata": {},
     "output_type": "execute_result"
    }
   ],
   "source": [
    "# Find  occurrence of each values containing 'ago'\n",
    "df_data_analyst.loc[df_data_analyst[\"date\"].str.match('.*ago'), [\"date\"]].value_counts()\n"
   ]
  },
  {
   "cell_type": "code",
   "execution_count": 17,
   "id": "bbafacf2",
   "metadata": {},
   "outputs": [
    {
     "data": {
      "text/plain": [
       "Index([   1,   72,  100,  103,  111,  115,  116,  120,  121,  123,  131,  156,\n",
       "        164,  165,  180,  185,  191,  201,  203,  207,  221,  223,  234,  236,\n",
       "        237,  241,  245,  255,  258,  262,  267,  281,  282,  290,  320,  334,\n",
       "        336,  338,  343,  350, 1421, 1846, 2145, 2150],\n",
       "      dtype='int64')"
      ]
     },
     "execution_count": 17,
     "metadata": {},
     "output_type": "execute_result"
    }
   ],
   "source": [
    "# Extract the indexes of the values containing 'ago'\n",
    "df_data_analyst.loc[df_data_analyst[\"date\"].str.match('.*ago'), [\"date\"]].index\n"
   ]
  },
  {
   "cell_type": "markdown",
   "id": "139ac3ac",
   "metadata": {},
   "source": [
    "### Select few values from the 'date' column to work on"
   ]
  },
  {
   "cell_type": "code",
   "execution_count": 1,
   "id": "3a84e8e1",
   "metadata": {},
   "outputs": [
    {
     "data": {
      "text/html": [
       "<div>\n",
       "<style scoped>\n",
       "    .dataframe tbody tr th:only-of-type {\n",
       "        vertical-align: middle;\n",
       "    }\n",
       "\n",
       "    .dataframe tbody tr th {\n",
       "        vertical-align: top;\n",
       "    }\n",
       "\n",
       "    .dataframe thead th {\n",
       "        text-align: right;\n",
       "    }\n",
       "</style>\n",
       "<table border=\"1\" class=\"dataframe\">\n",
       "  <thead>\n",
       "    <tr style=\"text-align: right;\">\n",
       "      <th></th>\n",
       "      <th>title</th>\n",
       "      <th>date</th>\n",
       "      <th>employer</th>\n",
       "      <th>location</th>\n",
       "      <th>salary</th>\n",
       "      <th>working_hours</th>\n",
       "    </tr>\n",
       "  </thead>\n",
       "  <tbody>\n",
       "    <tr>\n",
       "      <th>0</th>\n",
       "      <td>Data Analyst</td>\n",
       "      <td>28 March</td>\n",
       "      <td>SES Water</td>\n",
       "      <td>Redhill</td>\n",
       "      <td>£28,000 - £32,000 per annum</td>\n",
       "      <td>Permanent, full-time</td>\n",
       "    </tr>\n",
       "    <tr>\n",
       "      <th>1</th>\n",
       "      <td>Business Data Analyst/Data Analyst</td>\n",
       "      <td>3 days ago</td>\n",
       "      <td>Deutsche Bank</td>\n",
       "      <td>Birmingham</td>\n",
       "      <td>Competitive salary</td>\n",
       "      <td>Contract, full-time</td>\n",
       "    </tr>\n",
       "  </tbody>\n",
       "</table>\n",
       "</div>"
      ],
      "text/plain": [
       "                                title        date       employer    location  \\\n",
       "0                        Data Analyst    28 March      SES Water     Redhill   \n",
       "1  Business Data Analyst/Data Analyst  3 days ago  Deutsche Bank  Birmingham   \n",
       "\n",
       "                        salary         working_hours  \n",
       "0  £28,000 - £32,000 per annum  Permanent, full-time  \n",
       "1           Competitive salary   Contract, full-time  "
      ]
     },
     "execution_count": 1,
     "metadata": {},
     "output_type": "execute_result"
    }
   ],
   "source": [
    "import pandas as pd\n",
    "import pandas as pd\n",
    "import datetime\n",
    "\n",
    "pd.options.display.max_rows = None\n",
    "\n",
    "\n",
    "df_original  = pd.read_csv('data_analyst_28_04_24.csv')\n",
    "\n",
    "df_data_analyst = df_original.loc[df_original.title.str.contains('Data Analyst'), \n",
    "                         ['title', 'date', 'employer', 'location', 'salary', 'working_hours']]\n",
    "\n",
    "# remove 229 duplicated values from df_data_analyst= \n",
    "df_data_analyst.drop_duplicates(inplace=True)\n",
    "\n",
    "df_data_analyst.head(2)\n"
   ]
  },
  {
   "cell_type": "code",
   "execution_count": 2,
   "id": "8d3c5e98",
   "metadata": {},
   "outputs": [
    {
     "data": {
      "text/plain": [
       "1      3 days ago\n",
       "100    2 days ago\n",
       "121    5 days ago\n",
       "103    4 days ago\n",
       "Name: date, dtype: object"
      ]
     },
     "execution_count": 2,
     "metadata": {},
     "output_type": "execute_result"
    }
   ],
   "source": [
    "date_original  =  df_data_analyst.loc[[ 1, 100, 121, 103], \"date\"]\n",
    "date_original.head()\n"
   ]
  },
  {
   "cell_type": "code",
   "execution_count": 38,
   "id": "8d3b8d6e",
   "metadata": {},
   "outputs": [
    {
     "data": {
      "text/plain": [
       "pandas.core.series.Series"
      ]
     },
     "execution_count": 38,
     "metadata": {},
     "output_type": "execute_result"
    }
   ],
   "source": [
    "type(date_original)\n"
   ]
  },
  {
   "cell_type": "code",
   "execution_count": 4,
   "id": "0d8ed931",
   "metadata": {},
   "outputs": [
    {
     "data": {
      "text/plain": [
       "Index([1, 100, 121, 103], dtype='int64')"
      ]
     },
     "execution_count": 4,
     "metadata": {},
     "output_type": "execute_result"
    }
   ],
   "source": [
    "# Indes of the 'date'  column Series\n",
    "date_original.index\n"
   ]
  },
  {
   "cell_type": "code",
   "execution_count": 40,
   "id": "ef6f82d4",
   "metadata": {},
   "outputs": [
    {
     "data": {
      "text/plain": [
       "array(['3 days ago', '2 days ago', '5 days ago', '4 days ago'],\n",
       "      dtype=object)"
      ]
     },
     "execution_count": 40,
     "metadata": {},
     "output_type": "execute_result"
    }
   ],
   "source": [
    "# # Values of the 'date'  column Series\n",
    "date_original.values\n"
   ]
  },
  {
   "cell_type": "markdown",
   "id": "226106d8",
   "metadata": {},
   "source": [
    "### Series to  dataframe"
   ]
  },
  {
   "cell_type": "code",
   "execution_count": 3,
   "id": "beb614cc",
   "metadata": {},
   "outputs": [
    {
     "data": {
      "text/html": [
       "<div>\n",
       "<style scoped>\n",
       "    .dataframe tbody tr th:only-of-type {\n",
       "        vertical-align: middle;\n",
       "    }\n",
       "\n",
       "    .dataframe tbody tr th {\n",
       "        vertical-align: top;\n",
       "    }\n",
       "\n",
       "    .dataframe thead th {\n",
       "        text-align: right;\n",
       "    }\n",
       "</style>\n",
       "<table border=\"1\" class=\"dataframe\">\n",
       "  <thead>\n",
       "    <tr style=\"text-align: right;\">\n",
       "      <th></th>\n",
       "      <th>index_original</th>\n",
       "      <th>date_original</th>\n",
       "    </tr>\n",
       "  </thead>\n",
       "  <tbody>\n",
       "    <tr>\n",
       "      <th>0</th>\n",
       "      <td>1</td>\n",
       "      <td>3 days ago</td>\n",
       "    </tr>\n",
       "    <tr>\n",
       "      <th>1</th>\n",
       "      <td>100</td>\n",
       "      <td>2 days ago</td>\n",
       "    </tr>\n",
       "    <tr>\n",
       "      <th>2</th>\n",
       "      <td>121</td>\n",
       "      <td>5 days ago</td>\n",
       "    </tr>\n",
       "    <tr>\n",
       "      <th>3</th>\n",
       "      <td>103</td>\n",
       "      <td>4 days ago</td>\n",
       "    </tr>\n",
       "  </tbody>\n",
       "</table>\n",
       "</div>"
      ],
      "text/plain": [
       "   index_original date_original\n",
       "0               1    3 days ago\n",
       "1             100    2 days ago\n",
       "2             121    5 days ago\n",
       "3             103    4 days ago"
      ]
     },
     "execution_count": 3,
     "metadata": {},
     "output_type": "execute_result"
    }
   ],
   "source": [
    "#create a dict and pass the series the data param to the dataframe constructor\n",
    "df_date_original = pd.DataFrame({'index_original':date_original.index, 'date_original':date_original.values})\n",
    "df_date_original.head()\n"
   ]
  },
  {
   "cell_type": "code",
   "execution_count": 4,
   "id": "d737f150",
   "metadata": {},
   "outputs": [],
   "source": [
    "# Save 'df_date_original' as csv file 'date_test.csv'\n",
    "df_date_original.to_csv('date_test.csv', index=None)\n"
   ]
  },
  {
   "cell_type": "code",
   "execution_count": 5,
   "id": "98c3c9b9",
   "metadata": {},
   "outputs": [],
   "source": [
    "import pandas as pd\n",
    "import datetime\n",
    "\n",
    "pd.options.display.max_rows = None\n"
   ]
  },
  {
   "cell_type": "code",
   "execution_count": 6,
   "id": "ca725c8b",
   "metadata": {},
   "outputs": [
    {
     "data": {
      "text/html": [
       "<div>\n",
       "<style scoped>\n",
       "    .dataframe tbody tr th:only-of-type {\n",
       "        vertical-align: middle;\n",
       "    }\n",
       "\n",
       "    .dataframe tbody tr th {\n",
       "        vertical-align: top;\n",
       "    }\n",
       "\n",
       "    .dataframe thead th {\n",
       "        text-align: right;\n",
       "    }\n",
       "</style>\n",
       "<table border=\"1\" class=\"dataframe\">\n",
       "  <thead>\n",
       "    <tr style=\"text-align: right;\">\n",
       "      <th></th>\n",
       "      <th>index_original</th>\n",
       "      <th>date_original</th>\n",
       "    </tr>\n",
       "  </thead>\n",
       "  <tbody>\n",
       "    <tr>\n",
       "      <th>0</th>\n",
       "      <td>1</td>\n",
       "      <td>3 days ago</td>\n",
       "    </tr>\n",
       "    <tr>\n",
       "      <th>1</th>\n",
       "      <td>100</td>\n",
       "      <td>2 days ago</td>\n",
       "    </tr>\n",
       "    <tr>\n",
       "      <th>2</th>\n",
       "      <td>121</td>\n",
       "      <td>5 days ago</td>\n",
       "    </tr>\n",
       "    <tr>\n",
       "      <th>3</th>\n",
       "      <td>103</td>\n",
       "      <td>4 days ago</td>\n",
       "    </tr>\n",
       "  </tbody>\n",
       "</table>\n",
       "</div>"
      ],
      "text/plain": [
       "   index_original date_original\n",
       "0               1    3 days ago\n",
       "1             100    2 days ago\n",
       "2             121    5 days ago\n",
       "3             103    4 days ago"
      ]
     },
     "execution_count": 6,
     "metadata": {},
     "output_type": "execute_result"
    }
   ],
   "source": [
    "# Load 'date_test.csv'\n",
    "df_date_test  = pd.read_csv('date_test.csv')\n",
    "df_date_test\n"
   ]
  },
  {
   "cell_type": "code",
   "execution_count": 7,
   "id": "31766903",
   "metadata": {},
   "outputs": [
    {
     "name": "stdout",
     "output_type": "stream",
     "text": [
      "<class 'pandas.core.frame.DataFrame'>\n",
      "RangeIndex: 4 entries, 0 to 3\n",
      "Data columns (total 2 columns):\n",
      " #   Column          Non-Null Count  Dtype \n",
      "---  ------          --------------  ----- \n",
      " 0   index_original  4 non-null      int64 \n",
      " 1   date_original   4 non-null      object\n",
      "dtypes: int64(1), object(1)\n",
      "memory usage: 192.0+ bytes\n"
     ]
    }
   ],
   "source": [
    "df_date_test.info()"
   ]
  },
  {
   "cell_type": "code",
   "execution_count": 45,
   "id": "0b0444d1",
   "metadata": {},
   "outputs": [
    {
     "data": {
      "text/plain": [
       "Index(['index_original', 'date_original'], dtype='object')"
      ]
     },
     "execution_count": 45,
     "metadata": {},
     "output_type": "execute_result"
    }
   ],
   "source": [
    "df_date_test.columns"
   ]
  },
  {
   "cell_type": "code",
   "execution_count": 8,
   "id": "1cd19d97",
   "metadata": {},
   "outputs": [
    {
     "data": {
      "text/plain": [
       "[3, 2, 5, 4]"
      ]
     },
     "execution_count": 8,
     "metadata": {},
     "output_type": "execute_result"
    }
   ],
   "source": [
    "\n",
    "dates_added = []\n",
    "days_ago =[]\n",
    "date_list = []\n",
    "\n",
    "for i in df_date_test['date_original']:\n",
    "                      if  \"days ago\" in i:\n",
    "                            \n",
    "                        # select the first (index zero)\n",
    "                        no_days = i[0]\n",
    "\n",
    "                        days_ago.append(int(no_days))\n",
    "days_ago\n"
   ]
  },
  {
   "cell_type": "code",
   "execution_count": 9,
   "id": "fb6d27a3",
   "metadata": {},
   "outputs": [
    {
     "data": {
      "text/plain": [
       "['3', '2', '5', '4']"
      ]
     },
     "execution_count": 9,
     "metadata": {},
     "output_type": "execute_result"
    }
   ],
   "source": [
    "# list comprehension alternative to the above\n",
    "no_days = [i[0] for i in df_date_test['date_original'] if  \"days ago\" in i]\n",
    "no_days\n"
   ]
  },
  {
   "cell_type": "code",
   "execution_count": 11,
   "id": "1f470e30",
   "metadata": {},
   "outputs": [
    {
     "data": {
      "text/plain": [
       "[3, 2, 5, 4]"
      ]
     },
     "execution_count": 11,
     "metadata": {},
     "output_type": "execute_result"
    }
   ],
   "source": [
    "day_ago =[]\n",
    "for i in no_days:\n",
    "    day_ago.append(int(i))\n",
    "day_ago\n"
   ]
  },
  {
   "cell_type": "code",
   "execution_count": 12,
   "id": "63ae7ceb",
   "metadata": {},
   "outputs": [
    {
     "data": {
      "text/plain": [
       "[3, 2, 5, 4]"
      ]
     },
     "execution_count": 12,
     "metadata": {},
     "output_type": "execute_result"
    }
   ],
   "source": [
    "da_ago = [int(i) for i in no_days]\n",
    "da_ago\n"
   ]
  },
  {
   "cell_type": "code",
   "execution_count": 15,
   "id": "facd3005",
   "metadata": {},
   "outputs": [
    {
     "data": {
      "text/plain": [
       "datetime.datetime(2024, 4, 28, 0, 0)"
      ]
     },
     "execution_count": 15,
     "metadata": {},
     "output_type": "execute_result"
    }
   ],
   "source": [
    "scrapping_date  =datetime.datetime.strptime('28 Apr 2024' , '%d %b %Y')\n",
    "scrapping_date"
   ]
  },
  {
   "cell_type": "code",
   "execution_count": 7,
   "id": "ac053054",
   "metadata": {},
   "outputs": [
    {
     "data": {
      "text/html": [
       "<div>\n",
       "<style scoped>\n",
       "    .dataframe tbody tr th:only-of-type {\n",
       "        vertical-align: middle;\n",
       "    }\n",
       "\n",
       "    .dataframe tbody tr th {\n",
       "        vertical-align: top;\n",
       "    }\n",
       "\n",
       "    .dataframe thead th {\n",
       "        text-align: right;\n",
       "    }\n",
       "</style>\n",
       "<table border=\"1\" class=\"dataframe\">\n",
       "  <thead>\n",
       "    <tr style=\"text-align: right;\">\n",
       "      <th></th>\n",
       "      <th>index_original</th>\n",
       "      <th>date_original</th>\n",
       "      <th>date_transferred</th>\n",
       "    </tr>\n",
       "  </thead>\n",
       "  <tbody>\n",
       "    <tr>\n",
       "      <th>0</th>\n",
       "      <td>1</td>\n",
       "      <td>3 days ago</td>\n",
       "      <td>24 April 2024</td>\n",
       "    </tr>\n",
       "    <tr>\n",
       "      <th>1</th>\n",
       "      <td>100</td>\n",
       "      <td>2 days ago</td>\n",
       "      <td>25 April 2024</td>\n",
       "    </tr>\n",
       "    <tr>\n",
       "      <th>2</th>\n",
       "      <td>121</td>\n",
       "      <td>5 days ago</td>\n",
       "      <td>22 April 2024</td>\n",
       "    </tr>\n",
       "    <tr>\n",
       "      <th>3</th>\n",
       "      <td>103</td>\n",
       "      <td>4 days ago</td>\n",
       "      <td>23 April 2024</td>\n",
       "    </tr>\n",
       "  </tbody>\n",
       "</table>\n",
       "</div>"
      ],
      "text/plain": [
       "   index_original date_original date_transferred\n",
       "0               1    3 days ago    24 April 2024\n",
       "1             100    2 days ago    25 April 2024\n",
       "2             121    5 days ago    22 April 2024\n",
       "3             103    4 days ago    23 April 2024"
      ]
     },
     "execution_count": 7,
     "metadata": {},
     "output_type": "execute_result"
    }
   ],
   "source": [
    "# Transforming \"days ago\"\n",
    "day_ago = []\n",
    "dates = []\n",
    "for i in df_date_test['date_original']:\n",
    "\n",
    "    if  \"days ago\" in i:\n",
    "\n",
    "        # select the first (index zero)\n",
    "        no_days = i[0]\n",
    "        day_ago.append(int(no_days))\n",
    "\n",
    "        # specify the date scrapped the website to '27 April 2024' \n",
    "        scrapping_date =datetime.datetime.strptime('27 April 2024' , \"%d %B %Y\") # '%d %b %Y')\n",
    "\n",
    "        for e in day_ago:\n",
    "            d = datetime.timedelta(days = e)\n",
    "            a = (scrapping_date - d).strftime(\"%d %B %Y\") \n",
    "        dates.append(a)\n",
    "\n",
    "\n",
    "# Create a 'date_transferred' column          \n",
    "df_date_test['date_transferred'] = dates \n",
    "\n",
    "df_date_test\n"
   ]
  },
  {
   "cell_type": "code",
   "execution_count": 17,
   "id": "60612af9",
   "metadata": {},
   "outputs": [
    {
     "data": {
      "text/plain": [
       "['24 April 2024', '25 April 2024', '22 April 2024', '23 April 2024']"
      ]
     },
     "execution_count": 17,
     "metadata": {},
     "output_type": "execute_result"
    }
   ],
   "source": [
    "dates"
   ]
  },
  {
   "cell_type": "code",
   "execution_count": 19,
   "id": "163a78b4",
   "metadata": {},
   "outputs": [
    {
     "name": "stdout",
     "output_type": "stream",
     "text": [
      "<class 'pandas.core.frame.DataFrame'>\n",
      "RangeIndex: 4 entries, 0 to 3\n",
      "Data columns (total 3 columns):\n",
      " #   Column            Non-Null Count  Dtype \n",
      "---  ------            --------------  ----- \n",
      " 0   index_original    4 non-null      int64 \n",
      " 1   date_original     4 non-null      object\n",
      " 2   date_transferred  4 non-null      object\n",
      "dtypes: int64(1), object(2)\n",
      "memory usage: 224.0+ bytes\n"
     ]
    }
   ],
   "source": [
    "df_date_test.info()"
   ]
  },
  {
   "cell_type": "code",
   "execution_count": 8,
   "id": "0a46644c",
   "metadata": {},
   "outputs": [
    {
     "name": "stdout",
     "output_type": "stream",
     "text": [
      "<class 'pandas.core.series.Series'>\n",
      "RangeIndex: 4 entries, 0 to 3\n",
      "Series name: date_transferred\n",
      "Non-Null Count  Dtype \n",
      "--------------  ----- \n",
      "4 non-null      object\n",
      "dtypes: object(1)\n",
      "memory usage: 160.0+ bytes\n"
     ]
    }
   ],
   "source": [
    "# 'date_transferred' column is treated as an object \n",
    "df_date_test['date_transferred'].info()\n"
   ]
  },
  {
   "cell_type": "code",
   "execution_count": 9,
   "id": "20cdfa94",
   "metadata": {},
   "outputs": [
    {
     "data": {
      "text/plain": [
       "dtype('O')"
      ]
     },
     "execution_count": 9,
     "metadata": {},
     "output_type": "execute_result"
    }
   ],
   "source": [
    "df_date_test['date_transferred'].dtype"
   ]
  },
  {
   "cell_type": "markdown",
   "id": "53359e3b",
   "metadata": {},
   "source": [
    "### 'date_original' column is treated as string (object) Change it to Datetime format  "
   ]
  },
  {
   "cell_type": "code",
   "execution_count": 10,
   "id": "c7b72713",
   "metadata": {},
   "outputs": [],
   "source": [
    "# specify the format (format = \"%d/%m/%y\")\n",
    "df_date_test['date_transferred'] = pd.to_datetime(df_date_test['date_transferred'])#, format = \"%d/%m/%y\")\n"
   ]
  },
  {
   "cell_type": "code",
   "execution_count": 11,
   "id": "672efde8",
   "metadata": {},
   "outputs": [
    {
     "data": {
      "text/plain": [
       "dtype('<M8[ns]')"
      ]
     },
     "execution_count": 11,
     "metadata": {},
     "output_type": "execute_result"
    }
   ],
   "source": [
    "df_date_test['date_transferred'].dtype"
   ]
  },
  {
   "cell_type": "code",
   "execution_count": 12,
   "id": "3cf46b02",
   "metadata": {},
   "outputs": [
    {
     "name": "stdout",
     "output_type": "stream",
     "text": [
      "<class 'pandas.core.series.Series'>\n",
      "RangeIndex: 4 entries, 0 to 3\n",
      "Series name: date_transferred\n",
      "Non-Null Count  Dtype         \n",
      "--------------  -----         \n",
      "4 non-null      datetime64[ns]\n",
      "dtypes: datetime64[ns](1)\n",
      "memory usage: 160.0 bytes\n"
     ]
    }
   ],
   "source": [
    "df_date_test['date_transferred'].info()"
   ]
  },
  {
   "cell_type": "code",
   "execution_count": 13,
   "id": "30a22c6a",
   "metadata": {},
   "outputs": [
    {
     "data": {
      "text/html": [
       "<div>\n",
       "<style scoped>\n",
       "    .dataframe tbody tr th:only-of-type {\n",
       "        vertical-align: middle;\n",
       "    }\n",
       "\n",
       "    .dataframe tbody tr th {\n",
       "        vertical-align: top;\n",
       "    }\n",
       "\n",
       "    .dataframe thead th {\n",
       "        text-align: right;\n",
       "    }\n",
       "</style>\n",
       "<table border=\"1\" class=\"dataframe\">\n",
       "  <thead>\n",
       "    <tr style=\"text-align: right;\">\n",
       "      <th></th>\n",
       "      <th>index_original</th>\n",
       "      <th>date_original</th>\n",
       "      <th>date_transferred</th>\n",
       "    </tr>\n",
       "  </thead>\n",
       "  <tbody>\n",
       "    <tr>\n",
       "      <th>0</th>\n",
       "      <td>1</td>\n",
       "      <td>3 days ago</td>\n",
       "      <td>2024-04-24</td>\n",
       "    </tr>\n",
       "    <tr>\n",
       "      <th>1</th>\n",
       "      <td>100</td>\n",
       "      <td>2 days ago</td>\n",
       "      <td>2024-04-25</td>\n",
       "    </tr>\n",
       "    <tr>\n",
       "      <th>2</th>\n",
       "      <td>121</td>\n",
       "      <td>5 days ago</td>\n",
       "      <td>2024-04-22</td>\n",
       "    </tr>\n",
       "    <tr>\n",
       "      <th>3</th>\n",
       "      <td>103</td>\n",
       "      <td>4 days ago</td>\n",
       "      <td>2024-04-23</td>\n",
       "    </tr>\n",
       "  </tbody>\n",
       "</table>\n",
       "</div>"
      ],
      "text/plain": [
       "   index_original date_original date_transferred\n",
       "0               1    3 days ago       2024-04-24\n",
       "1             100    2 days ago       2024-04-25\n",
       "2             121    5 days ago       2024-04-22\n",
       "3             103    4 days ago       2024-04-23"
      ]
     },
     "execution_count": 13,
     "metadata": {},
     "output_type": "execute_result"
    }
   ],
   "source": [
    "df_date_test"
   ]
  },
  {
   "cell_type": "markdown",
   "id": "f793b4ca",
   "metadata": {},
   "source": [
    "# Next work\n",
    "* Extract Days of the week and their number's \n",
    "* Use pandas.Series.dt.day_name()"
   ]
  },
  {
   "cell_type": "code",
   "execution_count": 14,
   "id": "41dd08e7",
   "metadata": {},
   "outputs": [
    {
     "data": {
      "text/plain": [
       "0    Wednesday\n",
       "1     Thursday\n",
       "2       Monday\n",
       "3      Tuesday\n",
       "Name: date_transferred, dtype: object"
      ]
     },
     "execution_count": 14,
     "metadata": {},
     "output_type": "execute_result"
    }
   ],
   "source": [
    "#df_date_date_test['date_original'].dt.day_name()\n",
    "df_date_test['date_transferred'].dt.day_name()\n"
   ]
  },
  {
   "cell_type": "code",
   "execution_count": 15,
   "id": "ce70d8ca",
   "metadata": {},
   "outputs": [
    {
     "data": {
      "text/html": [
       "<div>\n",
       "<style scoped>\n",
       "    .dataframe tbody tr th:only-of-type {\n",
       "        vertical-align: middle;\n",
       "    }\n",
       "\n",
       "    .dataframe tbody tr th {\n",
       "        vertical-align: top;\n",
       "    }\n",
       "\n",
       "    .dataframe thead th {\n",
       "        text-align: right;\n",
       "    }\n",
       "</style>\n",
       "<table border=\"1\" class=\"dataframe\">\n",
       "  <thead>\n",
       "    <tr style=\"text-align: right;\">\n",
       "      <th></th>\n",
       "      <th>index_original</th>\n",
       "      <th>date_original</th>\n",
       "      <th>date_transferred</th>\n",
       "      <th>day_of_week</th>\n",
       "    </tr>\n",
       "  </thead>\n",
       "  <tbody>\n",
       "    <tr>\n",
       "      <th>0</th>\n",
       "      <td>1</td>\n",
       "      <td>3 days ago</td>\n",
       "      <td>2024-04-24</td>\n",
       "      <td>Wednesday</td>\n",
       "    </tr>\n",
       "    <tr>\n",
       "      <th>1</th>\n",
       "      <td>100</td>\n",
       "      <td>2 days ago</td>\n",
       "      <td>2024-04-25</td>\n",
       "      <td>Thursday</td>\n",
       "    </tr>\n",
       "    <tr>\n",
       "      <th>2</th>\n",
       "      <td>121</td>\n",
       "      <td>5 days ago</td>\n",
       "      <td>2024-04-22</td>\n",
       "      <td>Monday</td>\n",
       "    </tr>\n",
       "    <tr>\n",
       "      <th>3</th>\n",
       "      <td>103</td>\n",
       "      <td>4 days ago</td>\n",
       "      <td>2024-04-23</td>\n",
       "      <td>Tuesday</td>\n",
       "    </tr>\n",
       "  </tbody>\n",
       "</table>\n",
       "</div>"
      ],
      "text/plain": [
       "   index_original date_original date_transferred day_of_week\n",
       "0               1    3 days ago       2024-04-24   Wednesday\n",
       "1             100    2 days ago       2024-04-25    Thursday\n",
       "2             121    5 days ago       2024-04-22      Monday\n",
       "3             103    4 days ago       2024-04-23     Tuesday"
      ]
     },
     "execution_count": 15,
     "metadata": {},
     "output_type": "execute_result"
    }
   ],
   "source": [
    "# add 'day_of_week' as a column \n",
    "df_date_test['day_of_week'] = df_date_test['date_transferred'].dt.day_name()\n",
    "df_date_test\n"
   ]
  },
  {
   "cell_type": "markdown",
   "id": "976956f1",
   "metadata": {},
   "source": [
    "## Save the file as csv"
   ]
  },
  {
   "cell_type": "code",
   "execution_count": 16,
   "id": "8c99187c",
   "metadata": {},
   "outputs": [],
   "source": [
    "# Save 'df_date_original' as csv file 'date_test.csv'\n",
    "df_date_test.to_csv('date_date_test.csv', index=None)"
   ]
  },
  {
   "cell_type": "markdown",
   "id": "80d0ed50",
   "metadata": {},
   "source": [
    "## Start from here 2"
   ]
  },
  {
   "cell_type": "code",
   "execution_count": 17,
   "id": "325a1e7e",
   "metadata": {},
   "outputs": [],
   "source": [
    "import pandas as pd\n",
    "import datetime\n",
    "\n",
    "pd.options.display.max_rows = None\n"
   ]
  },
  {
   "cell_type": "code",
   "execution_count": 18,
   "id": "7f0be8b8",
   "metadata": {},
   "outputs": [
    {
     "data": {
      "text/html": [
       "<div>\n",
       "<style scoped>\n",
       "    .dataframe tbody tr th:only-of-type {\n",
       "        vertical-align: middle;\n",
       "    }\n",
       "\n",
       "    .dataframe tbody tr th {\n",
       "        vertical-align: top;\n",
       "    }\n",
       "\n",
       "    .dataframe thead th {\n",
       "        text-align: right;\n",
       "    }\n",
       "</style>\n",
       "<table border=\"1\" class=\"dataframe\">\n",
       "  <thead>\n",
       "    <tr style=\"text-align: right;\">\n",
       "      <th></th>\n",
       "      <th>index_original</th>\n",
       "      <th>date_original</th>\n",
       "      <th>date_transferred</th>\n",
       "      <th>day_of_week</th>\n",
       "    </tr>\n",
       "  </thead>\n",
       "  <tbody>\n",
       "    <tr>\n",
       "      <th>0</th>\n",
       "      <td>1</td>\n",
       "      <td>3 days ago</td>\n",
       "      <td>2024-04-24</td>\n",
       "      <td>Wednesday</td>\n",
       "    </tr>\n",
       "    <tr>\n",
       "      <th>1</th>\n",
       "      <td>100</td>\n",
       "      <td>2 days ago</td>\n",
       "      <td>2024-04-25</td>\n",
       "      <td>Thursday</td>\n",
       "    </tr>\n",
       "    <tr>\n",
       "      <th>2</th>\n",
       "      <td>121</td>\n",
       "      <td>5 days ago</td>\n",
       "      <td>2024-04-22</td>\n",
       "      <td>Monday</td>\n",
       "    </tr>\n",
       "    <tr>\n",
       "      <th>3</th>\n",
       "      <td>103</td>\n",
       "      <td>4 days ago</td>\n",
       "      <td>2024-04-23</td>\n",
       "      <td>Tuesday</td>\n",
       "    </tr>\n",
       "  </tbody>\n",
       "</table>\n",
       "</div>"
      ],
      "text/plain": [
       "   index_original date_original date_transferred day_of_week\n",
       "0               1    3 days ago       2024-04-24   Wednesday\n",
       "1             100    2 days ago       2024-04-25    Thursday\n",
       "2             121    5 days ago       2024-04-22      Monday\n",
       "3             103    4 days ago       2024-04-23     Tuesday"
      ]
     },
     "execution_count": 18,
     "metadata": {},
     "output_type": "execute_result"
    }
   ],
   "source": [
    "df_date_date_test = pd.read_csv('date_date_test.csv')\n",
    "df_date_date_test"
   ]
  },
  {
   "cell_type": "code",
   "execution_count": 19,
   "id": "240ac7de",
   "metadata": {},
   "outputs": [
    {
     "name": "stdout",
     "output_type": "stream",
     "text": [
      "<class 'pandas.core.frame.DataFrame'>\n",
      "RangeIndex: 4 entries, 0 to 3\n",
      "Data columns (total 4 columns):\n",
      " #   Column            Non-Null Count  Dtype \n",
      "---  ------            --------------  ----- \n",
      " 0   index_original    4 non-null      int64 \n",
      " 1   date_original     4 non-null      object\n",
      " 2   date_transferred  4 non-null      object\n",
      " 3   day_of_week       4 non-null      object\n",
      "dtypes: int64(1), object(3)\n",
      "memory usage: 256.0+ bytes\n"
     ]
    }
   ],
   "source": [
    "df_date_date_test.info()"
   ]
  },
  {
   "cell_type": "code",
   "execution_count": 20,
   "id": "bf729a3e",
   "metadata": {},
   "outputs": [
    {
     "data": {
      "text/plain": [
       "day_of_week\n",
       "Wednesday    1\n",
       "Thursday     1\n",
       "Monday       1\n",
       "Tuesday      1\n",
       "Name: count, dtype: int64"
      ]
     },
     "execution_count": 20,
     "metadata": {},
     "output_type": "execute_result"
    }
   ],
   "source": [
    "df_date_date_test.day_of_week.value_counts()\n"
   ]
  },
  {
   "cell_type": "markdown",
   "id": "9f71264a",
   "metadata": {},
   "source": [
    "## Months to datetime format ['March','April', 'June',  'December', 'January']"
   ]
  },
  {
   "cell_type": "code",
   "execution_count": 21,
   "id": "5aefe082",
   "metadata": {},
   "outputs": [
    {
     "data": {
      "text/html": [
       "<div>\n",
       "<style scoped>\n",
       "    .dataframe tbody tr th:only-of-type {\n",
       "        vertical-align: middle;\n",
       "    }\n",
       "\n",
       "    .dataframe tbody tr th {\n",
       "        vertical-align: top;\n",
       "    }\n",
       "\n",
       "    .dataframe thead th {\n",
       "        text-align: right;\n",
       "    }\n",
       "</style>\n",
       "<table border=\"1\" class=\"dataframe\">\n",
       "  <thead>\n",
       "    <tr style=\"text-align: right;\">\n",
       "      <th></th>\n",
       "      <th>title</th>\n",
       "      <th>date</th>\n",
       "      <th>employer</th>\n",
       "      <th>location</th>\n",
       "      <th>salary</th>\n",
       "      <th>working_hours</th>\n",
       "    </tr>\n",
       "  </thead>\n",
       "  <tbody>\n",
       "    <tr>\n",
       "      <th>0</th>\n",
       "      <td>Data Analyst</td>\n",
       "      <td>28 March</td>\n",
       "      <td>SES Water</td>\n",
       "      <td>Redhill</td>\n",
       "      <td>£28,000 - £32,000 per annum</td>\n",
       "      <td>Permanent, full-time</td>\n",
       "    </tr>\n",
       "    <tr>\n",
       "      <th>1</th>\n",
       "      <td>Business Data Analyst/Data Analyst</td>\n",
       "      <td>3 days ago</td>\n",
       "      <td>Deutsche Bank</td>\n",
       "      <td>Birmingham</td>\n",
       "      <td>Competitive salary</td>\n",
       "      <td>Contract, full-time</td>\n",
       "    </tr>\n",
       "  </tbody>\n",
       "</table>\n",
       "</div>"
      ],
      "text/plain": [
       "                                title        date       employer    location  \\\n",
       "0                        Data Analyst    28 March      SES Water     Redhill   \n",
       "1  Business Data Analyst/Data Analyst  3 days ago  Deutsche Bank  Birmingham   \n",
       "\n",
       "                        salary         working_hours  \n",
       "0  £28,000 - £32,000 per annum  Permanent, full-time  \n",
       "1           Competitive salary   Contract, full-time  "
      ]
     },
     "execution_count": 21,
     "metadata": {},
     "output_type": "execute_result"
    }
   ],
   "source": [
    "#importing libraries\n",
    "import pandas as pd\n",
    "\n",
    "df_original  = pd.read_csv('data_analyst_28_04_24.csv')\n",
    "\n",
    "df_data_analyst = df_original.loc[df_original.title.str.contains('Data Analyst'), \n",
    "                         ['title', 'date', 'employer', 'location', 'salary', 'working_hours']]\n",
    "\n",
    "# remove 229 duplicated values from df_data_analyst= \n",
    "df_data_analyst.drop_duplicates(inplace=True)\n",
    "\n",
    "df_data_analyst.head(2)\n"
   ]
  },
  {
   "cell_type": "code",
   "execution_count": 22,
   "id": "43340a64",
   "metadata": {},
   "outputs": [
    {
     "name": "stdout",
     "output_type": "stream",
     "text": [
      "<class 'pandas.core.frame.DataFrame'>\n",
      "Index: 294 entries, 0 to 2157\n",
      "Data columns (total 6 columns):\n",
      " #   Column         Non-Null Count  Dtype \n",
      "---  ------         --------------  ----- \n",
      " 0   title          294 non-null    object\n",
      " 1   date           294 non-null    object\n",
      " 2   employer       294 non-null    object\n",
      " 3   location       294 non-null    object\n",
      " 4   salary         294 non-null    object\n",
      " 5   working_hours  294 non-null    object\n",
      "dtypes: object(6)\n",
      "memory usage: 16.1+ KB\n"
     ]
    }
   ],
   "source": [
    "df_data_analyst.info()"
   ]
  },
  {
   "cell_type": "code",
   "execution_count": 23,
   "id": "83c268b1",
   "metadata": {},
   "outputs": [
    {
     "data": {
      "text/plain": [
       "Index(['title', 'date', 'employer', 'location', 'salary', 'working_hours'], dtype='object')"
      ]
     },
     "execution_count": 23,
     "metadata": {},
     "output_type": "execute_result"
    }
   ],
   "source": [
    "df_data_analyst.columns\n"
   ]
  },
  {
   "cell_type": "code",
   "execution_count": 35,
   "id": "6961b347",
   "metadata": {},
   "outputs": [
    {
     "data": {
      "text/plain": [
       "array(['28 March', '3 days ago', '18 April', '9 April', '24 January',\n",
       "       '2 January', '15 April', '29 January', '23 January', '27 December',\n",
       "       '3 January', '25 January', '16 January', '8 January', '9 January',\n",
       "       '4 January', '10 January', '15 January', '12 January',\n",
       "       '26 January', '22 January', '8 December', '28 December',\n",
       "       '5 January', '2 days ago', '12 April', '4 days ago', '17 April',\n",
       "       '21 March', '8 April', '16 April', '5 days ago', 'Yesterday',\n",
       "       '30 March', '22 March', '10 April', '3 April', '18 March',\n",
       "       '11 April', '27 Feburary', '19 April', '19 March', '5 June',\n",
       "       '24 March', '29 March', '4 April', '20 April', '5 April',\n",
       "       '1 April', '2 April', '22 April', '27 March', '12 March',\n",
       "       '17 March', '13 Feburary', '20 March', '26 March', '5 March'],\n",
       "      dtype=object)"
      ]
     },
     "execution_count": 35,
     "metadata": {},
     "output_type": "execute_result"
    }
   ],
   "source": [
    "df_data_analyst.date.unique()"
   ]
  },
  {
   "cell_type": "code",
   "execution_count": 26,
   "id": "dc84e9c0",
   "metadata": {},
   "outputs": [
    {
     "data": {
      "text/plain": [
       "0         28 March\n",
       "2         18 April\n",
       "166         5 June\n",
       "39      24 January\n",
       "78     28 December\n",
       "Name: date, dtype: object"
      ]
     },
     "execution_count": 26,
     "metadata": {},
     "output_type": "execute_result"
    }
   ],
   "source": [
    "month_original = df_data_analyst.loc[[0, 2, 166, 39, 78 ], 'date']\n",
    "month_original\n"
   ]
  },
  {
   "cell_type": "markdown",
   "id": "5c4203ae",
   "metadata": {},
   "source": [
    "### Series to dataframe"
   ]
  },
  {
   "cell_type": "code",
   "execution_count": 27,
   "id": "86c051ec",
   "metadata": {},
   "outputs": [
    {
     "data": {
      "text/html": [
       "<div>\n",
       "<style scoped>\n",
       "    .dataframe tbody tr th:only-of-type {\n",
       "        vertical-align: middle;\n",
       "    }\n",
       "\n",
       "    .dataframe tbody tr th {\n",
       "        vertical-align: top;\n",
       "    }\n",
       "\n",
       "    .dataframe thead th {\n",
       "        text-align: right;\n",
       "    }\n",
       "</style>\n",
       "<table border=\"1\" class=\"dataframe\">\n",
       "  <thead>\n",
       "    <tr style=\"text-align: right;\">\n",
       "      <th></th>\n",
       "      <th>index_month</th>\n",
       "      <th>month_original</th>\n",
       "    </tr>\n",
       "  </thead>\n",
       "  <tbody>\n",
       "    <tr>\n",
       "      <th>0</th>\n",
       "      <td>0</td>\n",
       "      <td>28 March</td>\n",
       "    </tr>\n",
       "    <tr>\n",
       "      <th>1</th>\n",
       "      <td>2</td>\n",
       "      <td>18 April</td>\n",
       "    </tr>\n",
       "    <tr>\n",
       "      <th>2</th>\n",
       "      <td>166</td>\n",
       "      <td>5 June</td>\n",
       "    </tr>\n",
       "    <tr>\n",
       "      <th>3</th>\n",
       "      <td>39</td>\n",
       "      <td>24 January</td>\n",
       "    </tr>\n",
       "    <tr>\n",
       "      <th>4</th>\n",
       "      <td>78</td>\n",
       "      <td>28 December</td>\n",
       "    </tr>\n",
       "  </tbody>\n",
       "</table>\n",
       "</div>"
      ],
      "text/plain": [
       "   index_month month_original\n",
       "0            0       28 March\n",
       "1            2       18 April\n",
       "2          166         5 June\n",
       "3           39     24 January\n",
       "4           78    28 December"
      ]
     },
     "execution_count": 27,
     "metadata": {},
     "output_type": "execute_result"
    }
   ],
   "source": [
    "#create a dict and pass the series the data param to the dataframe constructor\n",
    "df_month_original = pd.DataFrame({'index_month':month_original.index, 'month_original':month_original.values})\n",
    "df_month_original\n"
   ]
  },
  {
   "cell_type": "markdown",
   "id": "f4ef34fd",
   "metadata": {},
   "source": [
    "### Yesterday "
   ]
  },
  {
   "cell_type": "code",
   "execution_count": 28,
   "id": "873bd9d0",
   "metadata": {},
   "outputs": [
    {
     "name": "stdout",
     "output_type": "stream",
     "text": [
      "Index([122, 161, 218, 247, 304], dtype='int64')\n"
     ]
    }
   ],
   "source": [
    "print(df_data_analyst[df_data_analyst['date']=='Yesterday'].index)"
   ]
  },
  {
   "cell_type": "markdown",
   "id": "025e1f28",
   "metadata": {},
   "source": [
    "## Unique values "
   ]
  },
  {
   "cell_type": "markdown",
   "id": "00f6e30e",
   "metadata": {},
   "source": [
    "## Select indexes of unique values"
   ]
  },
  {
   "cell_type": "code",
   "execution_count": 32,
   "id": "8141fceb",
   "metadata": {},
   "outputs": [
    {
     "name": "stdout",
     "output_type": "stream",
     "text": [
      "Index([   1,   72,  100,  103,  111,  115,  116,  120,  121,  123,  131,  156,\n",
      "        164,  165,  180,  185,  191,  201,  203,  207,  221,  223,  234,  236,\n",
      "        237,  241,  245,  255,  258,  262,  267,  281,  282,  290,  320,  334,\n",
      "        336,  338,  343,  350, 1421, 1846, 2145, 2150],\n",
      "      dtype='int64')\n",
      "--------------------------------------------------\n",
      "--------------------------------------------------\n",
      "Index([122, 161, 218, 247, 304], dtype='int64')\n",
      "--------------------------------------------------\n",
      "--------------------------------------------------\n",
      "Index([   1,   72,  100,  103,  111,  115,  116,  120,  121,  123,  131,  156,\n",
      "        164,  165,  180,  185,  191,  201,  203,  207,  221,  223,  234,  236,\n",
      "        237,  241,  245,  255,  258,  262,  267,  281,  282,  290,  320,  334,\n",
      "        336,  338,  343,  350, 1421, 1846, 2145, 2150],\n",
      "      dtype='int64')\n"
     ]
    }
   ],
   "source": [
    "# Extract the indexes of the values containing 'ago'\n",
    "print(df_data_analyst.loc[df_data_analyst[\"date\"].str.match('.*ago'), [\"date\"]].index)\n",
    "print('-'*50)\n",
    "print('-'*50)\n",
    "print(df_data_analyst[df_data_analyst['date']=='Yesterday'].index)\n",
    "print('-'*50)\n",
    "print('-'*50)\n",
    "\n",
    "print(df_data_analyst.loc[df_data_analyst[\"date\"].str.match('.*days ago'), [\"date\"]].index)\n"
   ]
  },
  {
   "cell_type": "raw",
   "id": "34742e4b",
   "metadata": {},
   "source": [
    "# Selected indexes\n",
    "months = [0, 2, 166, 39, 78, 143 ], Yesterday = [122, 161, 218, 247, 304], days_ago = [ 28, 111, 103,  131]\n"
   ]
  },
  {
   "cell_type": "markdown",
   "id": "1601d643",
   "metadata": {},
   "source": [
    "### Create a Dataframe using unique values "
   ]
  },
  {
   "cell_type": "code",
   "execution_count": 33,
   "id": "aa25515c",
   "metadata": {},
   "outputs": [
    {
     "data": {
      "text/plain": [
       "0         28 March\n",
       "2         18 April\n",
       "166         5 June\n",
       "39      24 January\n",
       "78     28 December\n",
       "269    13 Feburary\n",
       "143    27 Feburary\n",
       "247      Yesterday\n",
       "304      Yesterday\n",
       "1       3 days ago\n",
       "111     2 days ago\n",
       "103     4 days ago\n",
       "131     5 days ago\n",
       "Name: date, dtype: object"
      ]
     },
     "execution_count": 33,
     "metadata": {},
     "output_type": "execute_result"
    }
   ],
   "source": [
    "df_unique = df_data_analyst.loc[[0, 2, 166, 39, 78, 269, 143, 247, 304,  1, 111, 103, 131], 'date']\n",
    "df_unique"
   ]
  },
  {
   "cell_type": "markdown",
   "id": "f2c894b5",
   "metadata": {},
   "source": [
    "### Series to dataframe"
   ]
  },
  {
   "cell_type": "code",
   "execution_count": 34,
   "id": "3e1fbd99",
   "metadata": {},
   "outputs": [
    {
     "data": {
      "text/html": [
       "<div>\n",
       "<style scoped>\n",
       "    .dataframe tbody tr th:only-of-type {\n",
       "        vertical-align: middle;\n",
       "    }\n",
       "\n",
       "    .dataframe tbody tr th {\n",
       "        vertical-align: top;\n",
       "    }\n",
       "\n",
       "    .dataframe thead th {\n",
       "        text-align: right;\n",
       "    }\n",
       "</style>\n",
       "<table border=\"1\" class=\"dataframe\">\n",
       "  <thead>\n",
       "    <tr style=\"text-align: right;\">\n",
       "      <th></th>\n",
       "      <th>index_unique</th>\n",
       "      <th>unique_original</th>\n",
       "    </tr>\n",
       "  </thead>\n",
       "  <tbody>\n",
       "    <tr>\n",
       "      <th>0</th>\n",
       "      <td>0</td>\n",
       "      <td>28 March</td>\n",
       "    </tr>\n",
       "    <tr>\n",
       "      <th>1</th>\n",
       "      <td>2</td>\n",
       "      <td>18 April</td>\n",
       "    </tr>\n",
       "    <tr>\n",
       "      <th>2</th>\n",
       "      <td>166</td>\n",
       "      <td>5 June</td>\n",
       "    </tr>\n",
       "    <tr>\n",
       "      <th>3</th>\n",
       "      <td>39</td>\n",
       "      <td>24 January</td>\n",
       "    </tr>\n",
       "    <tr>\n",
       "      <th>4</th>\n",
       "      <td>78</td>\n",
       "      <td>28 December</td>\n",
       "    </tr>\n",
       "    <tr>\n",
       "      <th>5</th>\n",
       "      <td>269</td>\n",
       "      <td>13 Feburary</td>\n",
       "    </tr>\n",
       "    <tr>\n",
       "      <th>6</th>\n",
       "      <td>143</td>\n",
       "      <td>27 Feburary</td>\n",
       "    </tr>\n",
       "    <tr>\n",
       "      <th>7</th>\n",
       "      <td>247</td>\n",
       "      <td>Yesterday</td>\n",
       "    </tr>\n",
       "    <tr>\n",
       "      <th>8</th>\n",
       "      <td>304</td>\n",
       "      <td>Yesterday</td>\n",
       "    </tr>\n",
       "    <tr>\n",
       "      <th>9</th>\n",
       "      <td>1</td>\n",
       "      <td>3 days ago</td>\n",
       "    </tr>\n",
       "    <tr>\n",
       "      <th>10</th>\n",
       "      <td>111</td>\n",
       "      <td>2 days ago</td>\n",
       "    </tr>\n",
       "    <tr>\n",
       "      <th>11</th>\n",
       "      <td>103</td>\n",
       "      <td>4 days ago</td>\n",
       "    </tr>\n",
       "    <tr>\n",
       "      <th>12</th>\n",
       "      <td>131</td>\n",
       "      <td>5 days ago</td>\n",
       "    </tr>\n",
       "  </tbody>\n",
       "</table>\n",
       "</div>"
      ],
      "text/plain": [
       "    index_unique unique_original\n",
       "0              0        28 March\n",
       "1              2        18 April\n",
       "2            166          5 June\n",
       "3             39      24 January\n",
       "4             78     28 December\n",
       "5            269     13 Feburary\n",
       "6            143     27 Feburary\n",
       "7            247       Yesterday\n",
       "8            304       Yesterday\n",
       "9              1      3 days ago\n",
       "10           111      2 days ago\n",
       "11           103      4 days ago\n",
       "12           131      5 days ago"
      ]
     },
     "execution_count": 34,
     "metadata": {},
     "output_type": "execute_result"
    }
   ],
   "source": [
    "#create a dict and pass the series the data param to the dataframe constructor\n",
    "df_unique_test = pd.DataFrame({'index_unique':df_unique.index, 'unique_original':df_unique.values})\n",
    "df_unique_test"
   ]
  },
  {
   "cell_type": "code",
   "execution_count": 35,
   "id": "c1ea759c",
   "metadata": {},
   "outputs": [
    {
     "data": {
      "text/plain": [
       "Index(['index_unique', 'unique_original'], dtype='object')"
      ]
     },
     "execution_count": 35,
     "metadata": {},
     "output_type": "execute_result"
    }
   ],
   "source": [
    "df_unique_test.columns"
   ]
  },
  {
   "cell_type": "code",
   "execution_count": 4,
   "id": "9eb1b063",
   "metadata": {},
   "outputs": [
    {
     "data": {
      "text/plain": [
       "array(['28 March', '18 April', '5 June', '24 January', '28 December',\n",
       "       '13 Feburary', '27 Feburary', 'Yesterday', '3 days ago',\n",
       "       '2 days ago', '4 days ago', '5 days ago'], dtype=object)"
      ]
     },
     "execution_count": 4,
     "metadata": {},
     "output_type": "execute_result"
    }
   ],
   "source": [
    "df_unique_test.unique_original.unique()"
   ]
  },
  {
   "cell_type": "markdown",
   "id": "a94d747d",
   "metadata": {},
   "source": [
    "### The next work order is important beacuse of adding the years:\n",
    "- First Add 2023 to months ['June',  'December'] and 2024 to m['January', 'February', 'March', 'April']\n",
    "- Transforming 'days_ago' to relevant dates\n",
    "- Transforming 'Yesterday' to relevant dates\n"
   ]
  },
  {
   "cell_type": "markdown",
   "id": "e0e4f8d8",
   "metadata": {},
   "source": [
    "## Add 2023 and 2024 to months "
   ]
  },
  {
   "cell_type": "code",
   "execution_count": 50,
   "id": "da829264",
   "metadata": {},
   "outputs": [
    {
     "data": {
      "text/html": [
       "<div>\n",
       "<style scoped>\n",
       "    .dataframe tbody tr th:only-of-type {\n",
       "        vertical-align: middle;\n",
       "    }\n",
       "\n",
       "    .dataframe tbody tr th {\n",
       "        vertical-align: top;\n",
       "    }\n",
       "\n",
       "    .dataframe thead th {\n",
       "        text-align: right;\n",
       "    }\n",
       "</style>\n",
       "<table border=\"1\" class=\"dataframe\">\n",
       "  <thead>\n",
       "    <tr style=\"text-align: right;\">\n",
       "      <th></th>\n",
       "      <th>index_unique</th>\n",
       "      <th>unique_original</th>\n",
       "      <th>original_copy</th>\n",
       "    </tr>\n",
       "  </thead>\n",
       "  <tbody>\n",
       "    <tr>\n",
       "      <th>0</th>\n",
       "      <td>0</td>\n",
       "      <td>28 March</td>\n",
       "      <td>28 March 2024</td>\n",
       "    </tr>\n",
       "    <tr>\n",
       "      <th>1</th>\n",
       "      <td>2</td>\n",
       "      <td>18 April</td>\n",
       "      <td>18 April 2024</td>\n",
       "    </tr>\n",
       "    <tr>\n",
       "      <th>2</th>\n",
       "      <td>166</td>\n",
       "      <td>5 June</td>\n",
       "      <td>5 June 2023</td>\n",
       "    </tr>\n",
       "    <tr>\n",
       "      <th>3</th>\n",
       "      <td>39</td>\n",
       "      <td>24 January</td>\n",
       "      <td>24 January 2024</td>\n",
       "    </tr>\n",
       "    <tr>\n",
       "      <th>4</th>\n",
       "      <td>78</td>\n",
       "      <td>28 December</td>\n",
       "      <td>28 December 2023</td>\n",
       "    </tr>\n",
       "    <tr>\n",
       "      <th>5</th>\n",
       "      <td>269</td>\n",
       "      <td>13 Feburary</td>\n",
       "      <td>13 Feburary 2024</td>\n",
       "    </tr>\n",
       "    <tr>\n",
       "      <th>6</th>\n",
       "      <td>143</td>\n",
       "      <td>27 Feburary</td>\n",
       "      <td>27 Feburary 2024</td>\n",
       "    </tr>\n",
       "    <tr>\n",
       "      <th>7</th>\n",
       "      <td>247</td>\n",
       "      <td>26 April 2024</td>\n",
       "      <td>26 April 2024 2024</td>\n",
       "    </tr>\n",
       "    <tr>\n",
       "      <th>8</th>\n",
       "      <td>304</td>\n",
       "      <td>26 April 2024</td>\n",
       "      <td>26 April 2024 2024</td>\n",
       "    </tr>\n",
       "    <tr>\n",
       "      <th>9</th>\n",
       "      <td>1</td>\n",
       "      <td>3 days ago</td>\n",
       "      <td>3 days ago</td>\n",
       "    </tr>\n",
       "    <tr>\n",
       "      <th>10</th>\n",
       "      <td>111</td>\n",
       "      <td>2 days ago</td>\n",
       "      <td>2 days ago</td>\n",
       "    </tr>\n",
       "    <tr>\n",
       "      <th>11</th>\n",
       "      <td>103</td>\n",
       "      <td>4 days ago</td>\n",
       "      <td>4 days ago</td>\n",
       "    </tr>\n",
       "    <tr>\n",
       "      <th>12</th>\n",
       "      <td>131</td>\n",
       "      <td>5 days ago</td>\n",
       "      <td>5 days ago</td>\n",
       "    </tr>\n",
       "  </tbody>\n",
       "</table>\n",
       "</div>"
      ],
      "text/plain": [
       "    index_unique unique_original       original_copy\n",
       "0              0        28 March       28 March 2024\n",
       "1              2        18 April       18 April 2024\n",
       "2            166          5 June         5 June 2023\n",
       "3             39      24 January     24 January 2024\n",
       "4             78     28 December    28 December 2023\n",
       "5            269     13 Feburary    13 Feburary 2024\n",
       "6            143     27 Feburary    27 Feburary 2024\n",
       "7            247   26 April 2024  26 April 2024 2024\n",
       "8            304   26 April 2024  26 April 2024 2024\n",
       "9              1      3 days ago          3 days ago\n",
       "10           111      2 days ago          2 days ago\n",
       "11           103      4 days ago          4 days ago\n",
       "12           131      5 days ago          5 days ago"
      ]
     },
     "execution_count": 50,
     "metadata": {},
     "output_type": "execute_result"
    }
   ],
   "source": [
    "def transformer(df_unique_test):\n",
    "    \n",
    "    df_unique_test['original_copy']= df_unique_test['unique_original']\n",
    "    \n",
    "    # Adding 2023 to other months 'June' &  'December' \n",
    "    months_2023 = ['June',  'December']\n",
    "    \n",
    "    for month in months_2023:\n",
    "        df_unique_test.loc[df_unique_test['original_copy'].str.contains(month), 'original_copy'] += ' 2023'\n",
    "\n",
    "    # Adding 2024 to January', 'February', 'March' & 'April'\n",
    "    months_2024 = ['January', 'Feburary', 'March', 'April']\n",
    "    \n",
    "    for month in months_2024:\n",
    "        df_unique_test.loc[df_unique_test['original_copy'].str.contains(month),'original_copy'] += ' 2024'\n",
    "    \n",
    "    return df_unique_test\n",
    "        \n",
    "\n",
    "transformer(df_unique_test)\n"
   ]
  },
  {
   "cell_type": "code",
   "execution_count": null,
   "id": "bb933156",
   "metadata": {},
   "outputs": [],
   "source": []
  },
  {
   "cell_type": "markdown",
   "id": "3386012b",
   "metadata": {},
   "source": [
    "### Transforming 'days_ago' to relevant dates"
   ]
  },
  {
   "cell_type": "code",
   "execution_count": 4,
   "id": "f7762291",
   "metadata": {},
   "outputs": [
    {
     "data": {
      "text/plain": [
       "[3, 2, 4, 5]"
      ]
     },
     "execution_count": 4,
     "metadata": {},
     "output_type": "execute_result"
    }
   ],
   "source": [
    "day_ago =[]\n",
    "\n",
    "for i in df_unique_test['unique_original']:\n",
    "    if  \"days ago\" in i:\n",
    "        # select the first (index zero)\n",
    "        no_days = i[0]\n",
    "        day_ago.append(int(no_days))\n",
    "    \n",
    "day_ago\n"
   ]
  },
  {
   "cell_type": "code",
   "execution_count": 5,
   "id": "05e49beb",
   "metadata": {},
   "outputs": [
    {
     "name": "stdout",
     "output_type": "stream",
     "text": [
      "['24 April 2024', '25 April 2024', '23 April 2024', '22 April 2024']\n"
     ]
    }
   ],
   "source": [
    "days_list = []\n",
    "\n",
    "\n",
    " # specify the date scrapped the website to '27 April 2024' \n",
    "scrapping_date =datetime.datetime.strptime('27 April 2024' , \"%d %B %Y\") # '%d %b %Y')\n",
    "\n",
    "for e in day_ago:\n",
    "    d = datetime.timedelta(days = e)\n",
    "    a = (scrapping_date - d).strftime(\"%d %B %Y\") \n",
    "    days_list.append(a)\n",
    "    \n",
    "print(days_list)\n",
    "        "
   ]
  },
  {
   "cell_type": "markdown",
   "id": "f836bd83",
   "metadata": {},
   "source": [
    "### Combine the the above and  apply using a function "
   ]
  },
  {
   "cell_type": "code",
   "execution_count": 51,
   "id": "d37df269",
   "metadata": {},
   "outputs": [
    {
     "data": {
      "text/html": [
       "<div>\n",
       "<style scoped>\n",
       "    .dataframe tbody tr th:only-of-type {\n",
       "        vertical-align: middle;\n",
       "    }\n",
       "\n",
       "    .dataframe tbody tr th {\n",
       "        vertical-align: top;\n",
       "    }\n",
       "\n",
       "    .dataframe thead th {\n",
       "        text-align: right;\n",
       "    }\n",
       "</style>\n",
       "<table border=\"1\" class=\"dataframe\">\n",
       "  <thead>\n",
       "    <tr style=\"text-align: right;\">\n",
       "      <th></th>\n",
       "      <th>index_unique</th>\n",
       "      <th>unique_original</th>\n",
       "      <th>original_copy</th>\n",
       "    </tr>\n",
       "  </thead>\n",
       "  <tbody>\n",
       "    <tr>\n",
       "      <th>0</th>\n",
       "      <td>0</td>\n",
       "      <td>28 March</td>\n",
       "      <td>28 March</td>\n",
       "    </tr>\n",
       "    <tr>\n",
       "      <th>1</th>\n",
       "      <td>2</td>\n",
       "      <td>18 April</td>\n",
       "      <td>18 April</td>\n",
       "    </tr>\n",
       "    <tr>\n",
       "      <th>2</th>\n",
       "      <td>166</td>\n",
       "      <td>5 June</td>\n",
       "      <td>5 June</td>\n",
       "    </tr>\n",
       "    <tr>\n",
       "      <th>3</th>\n",
       "      <td>39</td>\n",
       "      <td>24 January</td>\n",
       "      <td>24 January</td>\n",
       "    </tr>\n",
       "    <tr>\n",
       "      <th>4</th>\n",
       "      <td>78</td>\n",
       "      <td>28 December</td>\n",
       "      <td>28 December</td>\n",
       "    </tr>\n",
       "    <tr>\n",
       "      <th>5</th>\n",
       "      <td>269</td>\n",
       "      <td>13 Feburary</td>\n",
       "      <td>13 Feburary</td>\n",
       "    </tr>\n",
       "    <tr>\n",
       "      <th>6</th>\n",
       "      <td>143</td>\n",
       "      <td>27 Feburary</td>\n",
       "      <td>27 Feburary</td>\n",
       "    </tr>\n",
       "    <tr>\n",
       "      <th>7</th>\n",
       "      <td>247</td>\n",
       "      <td>26 April 2024</td>\n",
       "      <td>26 April 2024</td>\n",
       "    </tr>\n",
       "    <tr>\n",
       "      <th>8</th>\n",
       "      <td>304</td>\n",
       "      <td>26 April 2024</td>\n",
       "      <td>26 April 2024</td>\n",
       "    </tr>\n",
       "    <tr>\n",
       "      <th>9</th>\n",
       "      <td>1</td>\n",
       "      <td>3 days ago</td>\n",
       "      <td>24 April 2024</td>\n",
       "    </tr>\n",
       "    <tr>\n",
       "      <th>10</th>\n",
       "      <td>111</td>\n",
       "      <td>2 days ago</td>\n",
       "      <td>25 April 2024</td>\n",
       "    </tr>\n",
       "    <tr>\n",
       "      <th>11</th>\n",
       "      <td>103</td>\n",
       "      <td>4 days ago</td>\n",
       "      <td>23 April 2024</td>\n",
       "    </tr>\n",
       "    <tr>\n",
       "      <th>12</th>\n",
       "      <td>131</td>\n",
       "      <td>5 days ago</td>\n",
       "      <td>22 April 2024</td>\n",
       "    </tr>\n",
       "  </tbody>\n",
       "</table>\n",
       "</div>"
      ],
      "text/plain": [
       "    index_unique unique_original  original_copy\n",
       "0              0        28 March       28 March\n",
       "1              2        18 April       18 April\n",
       "2            166          5 June         5 June\n",
       "3             39      24 January     24 January\n",
       "4             78     28 December    28 December\n",
       "5            269     13 Feburary    13 Feburary\n",
       "6            143     27 Feburary    27 Feburary\n",
       "7            247   26 April 2024  26 April 2024\n",
       "8            304   26 April 2024  26 April 2024\n",
       "9              1      3 days ago  24 April 2024\n",
       "10           111      2 days ago  25 April 2024\n",
       "11           103      4 days ago  23 April 2024\n",
       "12           131      5 days ago  22 April 2024"
      ]
     },
     "execution_count": 51,
     "metadata": {},
     "output_type": "execute_result"
    }
   ],
   "source": [
    "\n",
    "def days_months(item):\n",
    "    df_unique_test['original_copy']= df_unique_test['unique_original']\n",
    "    \n",
    "    date_list = []\n",
    "    day_ago =[]\n",
    "\n",
    "    for i in df_unique_test['unique_original']:\n",
    "\n",
    "\n",
    "        if  \"days ago\" in i:\n",
    "\n",
    "            # select the first (index zero)\n",
    "            no_days = i[0]\n",
    "            day_ago.append(int(no_days))\n",
    "\n",
    "            # specify the date scrapped the website to '27 April 2024' \n",
    "            scrapping_date =datetime.datetime.strptime('27 April 2024' , \"%d %B %Y\") # '%d %b %Y')\n",
    "\n",
    "            for e in day_ago:\n",
    "                d = datetime.timedelta(days = e)\n",
    "                a = (scrapping_date - d).strftime(\"%d %B %Y\")\n",
    "          \n",
    "\n",
    "            # Substitute each values of i (days_ ago) with a (proper date before scrapping the website)\n",
    "            df_unique_test.loc[df_unique_test['original_copy']== i, 'original_copy']= a\n",
    "\n",
    "    \n",
    "\n",
    "    return df_unique_test\n",
    "\n",
    "\n",
    "days_months(df_unique_test)\n",
    "\n"
   ]
  },
  {
   "cell_type": "markdown",
   "id": "ab021afc",
   "metadata": {},
   "source": [
    "### Alternative method to the above"
   ]
  },
  {
   "cell_type": "raw",
   "id": "97c6022e",
   "metadata": {},
   "source": [
    "today = datetime.datetime.strptime('18 February 2024', \"%d %B %Y\")\n",
    "for index, row in df.iterrows():\n",
    "    if 'days ago' in row['unique_original']:\n",
    "        days_ago = int(row['unique_original'].split()[0])\n",
    "        date = today - datetime.timedelta(days=days_ago)\n",
    "        df_unique_test.at[index, 'unique_original'] = date.strftime(\"%d %B %Y\")\n"
   ]
  },
  {
   "cell_type": "markdown",
   "id": "d28635f4",
   "metadata": {},
   "source": [
    "## Transforming 'Yesterday' to relevant dates"
   ]
  },
  {
   "cell_type": "code",
   "execution_count": 46,
   "id": "f26c6a1f",
   "metadata": {},
   "outputs": [
    {
     "data": {
      "text/html": [
       "<div>\n",
       "<style scoped>\n",
       "    .dataframe tbody tr th:only-of-type {\n",
       "        vertical-align: middle;\n",
       "    }\n",
       "\n",
       "    .dataframe tbody tr th {\n",
       "        vertical-align: top;\n",
       "    }\n",
       "\n",
       "    .dataframe thead th {\n",
       "        text-align: right;\n",
       "    }\n",
       "</style>\n",
       "<table border=\"1\" class=\"dataframe\">\n",
       "  <thead>\n",
       "    <tr style=\"text-align: right;\">\n",
       "      <th></th>\n",
       "      <th>index_unique</th>\n",
       "      <th>unique_original</th>\n",
       "      <th>original_copy</th>\n",
       "    </tr>\n",
       "  </thead>\n",
       "  <tbody>\n",
       "    <tr>\n",
       "      <th>0</th>\n",
       "      <td>0</td>\n",
       "      <td>28 March</td>\n",
       "      <td>28 March</td>\n",
       "    </tr>\n",
       "    <tr>\n",
       "      <th>1</th>\n",
       "      <td>2</td>\n",
       "      <td>18 April</td>\n",
       "      <td>18 April</td>\n",
       "    </tr>\n",
       "    <tr>\n",
       "      <th>2</th>\n",
       "      <td>166</td>\n",
       "      <td>5 June</td>\n",
       "      <td>5 June</td>\n",
       "    </tr>\n",
       "    <tr>\n",
       "      <th>3</th>\n",
       "      <td>39</td>\n",
       "      <td>24 January</td>\n",
       "      <td>24 January</td>\n",
       "    </tr>\n",
       "    <tr>\n",
       "      <th>4</th>\n",
       "      <td>78</td>\n",
       "      <td>28 December</td>\n",
       "      <td>28 December</td>\n",
       "    </tr>\n",
       "    <tr>\n",
       "      <th>5</th>\n",
       "      <td>269</td>\n",
       "      <td>13 Feburary</td>\n",
       "      <td>13 Feburary</td>\n",
       "    </tr>\n",
       "    <tr>\n",
       "      <th>6</th>\n",
       "      <td>143</td>\n",
       "      <td>27 Feburary</td>\n",
       "      <td>27 Feburary</td>\n",
       "    </tr>\n",
       "    <tr>\n",
       "      <th>7</th>\n",
       "      <td>247</td>\n",
       "      <td>26 April 2024</td>\n",
       "      <td>26 April 2024</td>\n",
       "    </tr>\n",
       "    <tr>\n",
       "      <th>8</th>\n",
       "      <td>304</td>\n",
       "      <td>26 April 2024</td>\n",
       "      <td>26 April 2024</td>\n",
       "    </tr>\n",
       "    <tr>\n",
       "      <th>9</th>\n",
       "      <td>1</td>\n",
       "      <td>3 days ago</td>\n",
       "      <td>24 April 2024</td>\n",
       "    </tr>\n",
       "    <tr>\n",
       "      <th>10</th>\n",
       "      <td>111</td>\n",
       "      <td>2 days ago</td>\n",
       "      <td>25 April 2024</td>\n",
       "    </tr>\n",
       "    <tr>\n",
       "      <th>11</th>\n",
       "      <td>103</td>\n",
       "      <td>4 days ago</td>\n",
       "      <td>23 April 2024</td>\n",
       "    </tr>\n",
       "    <tr>\n",
       "      <th>12</th>\n",
       "      <td>131</td>\n",
       "      <td>5 days ago</td>\n",
       "      <td>22 April 2024</td>\n",
       "    </tr>\n",
       "  </tbody>\n",
       "</table>\n",
       "</div>"
      ],
      "text/plain": [
       "    index_unique unique_original  original_copy\n",
       "0              0        28 March       28 March\n",
       "1              2        18 April       18 April\n",
       "2            166          5 June         5 June\n",
       "3             39      24 January     24 January\n",
       "4             78     28 December    28 December\n",
       "5            269     13 Feburary    13 Feburary\n",
       "6            143     27 Feburary    27 Feburary\n",
       "7            247   26 April 2024  26 April 2024\n",
       "8            304   26 April 2024  26 April 2024\n",
       "9              1      3 days ago  24 April 2024\n",
       "10           111      2 days ago  25 April 2024\n",
       "11           103      4 days ago  23 April 2024\n",
       "12           131      5 days ago  22 April 2024"
      ]
     },
     "execution_count": 46,
     "metadata": {},
     "output_type": "execute_result"
    }
   ],
   "source": [
    "# Changing 'Yesterday' to the daate before scarpping date ('27 April 2024')  '26 April 2024'\n",
    "df_unique_test.loc[df_unique_test['original_copy']  == 'Yesterday', 'original_copy' ] = '26 April 2024'\n",
    "df_unique_test\n"
   ]
  },
  {
   "cell_type": "markdown",
   "id": "ff22483b",
   "metadata": {},
   "source": [
    "### 'original_copy' column is treated as string(object)"
   ]
  },
  {
   "cell_type": "code",
   "execution_count": 47,
   "id": "473c521b",
   "metadata": {},
   "outputs": [
    {
     "name": "stdout",
     "output_type": "stream",
     "text": [
      "<class 'pandas.core.frame.DataFrame'>\n",
      "RangeIndex: 13 entries, 0 to 12\n",
      "Data columns (total 3 columns):\n",
      " #   Column           Non-Null Count  Dtype \n",
      "---  ------           --------------  ----- \n",
      " 0   index_unique     13 non-null     int64 \n",
      " 1   unique_original  13 non-null     object\n",
      " 2   original_copy    13 non-null     object\n",
      "dtypes: int64(1), object(2)\n",
      "memory usage: 440.0+ bytes\n"
     ]
    }
   ],
   "source": [
    "df_unique_test.info()"
   ]
  },
  {
   "cell_type": "code",
   "execution_count": 48,
   "id": "8bd997fb",
   "metadata": {},
   "outputs": [
    {
     "data": {
      "text/html": [
       "<div>\n",
       "<style scoped>\n",
       "    .dataframe tbody tr th:only-of-type {\n",
       "        vertical-align: middle;\n",
       "    }\n",
       "\n",
       "    .dataframe tbody tr th {\n",
       "        vertical-align: top;\n",
       "    }\n",
       "\n",
       "    .dataframe thead th {\n",
       "        text-align: right;\n",
       "    }\n",
       "</style>\n",
       "<table border=\"1\" class=\"dataframe\">\n",
       "  <thead>\n",
       "    <tr style=\"text-align: right;\">\n",
       "      <th></th>\n",
       "      <th>index_unique</th>\n",
       "      <th>unique_original</th>\n",
       "      <th>original_copy</th>\n",
       "    </tr>\n",
       "  </thead>\n",
       "  <tbody>\n",
       "    <tr>\n",
       "      <th>0</th>\n",
       "      <td>0</td>\n",
       "      <td>28 March</td>\n",
       "      <td>28 March</td>\n",
       "    </tr>\n",
       "    <tr>\n",
       "      <th>1</th>\n",
       "      <td>2</td>\n",
       "      <td>18 April</td>\n",
       "      <td>18 April</td>\n",
       "    </tr>\n",
       "    <tr>\n",
       "      <th>2</th>\n",
       "      <td>166</td>\n",
       "      <td>5 June</td>\n",
       "      <td>5 June</td>\n",
       "    </tr>\n",
       "    <tr>\n",
       "      <th>3</th>\n",
       "      <td>39</td>\n",
       "      <td>24 January</td>\n",
       "      <td>24 January</td>\n",
       "    </tr>\n",
       "    <tr>\n",
       "      <th>4</th>\n",
       "      <td>78</td>\n",
       "      <td>28 December</td>\n",
       "      <td>28 December</td>\n",
       "    </tr>\n",
       "    <tr>\n",
       "      <th>5</th>\n",
       "      <td>269</td>\n",
       "      <td>13 Feburary</td>\n",
       "      <td>13 February</td>\n",
       "    </tr>\n",
       "    <tr>\n",
       "      <th>6</th>\n",
       "      <td>143</td>\n",
       "      <td>27 Feburary</td>\n",
       "      <td>27 February</td>\n",
       "    </tr>\n",
       "    <tr>\n",
       "      <th>7</th>\n",
       "      <td>247</td>\n",
       "      <td>26 April 2024</td>\n",
       "      <td>26 April 2024</td>\n",
       "    </tr>\n",
       "    <tr>\n",
       "      <th>8</th>\n",
       "      <td>304</td>\n",
       "      <td>26 April 2024</td>\n",
       "      <td>26 April 2024</td>\n",
       "    </tr>\n",
       "    <tr>\n",
       "      <th>9</th>\n",
       "      <td>1</td>\n",
       "      <td>3 days ago</td>\n",
       "      <td>24 April 2024</td>\n",
       "    </tr>\n",
       "    <tr>\n",
       "      <th>10</th>\n",
       "      <td>111</td>\n",
       "      <td>2 days ago</td>\n",
       "      <td>25 April 2024</td>\n",
       "    </tr>\n",
       "    <tr>\n",
       "      <th>11</th>\n",
       "      <td>103</td>\n",
       "      <td>4 days ago</td>\n",
       "      <td>23 April 2024</td>\n",
       "    </tr>\n",
       "    <tr>\n",
       "      <th>12</th>\n",
       "      <td>131</td>\n",
       "      <td>5 days ago</td>\n",
       "      <td>22 April 2024</td>\n",
       "    </tr>\n",
       "  </tbody>\n",
       "</table>\n",
       "</div>"
      ],
      "text/plain": [
       "    index_unique unique_original  original_copy\n",
       "0              0        28 March       28 March\n",
       "1              2        18 April       18 April\n",
       "2            166          5 June         5 June\n",
       "3             39      24 January     24 January\n",
       "4             78     28 December    28 December\n",
       "5            269     13 Feburary    13 February\n",
       "6            143     27 Feburary    27 February\n",
       "7            247   26 April 2024  26 April 2024\n",
       "8            304   26 April 2024  26 April 2024\n",
       "9              1      3 days ago  24 April 2024\n",
       "10           111      2 days ago  25 April 2024\n",
       "11           103      4 days ago  23 April 2024\n",
       "12           131      5 days ago  22 April 2024"
      ]
     },
     "execution_count": 48,
     "metadata": {},
     "output_type": "execute_result"
    }
   ],
   "source": [
    "# 'Feburary' misspelt on the website replace it with 'February'\n",
    "df_unique_test['original_copy'] = df_unique_test['original_copy'].str.replace('Feburary', 'February')\n",
    "df_unique_test\n"
   ]
  },
  {
   "cell_type": "markdown",
   "id": "d703060a",
   "metadata": {},
   "source": [
    "### Changing 'original_copy' column to datetime format"
   ]
  },
  {
   "cell_type": "raw",
   "id": "a2a006e0",
   "metadata": {},
   "source": [
    "\n",
    "df_unique_test['original_copy'] = pd.to_datetime(df_unique_test['original_copy'])\n",
    "df_unique_test.info()\n"
   ]
  },
  {
   "cell_type": "markdown",
   "id": "1d7eeb9a",
   "metadata": {},
   "source": [
    "### PUTTING ALL TOGETTHER"
   ]
  },
  {
   "cell_type": "code",
   "execution_count": 53,
   "id": "284b046f",
   "metadata": {},
   "outputs": [
    {
     "data": {
      "text/html": [
       "<div>\n",
       "<style scoped>\n",
       "    .dataframe tbody tr th:only-of-type {\n",
       "        vertical-align: middle;\n",
       "    }\n",
       "\n",
       "    .dataframe tbody tr th {\n",
       "        vertical-align: top;\n",
       "    }\n",
       "\n",
       "    .dataframe thead th {\n",
       "        text-align: right;\n",
       "    }\n",
       "</style>\n",
       "<table border=\"1\" class=\"dataframe\">\n",
       "  <thead>\n",
       "    <tr style=\"text-align: right;\">\n",
       "      <th></th>\n",
       "      <th>index_unique</th>\n",
       "      <th>unique_original</th>\n",
       "      <th>original_copy</th>\n",
       "      <th>day_of_week</th>\n",
       "    </tr>\n",
       "  </thead>\n",
       "  <tbody>\n",
       "    <tr>\n",
       "      <th>0</th>\n",
       "      <td>4</td>\n",
       "      <td>28 March</td>\n",
       "      <td>2024-03-28</td>\n",
       "      <td>Thursday</td>\n",
       "    </tr>\n",
       "    <tr>\n",
       "      <th>1</th>\n",
       "      <td>2</td>\n",
       "      <td>18 April</td>\n",
       "      <td>2024-04-18</td>\n",
       "      <td>Thursday</td>\n",
       "    </tr>\n",
       "    <tr>\n",
       "      <th>2</th>\n",
       "      <td>166</td>\n",
       "      <td>5 June</td>\n",
       "      <td>2023-06-05</td>\n",
       "      <td>Monday</td>\n",
       "    </tr>\n",
       "    <tr>\n",
       "      <th>3</th>\n",
       "      <td>39</td>\n",
       "      <td>24 January</td>\n",
       "      <td>2024-01-24</td>\n",
       "      <td>Wednesday</td>\n",
       "    </tr>\n",
       "    <tr>\n",
       "      <th>4</th>\n",
       "      <td>78</td>\n",
       "      <td>28 December</td>\n",
       "      <td>2023-12-28</td>\n",
       "      <td>Thursday</td>\n",
       "    </tr>\n",
       "    <tr>\n",
       "      <th>5</th>\n",
       "      <td>269</td>\n",
       "      <td>13 Feburary</td>\n",
       "      <td>2024-02-13</td>\n",
       "      <td>Tuesday</td>\n",
       "    </tr>\n",
       "    <tr>\n",
       "      <th>6</th>\n",
       "      <td>143</td>\n",
       "      <td>27 Feburary</td>\n",
       "      <td>2024-02-27</td>\n",
       "      <td>Tuesday</td>\n",
       "    </tr>\n",
       "    <tr>\n",
       "      <th>7</th>\n",
       "      <td>247</td>\n",
       "      <td>Yesterday</td>\n",
       "      <td>2024-04-26</td>\n",
       "      <td>Friday</td>\n",
       "    </tr>\n",
       "    <tr>\n",
       "      <th>8</th>\n",
       "      <td>304</td>\n",
       "      <td>Yesterday</td>\n",
       "      <td>2024-04-26</td>\n",
       "      <td>Friday</td>\n",
       "    </tr>\n",
       "    <tr>\n",
       "      <th>9</th>\n",
       "      <td>28</td>\n",
       "      <td>3 days ago</td>\n",
       "      <td>2024-04-24</td>\n",
       "      <td>Wednesday</td>\n",
       "    </tr>\n",
       "    <tr>\n",
       "      <th>10</th>\n",
       "      <td>111</td>\n",
       "      <td>2 days ago</td>\n",
       "      <td>2024-04-25</td>\n",
       "      <td>Thursday</td>\n",
       "    </tr>\n",
       "    <tr>\n",
       "      <th>11</th>\n",
       "      <td>103</td>\n",
       "      <td>4 days ago</td>\n",
       "      <td>2024-04-23</td>\n",
       "      <td>Tuesday</td>\n",
       "    </tr>\n",
       "    <tr>\n",
       "      <th>12</th>\n",
       "      <td>131</td>\n",
       "      <td>5 days ago</td>\n",
       "      <td>2024-04-22</td>\n",
       "      <td>Monday</td>\n",
       "    </tr>\n",
       "  </tbody>\n",
       "</table>\n",
       "</div>"
      ],
      "text/plain": [
       "    index_unique unique_original original_copy day_of_week\n",
       "0              4        28 March    2024-03-28    Thursday\n",
       "1              2        18 April    2024-04-18    Thursday\n",
       "2            166          5 June    2023-06-05      Monday\n",
       "3             39      24 January    2024-01-24   Wednesday\n",
       "4             78     28 December    2023-12-28    Thursday\n",
       "5            269     13 Feburary    2024-02-13     Tuesday\n",
       "6            143     27 Feburary    2024-02-27     Tuesday\n",
       "7            247       Yesterday    2024-04-26      Friday\n",
       "8            304       Yesterday    2024-04-26      Friday\n",
       "9             28      3 days ago    2024-04-24   Wednesday\n",
       "10           111      2 days ago    2024-04-25    Thursday\n",
       "11           103      4 days ago    2024-04-23     Tuesday\n",
       "12           131      5 days ago    2024-04-22      Monday"
      ]
     },
     "execution_count": 53,
     "metadata": {},
     "output_type": "execute_result"
    }
   ],
   "source": [
    "import pandas as pd\n",
    "import numpy as np\n",
    "import datetime\n",
    "\n",
    "pd.options.display.max_rows = None\n",
    "\n",
    "df_unique_test = pd.read_csv('unique_original.csv')\n",
    "\n",
    "\n",
    "def days_months_transformer(item):\n",
    "    \n",
    "    df_unique_test['original_copy']= df_unique_test['unique_original']\n",
    "    \n",
    "    date_list = []\n",
    "    day_ago =[]\n",
    "\n",
    "    # Adding 2023 to other months 'June' &  'December' \n",
    "    months_2023 = ['June',  'December']\n",
    "    \n",
    "    for month in months_2023:\n",
    "        df_unique_test.loc[df_unique_test['original_copy'].str.contains(month), 'original_copy'] += ' 2023'\n",
    "\n",
    "    # Adding 2024 to January', 'February', 'March' & 'April'\n",
    "    months_2024 = ['January', 'Feburary', 'March', 'April']\n",
    "    \n",
    "    for month in months_2024:\n",
    "        df_unique_test.loc[df_unique_test['original_copy'].str.contains(month),'original_copy'] += ' 2024'\n",
    "    \n",
    "    # Transforming \"days ago\"\n",
    "    for i in df_unique_test['original_copy']:\n",
    "\n",
    "        if  \"days ago\" in i:\n",
    "\n",
    "            # select the first (index zero)\n",
    "            no_days = i[0]\n",
    "            day_ago.append(int(no_days))\n",
    "\n",
    "            # specify the date scrapped the website to '27 April 2024' \n",
    "            scrapping_date =datetime.datetime.strptime('27 April 2024' , \"%d %B %Y\") # '%d %b %Y')\n",
    "\n",
    "            for e in day_ago:\n",
    "                d = datetime.timedelta(days = e)\n",
    "                a = (scrapping_date - d).strftime(\"%d %B %Y\") \n",
    "\n",
    "            # Substitute each values of i (days_ ago) with a (proper date before scrapping the website)\n",
    "            df_unique_test.loc[df_unique_test['original_copy']  == i, 'original_copy'] =  a\n",
    "\n",
    "    \n",
    "    # Changing 'Yesterday' to the daate before scarpping date ('27 April 2024')  '26 April 2024'\n",
    "    df_unique_test.loc[df_unique_test['original_copy']  == 'Yesterday', 'original_copy' ] = '26 April 2024'\n",
    "    \n",
    "    # 'Feburary' misspelt on the website replace it with 'February'\n",
    "    df_unique_test['original_copy'] = df_unique_test['original_copy'].str.replace('Feburary', 'February')\n",
    "    \n",
    "    #change to datetime format \n",
    "    df_unique_test['original_copy'] = pd.to_datetime(df_unique_test['original_copy'])\n",
    "    \n",
    "    # Extract  days of the week and create a column \n",
    "    df_unique_test['day_of_week'] = df_unique_test['original_copy'].dt.day_name()\n",
    "    \n",
    "    # save the data as csv file format \n",
    "    df_unique_test.to_csv('date_completed.csv', index=None)\n",
    "    \n",
    "    return df_unique_test\n",
    "    \n",
    "\n",
    "days_months_transformer(df_unique_test)\n"
   ]
  },
  {
   "cell_type": "markdown",
   "id": "d6768ea1",
   "metadata": {},
   "source": [
    "## Applying on  'df_data_analyst' dataset"
   ]
  },
  {
   "cell_type": "code",
   "execution_count": 54,
   "id": "a01f5f39",
   "metadata": {},
   "outputs": [
    {
     "data": {
      "text/html": [
       "<div>\n",
       "<style scoped>\n",
       "    .dataframe tbody tr th:only-of-type {\n",
       "        vertical-align: middle;\n",
       "    }\n",
       "\n",
       "    .dataframe tbody tr th {\n",
       "        vertical-align: top;\n",
       "    }\n",
       "\n",
       "    .dataframe thead th {\n",
       "        text-align: right;\n",
       "    }\n",
       "</style>\n",
       "<table border=\"1\" class=\"dataframe\">\n",
       "  <thead>\n",
       "    <tr style=\"text-align: right;\">\n",
       "      <th></th>\n",
       "      <th>title</th>\n",
       "      <th>date</th>\n",
       "      <th>employer</th>\n",
       "      <th>location</th>\n",
       "      <th>salary</th>\n",
       "      <th>working_hours</th>\n",
       "    </tr>\n",
       "  </thead>\n",
       "  <tbody>\n",
       "    <tr>\n",
       "      <th>0</th>\n",
       "      <td>Data Analyst</td>\n",
       "      <td>28 March</td>\n",
       "      <td>SES Water</td>\n",
       "      <td>Redhill</td>\n",
       "      <td>£28,000 - £32,000 per annum</td>\n",
       "      <td>Permanent, full-time</td>\n",
       "    </tr>\n",
       "    <tr>\n",
       "      <th>1</th>\n",
       "      <td>Business Data Analyst/Data Analyst</td>\n",
       "      <td>3 days ago</td>\n",
       "      <td>Deutsche Bank</td>\n",
       "      <td>Birmingham</td>\n",
       "      <td>Competitive salary</td>\n",
       "      <td>Contract, full-time</td>\n",
       "    </tr>\n",
       "  </tbody>\n",
       "</table>\n",
       "</div>"
      ],
      "text/plain": [
       "                                title        date       employer    location  \\\n",
       "0                        Data Analyst    28 March      SES Water     Redhill   \n",
       "1  Business Data Analyst/Data Analyst  3 days ago  Deutsche Bank  Birmingham   \n",
       "\n",
       "                        salary         working_hours  \n",
       "0  £28,000 - £32,000 per annum  Permanent, full-time  \n",
       "1           Competitive salary   Contract, full-time  "
      ]
     },
     "execution_count": 54,
     "metadata": {},
     "output_type": "execute_result"
    }
   ],
   "source": [
    "import pandas as pd\n",
    "import numpy as np\n",
    "import datetime\n",
    "\n",
    "pd.options.display.max_rows = None\n",
    "\n",
    "#importing libraries\n",
    "import pandas as pd\n",
    "\n",
    "df_original  = pd.read_csv('data_analyst_28_04_24.csv')\n",
    "\n",
    "df_data_analyst = df_original.loc[df_original.title.str.contains('Data Analyst'), \n",
    "                         ['title', 'date', 'employer', 'location', 'salary', 'working_hours']]\n",
    "\n",
    "# remove 229 duplicated values from df_data_analyst= \n",
    "df_data_analyst.drop_duplicates(inplace=True)\n",
    "\n",
    "df_data_analyst.head(2)\n"
   ]
  },
  {
   "cell_type": "code",
   "execution_count": 2,
   "id": "1e07b45d",
   "metadata": {},
   "outputs": [
    {
     "data": {
      "text/plain": [
       "Index(['title', 'date', 'employer', 'location', 'salary', 'working_hours'], dtype='object')"
      ]
     },
     "execution_count": 2,
     "metadata": {},
     "output_type": "execute_result"
    }
   ],
   "source": [
    "df_data_analyst.columns"
   ]
  },
  {
   "cell_type": "code",
   "execution_count": 11,
   "id": "b7ba25c0",
   "metadata": {},
   "outputs": [
    {
     "data": {
      "text/html": [
       "<div>\n",
       "<style scoped>\n",
       "    .dataframe tbody tr th:only-of-type {\n",
       "        vertical-align: middle;\n",
       "    }\n",
       "\n",
       "    .dataframe tbody tr th {\n",
       "        vertical-align: top;\n",
       "    }\n",
       "\n",
       "    .dataframe thead th {\n",
       "        text-align: right;\n",
       "    }\n",
       "</style>\n",
       "<table border=\"1\" class=\"dataframe\">\n",
       "  <thead>\n",
       "    <tr style=\"text-align: right;\">\n",
       "      <th></th>\n",
       "      <th>title</th>\n",
       "      <th>date</th>\n",
       "      <th>employer</th>\n",
       "      <th>location</th>\n",
       "      <th>salary</th>\n",
       "      <th>working_hours</th>\n",
       "      <th>day_of_week</th>\n",
       "    </tr>\n",
       "  </thead>\n",
       "  <tbody>\n",
       "    <tr>\n",
       "      <th>0</th>\n",
       "      <td>Data Analyst</td>\n",
       "      <td>2024-03-28</td>\n",
       "      <td>SES Water</td>\n",
       "      <td>Redhill</td>\n",
       "      <td>£28,000 - £32,000 per annum</td>\n",
       "      <td>Permanent, full-time</td>\n",
       "      <td>Thursday</td>\n",
       "    </tr>\n",
       "    <tr>\n",
       "      <th>1</th>\n",
       "      <td>Business Data Analyst/Data Analyst</td>\n",
       "      <td>2024-04-24</td>\n",
       "      <td>Deutsche Bank</td>\n",
       "      <td>Birmingham</td>\n",
       "      <td>Competitive salary</td>\n",
       "      <td>Contract, full-time</td>\n",
       "      <td>Wednesday</td>\n",
       "    </tr>\n",
       "    <tr>\n",
       "      <th>2</th>\n",
       "      <td>Data Analyst</td>\n",
       "      <td>2024-04-18</td>\n",
       "      <td>Equiniti</td>\n",
       "      <td>Worthing</td>\n",
       "      <td>Competitive salary</td>\n",
       "      <td>Permanent, full-time</td>\n",
       "      <td>Thursday</td>\n",
       "    </tr>\n",
       "    <tr>\n",
       "      <th>3</th>\n",
       "      <td>Data Analyst</td>\n",
       "      <td>2024-04-09</td>\n",
       "      <td>Anglian Water</td>\n",
       "      <td>Peterborough</td>\n",
       "      <td>£32,000 per annum</td>\n",
       "      <td>Permanent, full-time</td>\n",
       "      <td>Tuesday</td>\n",
       "    </tr>\n",
       "    <tr>\n",
       "      <th>6</th>\n",
       "      <td>Data Analyst Trainee</td>\n",
       "      <td>2024-01-24</td>\n",
       "      <td>ITonlinelearning Recruitment</td>\n",
       "      <td>Kingston Upon Thames</td>\n",
       "      <td>Training Course</td>\n",
       "      <td>Permanent, full-time</td>\n",
       "      <td>Wednesday</td>\n",
       "    </tr>\n",
       "  </tbody>\n",
       "</table>\n",
       "</div>"
      ],
      "text/plain": [
       "                                title       date  \\\n",
       "0                        Data Analyst 2024-03-28   \n",
       "1  Business Data Analyst/Data Analyst 2024-04-24   \n",
       "2                        Data Analyst 2024-04-18   \n",
       "3                        Data Analyst 2024-04-09   \n",
       "6                Data Analyst Trainee 2024-01-24   \n",
       "\n",
       "                       employer              location  \\\n",
       "0                     SES Water               Redhill   \n",
       "1                 Deutsche Bank            Birmingham   \n",
       "2                      Equiniti              Worthing   \n",
       "3                 Anglian Water          Peterborough   \n",
       "6  ITonlinelearning Recruitment  Kingston Upon Thames   \n",
       "\n",
       "                        salary         working_hours day_of_week  \n",
       "0  £28,000 - £32,000 per annum  Permanent, full-time    Thursday  \n",
       "1           Competitive salary   Contract, full-time   Wednesday  \n",
       "2           Competitive salary  Permanent, full-time    Thursday  \n",
       "3            £32,000 per annum  Permanent, full-time     Tuesday  \n",
       "6              Training Course  Permanent, full-time   Wednesday  "
      ]
     },
     "execution_count": 11,
     "metadata": {},
     "output_type": "execute_result"
    }
   ],
   "source": [
    "import pandas as pd\n",
    "import numpy as np\n",
    "import datetime\n",
    "\n",
    "pd.options.display.max_rows = None\n",
    "\n",
    "df_original  = pd.read_csv('data_analyst_28_04_24.csv')\n",
    "\n",
    "# select jobs containing 'Data Analyst'\n",
    "\n",
    "df_data_analyst = df_original.loc[df_original.title.str.contains('Data Analyst'), \n",
    "                         ['title', 'date', 'employer', 'location', 'salary', 'working_hours']]\n",
    "\n",
    "# remove 229 duplicated values from df_data_analyst= \n",
    "df_data_analyst.drop_duplicates(inplace=True)\n",
    "\n",
    "\n",
    "def date_transformer(item):\n",
    "    \n",
    "    date_list = []\n",
    "    day_ago =[]\n",
    "\n",
    "    # Adding 2023 to other months 'June' &  'December' \n",
    "    months_2023 = ['June',  'December']\n",
    "    \n",
    "    for month in months_2023:\n",
    "        df_data_analyst.loc[df_data_analyst['date'].str.contains(month), 'date'] += ' 2023'\n",
    "\n",
    "    # Adding 2024 to January', 'February', 'March' & 'April'\n",
    "    months_2024 = ['January', 'Feburary', 'March', 'April']\n",
    "    \n",
    "    for month in months_2024:\n",
    "        df_data_analyst.loc[df_data_analyst['date'].str.contains(month),'date'] += ' 2024'\n",
    "    \n",
    "    # Transforming \"days ago\"\n",
    "    for i in df_data_analyst['date']:\n",
    "\n",
    "        if  \"days ago\" in i:\n",
    "\n",
    "            # select the first (index zero)\n",
    "            no_days = i[0]\n",
    "            day_ago.append(int(no_days))\n",
    "\n",
    "            # specify the date scrapped the website to '27 April 2024' \n",
    "            scrapping_date =datetime.datetime.strptime('27 April 2024' , \"%d %B %Y\") # '%d %b %Y')\n",
    "\n",
    "            for e in day_ago:\n",
    "                d = datetime.timedelta(days = e)\n",
    "                a = (scrapping_date - d).strftime(\"%d %B %Y\") \n",
    "\n",
    "            # Substitute each values of i (days_ ago) with a (proper date before scrapping the website)\n",
    "            df_data_analyst.loc[df_data_analyst['date']  == i, 'date'] =  a\n",
    "\n",
    "    \n",
    "    # Changing 'Yesterday' to the daate before scarpping date ('27 April 2024')  '26 April 2024'\n",
    "    df_data_analyst.loc[df_data_analyst['date']  == 'Yesterday', 'date' ] = '26 April 2024'\n",
    "    \n",
    "    # 'Feburary' misspelt on the website replace it with 'February'\n",
    "    df_data_analyst['date'] = df_data_analyst['date'].str.replace('Feburary', 'February')\n",
    "    \n",
    "    #change to datetime format \n",
    "    df_data_analyst['date'] = pd.to_datetime(df_data_analyst['date'])\n",
    "    \n",
    "    # Extract  days of the week and create a column \n",
    "    df_data_analyst['day_of_week'] = df_data_analyst['date'].dt.day_name()\n",
    "    \n",
    "    # save the data as csv file format \n",
    "#     df_unique_test.to_csv('date_completed.csv', index=None)\n",
    "    \n",
    "    return df_data_analyst\n",
    "    \n",
    "\n",
    "df = date_transformer(df_data_analyst)\n",
    "\n",
    "df.head()\n"
   ]
  },
  {
   "cell_type": "code",
   "execution_count": 57,
   "id": "2f1bf4f4",
   "metadata": {},
   "outputs": [
    {
     "name": "stdout",
     "output_type": "stream",
     "text": [
      "<class 'pandas.core.frame.DataFrame'>\n",
      "Index: 294 entries, 0 to 2157\n",
      "Data columns (total 7 columns):\n",
      " #   Column         Non-Null Count  Dtype         \n",
      "---  ------         --------------  -----         \n",
      " 0   title          294 non-null    object        \n",
      " 1   date           294 non-null    datetime64[ns]\n",
      " 2   employer       294 non-null    object        \n",
      " 3   location       294 non-null    object        \n",
      " 4   salary         294 non-null    object        \n",
      " 5   working_hours  294 non-null    object        \n",
      " 6   day_of_week    294 non-null    object        \n",
      "dtypes: datetime64[ns](1), object(6)\n",
      "memory usage: 18.4+ KB\n"
     ]
    }
   ],
   "source": [
    "df.info()"
   ]
  },
  {
   "cell_type": "markdown",
   "id": "3a8d3dea",
   "metadata": {},
   "source": [
    "### Load  'date_completed.csv' back and check"
   ]
  },
  {
   "cell_type": "code",
   "execution_count": 58,
   "id": "29af5a3d",
   "metadata": {},
   "outputs": [
    {
     "data": {
      "text/html": [
       "<div>\n",
       "<style scoped>\n",
       "    .dataframe tbody tr th:only-of-type {\n",
       "        vertical-align: middle;\n",
       "    }\n",
       "\n",
       "    .dataframe tbody tr th {\n",
       "        vertical-align: top;\n",
       "    }\n",
       "\n",
       "    .dataframe thead th {\n",
       "        text-align: right;\n",
       "    }\n",
       "</style>\n",
       "<table border=\"1\" class=\"dataframe\">\n",
       "  <thead>\n",
       "    <tr style=\"text-align: right;\">\n",
       "      <th></th>\n",
       "      <th>index_unique</th>\n",
       "      <th>unique_original</th>\n",
       "      <th>original_copy</th>\n",
       "      <th>day_of_week</th>\n",
       "    </tr>\n",
       "  </thead>\n",
       "  <tbody>\n",
       "    <tr>\n",
       "      <th>0</th>\n",
       "      <td>4</td>\n",
       "      <td>28 March</td>\n",
       "      <td>2024-03-28</td>\n",
       "      <td>Thursday</td>\n",
       "    </tr>\n",
       "    <tr>\n",
       "      <th>1</th>\n",
       "      <td>2</td>\n",
       "      <td>18 April</td>\n",
       "      <td>2024-04-18</td>\n",
       "      <td>Thursday</td>\n",
       "    </tr>\n",
       "    <tr>\n",
       "      <th>2</th>\n",
       "      <td>166</td>\n",
       "      <td>5 June</td>\n",
       "      <td>2023-06-05</td>\n",
       "      <td>Monday</td>\n",
       "    </tr>\n",
       "    <tr>\n",
       "      <th>3</th>\n",
       "      <td>39</td>\n",
       "      <td>24 January</td>\n",
       "      <td>2024-01-24</td>\n",
       "      <td>Wednesday</td>\n",
       "    </tr>\n",
       "    <tr>\n",
       "      <th>4</th>\n",
       "      <td>78</td>\n",
       "      <td>28 December</td>\n",
       "      <td>2023-12-28</td>\n",
       "      <td>Thursday</td>\n",
       "    </tr>\n",
       "    <tr>\n",
       "      <th>5</th>\n",
       "      <td>269</td>\n",
       "      <td>13 Feburary</td>\n",
       "      <td>2024-02-13</td>\n",
       "      <td>Tuesday</td>\n",
       "    </tr>\n",
       "    <tr>\n",
       "      <th>6</th>\n",
       "      <td>143</td>\n",
       "      <td>27 Feburary</td>\n",
       "      <td>2024-02-27</td>\n",
       "      <td>Tuesday</td>\n",
       "    </tr>\n",
       "    <tr>\n",
       "      <th>7</th>\n",
       "      <td>247</td>\n",
       "      <td>Yesterday</td>\n",
       "      <td>2024-04-26</td>\n",
       "      <td>Friday</td>\n",
       "    </tr>\n",
       "    <tr>\n",
       "      <th>8</th>\n",
       "      <td>304</td>\n",
       "      <td>Yesterday</td>\n",
       "      <td>2024-04-26</td>\n",
       "      <td>Friday</td>\n",
       "    </tr>\n",
       "    <tr>\n",
       "      <th>9</th>\n",
       "      <td>28</td>\n",
       "      <td>3 days ago</td>\n",
       "      <td>2024-04-24</td>\n",
       "      <td>Wednesday</td>\n",
       "    </tr>\n",
       "    <tr>\n",
       "      <th>10</th>\n",
       "      <td>111</td>\n",
       "      <td>2 days ago</td>\n",
       "      <td>2024-04-25</td>\n",
       "      <td>Thursday</td>\n",
       "    </tr>\n",
       "    <tr>\n",
       "      <th>11</th>\n",
       "      <td>103</td>\n",
       "      <td>4 days ago</td>\n",
       "      <td>2024-04-23</td>\n",
       "      <td>Tuesday</td>\n",
       "    </tr>\n",
       "    <tr>\n",
       "      <th>12</th>\n",
       "      <td>131</td>\n",
       "      <td>5 days ago</td>\n",
       "      <td>2024-04-22</td>\n",
       "      <td>Monday</td>\n",
       "    </tr>\n",
       "  </tbody>\n",
       "</table>\n",
       "</div>"
      ],
      "text/plain": [
       "    index_unique unique_original original_copy day_of_week\n",
       "0              4        28 March    2024-03-28    Thursday\n",
       "1              2        18 April    2024-04-18    Thursday\n",
       "2            166          5 June    2023-06-05      Monday\n",
       "3             39      24 January    2024-01-24   Wednesday\n",
       "4             78     28 December    2023-12-28    Thursday\n",
       "5            269     13 Feburary    2024-02-13     Tuesday\n",
       "6            143     27 Feburary    2024-02-27     Tuesday\n",
       "7            247       Yesterday    2024-04-26      Friday\n",
       "8            304       Yesterday    2024-04-26      Friday\n",
       "9             28      3 days ago    2024-04-24   Wednesday\n",
       "10           111      2 days ago    2024-04-25    Thursday\n",
       "11           103      4 days ago    2024-04-23     Tuesday\n",
       "12           131      5 days ago    2024-04-22      Monday"
      ]
     },
     "execution_count": 58,
     "metadata": {},
     "output_type": "execute_result"
    }
   ],
   "source": [
    "df_day_of_week = pd.read_csv('date_completed.csv')\n",
    "df_day_of_week"
   ]
  },
  {
   "cell_type": "markdown",
   "id": "5f3cf664",
   "metadata": {},
   "source": [
    "# Salary column "
   ]
  },
  {
   "cell_type": "code",
   "execution_count": 1,
   "id": "26f91e94",
   "metadata": {},
   "outputs": [
    {
     "data": {
      "text/html": [
       "<div>\n",
       "<style scoped>\n",
       "    .dataframe tbody tr th:only-of-type {\n",
       "        vertical-align: middle;\n",
       "    }\n",
       "\n",
       "    .dataframe tbody tr th {\n",
       "        vertical-align: top;\n",
       "    }\n",
       "\n",
       "    .dataframe thead th {\n",
       "        text-align: right;\n",
       "    }\n",
       "</style>\n",
       "<table border=\"1\" class=\"dataframe\">\n",
       "  <thead>\n",
       "    <tr style=\"text-align: right;\">\n",
       "      <th></th>\n",
       "      <th>title</th>\n",
       "      <th>date</th>\n",
       "      <th>employer</th>\n",
       "      <th>location</th>\n",
       "      <th>salary</th>\n",
       "      <th>working_hours</th>\n",
       "    </tr>\n",
       "  </thead>\n",
       "  <tbody>\n",
       "    <tr>\n",
       "      <th>0</th>\n",
       "      <td>Data Analyst</td>\n",
       "      <td>28 March</td>\n",
       "      <td>SES Water</td>\n",
       "      <td>Redhill</td>\n",
       "      <td>£28,000 - £32,000 per annum</td>\n",
       "      <td>Permanent, full-time</td>\n",
       "    </tr>\n",
       "    <tr>\n",
       "      <th>1</th>\n",
       "      <td>Business Data Analyst/Data Analyst</td>\n",
       "      <td>3 days ago</td>\n",
       "      <td>Deutsche Bank</td>\n",
       "      <td>Birmingham</td>\n",
       "      <td>Competitive salary</td>\n",
       "      <td>Contract, full-time</td>\n",
       "    </tr>\n",
       "  </tbody>\n",
       "</table>\n",
       "</div>"
      ],
      "text/plain": [
       "                                title        date       employer    location  \\\n",
       "0                        Data Analyst    28 March      SES Water     Redhill   \n",
       "1  Business Data Analyst/Data Analyst  3 days ago  Deutsche Bank  Birmingham   \n",
       "\n",
       "                        salary         working_hours  \n",
       "0  £28,000 - £32,000 per annum  Permanent, full-time  \n",
       "1           Competitive salary   Contract, full-time  "
      ]
     },
     "execution_count": 1,
     "metadata": {},
     "output_type": "execute_result"
    }
   ],
   "source": [
    "#importing libraries\n",
    "import pandas as pd\n",
    "import numpy as np\n",
    "import datetime\n",
    "\n",
    "pd.options.display.max_rows = None\n",
    "\n",
    "\n",
    "df_original  = pd.read_csv('data_analyst_28_04_24.csv')\n",
    "\n",
    "# select jobs containing 'Data Analyst'\n",
    "\n",
    "df_data_analyst = df_original.loc[df_original.title.str.contains('Data Analyst'), \n",
    "                         ['title', 'date', 'employer', 'location', 'salary', 'working_hours']]\n",
    "\n",
    "# remove 229 duplicated values from df_data_analyst= \n",
    "df_data_analyst.drop_duplicates(inplace=True)\n",
    "\n",
    "df_data_analyst.head(2)\n"
   ]
  },
  {
   "cell_type": "code",
   "execution_count": 60,
   "id": "fa6e5778",
   "metadata": {},
   "outputs": [
    {
     "data": {
      "text/plain": [
       "array(['£28,000 - £32,000 per annum', 'Competitive salary',\n",
       "       '£32,000 per annum', ' Training Course', '£42,000 per annum',\n",
       "       '£22,778 per annum', '£18,000 per annum',\n",
       "       '£15,000 - £17,000 per annum', 'Salary negotiable',\n",
       "       '£300 - £312.50 per day', '£400 - £500 per day',\n",
       "       '£30,000 - £35,000 per annum',\n",
       "       '£30,000 - £60,000 per annum, inc benefits', '£350 per day',\n",
       "       '£18.71 per hour', '£27,000 - £28,000 per annum',\n",
       "       '£35,000 - £45,000 per annum', '£35,000 per annum',\n",
       "       '£37,000 - £40,000 per annum', '£36,287 - £38,324 per annum',\n",
       "       '£35,000 - £40,000 per annum', '£40,000 - £50,000 per annum',\n",
       "       '£25,000 - £30,000 per annum', '£45,000 - £55,000 per annum',\n",
       "       '£45,000 per annum', '£45,000 - £60,000 per annum', '£450 per day',\n",
       "       '£22,000 - £25,000 per annum', '£40,000 - £45,000 per annum',\n",
       "       '£30,000 - £40,000 per annum', '£15 - £17 per hour',\n",
       "       '£30,000 - £40,000 per annum, inc benefits',\n",
       "       '£33,525 - £36,618 per annum', '£40,000 per annum',\n",
       "       '£400 - £450 per day, inc benefits', '£23,000 - £25,000 per annum',\n",
       "       '£50,000 - £60,000 per annum', '£30,000 - £34,000 per annum',\n",
       "       '£500 - £550 per day',\n",
       "       '£35,000 - £40,000 per annum, OTE, inc benefits, negotiable',\n",
       "       '£55,000 - £70,000 per annum',\n",
       "       '£35,000 - £42,350 per annum, inc benefits', '£50,000 per annum',\n",
       "       '£25,000 - £27,000 per annum', '€60,000 - €65,000 per annum',\n",
       "       '£450 - £500 per day', '£20,500 - £25,625 per annum',\n",
       "       '£30,000 - £55,000 per annum', '£50,000 - £65,000 per annum',\n",
       "       '£180 - £200 per day', '£41,000 per annum',\n",
       "       '£40,000 - £60,000 per annum, inc benefits, negotiable',\n",
       "       '£28,000 - £33,000 per annum', '£30,000 - £45,000 per annum',\n",
       "       '£68,000 - £70,000 per annum', '£24,000 - £26,000 per annum',\n",
       "       '£55,000 - £60,000 per annum', '£70,000 - £80,000 per annum',\n",
       "       '£550 - £650 per day', '£85,000 - £95,000 per annum, OTE',\n",
       "       '£25,000 - £26,000 per annum', '£21,000 per annum',\n",
       "       '£35,000 - £50,000 per annum', '£60,000 per annum',\n",
       "       '£28,000 - £30,000 per annum', '£55,000 - £65,000 per annum',\n",
       "       '£200 - £250 per day', '£55,000 - £650,000 per annum',\n",
       "       '£33,850 - £48,702 per annum', '£27,200 per annum',\n",
       "       '£350 - £400 per day', '£300 - £400 per day',\n",
       "       '£55,000 - £75,000 per annum', '£27,000 - £30,000 per annum',\n",
       "       '£80,000 - £120,000 per annum', '£36,000 - £40,000 per annum',\n",
       "       '£37,500 - £45,000 per annum, OTE, inc benefits, negotiable',\n",
       "       '£42,000 - £45,000 per annum',\n",
       "       '£40,000 - £47,000 per annum, OTE, inc benefits, negotiable',\n",
       "       '£37,000 - £42,000 per annum, OTE, inc benefits, negotiable',\n",
       "       '£600 - £650 per day', '£28,000 - £35,000 per annum',\n",
       "       '£450 - £451 per day', '£75,000 - £95,000 per annum',\n",
       "       '£40,000 - £50,000 per annum, OTE, inc benefits, negotiable',\n",
       "       '£52,000 - £57,000 per annum', '£50,000 - £55,000 per annum',\n",
       "       '£35,000 - £43,000 per annum', '£23 - £26 per hour',\n",
       "       '£20,000 per annum', '£33,000 - £35,000 per annum, inc benefits',\n",
       "       '£18.01 per hour',\n",
       "       '£30,000 - £34,000 per annum, inc benefits, negotiable',\n",
       "       '£60,000 - £65,000 per annum',\n",
       "       '£39,000 - £46,000 per annum, OTE, inc benefits, negotiable',\n",
       "       '£18.01 - £22.67 per hour',\n",
       "       '£38,000 - £45,000 per annum, OTE, inc benefits, negotiable',\n",
       "       '£450 - £550 per day', '£55,000 - £60,000 per annum, pro-rata',\n",
       "       '£65,000 - £75,000 per annum', '£32,000 - £36,000 per annum',\n",
       "       '£42,000 - £48,000 per annum, OTE, inc benefits, negotiable',\n",
       "       '£35,000 - £39,000 per annum, inc benefits',\n",
       "       '£35,000 - £43,000 per annum, inc benefits',\n",
       "       '£28,000 - £34,000 per annum', '£30,000 - £37,500 per annum',\n",
       "       '£35,000 - £55,000 per annum', '£21,000 - £24,000 per annum',\n",
       "       '£33,000 - £40,000 per annum', '£700 - £850 per day',\n",
       "       '£600 per day'], dtype=object)"
      ]
     },
     "execution_count": 60,
     "metadata": {},
     "output_type": "execute_result"
    }
   ],
   "source": [
    "# Check for unique values \n",
    "df_data_analyst.salary.unique()\n"
   ]
  },
  {
   "cell_type": "code",
   "execution_count": 61,
   "id": "ee8814b6",
   "metadata": {},
   "outputs": [
    {
     "data": {
      "text/html": [
       "<div>\n",
       "<style scoped>\n",
       "    .dataframe tbody tr th:only-of-type {\n",
       "        vertical-align: middle;\n",
       "    }\n",
       "\n",
       "    .dataframe tbody tr th {\n",
       "        vertical-align: top;\n",
       "    }\n",
       "\n",
       "    .dataframe thead th {\n",
       "        text-align: right;\n",
       "    }\n",
       "</style>\n",
       "<table border=\"1\" class=\"dataframe\">\n",
       "  <thead>\n",
       "    <tr style=\"text-align: right;\">\n",
       "      <th></th>\n",
       "      <th>title</th>\n",
       "      <th>date</th>\n",
       "      <th>employer</th>\n",
       "      <th>location</th>\n",
       "      <th>salary</th>\n",
       "      <th>working_hours</th>\n",
       "    </tr>\n",
       "  </thead>\n",
       "  <tbody>\n",
       "    <tr>\n",
       "      <th>183</th>\n",
       "      <td>Senior Data Analyst</td>\n",
       "      <td>18 April</td>\n",
       "      <td>Sphere Digital Recruitment</td>\n",
       "      <td>London</td>\n",
       "      <td>€60,000 - €65,000 per annum</td>\n",
       "      <td>Permanent, full-time</td>\n",
       "    </tr>\n",
       "  </tbody>\n",
       "</table>\n",
       "</div>"
      ],
      "text/plain": [
       "                   title      date                    employer location  \\\n",
       "183  Senior Data Analyst  18 April  Sphere Digital Recruitment   London   \n",
       "\n",
       "                          salary         working_hours  \n",
       "183  €60,000 - €65,000 per annum  Permanent, full-time  "
      ]
     },
     "execution_count": 61,
     "metadata": {},
     "output_type": "execute_result"
    }
   ],
   "source": [
    "# Extract rows containing sign € from the salary column\n",
    "euro = df_data_analyst.loc[df_data_analyst.salary.str.contains('€')]\n",
    "euro"
   ]
  },
  {
   "cell_type": "code",
   "execution_count": 58,
   "id": "103dd09c",
   "metadata": {},
   "outputs": [
    {
     "data": {
      "text/plain": [
       "183    €60,000 - €65,000 per annum\n",
       "Name: salary, dtype: object"
      ]
     },
     "execution_count": 58,
     "metadata": {},
     "output_type": "execute_result"
    }
   ],
   "source": [
    "euro.salary"
   ]
  },
  {
   "cell_type": "raw",
   "id": "d09f60e4",
   "metadata": {},
   "source": [
    "euro.salary.partition('per')#[0].strip()\n"
   ]
  },
  {
   "cell_type": "code",
   "execution_count": 5,
   "id": "df27c289",
   "metadata": {},
   "outputs": [
    {
     "data": {
      "text/plain": [
       "183    [€60,000, -, €65,000, per, annum]\n",
       "Name: salary, dtype: object"
      ]
     },
     "execution_count": 5,
     "metadata": {},
     "output_type": "execute_result"
    }
   ],
   "source": [
    "split = euro.salary.str.split()\n",
    "split"
   ]
  },
  {
   "cell_type": "code",
   "execution_count": 6,
   "id": "c4bd45cb",
   "metadata": {},
   "outputs": [
    {
     "data": {
      "text/plain": [
       "array([list(['€60,000', '-', '€65,000', 'per', 'annum'])], dtype=object)"
      ]
     },
     "execution_count": 6,
     "metadata": {},
     "output_type": "execute_result"
    }
   ],
   "source": [
    "split.values"
   ]
  },
  {
   "cell_type": "code",
   "execution_count": 7,
   "id": "f99eb92a",
   "metadata": {},
   "outputs": [
    {
     "data": {
      "text/plain": [
       "['€60,000', '-', '€65,000']"
      ]
     },
     "execution_count": 7,
     "metadata": {},
     "output_type": "execute_result"
    }
   ],
   "source": [
    "split.values[0][0:3]"
   ]
  },
  {
   "cell_type": "code",
   "execution_count": 13,
   "id": "febbdb62",
   "metadata": {},
   "outputs": [
    {
     "data": {
      "text/plain": [
       "salary\n",
       " Training Course               78\n",
       "Competitive salary             27\n",
       "Salary negotiable              11\n",
       "£35,000 - £40,000 per annum     9\n",
       "£35,000 - £45,000 per annum     8\n",
       "£45,000 - £55,000 per annum     6\n",
       "£50,000 - £60,000 per annum     5\n",
       "£65,000 - £75,000 per annum     5\n",
       "£30,000 - £35,000 per annum     5\n",
       "£22,000 - £25,000 per annum     5\n",
       "Name: count, dtype: int64"
      ]
     },
     "execution_count": 13,
     "metadata": {},
     "output_type": "execute_result"
    }
   ],
   "source": [
    "value_counts = df_data_analyst.salary.value_counts()\n",
    "value_counts.head(10)\n"
   ]
  },
  {
   "cell_type": "code",
   "execution_count": 63,
   "id": "70b135e2",
   "metadata": {},
   "outputs": [
    {
     "data": {
      "text/plain": [
       "Index([' Training Course', 'Competitive salary', 'Salary negotiable',\n",
       "       '£35,000 - £40,000 per annum', '£35,000 - £45,000 per annum',\n",
       "       '£45,000 - £55,000 per annum', '£50,000 - £60,000 per annum',\n",
       "       '£65,000 - £75,000 per annum', '£30,000 - £35,000 per annum',\n",
       "       '£22,000 - £25,000 per annum',\n",
       "       ...\n",
       "       '£28,000 - £33,000 per annum',\n",
       "       '£40,000 - £60,000 per annum, inc benefits, negotiable',\n",
       "       '£41,000 per annum', '£180 - £200 per day',\n",
       "       '£30,000 - £55,000 per annum', '£20,500 - £25,625 per annum',\n",
       "       '£450 - £500 per day', '€60,000 - €65,000 per annum',\n",
       "       '£25,000 - £27,000 per annum', '£600 per day'],\n",
       "      dtype='object', name='salary', length=111)"
      ]
     },
     "execution_count": 63,
     "metadata": {},
     "output_type": "execute_result"
    }
   ],
   "source": [
    "value_counts.index"
   ]
  },
  {
   "cell_type": "markdown",
   "id": "300d483d",
   "metadata": {},
   "source": [
    "### None figure salaries \n",
    "- ['Competitive salary', ' Training Course','Salary negotiable']"
   ]
  },
  {
   "cell_type": "code",
   "execution_count": 64,
   "id": "c00944d4",
   "metadata": {},
   "outputs": [
    {
     "data": {
      "text/plain": [
       "salary\n",
       "Competitive salary    27\n",
       " Training Course      78\n",
       "Salary negotiable     11\n",
       "Name: count, dtype: int64"
      ]
     },
     "execution_count": 64,
     "metadata": {},
     "output_type": "execute_result"
    }
   ],
   "source": [
    "no_salary = value_counts.loc[['Competitive salary', ' Training Course','Salary negotiable']]\n",
    "no_salary"
   ]
  },
  {
   "cell_type": "markdown",
   "id": "c2c3365f",
   "metadata": {},
   "source": [
    "## Per hour to per annum"
   ]
  },
  {
   "cell_type": "code",
   "execution_count": 10,
   "id": "57654fde",
   "metadata": {},
   "outputs": [
    {
     "data": {
      "text/plain": [
       "117             £18.71 per hour\n",
       "156          £15 - £17 per hour\n",
       "276          £23 - £26 per hour\n",
       "279             £18.01 per hour\n",
       "284    £18.01 - £22.67 per hour\n",
       "339          £23 - £26 per hour\n",
       "Name: salary, dtype: object"
      ]
     },
     "execution_count": 10,
     "metadata": {},
     "output_type": "execute_result"
    }
   ],
   "source": [
    "per_hour = df_data_analyst.loc[df_data_analyst.salary.str.contains('per hour'),'salary']\n",
    "per_hour\n"
   ]
  },
  {
   "cell_type": "code",
   "execution_count": 66,
   "id": "ba141f6c",
   "metadata": {},
   "outputs": [
    {
     "data": {
      "text/plain": [
       "Index([117, 156, 276, 279, 284, 339], dtype='int64')"
      ]
     },
     "execution_count": 66,
     "metadata": {},
     "output_type": "execute_result"
    }
   ],
   "source": [
    "per_hour.index"
   ]
  },
  {
   "cell_type": "code",
   "execution_count": 4,
   "id": "95793884",
   "metadata": {},
   "outputs": [
    {
     "data": {
      "text/plain": [
       "array(['£18.71 per hour', '£15 - £17 per hour', '£23 - £26 per hour',\n",
       "       '£18.01 per hour', '£18.01 - £22.67 per hour',\n",
       "       '£23 - £26 per hour'], dtype=object)"
      ]
     },
     "execution_count": 4,
     "metadata": {},
     "output_type": "execute_result"
    }
   ],
   "source": [
    "per_hour.values"
   ]
  },
  {
   "cell_type": "markdown",
   "id": "962428eb",
   "metadata": {},
   "source": [
    "### Per hour series to dataframe"
   ]
  },
  {
   "cell_type": "code",
   "execution_count": 11,
   "id": "db6985b8",
   "metadata": {
    "scrolled": true
   },
   "outputs": [
    {
     "data": {
      "text/html": [
       "<div>\n",
       "<style scoped>\n",
       "    .dataframe tbody tr th:only-of-type {\n",
       "        vertical-align: middle;\n",
       "    }\n",
       "\n",
       "    .dataframe tbody tr th {\n",
       "        vertical-align: top;\n",
       "    }\n",
       "\n",
       "    .dataframe thead th {\n",
       "        text-align: right;\n",
       "    }\n",
       "</style>\n",
       "<table border=\"1\" class=\"dataframe\">\n",
       "  <thead>\n",
       "    <tr style=\"text-align: right;\">\n",
       "      <th></th>\n",
       "      <th>index_per_hr</th>\n",
       "      <th>per_hr_original</th>\n",
       "    </tr>\n",
       "  </thead>\n",
       "  <tbody>\n",
       "    <tr>\n",
       "      <th>0</th>\n",
       "      <td>117</td>\n",
       "      <td>£18.71 per hour</td>\n",
       "    </tr>\n",
       "    <tr>\n",
       "      <th>1</th>\n",
       "      <td>156</td>\n",
       "      <td>£15 - £17 per hour</td>\n",
       "    </tr>\n",
       "    <tr>\n",
       "      <th>2</th>\n",
       "      <td>276</td>\n",
       "      <td>£23 - £26 per hour</td>\n",
       "    </tr>\n",
       "    <tr>\n",
       "      <th>3</th>\n",
       "      <td>279</td>\n",
       "      <td>£18.01 per hour</td>\n",
       "    </tr>\n",
       "    <tr>\n",
       "      <th>4</th>\n",
       "      <td>284</td>\n",
       "      <td>£18.01 - £22.67 per hour</td>\n",
       "    </tr>\n",
       "  </tbody>\n",
       "</table>\n",
       "</div>"
      ],
      "text/plain": [
       "   index_per_hr           per_hr_original\n",
       "0           117           £18.71 per hour\n",
       "1           156        £15 - £17 per hour\n",
       "2           276        £23 - £26 per hour\n",
       "3           279           £18.01 per hour\n",
       "4           284  £18.01 - £22.67 per hour"
      ]
     },
     "execution_count": 11,
     "metadata": {},
     "output_type": "execute_result"
    }
   ],
   "source": [
    "#create a dict and pass the series the data param to the dataframe constructor\n",
    "df_per_hour = pd.DataFrame({'index_per_hr':per_hour.index, 'per_hr_original':per_hour.values})\n",
    "df_per_hour.head()\n"
   ]
  },
  {
   "cell_type": "code",
   "execution_count": 12,
   "id": "d85d288b",
   "metadata": {},
   "outputs": [],
   "source": [
    "# Create 'per_hour' using the copy of 'per_hr_original'\n",
    "df_per_hour['per_hour'] = df_per_hour['per_hr_original']\n"
   ]
  },
  {
   "cell_type": "code",
   "execution_count": 13,
   "id": "219e5af3",
   "metadata": {},
   "outputs": [
    {
     "data": {
      "text/plain": [
       "Index(['index_per_hr', 'per_hr_original', 'per_hour'], dtype='object')"
      ]
     },
     "execution_count": 13,
     "metadata": {},
     "output_type": "execute_result"
    }
   ],
   "source": [
    "df_per_hour.columns"
   ]
  },
  {
   "cell_type": "code",
   "execution_count": 15,
   "id": "34175ecd",
   "metadata": {},
   "outputs": [
    {
     "data": {
      "text/html": [
       "<div>\n",
       "<style scoped>\n",
       "    .dataframe tbody tr th:only-of-type {\n",
       "        vertical-align: middle;\n",
       "    }\n",
       "\n",
       "    .dataframe tbody tr th {\n",
       "        vertical-align: top;\n",
       "    }\n",
       "\n",
       "    .dataframe thead th {\n",
       "        text-align: right;\n",
       "    }\n",
       "</style>\n",
       "<table border=\"1\" class=\"dataframe\">\n",
       "  <thead>\n",
       "    <tr style=\"text-align: right;\">\n",
       "      <th></th>\n",
       "      <th>index_per_hr</th>\n",
       "      <th>per_hr_original</th>\n",
       "      <th>per_hour</th>\n",
       "    </tr>\n",
       "  </thead>\n",
       "  <tbody>\n",
       "    <tr>\n",
       "      <th>0</th>\n",
       "      <td>117</td>\n",
       "      <td>£18.71 per hour</td>\n",
       "      <td>£18.71 per hour</td>\n",
       "    </tr>\n",
       "    <tr>\n",
       "      <th>1</th>\n",
       "      <td>156</td>\n",
       "      <td>£15 - £17 per hour</td>\n",
       "      <td>£15 - £17 per hour</td>\n",
       "    </tr>\n",
       "    <tr>\n",
       "      <th>2</th>\n",
       "      <td>276</td>\n",
       "      <td>£23 - £26 per hour</td>\n",
       "      <td>£23 - £26 per hour</td>\n",
       "    </tr>\n",
       "    <tr>\n",
       "      <th>3</th>\n",
       "      <td>279</td>\n",
       "      <td>£18.01 per hour</td>\n",
       "      <td>£18.01 per hour</td>\n",
       "    </tr>\n",
       "    <tr>\n",
       "      <th>4</th>\n",
       "      <td>284</td>\n",
       "      <td>£18.01 - £22.67 per hour</td>\n",
       "      <td>£18.01 - £22.67 per hour</td>\n",
       "    </tr>\n",
       "    <tr>\n",
       "      <th>5</th>\n",
       "      <td>339</td>\n",
       "      <td>£23 - £26 per hour</td>\n",
       "      <td>£23 - £26 per hour</td>\n",
       "    </tr>\n",
       "  </tbody>\n",
       "</table>\n",
       "</div>"
      ],
      "text/plain": [
       "   index_per_hr           per_hr_original                  per_hour\n",
       "0           117           £18.71 per hour           £18.71 per hour\n",
       "1           156        £15 - £17 per hour        £15 - £17 per hour\n",
       "2           276        £23 - £26 per hour        £23 - £26 per hour\n",
       "3           279           £18.01 per hour           £18.01 per hour\n",
       "4           284  £18.01 - £22.67 per hour  £18.01 - £22.67 per hour\n",
       "5           339        £23 - £26 per hour        £23 - £26 per hour"
      ]
     },
     "execution_count": 15,
     "metadata": {},
     "output_type": "execute_result"
    }
   ],
   "source": [
    "df_per_hour"
   ]
  },
  {
   "cell_type": "code",
   "execution_count": 16,
   "id": "fbc0fff4",
   "metadata": {
    "scrolled": true
   },
   "outputs": [
    {
     "data": {
      "text/html": [
       "<div>\n",
       "<style scoped>\n",
       "    .dataframe tbody tr th:only-of-type {\n",
       "        vertical-align: middle;\n",
       "    }\n",
       "\n",
       "    .dataframe tbody tr th {\n",
       "        vertical-align: top;\n",
       "    }\n",
       "\n",
       "    .dataframe thead th {\n",
       "        text-align: right;\n",
       "    }\n",
       "</style>\n",
       "<table border=\"1\" class=\"dataframe\">\n",
       "  <thead>\n",
       "    <tr style=\"text-align: right;\">\n",
       "      <th></th>\n",
       "      <th>index_per_hr</th>\n",
       "      <th>per_hr_original</th>\n",
       "      <th>per_hour</th>\n",
       "    </tr>\n",
       "  </thead>\n",
       "  <tbody>\n",
       "    <tr>\n",
       "      <th>0</th>\n",
       "      <td>117</td>\n",
       "      <td>£18.71 per hour</td>\n",
       "      <td>18.71 per hour</td>\n",
       "    </tr>\n",
       "    <tr>\n",
       "      <th>1</th>\n",
       "      <td>156</td>\n",
       "      <td>£15 - £17 per hour</td>\n",
       "      <td>15 - 17 per hour</td>\n",
       "    </tr>\n",
       "    <tr>\n",
       "      <th>2</th>\n",
       "      <td>276</td>\n",
       "      <td>£23 - £26 per hour</td>\n",
       "      <td>23 - 26 per hour</td>\n",
       "    </tr>\n",
       "    <tr>\n",
       "      <th>3</th>\n",
       "      <td>279</td>\n",
       "      <td>£18.01 per hour</td>\n",
       "      <td>18.01 per hour</td>\n",
       "    </tr>\n",
       "    <tr>\n",
       "      <th>4</th>\n",
       "      <td>284</td>\n",
       "      <td>£18.01 - £22.67 per hour</td>\n",
       "      <td>18.01 - 22.67 per hour</td>\n",
       "    </tr>\n",
       "  </tbody>\n",
       "</table>\n",
       "</div>"
      ],
      "text/plain": [
       "   index_per_hr           per_hr_original                per_hour\n",
       "0           117           £18.71 per hour          18.71 per hour\n",
       "1           156        £15 - £17 per hour        15 - 17 per hour\n",
       "2           276        £23 - £26 per hour        23 - 26 per hour\n",
       "3           279           £18.01 per hour          18.01 per hour\n",
       "4           284  £18.01 - £22.67 per hour  18.01 - 22.67 per hour"
      ]
     },
     "execution_count": 16,
     "metadata": {},
     "output_type": "execute_result"
    }
   ],
   "source": [
    "# Replace the £ sign with empty space\n",
    "df_per_hour.per_hour.replace('£', '', regex=True, inplace=True)\n",
    "df_per_hour.head()\n"
   ]
  },
  {
   "cell_type": "code",
   "execution_count": 70,
   "id": "8b192d8c",
   "metadata": {},
   "outputs": [
    {
     "data": {
      "text/plain": [
       "'18.71 per hour'"
      ]
     },
     "execution_count": 70,
     "metadata": {},
     "output_type": "execute_result"
    }
   ],
   "source": [
    "df_per_hour.iloc[0, 1]\n"
   ]
  },
  {
   "cell_type": "code",
   "execution_count": 71,
   "id": "35f9a714",
   "metadata": {},
   "outputs": [
    {
     "data": {
      "text/plain": [
       "'15 - 17 per hour'"
      ]
     },
     "execution_count": 71,
     "metadata": {},
     "output_type": "execute_result"
    }
   ],
   "source": [
    "df_per_hour.iloc[1, 1]"
   ]
  },
  {
   "cell_type": "code",
   "execution_count": 72,
   "id": "93955054",
   "metadata": {},
   "outputs": [
    {
     "data": {
      "text/plain": [
       "['15', '-', '17', 'per', 'hour']"
      ]
     },
     "execution_count": 72,
     "metadata": {},
     "output_type": "execute_result"
    }
   ],
   "source": [
    "df_per_hour.iloc[1, 1].split()"
   ]
  },
  {
   "cell_type": "code",
   "execution_count": 73,
   "id": "833f5b48",
   "metadata": {},
   "outputs": [
    {
     "data": {
      "text/plain": [
       "5"
      ]
     },
     "execution_count": 73,
     "metadata": {},
     "output_type": "execute_result"
    }
   ],
   "source": [
    "len(df_per_hour.iloc[1, 1].split())"
   ]
  },
  {
   "cell_type": "code",
   "execution_count": 17,
   "id": "92f7f717",
   "metadata": {},
   "outputs": [
    {
     "data": {
      "text/plain": [
       "['18.71', 'per', 'hour']"
      ]
     },
     "execution_count": 17,
     "metadata": {},
     "output_type": "execute_result"
    }
   ],
   "source": [
    "df_per_hour.per_hour[0].split()"
   ]
  },
  {
   "cell_type": "code",
   "execution_count": 18,
   "id": "7abe29e9",
   "metadata": {},
   "outputs": [
    {
     "data": {
      "text/plain": [
       "14"
      ]
     },
     "execution_count": 18,
     "metadata": {},
     "output_type": "execute_result"
    }
   ],
   "source": [
    "len(df_per_hour.per_hour[0])"
   ]
  },
  {
   "cell_type": "code",
   "execution_count": 19,
   "id": "9587d737",
   "metadata": {},
   "outputs": [
    {
     "data": {
      "text/plain": [
       "3"
      ]
     },
     "execution_count": 19,
     "metadata": {},
     "output_type": "execute_result"
    }
   ],
   "source": [
    "len(df_per_hour.per_hour[0].split())"
   ]
  },
  {
   "cell_type": "code",
   "execution_count": 20,
   "id": "ce48830b",
   "metadata": {},
   "outputs": [
    {
     "data": {
      "text/html": [
       "<div>\n",
       "<style scoped>\n",
       "    .dataframe tbody tr th:only-of-type {\n",
       "        vertical-align: middle;\n",
       "    }\n",
       "\n",
       "    .dataframe tbody tr th {\n",
       "        vertical-align: top;\n",
       "    }\n",
       "\n",
       "    .dataframe thead th {\n",
       "        text-align: right;\n",
       "    }\n",
       "</style>\n",
       "<table border=\"1\" class=\"dataframe\">\n",
       "  <thead>\n",
       "    <tr style=\"text-align: right;\">\n",
       "      <th></th>\n",
       "      <th>index_per_hr</th>\n",
       "      <th>per_hr_original</th>\n",
       "      <th>per_hour</th>\n",
       "    </tr>\n",
       "  </thead>\n",
       "  <tbody>\n",
       "    <tr>\n",
       "      <th>0</th>\n",
       "      <td>117</td>\n",
       "      <td>£18.71 per hour</td>\n",
       "      <td>18.71</td>\n",
       "    </tr>\n",
       "    <tr>\n",
       "      <th>1</th>\n",
       "      <td>156</td>\n",
       "      <td>£15 - £17 per hour</td>\n",
       "      <td>15 - 17</td>\n",
       "    </tr>\n",
       "    <tr>\n",
       "      <th>2</th>\n",
       "      <td>276</td>\n",
       "      <td>£23 - £26 per hour</td>\n",
       "      <td>23 - 26</td>\n",
       "    </tr>\n",
       "    <tr>\n",
       "      <th>3</th>\n",
       "      <td>279</td>\n",
       "      <td>£18.01 per hour</td>\n",
       "      <td>18.01</td>\n",
       "    </tr>\n",
       "    <tr>\n",
       "      <th>4</th>\n",
       "      <td>284</td>\n",
       "      <td>£18.01 - £22.67 per hour</td>\n",
       "      <td>18.01 - 22.67</td>\n",
       "    </tr>\n",
       "    <tr>\n",
       "      <th>5</th>\n",
       "      <td>339</td>\n",
       "      <td>£23 - £26 per hour</td>\n",
       "      <td>23 - 26</td>\n",
       "    </tr>\n",
       "  </tbody>\n",
       "</table>\n",
       "</div>"
      ],
      "text/plain": [
       "   index_per_hr           per_hr_original        per_hour\n",
       "0           117           £18.71 per hour          18.71 \n",
       "1           156        £15 - £17 per hour        15 - 17 \n",
       "2           276        £23 - £26 per hour        23 - 26 \n",
       "3           279           £18.01 per hour          18.01 \n",
       "4           284  £18.01 - £22.67 per hour  18.01 - 22.67 \n",
       "5           339        £23 - £26 per hour        23 - 26 "
      ]
     },
     "execution_count": 20,
     "metadata": {},
     "output_type": "execute_result"
    }
   ],
   "source": [
    "# remove 'per hour'\n",
    "df_per_hour.per_hour.replace('per hour', '', regex=True, inplace=True)\n",
    "df_per_hour\n"
   ]
  },
  {
   "cell_type": "code",
   "execution_count": 21,
   "id": "cd7d2f25",
   "metadata": {},
   "outputs": [
    {
     "data": {
      "text/plain": [
       "6"
      ]
     },
     "execution_count": 21,
     "metadata": {},
     "output_type": "execute_result"
    }
   ],
   "source": [
    "len(df_per_hour.per_hour[0])"
   ]
  },
  {
   "cell_type": "code",
   "execution_count": 22,
   "id": "ecee94f4",
   "metadata": {},
   "outputs": [
    {
     "data": {
      "text/plain": [
       "1"
      ]
     },
     "execution_count": 22,
     "metadata": {},
     "output_type": "execute_result"
    }
   ],
   "source": [
    "len(df_per_hour.per_hour[0].split())"
   ]
  },
  {
   "cell_type": "code",
   "execution_count": 23,
   "id": "441a0d49",
   "metadata": {},
   "outputs": [
    {
     "data": {
      "text/plain": [
       "['15', '-', '17']"
      ]
     },
     "execution_count": 23,
     "metadata": {},
     "output_type": "execute_result"
    }
   ],
   "source": [
    "df_per_hour.per_hour[1].split()"
   ]
  },
  {
   "cell_type": "code",
   "execution_count": 24,
   "id": "d8ccf1da",
   "metadata": {},
   "outputs": [
    {
     "data": {
      "text/plain": [
       "3"
      ]
     },
     "execution_count": 24,
     "metadata": {},
     "output_type": "execute_result"
    }
   ],
   "source": [
    "len(df_per_hour.per_hour[1].split())"
   ]
  },
  {
   "cell_type": "code",
   "execution_count": 25,
   "id": "6f2269c0",
   "metadata": {},
   "outputs": [
    {
     "data": {
      "text/plain": [
       "dtype('O')"
      ]
     },
     "execution_count": 25,
     "metadata": {},
     "output_type": "execute_result"
    }
   ],
   "source": [
    "df_per_hour.per_hour.dtype"
   ]
  },
  {
   "cell_type": "code",
   "execution_count": 26,
   "id": "68125495",
   "metadata": {},
   "outputs": [
    {
     "name": "stdout",
     "output_type": "stream",
     "text": [
      "['18.71', '15', '23', '18.01', '18.01', '23']\n",
      "[0, '17', '26', 0, '22.67', '26']\n"
     ]
    }
   ],
   "source": [
    "min_sal  =[]\n",
    "max_sal = []\n",
    "for i in df_per_hour.per_hour:\n",
    "    \n",
    "    #for minimum \n",
    "    n = i.split()[0]      \n",
    "    min_sal.append(n)\n",
    "    \n",
    "    # for maximum \n",
    "    if len(i.split())==1:\n",
    "        x = 0\n",
    "    else: \n",
    "        x = i.split()[2]  \n",
    "    \n",
    "    max_sal.append(x)\n",
    "\n",
    "print(min_sal)\n",
    "print(max_sal)\n"
   ]
  },
  {
   "cell_type": "code",
   "execution_count": 27,
   "id": "13df1eb9",
   "metadata": {},
   "outputs": [
    {
     "data": {
      "text/html": [
       "<div>\n",
       "<style scoped>\n",
       "    .dataframe tbody tr th:only-of-type {\n",
       "        vertical-align: middle;\n",
       "    }\n",
       "\n",
       "    .dataframe tbody tr th {\n",
       "        vertical-align: top;\n",
       "    }\n",
       "\n",
       "    .dataframe thead th {\n",
       "        text-align: right;\n",
       "    }\n",
       "</style>\n",
       "<table border=\"1\" class=\"dataframe\">\n",
       "  <thead>\n",
       "    <tr style=\"text-align: right;\">\n",
       "      <th></th>\n",
       "      <th>index_per_hr</th>\n",
       "      <th>per_hr_original</th>\n",
       "      <th>per_hour</th>\n",
       "      <th>min_salary_hr</th>\n",
       "      <th>max_salary_hr</th>\n",
       "    </tr>\n",
       "  </thead>\n",
       "  <tbody>\n",
       "    <tr>\n",
       "      <th>0</th>\n",
       "      <td>117</td>\n",
       "      <td>£18.71 per hour</td>\n",
       "      <td>18.71</td>\n",
       "      <td>18.71</td>\n",
       "      <td>0</td>\n",
       "    </tr>\n",
       "    <tr>\n",
       "      <th>1</th>\n",
       "      <td>156</td>\n",
       "      <td>£15 - £17 per hour</td>\n",
       "      <td>15 - 17</td>\n",
       "      <td>15</td>\n",
       "      <td>17</td>\n",
       "    </tr>\n",
       "    <tr>\n",
       "      <th>2</th>\n",
       "      <td>276</td>\n",
       "      <td>£23 - £26 per hour</td>\n",
       "      <td>23 - 26</td>\n",
       "      <td>23</td>\n",
       "      <td>26</td>\n",
       "    </tr>\n",
       "    <tr>\n",
       "      <th>3</th>\n",
       "      <td>279</td>\n",
       "      <td>£18.01 per hour</td>\n",
       "      <td>18.01</td>\n",
       "      <td>18.01</td>\n",
       "      <td>0</td>\n",
       "    </tr>\n",
       "    <tr>\n",
       "      <th>4</th>\n",
       "      <td>284</td>\n",
       "      <td>£18.01 - £22.67 per hour</td>\n",
       "      <td>18.01 - 22.67</td>\n",
       "      <td>18.01</td>\n",
       "      <td>22.67</td>\n",
       "    </tr>\n",
       "    <tr>\n",
       "      <th>5</th>\n",
       "      <td>339</td>\n",
       "      <td>£23 - £26 per hour</td>\n",
       "      <td>23 - 26</td>\n",
       "      <td>23</td>\n",
       "      <td>26</td>\n",
       "    </tr>\n",
       "  </tbody>\n",
       "</table>\n",
       "</div>"
      ],
      "text/plain": [
       "   index_per_hr           per_hr_original        per_hour min_salary_hr  \\\n",
       "0           117           £18.71 per hour          18.71          18.71   \n",
       "1           156        £15 - £17 per hour        15 - 17             15   \n",
       "2           276        £23 - £26 per hour        23 - 26             23   \n",
       "3           279           £18.01 per hour          18.01          18.01   \n",
       "4           284  £18.01 - £22.67 per hour  18.01 - 22.67          18.01   \n",
       "5           339        £23 - £26 per hour        23 - 26             23   \n",
       "\n",
       "  max_salary_hr  \n",
       "0             0  \n",
       "1            17  \n",
       "2            26  \n",
       "3             0  \n",
       "4         22.67  \n",
       "5            26  "
      ]
     },
     "execution_count": 27,
     "metadata": {},
     "output_type": "execute_result"
    }
   ],
   "source": [
    "df_per_hour['min_salary_hr'] = min_sal\n",
    "df_per_hour['max_salary_hr'] = max_sal\n",
    "\n",
    "df_per_hour\n"
   ]
  },
  {
   "cell_type": "code",
   "execution_count": 28,
   "id": "4d9f80ba",
   "metadata": {},
   "outputs": [
    {
     "name": "stdout",
     "output_type": "stream",
     "text": [
      "<class 'pandas.core.frame.DataFrame'>\n",
      "RangeIndex: 6 entries, 0 to 5\n",
      "Data columns (total 5 columns):\n",
      " #   Column           Non-Null Count  Dtype \n",
      "---  ------           --------------  ----- \n",
      " 0   index_per_hr     6 non-null      int64 \n",
      " 1   per_hr_original  6 non-null      object\n",
      " 2   per_hour         6 non-null      object\n",
      " 3   min_salary_hr    6 non-null      object\n",
      " 4   max_salary_hr    6 non-null      object\n",
      "dtypes: int64(1), object(4)\n",
      "memory usage: 368.0+ bytes\n"
     ]
    }
   ],
   "source": [
    "# min_salary_hr and max_salary_hr  are objects / string\n",
    "df_per_hour.info()\n"
   ]
  },
  {
   "cell_type": "markdown",
   "id": "8ccb844b",
   "metadata": {},
   "source": [
    "### Changing min_salary_hr and max_salary_hr columns to numeric "
   ]
  },
  {
   "cell_type": "code",
   "execution_count": 29,
   "id": "524f0373",
   "metadata": {},
   "outputs": [],
   "source": [
    "# chchange min and max \n",
    "df_per_hour['min_salary_hr']= pd.to_numeric(df_per_hour['min_salary_hr'])\n",
    "df_per_hour['max_salary_hr']= pd.to_numeric(df_per_hour['max_salary_hr'])\n"
   ]
  },
  {
   "cell_type": "code",
   "execution_count": 30,
   "id": "63167c2c",
   "metadata": {},
   "outputs": [
    {
     "name": "stdout",
     "output_type": "stream",
     "text": [
      "<class 'pandas.core.frame.DataFrame'>\n",
      "RangeIndex: 6 entries, 0 to 5\n",
      "Data columns (total 5 columns):\n",
      " #   Column           Non-Null Count  Dtype  \n",
      "---  ------           --------------  -----  \n",
      " 0   index_per_hr     6 non-null      int64  \n",
      " 1   per_hr_original  6 non-null      object \n",
      " 2   per_hour         6 non-null      object \n",
      " 3   min_salary_hr    6 non-null      float64\n",
      " 4   max_salary_hr    6 non-null      float64\n",
      "dtypes: float64(2), int64(1), object(2)\n",
      "memory usage: 368.0+ bytes\n"
     ]
    }
   ],
   "source": [
    "df_per_hour.info()"
   ]
  },
  {
   "cell_type": "markdown",
   "id": "05a91b0c",
   "metadata": {},
   "source": [
    "### Change min_salary_hr and max_salary_hr to annual salary by multiplying (* 12 * 52)"
   ]
  },
  {
   "cell_type": "code",
   "execution_count": 31,
   "id": "8ef9c150",
   "metadata": {},
   "outputs": [],
   "source": [
    "df_per_hour['min_salary_hr']= (df_per_hour['min_salary_hr']* 12 * 52).astype(int)\n",
    "df_per_hour['max_salary_hr'] =(df_per_hour['max_salary_hr']* 12 * 52).astype(int)\n"
   ]
  },
  {
   "cell_type": "code",
   "execution_count": 32,
   "id": "84919aaf",
   "metadata": {},
   "outputs": [
    {
     "data": {
      "text/html": [
       "<div>\n",
       "<style scoped>\n",
       "    .dataframe tbody tr th:only-of-type {\n",
       "        vertical-align: middle;\n",
       "    }\n",
       "\n",
       "    .dataframe tbody tr th {\n",
       "        vertical-align: top;\n",
       "    }\n",
       "\n",
       "    .dataframe thead th {\n",
       "        text-align: right;\n",
       "    }\n",
       "</style>\n",
       "<table border=\"1\" class=\"dataframe\">\n",
       "  <thead>\n",
       "    <tr style=\"text-align: right;\">\n",
       "      <th></th>\n",
       "      <th>index_per_hr</th>\n",
       "      <th>per_hr_original</th>\n",
       "      <th>per_hour</th>\n",
       "      <th>min_salary_hr</th>\n",
       "      <th>max_salary_hr</th>\n",
       "    </tr>\n",
       "  </thead>\n",
       "  <tbody>\n",
       "    <tr>\n",
       "      <th>0</th>\n",
       "      <td>117</td>\n",
       "      <td>£18.71 per hour</td>\n",
       "      <td>18.71</td>\n",
       "      <td>11675</td>\n",
       "      <td>0</td>\n",
       "    </tr>\n",
       "    <tr>\n",
       "      <th>1</th>\n",
       "      <td>156</td>\n",
       "      <td>£15 - £17 per hour</td>\n",
       "      <td>15 - 17</td>\n",
       "      <td>9360</td>\n",
       "      <td>10608</td>\n",
       "    </tr>\n",
       "    <tr>\n",
       "      <th>2</th>\n",
       "      <td>276</td>\n",
       "      <td>£23 - £26 per hour</td>\n",
       "      <td>23 - 26</td>\n",
       "      <td>14352</td>\n",
       "      <td>16224</td>\n",
       "    </tr>\n",
       "    <tr>\n",
       "      <th>3</th>\n",
       "      <td>279</td>\n",
       "      <td>£18.01 per hour</td>\n",
       "      <td>18.01</td>\n",
       "      <td>11238</td>\n",
       "      <td>0</td>\n",
       "    </tr>\n",
       "    <tr>\n",
       "      <th>4</th>\n",
       "      <td>284</td>\n",
       "      <td>£18.01 - £22.67 per hour</td>\n",
       "      <td>18.01 - 22.67</td>\n",
       "      <td>11238</td>\n",
       "      <td>14146</td>\n",
       "    </tr>\n",
       "    <tr>\n",
       "      <th>5</th>\n",
       "      <td>339</td>\n",
       "      <td>£23 - £26 per hour</td>\n",
       "      <td>23 - 26</td>\n",
       "      <td>14352</td>\n",
       "      <td>16224</td>\n",
       "    </tr>\n",
       "  </tbody>\n",
       "</table>\n",
       "</div>"
      ],
      "text/plain": [
       "   index_per_hr           per_hr_original        per_hour  min_salary_hr  \\\n",
       "0           117           £18.71 per hour          18.71           11675   \n",
       "1           156        £15 - £17 per hour        15 - 17            9360   \n",
       "2           276        £23 - £26 per hour        23 - 26           14352   \n",
       "3           279           £18.01 per hour          18.01           11238   \n",
       "4           284  £18.01 - £22.67 per hour  18.01 - 22.67           11238   \n",
       "5           339        £23 - £26 per hour        23 - 26           14352   \n",
       "\n",
       "   max_salary_hr  \n",
       "0              0  \n",
       "1          10608  \n",
       "2          16224  \n",
       "3              0  \n",
       "4          14146  \n",
       "5          16224  "
      ]
     },
     "execution_count": 32,
     "metadata": {},
     "output_type": "execute_result"
    }
   ],
   "source": [
    "# Per hour changed per year\n",
    "df_per_hour\n"
   ]
  },
  {
   "cell_type": "markdown",
   "id": "fb6f557f",
   "metadata": {},
   "source": [
    "## Per day to per annum "
   ]
  },
  {
   "cell_type": "code",
   "execution_count": 2,
   "id": "330da286",
   "metadata": {},
   "outputs": [
    {
     "data": {
      "text/plain": [
       "111               £300 - £312.50 per day\n",
       "113                  £400 - £500 per day\n",
       "116                         £350 per day\n",
       "147                         £450 per day\n",
       "161    £400 - £450 per day, inc benefits\n",
       "172                  £500 - £550 per day\n",
       "184                  £450 - £500 per day\n",
       "188                  £180 - £200 per day\n",
       "208                  £550 - £650 per day\n",
       "225                  £200 - £250 per day\n",
       "233                  £350 - £400 per day\n",
       "234                  £300 - £400 per day\n",
       "235                  £200 - £250 per day\n",
       "255                  £600 - £650 per day\n",
       "258                  £450 - £451 per day\n",
       "272                  £400 - £500 per day\n",
       "288                  £450 - £550 per day\n",
       "289                         £350 per day\n",
       "303                  £400 - £500 per day\n",
       "343                  £700 - £850 per day\n",
       "345                  £550 - £650 per day\n",
       "350                         £600 per day\n",
       "Name: salary, dtype: object"
      ]
     },
     "execution_count": 2,
     "metadata": {},
     "output_type": "execute_result"
    }
   ],
   "source": [
    "per_day = df_data_analyst.loc[df_data_analyst.salary.str.contains('per day'),'salary']\n",
    "per_day\n"
   ]
  },
  {
   "cell_type": "markdown",
   "id": "9ea2c10f",
   "metadata": {},
   "source": [
    "### Per day series to dataframe"
   ]
  },
  {
   "cell_type": "code",
   "execution_count": 91,
   "id": "dda5a98c",
   "metadata": {},
   "outputs": [
    {
     "data": {
      "text/plain": [
       "Index([111, 113, 116, 147, 161, 172, 184, 188, 208, 225, 233, 234, 235, 255,\n",
       "       258, 272, 288, 289, 303, 343, 345, 350],\n",
       "      dtype='int64')"
      ]
     },
     "execution_count": 91,
     "metadata": {},
     "output_type": "execute_result"
    }
   ],
   "source": [
    "per_day.index"
   ]
  },
  {
   "cell_type": "code",
   "execution_count": 92,
   "id": "32631e33",
   "metadata": {},
   "outputs": [
    {
     "data": {
      "text/plain": [
       "array(['£300 - £312.50 per day', '£400 - £500 per day', '£350 per day',\n",
       "       '£450 per day', '£400 - £450 per day, inc benefits',\n",
       "       '£500 - £550 per day', '£450 - £500 per day',\n",
       "       '£180 - £200 per day', '£550 - £650 per day',\n",
       "       '£200 - £250 per day', '£350 - £400 per day',\n",
       "       '£300 - £400 per day', '£200 - £250 per day',\n",
       "       '£600 - £650 per day', '£450 - £451 per day',\n",
       "       '£400 - £500 per day', '£450 - £550 per day', '£350 per day',\n",
       "       '£400 - £500 per day', '£700 - £850 per day',\n",
       "       '£550 - £650 per day', '£600 per day'], dtype=object)"
      ]
     },
     "execution_count": 92,
     "metadata": {},
     "output_type": "execute_result"
    }
   ],
   "source": [
    "per_day.values "
   ]
  },
  {
   "cell_type": "code",
   "execution_count": 3,
   "id": "59a86226",
   "metadata": {},
   "outputs": [
    {
     "data": {
      "text/html": [
       "<div>\n",
       "<style scoped>\n",
       "    .dataframe tbody tr th:only-of-type {\n",
       "        vertical-align: middle;\n",
       "    }\n",
       "\n",
       "    .dataframe tbody tr th {\n",
       "        vertical-align: top;\n",
       "    }\n",
       "\n",
       "    .dataframe thead th {\n",
       "        text-align: right;\n",
       "    }\n",
       "</style>\n",
       "<table border=\"1\" class=\"dataframe\">\n",
       "  <thead>\n",
       "    <tr style=\"text-align: right;\">\n",
       "      <th></th>\n",
       "      <th>index_per_day</th>\n",
       "      <th>per_day_original</th>\n",
       "    </tr>\n",
       "  </thead>\n",
       "  <tbody>\n",
       "    <tr>\n",
       "      <th>0</th>\n",
       "      <td>111</td>\n",
       "      <td>£300 - £312.50 per day</td>\n",
       "    </tr>\n",
       "    <tr>\n",
       "      <th>1</th>\n",
       "      <td>113</td>\n",
       "      <td>£400 - £500 per day</td>\n",
       "    </tr>\n",
       "    <tr>\n",
       "      <th>2</th>\n",
       "      <td>116</td>\n",
       "      <td>£350 per day</td>\n",
       "    </tr>\n",
       "    <tr>\n",
       "      <th>3</th>\n",
       "      <td>147</td>\n",
       "      <td>£450 per day</td>\n",
       "    </tr>\n",
       "    <tr>\n",
       "      <th>4</th>\n",
       "      <td>161</td>\n",
       "      <td>£400 - £450 per day, inc benefits</td>\n",
       "    </tr>\n",
       "  </tbody>\n",
       "</table>\n",
       "</div>"
      ],
      "text/plain": [
       "   index_per_day                   per_day_original\n",
       "0            111             £300 - £312.50 per day\n",
       "1            113                £400 - £500 per day\n",
       "2            116                       £350 per day\n",
       "3            147                       £450 per day\n",
       "4            161  £400 - £450 per day, inc benefits"
      ]
     },
     "execution_count": 3,
     "metadata": {},
     "output_type": "execute_result"
    }
   ],
   "source": [
    "#create a dict and pass the series the data param to the dataframe constructor\n",
    "df_per_day = pd.DataFrame({'index_per_day':per_day.index, 'per_day_original':per_day.values})\n",
    "df_per_day.head()\n"
   ]
  },
  {
   "cell_type": "code",
   "execution_count": 4,
   "id": "444592f8",
   "metadata": {},
   "outputs": [],
   "source": [
    "# Create 'per_day' using the copy of 'per_day_original'\n",
    "df_per_day['per_day'] = df_per_day['per_day_original']\n"
   ]
  },
  {
   "cell_type": "code",
   "execution_count": 5,
   "id": "e7d96bb1",
   "metadata": {},
   "outputs": [
    {
     "data": {
      "text/html": [
       "<div>\n",
       "<style scoped>\n",
       "    .dataframe tbody tr th:only-of-type {\n",
       "        vertical-align: middle;\n",
       "    }\n",
       "\n",
       "    .dataframe tbody tr th {\n",
       "        vertical-align: top;\n",
       "    }\n",
       "\n",
       "    .dataframe thead th {\n",
       "        text-align: right;\n",
       "    }\n",
       "</style>\n",
       "<table border=\"1\" class=\"dataframe\">\n",
       "  <thead>\n",
       "    <tr style=\"text-align: right;\">\n",
       "      <th></th>\n",
       "      <th>index_per_day</th>\n",
       "      <th>per_day_original</th>\n",
       "      <th>per_day</th>\n",
       "    </tr>\n",
       "  </thead>\n",
       "  <tbody>\n",
       "    <tr>\n",
       "      <th>0</th>\n",
       "      <td>111</td>\n",
       "      <td>£300 - £312.50 per day</td>\n",
       "      <td>£300 - £312.50 per day</td>\n",
       "    </tr>\n",
       "    <tr>\n",
       "      <th>1</th>\n",
       "      <td>113</td>\n",
       "      <td>£400 - £500 per day</td>\n",
       "      <td>£400 - £500 per day</td>\n",
       "    </tr>\n",
       "    <tr>\n",
       "      <th>2</th>\n",
       "      <td>116</td>\n",
       "      <td>£350 per day</td>\n",
       "      <td>£350 per day</td>\n",
       "    </tr>\n",
       "    <tr>\n",
       "      <th>3</th>\n",
       "      <td>147</td>\n",
       "      <td>£450 per day</td>\n",
       "      <td>£450 per day</td>\n",
       "    </tr>\n",
       "    <tr>\n",
       "      <th>4</th>\n",
       "      <td>161</td>\n",
       "      <td>£400 - £450 per day, inc benefits</td>\n",
       "      <td>£400 - £450 per day, inc benefits</td>\n",
       "    </tr>\n",
       "  </tbody>\n",
       "</table>\n",
       "</div>"
      ],
      "text/plain": [
       "   index_per_day                   per_day_original  \\\n",
       "0            111             £300 - £312.50 per day   \n",
       "1            113                £400 - £500 per day   \n",
       "2            116                       £350 per day   \n",
       "3            147                       £450 per day   \n",
       "4            161  £400 - £450 per day, inc benefits   \n",
       "\n",
       "                             per_day  \n",
       "0             £300 - £312.50 per day  \n",
       "1                £400 - £500 per day  \n",
       "2                       £350 per day  \n",
       "3                       £450 per day  \n",
       "4  £400 - £450 per day, inc benefits  "
      ]
     },
     "execution_count": 5,
     "metadata": {},
     "output_type": "execute_result"
    }
   ],
   "source": [
    "df_per_day.head()"
   ]
  },
  {
   "cell_type": "code",
   "execution_count": 6,
   "id": "3ce189f9",
   "metadata": {},
   "outputs": [
    {
     "data": {
      "text/html": [
       "<div>\n",
       "<style scoped>\n",
       "    .dataframe tbody tr th:only-of-type {\n",
       "        vertical-align: middle;\n",
       "    }\n",
       "\n",
       "    .dataframe tbody tr th {\n",
       "        vertical-align: top;\n",
       "    }\n",
       "\n",
       "    .dataframe thead th {\n",
       "        text-align: right;\n",
       "    }\n",
       "</style>\n",
       "<table border=\"1\" class=\"dataframe\">\n",
       "  <thead>\n",
       "    <tr style=\"text-align: right;\">\n",
       "      <th></th>\n",
       "      <th>index_per_day</th>\n",
       "      <th>per_day_original</th>\n",
       "      <th>per_day</th>\n",
       "    </tr>\n",
       "  </thead>\n",
       "  <tbody>\n",
       "    <tr>\n",
       "      <th>0</th>\n",
       "      <td>111</td>\n",
       "      <td>£300 - £312.50 per day</td>\n",
       "      <td>300 - 312.50</td>\n",
       "    </tr>\n",
       "    <tr>\n",
       "      <th>1</th>\n",
       "      <td>113</td>\n",
       "      <td>£400 - £500 per day</td>\n",
       "      <td>400 - 500</td>\n",
       "    </tr>\n",
       "    <tr>\n",
       "      <th>2</th>\n",
       "      <td>116</td>\n",
       "      <td>£350 per day</td>\n",
       "      <td>350</td>\n",
       "    </tr>\n",
       "    <tr>\n",
       "      <th>3</th>\n",
       "      <td>147</td>\n",
       "      <td>£450 per day</td>\n",
       "      <td>450</td>\n",
       "    </tr>\n",
       "    <tr>\n",
       "      <th>4</th>\n",
       "      <td>161</td>\n",
       "      <td>£400 - £450 per day, inc benefits</td>\n",
       "      <td>400 - 450 , inc benefits</td>\n",
       "    </tr>\n",
       "    <tr>\n",
       "      <th>5</th>\n",
       "      <td>172</td>\n",
       "      <td>£500 - £550 per day</td>\n",
       "      <td>500 - 550</td>\n",
       "    </tr>\n",
       "    <tr>\n",
       "      <th>6</th>\n",
       "      <td>184</td>\n",
       "      <td>£450 - £500 per day</td>\n",
       "      <td>450 - 500</td>\n",
       "    </tr>\n",
       "    <tr>\n",
       "      <th>7</th>\n",
       "      <td>188</td>\n",
       "      <td>£180 - £200 per day</td>\n",
       "      <td>180 - 200</td>\n",
       "    </tr>\n",
       "    <tr>\n",
       "      <th>8</th>\n",
       "      <td>208</td>\n",
       "      <td>£550 - £650 per day</td>\n",
       "      <td>550 - 650</td>\n",
       "    </tr>\n",
       "    <tr>\n",
       "      <th>9</th>\n",
       "      <td>225</td>\n",
       "      <td>£200 - £250 per day</td>\n",
       "      <td>200 - 250</td>\n",
       "    </tr>\n",
       "    <tr>\n",
       "      <th>10</th>\n",
       "      <td>233</td>\n",
       "      <td>£350 - £400 per day</td>\n",
       "      <td>350 - 400</td>\n",
       "    </tr>\n",
       "    <tr>\n",
       "      <th>11</th>\n",
       "      <td>234</td>\n",
       "      <td>£300 - £400 per day</td>\n",
       "      <td>300 - 400</td>\n",
       "    </tr>\n",
       "    <tr>\n",
       "      <th>12</th>\n",
       "      <td>235</td>\n",
       "      <td>£200 - £250 per day</td>\n",
       "      <td>200 - 250</td>\n",
       "    </tr>\n",
       "    <tr>\n",
       "      <th>13</th>\n",
       "      <td>255</td>\n",
       "      <td>£600 - £650 per day</td>\n",
       "      <td>600 - 650</td>\n",
       "    </tr>\n",
       "    <tr>\n",
       "      <th>14</th>\n",
       "      <td>258</td>\n",
       "      <td>£450 - £451 per day</td>\n",
       "      <td>450 - 451</td>\n",
       "    </tr>\n",
       "    <tr>\n",
       "      <th>15</th>\n",
       "      <td>272</td>\n",
       "      <td>£400 - £500 per day</td>\n",
       "      <td>400 - 500</td>\n",
       "    </tr>\n",
       "    <tr>\n",
       "      <th>16</th>\n",
       "      <td>288</td>\n",
       "      <td>£450 - £550 per day</td>\n",
       "      <td>450 - 550</td>\n",
       "    </tr>\n",
       "    <tr>\n",
       "      <th>17</th>\n",
       "      <td>289</td>\n",
       "      <td>£350 per day</td>\n",
       "      <td>350</td>\n",
       "    </tr>\n",
       "    <tr>\n",
       "      <th>18</th>\n",
       "      <td>303</td>\n",
       "      <td>£400 - £500 per day</td>\n",
       "      <td>400 - 500</td>\n",
       "    </tr>\n",
       "    <tr>\n",
       "      <th>19</th>\n",
       "      <td>343</td>\n",
       "      <td>£700 - £850 per day</td>\n",
       "      <td>700 - 850</td>\n",
       "    </tr>\n",
       "    <tr>\n",
       "      <th>20</th>\n",
       "      <td>345</td>\n",
       "      <td>£550 - £650 per day</td>\n",
       "      <td>550 - 650</td>\n",
       "    </tr>\n",
       "    <tr>\n",
       "      <th>21</th>\n",
       "      <td>350</td>\n",
       "      <td>£600 per day</td>\n",
       "      <td>600</td>\n",
       "    </tr>\n",
       "  </tbody>\n",
       "</table>\n",
       "</div>"
      ],
      "text/plain": [
       "    index_per_day                   per_day_original                   per_day\n",
       "0             111             £300 - £312.50 per day             300 - 312.50 \n",
       "1             113                £400 - £500 per day                400 - 500 \n",
       "2             116                       £350 per day                      350 \n",
       "3             147                       £450 per day                      450 \n",
       "4             161  £400 - £450 per day, inc benefits  400 - 450 , inc benefits\n",
       "5             172                £500 - £550 per day                500 - 550 \n",
       "6             184                £450 - £500 per day                450 - 500 \n",
       "7             188                £180 - £200 per day                180 - 200 \n",
       "8             208                £550 - £650 per day                550 - 650 \n",
       "9             225                £200 - £250 per day                200 - 250 \n",
       "10            233                £350 - £400 per day                350 - 400 \n",
       "11            234                £300 - £400 per day                300 - 400 \n",
       "12            235                £200 - £250 per day                200 - 250 \n",
       "13            255                £600 - £650 per day                600 - 650 \n",
       "14            258                £450 - £451 per day                450 - 451 \n",
       "15            272                £400 - £500 per day                400 - 500 \n",
       "16            288                £450 - £550 per day                450 - 550 \n",
       "17            289                       £350 per day                      350 \n",
       "18            303                £400 - £500 per day                400 - 500 \n",
       "19            343                £700 - £850 per day                700 - 850 \n",
       "20            345                £550 - £650 per day                550 - 650 \n",
       "21            350                       £600 per day                      600 "
      ]
     },
     "execution_count": 6,
     "metadata": {},
     "output_type": "execute_result"
    }
   ],
   "source": [
    "df_per_day['per_day'].replace('£', '',  regex=True, inplace=True)\n",
    "df_per_day['per_day'].replace('per day', '', regex=True, inplace=True)\n",
    "\n",
    "df_per_day\n"
   ]
  },
  {
   "cell_type": "code",
   "execution_count": 40,
   "id": "825e1f72",
   "metadata": {},
   "outputs": [
    {
     "data": {
      "text/plain": [
       "'400 - 450 , inc benefits'"
      ]
     },
     "execution_count": 40,
     "metadata": {},
     "output_type": "execute_result"
    }
   ],
   "source": [
    "df_per_day['per_day'][4]"
   ]
  },
  {
   "cell_type": "code",
   "execution_count": 41,
   "id": "1b3ead04",
   "metadata": {},
   "outputs": [
    {
     "data": {
      "text/plain": [
       "6"
      ]
     },
     "execution_count": 41,
     "metadata": {},
     "output_type": "execute_result"
    }
   ],
   "source": [
    "len(df_per_day['per_day'][4].split())"
   ]
  },
  {
   "cell_type": "code",
   "execution_count": 42,
   "id": "d5934bc4",
   "metadata": {},
   "outputs": [
    {
     "data": {
      "text/plain": [
       "'300 - 312.50 '"
      ]
     },
     "execution_count": 42,
     "metadata": {},
     "output_type": "execute_result"
    }
   ],
   "source": [
    "df_per_day['per_day'][0]"
   ]
  },
  {
   "cell_type": "code",
   "execution_count": 43,
   "id": "80098176",
   "metadata": {},
   "outputs": [
    {
     "data": {
      "text/plain": [
       "3"
      ]
     },
     "execution_count": 43,
     "metadata": {},
     "output_type": "execute_result"
    }
   ],
   "source": [
    "len(df_per_day['per_day'][0].split())"
   ]
  },
  {
   "cell_type": "code",
   "execution_count": 99,
   "id": "4313587f",
   "metadata": {},
   "outputs": [
    {
     "data": {
      "text/plain": [
       "'400 - 500 '"
      ]
     },
     "execution_count": 99,
     "metadata": {},
     "output_type": "execute_result"
    }
   ],
   "source": [
    "df_per_day['per_day_original'][1]"
   ]
  },
  {
   "cell_type": "code",
   "execution_count": 7,
   "id": "cec223e4",
   "metadata": {},
   "outputs": [
    {
     "data": {
      "text/plain": [
       "3"
      ]
     },
     "execution_count": 7,
     "metadata": {},
     "output_type": "execute_result"
    }
   ],
   "source": [
    "len(df_per_day['per_day'][1].split())"
   ]
  },
  {
   "cell_type": "code",
   "execution_count": 8,
   "id": "870e412d",
   "metadata": {},
   "outputs": [
    {
     "data": {
      "text/plain": [
       "'350 '"
      ]
     },
     "execution_count": 8,
     "metadata": {},
     "output_type": "execute_result"
    }
   ],
   "source": [
    "df_per_day['per_day'][2]"
   ]
  },
  {
   "cell_type": "code",
   "execution_count": 9,
   "id": "ce946957",
   "metadata": {},
   "outputs": [
    {
     "data": {
      "text/plain": [
       "1"
      ]
     },
     "execution_count": 9,
     "metadata": {},
     "output_type": "execute_result"
    }
   ],
   "source": [
    "len(df_per_day['per_day'][2].split())"
   ]
  },
  {
   "cell_type": "code",
   "execution_count": 10,
   "id": "3e65dd50",
   "metadata": {},
   "outputs": [
    {
     "name": "stdout",
     "output_type": "stream",
     "text": [
      "['300', '400', '350', '450', '400', '500', '450', '180', '550', '200', '350', '300', '200', '600', '450', '400', '450', '350', '400', '700', '550', '600']\n",
      "['312.50', '500', 0, 0, '450', '550', '500', '200', '650', '250', '400', '400', '250', '650', '451', '500', '550', 0, '500', '850', '650', 0]\n"
     ]
    }
   ],
   "source": [
    "min_day  =[]\n",
    "max_day = []\n",
    "for i in df_per_day['per_day']:\n",
    "    \n",
    "    #for minimum \n",
    "    n = i.split()[0]      \n",
    "    min_day.append(n)\n",
    "    \n",
    "    # for maximum \n",
    "    if len(i.split())==1:\n",
    "        x = 0\n",
    "    else: \n",
    "        x = i.split()[2]  \n",
    "    \n",
    "    max_day.append(x)\n",
    "\n",
    "print(min_day)\n",
    "print(max_day)\n"
   ]
  },
  {
   "cell_type": "code",
   "execution_count": 11,
   "id": "22021aa5",
   "metadata": {},
   "outputs": [
    {
     "data": {
      "text/html": [
       "<div>\n",
       "<style scoped>\n",
       "    .dataframe tbody tr th:only-of-type {\n",
       "        vertical-align: middle;\n",
       "    }\n",
       "\n",
       "    .dataframe tbody tr th {\n",
       "        vertical-align: top;\n",
       "    }\n",
       "\n",
       "    .dataframe thead th {\n",
       "        text-align: right;\n",
       "    }\n",
       "</style>\n",
       "<table border=\"1\" class=\"dataframe\">\n",
       "  <thead>\n",
       "    <tr style=\"text-align: right;\">\n",
       "      <th></th>\n",
       "      <th>index_per_day</th>\n",
       "      <th>per_day_original</th>\n",
       "      <th>per_day</th>\n",
       "      <th>min_salary_day</th>\n",
       "      <th>max_salary_day</th>\n",
       "    </tr>\n",
       "  </thead>\n",
       "  <tbody>\n",
       "    <tr>\n",
       "      <th>0</th>\n",
       "      <td>111</td>\n",
       "      <td>£300 - £312.50 per day</td>\n",
       "      <td>300 - 312.50</td>\n",
       "      <td>300</td>\n",
       "      <td>312.50</td>\n",
       "    </tr>\n",
       "    <tr>\n",
       "      <th>1</th>\n",
       "      <td>113</td>\n",
       "      <td>£400 - £500 per day</td>\n",
       "      <td>400 - 500</td>\n",
       "      <td>400</td>\n",
       "      <td>500</td>\n",
       "    </tr>\n",
       "    <tr>\n",
       "      <th>2</th>\n",
       "      <td>116</td>\n",
       "      <td>£350 per day</td>\n",
       "      <td>350</td>\n",
       "      <td>350</td>\n",
       "      <td>0</td>\n",
       "    </tr>\n",
       "    <tr>\n",
       "      <th>3</th>\n",
       "      <td>147</td>\n",
       "      <td>£450 per day</td>\n",
       "      <td>450</td>\n",
       "      <td>450</td>\n",
       "      <td>0</td>\n",
       "    </tr>\n",
       "    <tr>\n",
       "      <th>4</th>\n",
       "      <td>161</td>\n",
       "      <td>£400 - £450 per day, inc benefits</td>\n",
       "      <td>400 - 450 , inc benefits</td>\n",
       "      <td>400</td>\n",
       "      <td>450</td>\n",
       "    </tr>\n",
       "    <tr>\n",
       "      <th>5</th>\n",
       "      <td>172</td>\n",
       "      <td>£500 - £550 per day</td>\n",
       "      <td>500 - 550</td>\n",
       "      <td>500</td>\n",
       "      <td>550</td>\n",
       "    </tr>\n",
       "    <tr>\n",
       "      <th>6</th>\n",
       "      <td>184</td>\n",
       "      <td>£450 - £500 per day</td>\n",
       "      <td>450 - 500</td>\n",
       "      <td>450</td>\n",
       "      <td>500</td>\n",
       "    </tr>\n",
       "    <tr>\n",
       "      <th>7</th>\n",
       "      <td>188</td>\n",
       "      <td>£180 - £200 per day</td>\n",
       "      <td>180 - 200</td>\n",
       "      <td>180</td>\n",
       "      <td>200</td>\n",
       "    </tr>\n",
       "    <tr>\n",
       "      <th>8</th>\n",
       "      <td>208</td>\n",
       "      <td>£550 - £650 per day</td>\n",
       "      <td>550 - 650</td>\n",
       "      <td>550</td>\n",
       "      <td>650</td>\n",
       "    </tr>\n",
       "    <tr>\n",
       "      <th>9</th>\n",
       "      <td>225</td>\n",
       "      <td>£200 - £250 per day</td>\n",
       "      <td>200 - 250</td>\n",
       "      <td>200</td>\n",
       "      <td>250</td>\n",
       "    </tr>\n",
       "    <tr>\n",
       "      <th>10</th>\n",
       "      <td>233</td>\n",
       "      <td>£350 - £400 per day</td>\n",
       "      <td>350 - 400</td>\n",
       "      <td>350</td>\n",
       "      <td>400</td>\n",
       "    </tr>\n",
       "    <tr>\n",
       "      <th>11</th>\n",
       "      <td>234</td>\n",
       "      <td>£300 - £400 per day</td>\n",
       "      <td>300 - 400</td>\n",
       "      <td>300</td>\n",
       "      <td>400</td>\n",
       "    </tr>\n",
       "    <tr>\n",
       "      <th>12</th>\n",
       "      <td>235</td>\n",
       "      <td>£200 - £250 per day</td>\n",
       "      <td>200 - 250</td>\n",
       "      <td>200</td>\n",
       "      <td>250</td>\n",
       "    </tr>\n",
       "    <tr>\n",
       "      <th>13</th>\n",
       "      <td>255</td>\n",
       "      <td>£600 - £650 per day</td>\n",
       "      <td>600 - 650</td>\n",
       "      <td>600</td>\n",
       "      <td>650</td>\n",
       "    </tr>\n",
       "    <tr>\n",
       "      <th>14</th>\n",
       "      <td>258</td>\n",
       "      <td>£450 - £451 per day</td>\n",
       "      <td>450 - 451</td>\n",
       "      <td>450</td>\n",
       "      <td>451</td>\n",
       "    </tr>\n",
       "    <tr>\n",
       "      <th>15</th>\n",
       "      <td>272</td>\n",
       "      <td>£400 - £500 per day</td>\n",
       "      <td>400 - 500</td>\n",
       "      <td>400</td>\n",
       "      <td>500</td>\n",
       "    </tr>\n",
       "    <tr>\n",
       "      <th>16</th>\n",
       "      <td>288</td>\n",
       "      <td>£450 - £550 per day</td>\n",
       "      <td>450 - 550</td>\n",
       "      <td>450</td>\n",
       "      <td>550</td>\n",
       "    </tr>\n",
       "    <tr>\n",
       "      <th>17</th>\n",
       "      <td>289</td>\n",
       "      <td>£350 per day</td>\n",
       "      <td>350</td>\n",
       "      <td>350</td>\n",
       "      <td>0</td>\n",
       "    </tr>\n",
       "    <tr>\n",
       "      <th>18</th>\n",
       "      <td>303</td>\n",
       "      <td>£400 - £500 per day</td>\n",
       "      <td>400 - 500</td>\n",
       "      <td>400</td>\n",
       "      <td>500</td>\n",
       "    </tr>\n",
       "    <tr>\n",
       "      <th>19</th>\n",
       "      <td>343</td>\n",
       "      <td>£700 - £850 per day</td>\n",
       "      <td>700 - 850</td>\n",
       "      <td>700</td>\n",
       "      <td>850</td>\n",
       "    </tr>\n",
       "    <tr>\n",
       "      <th>20</th>\n",
       "      <td>345</td>\n",
       "      <td>£550 - £650 per day</td>\n",
       "      <td>550 - 650</td>\n",
       "      <td>550</td>\n",
       "      <td>650</td>\n",
       "    </tr>\n",
       "    <tr>\n",
       "      <th>21</th>\n",
       "      <td>350</td>\n",
       "      <td>£600 per day</td>\n",
       "      <td>600</td>\n",
       "      <td>600</td>\n",
       "      <td>0</td>\n",
       "    </tr>\n",
       "  </tbody>\n",
       "</table>\n",
       "</div>"
      ],
      "text/plain": [
       "    index_per_day                   per_day_original  \\\n",
       "0             111             £300 - £312.50 per day   \n",
       "1             113                £400 - £500 per day   \n",
       "2             116                       £350 per day   \n",
       "3             147                       £450 per day   \n",
       "4             161  £400 - £450 per day, inc benefits   \n",
       "5             172                £500 - £550 per day   \n",
       "6             184                £450 - £500 per day   \n",
       "7             188                £180 - £200 per day   \n",
       "8             208                £550 - £650 per day   \n",
       "9             225                £200 - £250 per day   \n",
       "10            233                £350 - £400 per day   \n",
       "11            234                £300 - £400 per day   \n",
       "12            235                £200 - £250 per day   \n",
       "13            255                £600 - £650 per day   \n",
       "14            258                £450 - £451 per day   \n",
       "15            272                £400 - £500 per day   \n",
       "16            288                £450 - £550 per day   \n",
       "17            289                       £350 per day   \n",
       "18            303                £400 - £500 per day   \n",
       "19            343                £700 - £850 per day   \n",
       "20            345                £550 - £650 per day   \n",
       "21            350                       £600 per day   \n",
       "\n",
       "                     per_day min_salary_day max_salary_day  \n",
       "0              300 - 312.50             300         312.50  \n",
       "1                 400 - 500             400            500  \n",
       "2                       350             350              0  \n",
       "3                       450             450              0  \n",
       "4   400 - 450 , inc benefits            400            450  \n",
       "5                 500 - 550             500            550  \n",
       "6                 450 - 500             450            500  \n",
       "7                 180 - 200             180            200  \n",
       "8                 550 - 650             550            650  \n",
       "9                 200 - 250             200            250  \n",
       "10                350 - 400             350            400  \n",
       "11                300 - 400             300            400  \n",
       "12                200 - 250             200            250  \n",
       "13                600 - 650             600            650  \n",
       "14                450 - 451             450            451  \n",
       "15                400 - 500             400            500  \n",
       "16                450 - 550             450            550  \n",
       "17                      350             350              0  \n",
       "18                400 - 500             400            500  \n",
       "19                700 - 850             700            850  \n",
       "20                550 - 650             550            650  \n",
       "21                      600             600              0  "
      ]
     },
     "execution_count": 11,
     "metadata": {},
     "output_type": "execute_result"
    }
   ],
   "source": [
    "df_per_day['min_salary_day'] = min_day\n",
    "df_per_day['max_salary_day'] = max_day\n",
    "\n",
    "df_per_day\n"
   ]
  },
  {
   "cell_type": "code",
   "execution_count": 12,
   "id": "e7289d79",
   "metadata": {},
   "outputs": [
    {
     "name": "stdout",
     "output_type": "stream",
     "text": [
      "<class 'pandas.core.frame.DataFrame'>\n",
      "RangeIndex: 22 entries, 0 to 21\n",
      "Data columns (total 5 columns):\n",
      " #   Column            Non-Null Count  Dtype \n",
      "---  ------            --------------  ----- \n",
      " 0   index_per_day     22 non-null     int64 \n",
      " 1   per_day_original  22 non-null     object\n",
      " 2   per_day           22 non-null     object\n",
      " 3   min_salary_day    22 non-null     object\n",
      " 4   max_salary_day    22 non-null     object\n",
      "dtypes: int64(1), object(4)\n",
      "memory usage: 1008.0+ bytes\n"
     ]
    }
   ],
   "source": [
    "df_per_day.info()"
   ]
  },
  {
   "cell_type": "code",
   "execution_count": 13,
   "id": "c5039149",
   "metadata": {},
   "outputs": [
    {
     "name": "stdout",
     "output_type": "stream",
     "text": [
      "<class 'pandas.core.frame.DataFrame'>\n",
      "RangeIndex: 22 entries, 0 to 21\n",
      "Data columns (total 5 columns):\n",
      " #   Column            Non-Null Count  Dtype  \n",
      "---  ------            --------------  -----  \n",
      " 0   index_per_day     22 non-null     int64  \n",
      " 1   per_day_original  22 non-null     object \n",
      " 2   per_day           22 non-null     object \n",
      " 3   min_salary_day    22 non-null     int64  \n",
      " 4   max_salary_day    22 non-null     float64\n",
      "dtypes: float64(1), int64(2), object(2)\n",
      "memory usage: 1008.0+ bytes\n"
     ]
    }
   ],
   "source": [
    "# chchange min and max \n",
    "df_per_day['min_salary_day']= pd.to_numeric(df_per_day['min_salary_day'])\n",
    "df_per_day['max_salary_day']= pd.to_numeric(df_per_day['max_salary_day'])\n",
    "\n",
    "df_per_day.info()\n"
   ]
  },
  {
   "cell_type": "code",
   "execution_count": 14,
   "id": "4b4bf41f",
   "metadata": {},
   "outputs": [
    {
     "data": {
      "text/plain": [
       "Index(['index_per_day', 'per_day_original', 'per_day', 'min_salary_day',\n",
       "       'max_salary_day'],\n",
       "      dtype='object')"
      ]
     },
     "execution_count": 14,
     "metadata": {},
     "output_type": "execute_result"
    }
   ],
   "source": [
    "df_per_day.columns"
   ]
  },
  {
   "cell_type": "code",
   "execution_count": 15,
   "id": "98aa06d3",
   "metadata": {},
   "outputs": [
    {
     "data": {
      "text/plain": [
       "300"
      ]
     },
     "execution_count": 15,
     "metadata": {},
     "output_type": "execute_result"
    }
   ],
   "source": [
    "df_per_day['min_salary_day'][0]"
   ]
  },
  {
   "cell_type": "code",
   "execution_count": 16,
   "id": "4db2a572",
   "metadata": {},
   "outputs": [
    {
     "data": {
      "text/plain": [
       "75600"
      ]
     },
     "execution_count": 16,
     "metadata": {},
     "output_type": "execute_result"
    }
   ],
   "source": [
    "df_per_day['min_salary_day'][0]*252"
   ]
  },
  {
   "cell_type": "code",
   "execution_count": 17,
   "id": "57767177",
   "metadata": {},
   "outputs": [
    {
     "data": {
      "text/html": [
       "<div>\n",
       "<style scoped>\n",
       "    .dataframe tbody tr th:only-of-type {\n",
       "        vertical-align: middle;\n",
       "    }\n",
       "\n",
       "    .dataframe tbody tr th {\n",
       "        vertical-align: top;\n",
       "    }\n",
       "\n",
       "    .dataframe thead th {\n",
       "        text-align: right;\n",
       "    }\n",
       "</style>\n",
       "<table border=\"1\" class=\"dataframe\">\n",
       "  <thead>\n",
       "    <tr style=\"text-align: right;\">\n",
       "      <th></th>\n",
       "      <th>index_per_day</th>\n",
       "      <th>per_day_original</th>\n",
       "      <th>per_day</th>\n",
       "      <th>min_salary_day</th>\n",
       "      <th>max_salary_day</th>\n",
       "    </tr>\n",
       "  </thead>\n",
       "  <tbody>\n",
       "    <tr>\n",
       "      <th>0</th>\n",
       "      <td>111</td>\n",
       "      <td>£300 - £312.50 per day</td>\n",
       "      <td>300 - 312.50</td>\n",
       "      <td>75600</td>\n",
       "      <td>78750</td>\n",
       "    </tr>\n",
       "    <tr>\n",
       "      <th>1</th>\n",
       "      <td>113</td>\n",
       "      <td>£400 - £500 per day</td>\n",
       "      <td>400 - 500</td>\n",
       "      <td>100800</td>\n",
       "      <td>126000</td>\n",
       "    </tr>\n",
       "    <tr>\n",
       "      <th>2</th>\n",
       "      <td>116</td>\n",
       "      <td>£350 per day</td>\n",
       "      <td>350</td>\n",
       "      <td>88200</td>\n",
       "      <td>0</td>\n",
       "    </tr>\n",
       "    <tr>\n",
       "      <th>3</th>\n",
       "      <td>147</td>\n",
       "      <td>£450 per day</td>\n",
       "      <td>450</td>\n",
       "      <td>113400</td>\n",
       "      <td>0</td>\n",
       "    </tr>\n",
       "    <tr>\n",
       "      <th>4</th>\n",
       "      <td>161</td>\n",
       "      <td>£400 - £450 per day, inc benefits</td>\n",
       "      <td>400 - 450 , inc benefits</td>\n",
       "      <td>100800</td>\n",
       "      <td>113400</td>\n",
       "    </tr>\n",
       "    <tr>\n",
       "      <th>5</th>\n",
       "      <td>172</td>\n",
       "      <td>£500 - £550 per day</td>\n",
       "      <td>500 - 550</td>\n",
       "      <td>126000</td>\n",
       "      <td>138600</td>\n",
       "    </tr>\n",
       "    <tr>\n",
       "      <th>6</th>\n",
       "      <td>184</td>\n",
       "      <td>£450 - £500 per day</td>\n",
       "      <td>450 - 500</td>\n",
       "      <td>113400</td>\n",
       "      <td>126000</td>\n",
       "    </tr>\n",
       "    <tr>\n",
       "      <th>7</th>\n",
       "      <td>188</td>\n",
       "      <td>£180 - £200 per day</td>\n",
       "      <td>180 - 200</td>\n",
       "      <td>45360</td>\n",
       "      <td>50400</td>\n",
       "    </tr>\n",
       "    <tr>\n",
       "      <th>8</th>\n",
       "      <td>208</td>\n",
       "      <td>£550 - £650 per day</td>\n",
       "      <td>550 - 650</td>\n",
       "      <td>138600</td>\n",
       "      <td>163800</td>\n",
       "    </tr>\n",
       "    <tr>\n",
       "      <th>9</th>\n",
       "      <td>225</td>\n",
       "      <td>£200 - £250 per day</td>\n",
       "      <td>200 - 250</td>\n",
       "      <td>50400</td>\n",
       "      <td>63000</td>\n",
       "    </tr>\n",
       "    <tr>\n",
       "      <th>10</th>\n",
       "      <td>233</td>\n",
       "      <td>£350 - £400 per day</td>\n",
       "      <td>350 - 400</td>\n",
       "      <td>88200</td>\n",
       "      <td>100800</td>\n",
       "    </tr>\n",
       "    <tr>\n",
       "      <th>11</th>\n",
       "      <td>234</td>\n",
       "      <td>£300 - £400 per day</td>\n",
       "      <td>300 - 400</td>\n",
       "      <td>75600</td>\n",
       "      <td>100800</td>\n",
       "    </tr>\n",
       "    <tr>\n",
       "      <th>12</th>\n",
       "      <td>235</td>\n",
       "      <td>£200 - £250 per day</td>\n",
       "      <td>200 - 250</td>\n",
       "      <td>50400</td>\n",
       "      <td>63000</td>\n",
       "    </tr>\n",
       "    <tr>\n",
       "      <th>13</th>\n",
       "      <td>255</td>\n",
       "      <td>£600 - £650 per day</td>\n",
       "      <td>600 - 650</td>\n",
       "      <td>151200</td>\n",
       "      <td>163800</td>\n",
       "    </tr>\n",
       "    <tr>\n",
       "      <th>14</th>\n",
       "      <td>258</td>\n",
       "      <td>£450 - £451 per day</td>\n",
       "      <td>450 - 451</td>\n",
       "      <td>113400</td>\n",
       "      <td>113652</td>\n",
       "    </tr>\n",
       "    <tr>\n",
       "      <th>15</th>\n",
       "      <td>272</td>\n",
       "      <td>£400 - £500 per day</td>\n",
       "      <td>400 - 500</td>\n",
       "      <td>100800</td>\n",
       "      <td>126000</td>\n",
       "    </tr>\n",
       "    <tr>\n",
       "      <th>16</th>\n",
       "      <td>288</td>\n",
       "      <td>£450 - £550 per day</td>\n",
       "      <td>450 - 550</td>\n",
       "      <td>113400</td>\n",
       "      <td>138600</td>\n",
       "    </tr>\n",
       "    <tr>\n",
       "      <th>17</th>\n",
       "      <td>289</td>\n",
       "      <td>£350 per day</td>\n",
       "      <td>350</td>\n",
       "      <td>88200</td>\n",
       "      <td>0</td>\n",
       "    </tr>\n",
       "    <tr>\n",
       "      <th>18</th>\n",
       "      <td>303</td>\n",
       "      <td>£400 - £500 per day</td>\n",
       "      <td>400 - 500</td>\n",
       "      <td>100800</td>\n",
       "      <td>126000</td>\n",
       "    </tr>\n",
       "    <tr>\n",
       "      <th>19</th>\n",
       "      <td>343</td>\n",
       "      <td>£700 - £850 per day</td>\n",
       "      <td>700 - 850</td>\n",
       "      <td>176400</td>\n",
       "      <td>214200</td>\n",
       "    </tr>\n",
       "    <tr>\n",
       "      <th>20</th>\n",
       "      <td>345</td>\n",
       "      <td>£550 - £650 per day</td>\n",
       "      <td>550 - 650</td>\n",
       "      <td>138600</td>\n",
       "      <td>163800</td>\n",
       "    </tr>\n",
       "    <tr>\n",
       "      <th>21</th>\n",
       "      <td>350</td>\n",
       "      <td>£600 per day</td>\n",
       "      <td>600</td>\n",
       "      <td>151200</td>\n",
       "      <td>0</td>\n",
       "    </tr>\n",
       "  </tbody>\n",
       "</table>\n",
       "</div>"
      ],
      "text/plain": [
       "    index_per_day                   per_day_original  \\\n",
       "0             111             £300 - £312.50 per day   \n",
       "1             113                £400 - £500 per day   \n",
       "2             116                       £350 per day   \n",
       "3             147                       £450 per day   \n",
       "4             161  £400 - £450 per day, inc benefits   \n",
       "5             172                £500 - £550 per day   \n",
       "6             184                £450 - £500 per day   \n",
       "7             188                £180 - £200 per day   \n",
       "8             208                £550 - £650 per day   \n",
       "9             225                £200 - £250 per day   \n",
       "10            233                £350 - £400 per day   \n",
       "11            234                £300 - £400 per day   \n",
       "12            235                £200 - £250 per day   \n",
       "13            255                £600 - £650 per day   \n",
       "14            258                £450 - £451 per day   \n",
       "15            272                £400 - £500 per day   \n",
       "16            288                £450 - £550 per day   \n",
       "17            289                       £350 per day   \n",
       "18            303                £400 - £500 per day   \n",
       "19            343                £700 - £850 per day   \n",
       "20            345                £550 - £650 per day   \n",
       "21            350                       £600 per day   \n",
       "\n",
       "                     per_day  min_salary_day  max_salary_day  \n",
       "0              300 - 312.50            75600           78750  \n",
       "1                 400 - 500           100800          126000  \n",
       "2                       350            88200               0  \n",
       "3                       450           113400               0  \n",
       "4   400 - 450 , inc benefits          100800          113400  \n",
       "5                 500 - 550           126000          138600  \n",
       "6                 450 - 500           113400          126000  \n",
       "7                 180 - 200            45360           50400  \n",
       "8                 550 - 650           138600          163800  \n",
       "9                 200 - 250            50400           63000  \n",
       "10                350 - 400            88200          100800  \n",
       "11                300 - 400            75600          100800  \n",
       "12                200 - 250            50400           63000  \n",
       "13                600 - 650           151200          163800  \n",
       "14                450 - 451           113400          113652  \n",
       "15                400 - 500           100800          126000  \n",
       "16                450 - 550           113400          138600  \n",
       "17                      350            88200               0  \n",
       "18                400 - 500           100800          126000  \n",
       "19                700 - 850           176400          214200  \n",
       "20                550 - 650           138600          163800  \n",
       "21                      600           151200               0  "
      ]
     },
     "execution_count": 17,
     "metadata": {},
     "output_type": "execute_result"
    }
   ],
   "source": [
    "# In the UK, there are typically around 252 working days in a year\n",
    "df_per_day['min_salary_day']= (df_per_day['min_salary_day'] * 252).astype(int)\n",
    "df_per_day['max_salary_day'] = (df_per_day['max_salary_day']*252) .astype(int)\n",
    "\n",
    "df_per_day\n"
   ]
  },
  {
   "cell_type": "markdown",
   "id": "2e0dc238",
   "metadata": {},
   "source": [
    "## Per annum"
   ]
  },
  {
   "cell_type": "code",
   "execution_count": 18,
   "id": "299694f4",
   "metadata": {},
   "outputs": [
    {
     "data": {
      "text/plain": [
       "0                    £28,000 - £32,000 per annum\n",
       "3                              £32,000 per annum\n",
       "36                             £42,000 per annum\n",
       "101                            £22,778 per annum\n",
       "102                            £18,000 per annum\n",
       "104                  £15,000 - £17,000 per annum\n",
       "114                  £30,000 - £35,000 per annum\n",
       "115    £30,000 - £60,000 per annum, inc benefits\n",
       "120                  £27,000 - £28,000 per annum\n",
       "121                  £35,000 - £45,000 per annum\n",
       "122                  £35,000 - £45,000 per annum\n",
       "124                            £35,000 per annum\n",
       "125                  £37,000 - £40,000 per annum\n",
       "126                  £36,287 - £38,324 per annum\n",
       "127                  £35,000 - £40,000 per annum\n",
       "Name: salary, dtype: object"
      ]
     },
     "execution_count": 18,
     "metadata": {},
     "output_type": "execute_result"
    }
   ],
   "source": [
    "per_annum = df_data_analyst.loc[df_data_analyst.salary.str.contains('per annum'),'salary']\n",
    "per_annum.head(15)\n"
   ]
  },
  {
   "cell_type": "code",
   "execution_count": 112,
   "id": "a67d5812",
   "metadata": {},
   "outputs": [
    {
     "data": {
      "text/plain": [
       "pandas.core.series.Series"
      ]
     },
     "execution_count": 112,
     "metadata": {},
     "output_type": "execute_result"
    }
   ],
   "source": [
    "type(per_annum)"
   ]
  },
  {
   "cell_type": "code",
   "execution_count": 16,
   "id": "d0c187f4",
   "metadata": {},
   "outputs": [
    {
     "data": {
      "text/html": [
       "<div>\n",
       "<style scoped>\n",
       "    .dataframe tbody tr th:only-of-type {\n",
       "        vertical-align: middle;\n",
       "    }\n",
       "\n",
       "    .dataframe tbody tr th {\n",
       "        vertical-align: top;\n",
       "    }\n",
       "\n",
       "    .dataframe thead th {\n",
       "        text-align: right;\n",
       "    }\n",
       "</style>\n",
       "<table border=\"1\" class=\"dataframe\">\n",
       "  <thead>\n",
       "    <tr style=\"text-align: right;\">\n",
       "      <th></th>\n",
       "      <th>index_per_annum</th>\n",
       "      <th>per_annum_original</th>\n",
       "    </tr>\n",
       "  </thead>\n",
       "  <tbody>\n",
       "    <tr>\n",
       "      <th>0</th>\n",
       "      <td>0</td>\n",
       "      <td>£28,000 - £32,000 per annum</td>\n",
       "    </tr>\n",
       "    <tr>\n",
       "      <th>1</th>\n",
       "      <td>3</td>\n",
       "      <td>£32,000 per annum</td>\n",
       "    </tr>\n",
       "    <tr>\n",
       "      <th>2</th>\n",
       "      <td>36</td>\n",
       "      <td>£42,000 per annum</td>\n",
       "    </tr>\n",
       "    <tr>\n",
       "      <th>3</th>\n",
       "      <td>101</td>\n",
       "      <td>£22,778 per annum</td>\n",
       "    </tr>\n",
       "    <tr>\n",
       "      <th>4</th>\n",
       "      <td>102</td>\n",
       "      <td>£18,000 per annum</td>\n",
       "    </tr>\n",
       "  </tbody>\n",
       "</table>\n",
       "</div>"
      ],
      "text/plain": [
       "   index_per_annum           per_annum_original\n",
       "0                0  £28,000 - £32,000 per annum\n",
       "1                3            £32,000 per annum\n",
       "2               36            £42,000 per annum\n",
       "3              101            £22,778 per annum\n",
       "4              102            £18,000 per annum"
      ]
     },
     "execution_count": 16,
     "metadata": {},
     "output_type": "execute_result"
    }
   ],
   "source": [
    "#create a dict and pass the series the data param to the dataframe constructor\n",
    "df_per_annum = pd.DataFrame({'index_per_annum':per_annum.index, 'per_annum_original':per_annum.values})\n",
    "df_per_annum.head()\n"
   ]
  },
  {
   "cell_type": "code",
   "execution_count": 20,
   "id": "e2fb6d6f",
   "metadata": {},
   "outputs": [],
   "source": [
    "# Create 'per_annum' column using the copy of 'per_annum_original'\n",
    "df_per_annum['per_annum'] = df_per_annum['per_annum_original']\n"
   ]
  },
  {
   "cell_type": "code",
   "execution_count": 21,
   "id": "aac16a7c",
   "metadata": {},
   "outputs": [
    {
     "data": {
      "text/plain": [
       "Index(['index_per_annum', 'per_annum_original', 'per_annum'], dtype='object')"
      ]
     },
     "execution_count": 21,
     "metadata": {},
     "output_type": "execute_result"
    }
   ],
   "source": [
    "df_per_annum.columns"
   ]
  },
  {
   "cell_type": "markdown",
   "id": "5b4e530b",
   "metadata": {},
   "source": [
    "## One salary at index 183(62) contains Euro (€)\n",
    "- Change it to £ (UK pound) \n"
   ]
  },
  {
   "cell_type": "code",
   "execution_count": 22,
   "id": "bcfd64d1",
   "metadata": {},
   "outputs": [
    {
     "data": {
      "text/html": [
       "<div>\n",
       "<style scoped>\n",
       "    .dataframe tbody tr th:only-of-type {\n",
       "        vertical-align: middle;\n",
       "    }\n",
       "\n",
       "    .dataframe tbody tr th {\n",
       "        vertical-align: top;\n",
       "    }\n",
       "\n",
       "    .dataframe thead th {\n",
       "        text-align: right;\n",
       "    }\n",
       "</style>\n",
       "<table border=\"1\" class=\"dataframe\">\n",
       "  <thead>\n",
       "    <tr style=\"text-align: right;\">\n",
       "      <th></th>\n",
       "      <th>index_per_annum</th>\n",
       "      <th>per_annum_original</th>\n",
       "      <th>per_annum</th>\n",
       "    </tr>\n",
       "  </thead>\n",
       "  <tbody>\n",
       "    <tr>\n",
       "      <th>62</th>\n",
       "      <td>201</td>\n",
       "      <td>£32,000 per annum</td>\n",
       "      <td>£32,000 per annum</td>\n",
       "    </tr>\n",
       "  </tbody>\n",
       "</table>\n",
       "</div>"
      ],
      "text/plain": [
       "    index_per_annum per_annum_original          per_annum\n",
       "62              201  £32,000 per annum  £32,000 per annum"
      ]
     },
     "execution_count": 22,
     "metadata": {},
     "output_type": "execute_result"
    }
   ],
   "source": [
    "# Exchange rate €1 = £0.86 \n",
    "df_per_annum.iloc[62:63, :]"
   ]
  },
  {
   "cell_type": "markdown",
   "id": "54e93cf2",
   "metadata": {},
   "source": [
    "## Add €1 = £0.86  (df_per_annum['per_day_annum][62]*0.86) \n",
    "- remove characters like €, £, comma\n",
    "- Change 'per_annum_original' column to integers \n",
    "- apply €1 = £0.86 exchange \n"
   ]
  },
  {
   "cell_type": "code",
   "execution_count": 21,
   "id": "ca12a9ae",
   "metadata": {},
   "outputs": [
    {
     "data": {
      "text/html": [
       "<div>\n",
       "<style scoped>\n",
       "    .dataframe tbody tr th:only-of-type {\n",
       "        vertical-align: middle;\n",
       "    }\n",
       "\n",
       "    .dataframe tbody tr th {\n",
       "        vertical-align: top;\n",
       "    }\n",
       "\n",
       "    .dataframe thead th {\n",
       "        text-align: right;\n",
       "    }\n",
       "</style>\n",
       "<table border=\"1\" class=\"dataframe\">\n",
       "  <thead>\n",
       "    <tr style=\"text-align: right;\">\n",
       "      <th></th>\n",
       "      <th>index_per_annum</th>\n",
       "      <th>per_annum_original</th>\n",
       "      <th>per_annum</th>\n",
       "    </tr>\n",
       "  </thead>\n",
       "  <tbody>\n",
       "    <tr>\n",
       "      <th>0</th>\n",
       "      <td>0</td>\n",
       "      <td>£28,000 - £32,000 per annum</td>\n",
       "      <td>28000 - 32000</td>\n",
       "    </tr>\n",
       "    <tr>\n",
       "      <th>1</th>\n",
       "      <td>3</td>\n",
       "      <td>£32,000 per annum</td>\n",
       "      <td>32000</td>\n",
       "    </tr>\n",
       "    <tr>\n",
       "      <th>2</th>\n",
       "      <td>36</td>\n",
       "      <td>£42,000 per annum</td>\n",
       "      <td>42000</td>\n",
       "    </tr>\n",
       "    <tr>\n",
       "      <th>3</th>\n",
       "      <td>101</td>\n",
       "      <td>£22,778 per annum</td>\n",
       "      <td>22778</td>\n",
       "    </tr>\n",
       "    <tr>\n",
       "      <th>4</th>\n",
       "      <td>102</td>\n",
       "      <td>£18,000 per annum</td>\n",
       "      <td>18000</td>\n",
       "    </tr>\n",
       "  </tbody>\n",
       "</table>\n",
       "</div>"
      ],
      "text/plain": [
       "   index_per_annum           per_annum_original       per_annum\n",
       "0                0  £28,000 - £32,000 per annum  28000 - 32000 \n",
       "1                3            £32,000 per annum          32000 \n",
       "2               36            £42,000 per annum          42000 \n",
       "3              101            £22,778 per annum          22778 \n",
       "4              102            £18,000 per annum          18000 "
      ]
     },
     "execution_count": 21,
     "metadata": {},
     "output_type": "execute_result"
    }
   ],
   "source": [
    "# Replace £, €, comma and per annum with a space\n",
    "df_per_annum['per_annum'].replace('£', '',  regex=True, inplace=True)\n",
    "df_per_annum['per_annum'].replace('€', '',  regex=True, inplace=True)\n",
    "df_per_annum['per_annum'].replace('per annum', '', regex=True, inplace=True)\n",
    "df_per_annum['per_annum'].replace(',', '', regex=True, inplace=True)\n",
    "\n",
    "df_per_annum.head()\n"
   ]
  },
  {
   "cell_type": "code",
   "execution_count": null,
   "id": "832875be",
   "metadata": {},
   "outputs": [],
   "source": []
  },
  {
   "cell_type": "code",
   "execution_count": 6,
   "id": "fc6a08ad",
   "metadata": {},
   "outputs": [
    {
     "name": "stdout",
     "output_type": "stream",
     "text": [
      "['28000', '32000', '42000', '22778', '18000']\n",
      "['32000', 0, 0, 0, 0]\n"
     ]
    }
   ],
   "source": [
    "min_annum  =[]\n",
    "max_annum = []\n",
    "for i in df_per_annum['per_annum']:\n",
    "    \n",
    "    #for minimum \n",
    "    n = i.split()[0]      \n",
    "    min_annum.append(n)\n",
    "    \n",
    "    # for maximum \n",
    "    if len(i.split())==1:\n",
    "        x = 0\n",
    "    else: \n",
    "        x = i.split()[2]  \n",
    "    \n",
    "    max_annum.append(x)\n",
    "\n",
    "print(min_annum[:5])\n",
    "print(max_annum[:5])\n"
   ]
  },
  {
   "cell_type": "code",
   "execution_count": null,
   "id": "db18a8f6",
   "metadata": {},
   "outputs": [],
   "source": []
  },
  {
   "cell_type": "code",
   "execution_count": 7,
   "id": "f76b6302",
   "metadata": {},
   "outputs": [
    {
     "data": {
      "text/html": [
       "<div>\n",
       "<style scoped>\n",
       "    .dataframe tbody tr th:only-of-type {\n",
       "        vertical-align: middle;\n",
       "    }\n",
       "\n",
       "    .dataframe tbody tr th {\n",
       "        vertical-align: top;\n",
       "    }\n",
       "\n",
       "    .dataframe thead th {\n",
       "        text-align: right;\n",
       "    }\n",
       "</style>\n",
       "<table border=\"1\" class=\"dataframe\">\n",
       "  <thead>\n",
       "    <tr style=\"text-align: right;\">\n",
       "      <th></th>\n",
       "      <th>index_per_annum</th>\n",
       "      <th>per_annum_original</th>\n",
       "      <th>per_annum</th>\n",
       "      <th>min_salary_annum</th>\n",
       "      <th>max_salary_annum</th>\n",
       "    </tr>\n",
       "  </thead>\n",
       "  <tbody>\n",
       "    <tr>\n",
       "      <th>0</th>\n",
       "      <td>0</td>\n",
       "      <td>£28,000 - £32,000 per annum</td>\n",
       "      <td>28000 - 32000</td>\n",
       "      <td>28000</td>\n",
       "      <td>32000</td>\n",
       "    </tr>\n",
       "    <tr>\n",
       "      <th>1</th>\n",
       "      <td>3</td>\n",
       "      <td>£32,000 per annum</td>\n",
       "      <td>32000</td>\n",
       "      <td>32000</td>\n",
       "      <td>0</td>\n",
       "    </tr>\n",
       "    <tr>\n",
       "      <th>2</th>\n",
       "      <td>36</td>\n",
       "      <td>£42,000 per annum</td>\n",
       "      <td>42000</td>\n",
       "      <td>42000</td>\n",
       "      <td>0</td>\n",
       "    </tr>\n",
       "    <tr>\n",
       "      <th>3</th>\n",
       "      <td>101</td>\n",
       "      <td>£22,778 per annum</td>\n",
       "      <td>22778</td>\n",
       "      <td>22778</td>\n",
       "      <td>0</td>\n",
       "    </tr>\n",
       "    <tr>\n",
       "      <th>4</th>\n",
       "      <td>102</td>\n",
       "      <td>£18,000 per annum</td>\n",
       "      <td>18000</td>\n",
       "      <td>18000</td>\n",
       "      <td>0</td>\n",
       "    </tr>\n",
       "  </tbody>\n",
       "</table>\n",
       "</div>"
      ],
      "text/plain": [
       "   index_per_annum           per_annum_original       per_annum  \\\n",
       "0                0  £28,000 - £32,000 per annum  28000 - 32000    \n",
       "1                3            £32,000 per annum          32000    \n",
       "2               36            £42,000 per annum          42000    \n",
       "3              101            £22,778 per annum          22778    \n",
       "4              102            £18,000 per annum          18000    \n",
       "\n",
       "  min_salary_annum max_salary_annum  \n",
       "0            28000            32000  \n",
       "1            32000                0  \n",
       "2            42000                0  \n",
       "3            22778                0  \n",
       "4            18000                0  "
      ]
     },
     "execution_count": 7,
     "metadata": {},
     "output_type": "execute_result"
    }
   ],
   "source": [
    "df_per_annum['min_salary_annum'] = min_annum\n",
    "df_per_annum['max_salary_annum'] = max_annum\n",
    "\n",
    "df_per_annum.head()"
   ]
  },
  {
   "cell_type": "code",
   "execution_count": 8,
   "id": "6abf63c9",
   "metadata": {},
   "outputs": [
    {
     "name": "stdout",
     "output_type": "stream",
     "text": [
      "<class 'pandas.core.frame.DataFrame'>\n",
      "RangeIndex: 150 entries, 0 to 149\n",
      "Data columns (total 5 columns):\n",
      " #   Column              Non-Null Count  Dtype \n",
      "---  ------              --------------  ----- \n",
      " 0   index_per_annum     150 non-null    int64 \n",
      " 1   per_annum_original  150 non-null    object\n",
      " 2   per_annum           150 non-null    object\n",
      " 3   min_salary_annum    150 non-null    int64 \n",
      " 4   max_salary_annum    150 non-null    int64 \n",
      "dtypes: int64(3), object(2)\n",
      "memory usage: 6.0+ KB\n"
     ]
    }
   ],
   "source": [
    "# Change min and max \n",
    "df_per_annum['min_salary_annum']= pd.to_numeric(df_per_annum['min_salary_annum'])\n",
    "df_per_annum['max_salary_annum']= pd.to_numeric(df_per_annum['max_salary_annum'])\n",
    "\n",
    "df_per_annum.info()\n"
   ]
  },
  {
   "cell_type": "code",
   "execution_count": 9,
   "id": "05a88bc7",
   "metadata": {},
   "outputs": [
    {
     "data": {
      "text/html": [
       "<div>\n",
       "<style scoped>\n",
       "    .dataframe tbody tr th:only-of-type {\n",
       "        vertical-align: middle;\n",
       "    }\n",
       "\n",
       "    .dataframe tbody tr th {\n",
       "        vertical-align: top;\n",
       "    }\n",
       "\n",
       "    .dataframe thead th {\n",
       "        text-align: right;\n",
       "    }\n",
       "</style>\n",
       "<table border=\"1\" class=\"dataframe\">\n",
       "  <thead>\n",
       "    <tr style=\"text-align: right;\">\n",
       "      <th></th>\n",
       "      <th>index_per_annum</th>\n",
       "      <th>per_annum_original</th>\n",
       "      <th>per_annum</th>\n",
       "      <th>min_salary_annum</th>\n",
       "      <th>max_salary_annum</th>\n",
       "    </tr>\n",
       "  </thead>\n",
       "  <tbody>\n",
       "    <tr>\n",
       "      <th>0</th>\n",
       "      <td>0</td>\n",
       "      <td>£28,000 - £32,000 per annum</td>\n",
       "      <td>28000 - 32000</td>\n",
       "      <td>28000</td>\n",
       "      <td>32000</td>\n",
       "    </tr>\n",
       "    <tr>\n",
       "      <th>1</th>\n",
       "      <td>3</td>\n",
       "      <td>£32,000 per annum</td>\n",
       "      <td>32000</td>\n",
       "      <td>32000</td>\n",
       "      <td>0</td>\n",
       "    </tr>\n",
       "    <tr>\n",
       "      <th>2</th>\n",
       "      <td>36</td>\n",
       "      <td>£42,000 per annum</td>\n",
       "      <td>42000</td>\n",
       "      <td>42000</td>\n",
       "      <td>0</td>\n",
       "    </tr>\n",
       "    <tr>\n",
       "      <th>3</th>\n",
       "      <td>101</td>\n",
       "      <td>£22,778 per annum</td>\n",
       "      <td>22778</td>\n",
       "      <td>22778</td>\n",
       "      <td>0</td>\n",
       "    </tr>\n",
       "    <tr>\n",
       "      <th>4</th>\n",
       "      <td>102</td>\n",
       "      <td>£18,000 per annum</td>\n",
       "      <td>18000</td>\n",
       "      <td>18000</td>\n",
       "      <td>0</td>\n",
       "    </tr>\n",
       "  </tbody>\n",
       "</table>\n",
       "</div>"
      ],
      "text/plain": [
       "   index_per_annum           per_annum_original       per_annum  \\\n",
       "0                0  £28,000 - £32,000 per annum  28000 - 32000    \n",
       "1                3            £32,000 per annum          32000    \n",
       "2               36            £42,000 per annum          42000    \n",
       "3              101            £22,778 per annum          22778    \n",
       "4              102            £18,000 per annum          18000    \n",
       "\n",
       "   min_salary_annum  max_salary_annum  \n",
       "0             28000             32000  \n",
       "1             32000                 0  \n",
       "2             42000                 0  \n",
       "3             22778                 0  \n",
       "4             18000                 0  "
      ]
     },
     "execution_count": 9,
     "metadata": {},
     "output_type": "execute_result"
    }
   ],
   "source": [
    "df_per_annum.head()"
   ]
  },
  {
   "cell_type": "markdown",
   "id": "47692ed9",
   "metadata": {},
   "source": [
    "### Per hour, Per day, Per annum "
   ]
  },
  {
   "cell_type": "code",
   "execution_count": 122,
   "id": "65a922eb",
   "metadata": {},
   "outputs": [
    {
     "data": {
      "text/plain": [
       "Index([117, 156, 276, 279, 284, 339], dtype='int64')"
      ]
     },
     "execution_count": 122,
     "metadata": {},
     "output_type": "execute_result"
    }
   ],
   "source": [
    "per_hour = df_data_analyst.loc[df_data_analyst.salary.str.contains('per hour'),'salary']\n",
    "per_hour.index\n"
   ]
  },
  {
   "cell_type": "raw",
   "id": "074b9f38",
   "metadata": {},
   "source": [
    "index_day = [111, 113, 116, 161]\n",
    "\n",
    "index_annum= [3, 4, 115, 183, 209, 248, 278, 281, 283 ]\n",
    "\n",
    "index_hour = [117, 156, 276, 279, 284, 339]\n"
   ]
  },
  {
   "cell_type": "code",
   "execution_count": 10,
   "id": "0e9fa9aa",
   "metadata": {},
   "outputs": [
    {
     "data": {
      "text/plain": [
       "117                                      £18.71 per hour\n",
       "156                                   £15 - £17 per hour\n",
       "276                                   £23 - £26 per hour\n",
       "279                                      £18.01 per hour\n",
       "284                             £18.01 - £22.67 per hour\n",
       "339                                   £23 - £26 per hour\n",
       "111                               £300 - £312.50 per day\n",
       "113                                  £400 - £500 per day\n",
       "116                                         £350 per day\n",
       "161                    £400 - £450 per day, inc benefits\n",
       "3                                      £32,000 per annum\n",
       "0                            £28,000 - £32,000 per annum\n",
       "115            £30,000 - £60,000 per annum, inc benefits\n",
       "183                          €60,000 - €65,000 per annum\n",
       "209                     £85,000 - £95,000 per annum, OTE\n",
       "248    £37,500 - £45,000 per annum, OTE, inc benefits...\n",
       "278            £33,000 - £35,000 per annum, inc benefits\n",
       "281    £30,000 - £34,000 per annum, inc benefits, neg...\n",
       "283    £39,000 - £46,000 per annum, OTE, inc benefits...\n",
       "Name: salary, dtype: object"
      ]
     },
     "execution_count": 10,
     "metadata": {},
     "output_type": "execute_result"
    }
   ],
   "source": [
    "hr_day_annum =  df_data_analyst.loc[[117, 156, 276, 279, 284, 339, 111, 113, 116, 161, 3, 0, 115, 183, 209, 248, 278, 281, 283 ], 'salary']\n",
    "hr_day_annum\n"
   ]
  },
  {
   "cell_type": "code",
   "execution_count": null,
   "id": "189b1a97",
   "metadata": {},
   "outputs": [],
   "source": []
  },
  {
   "cell_type": "code",
   "execution_count": 11,
   "id": "cd28e05c",
   "metadata": {},
   "outputs": [
    {
     "data": {
      "text/html": [
       "<div>\n",
       "<style scoped>\n",
       "    .dataframe tbody tr th:only-of-type {\n",
       "        vertical-align: middle;\n",
       "    }\n",
       "\n",
       "    .dataframe tbody tr th {\n",
       "        vertical-align: top;\n",
       "    }\n",
       "\n",
       "    .dataframe thead th {\n",
       "        text-align: right;\n",
       "    }\n",
       "</style>\n",
       "<table border=\"1\" class=\"dataframe\">\n",
       "  <thead>\n",
       "    <tr style=\"text-align: right;\">\n",
       "      <th></th>\n",
       "      <th>h_d_a_index</th>\n",
       "      <th>h_d_a_original</th>\n",
       "    </tr>\n",
       "  </thead>\n",
       "  <tbody>\n",
       "    <tr>\n",
       "      <th>0</th>\n",
       "      <td>117</td>\n",
       "      <td>£18.71 per hour</td>\n",
       "    </tr>\n",
       "    <tr>\n",
       "      <th>1</th>\n",
       "      <td>156</td>\n",
       "      <td>£15 - £17 per hour</td>\n",
       "    </tr>\n",
       "    <tr>\n",
       "      <th>2</th>\n",
       "      <td>276</td>\n",
       "      <td>£23 - £26 per hour</td>\n",
       "    </tr>\n",
       "    <tr>\n",
       "      <th>3</th>\n",
       "      <td>279</td>\n",
       "      <td>£18.01 per hour</td>\n",
       "    </tr>\n",
       "    <tr>\n",
       "      <th>4</th>\n",
       "      <td>284</td>\n",
       "      <td>£18.01 - £22.67 per hour</td>\n",
       "    </tr>\n",
       "    <tr>\n",
       "      <th>5</th>\n",
       "      <td>339</td>\n",
       "      <td>£23 - £26 per hour</td>\n",
       "    </tr>\n",
       "    <tr>\n",
       "      <th>6</th>\n",
       "      <td>111</td>\n",
       "      <td>£300 - £312.50 per day</td>\n",
       "    </tr>\n",
       "    <tr>\n",
       "      <th>7</th>\n",
       "      <td>113</td>\n",
       "      <td>£400 - £500 per day</td>\n",
       "    </tr>\n",
       "    <tr>\n",
       "      <th>8</th>\n",
       "      <td>116</td>\n",
       "      <td>£350 per day</td>\n",
       "    </tr>\n",
       "    <tr>\n",
       "      <th>9</th>\n",
       "      <td>161</td>\n",
       "      <td>£400 - £450 per day, inc benefits</td>\n",
       "    </tr>\n",
       "    <tr>\n",
       "      <th>10</th>\n",
       "      <td>3</td>\n",
       "      <td>£32,000 per annum</td>\n",
       "    </tr>\n",
       "    <tr>\n",
       "      <th>11</th>\n",
       "      <td>0</td>\n",
       "      <td>£28,000 - £32,000 per annum</td>\n",
       "    </tr>\n",
       "    <tr>\n",
       "      <th>12</th>\n",
       "      <td>115</td>\n",
       "      <td>£30,000 - £60,000 per annum, inc benefits</td>\n",
       "    </tr>\n",
       "    <tr>\n",
       "      <th>13</th>\n",
       "      <td>183</td>\n",
       "      <td>€60,000 - €65,000 per annum</td>\n",
       "    </tr>\n",
       "    <tr>\n",
       "      <th>14</th>\n",
       "      <td>209</td>\n",
       "      <td>£85,000 - £95,000 per annum, OTE</td>\n",
       "    </tr>\n",
       "    <tr>\n",
       "      <th>15</th>\n",
       "      <td>248</td>\n",
       "      <td>£37,500 - £45,000 per annum, OTE, inc benefits...</td>\n",
       "    </tr>\n",
       "    <tr>\n",
       "      <th>16</th>\n",
       "      <td>278</td>\n",
       "      <td>£33,000 - £35,000 per annum, inc benefits</td>\n",
       "    </tr>\n",
       "    <tr>\n",
       "      <th>17</th>\n",
       "      <td>281</td>\n",
       "      <td>£30,000 - £34,000 per annum, inc benefits, neg...</td>\n",
       "    </tr>\n",
       "    <tr>\n",
       "      <th>18</th>\n",
       "      <td>283</td>\n",
       "      <td>£39,000 - £46,000 per annum, OTE, inc benefits...</td>\n",
       "    </tr>\n",
       "  </tbody>\n",
       "</table>\n",
       "</div>"
      ],
      "text/plain": [
       "    h_d_a_index                                     h_d_a_original\n",
       "0           117                                    £18.71 per hour\n",
       "1           156                                 £15 - £17 per hour\n",
       "2           276                                 £23 - £26 per hour\n",
       "3           279                                    £18.01 per hour\n",
       "4           284                           £18.01 - £22.67 per hour\n",
       "5           339                                 £23 - £26 per hour\n",
       "6           111                             £300 - £312.50 per day\n",
       "7           113                                £400 - £500 per day\n",
       "8           116                                       £350 per day\n",
       "9           161                  £400 - £450 per day, inc benefits\n",
       "10            3                                  £32,000 per annum\n",
       "11            0                        £28,000 - £32,000 per annum\n",
       "12          115          £30,000 - £60,000 per annum, inc benefits\n",
       "13          183                        €60,000 - €65,000 per annum\n",
       "14          209                   £85,000 - £95,000 per annum, OTE\n",
       "15          248  £37,500 - £45,000 per annum, OTE, inc benefits...\n",
       "16          278          £33,000 - £35,000 per annum, inc benefits\n",
       "17          281  £30,000 - £34,000 per annum, inc benefits, neg...\n",
       "18          283  £39,000 - £46,000 per annum, OTE, inc benefits..."
      ]
     },
     "execution_count": 11,
     "metadata": {},
     "output_type": "execute_result"
    }
   ],
   "source": [
    "df_hr_day_annum = pd.DataFrame({'h_d_a_index':hr_day_annum.index, 'h_d_a_original':hr_day_annum.values})\n",
    "df_hr_day_annum\n"
   ]
  },
  {
   "cell_type": "code",
   "execution_count": 12,
   "id": "8ce53a89",
   "metadata": {},
   "outputs": [],
   "source": [
    "# Create 'h_d_a' column using the copy of 'h_d_a_original' column\n",
    "df_hr_day_annum['h_d_a'] = df_hr_day_annum['h_d_a_original']\n"
   ]
  },
  {
   "cell_type": "code",
   "execution_count": 13,
   "id": "6e77f8b2",
   "metadata": {},
   "outputs": [
    {
     "data": {
      "text/plain": [
       "Index(['h_d_a_index', 'h_d_a_original', 'h_d_a'], dtype='object')"
      ]
     },
     "execution_count": 13,
     "metadata": {},
     "output_type": "execute_result"
    }
   ],
   "source": [
    "df_hr_day_annum.columns\n"
   ]
  },
  {
   "cell_type": "code",
   "execution_count": 14,
   "id": "17cb04bd",
   "metadata": {},
   "outputs": [
    {
     "data": {
      "text/html": [
       "<div>\n",
       "<style scoped>\n",
       "    .dataframe tbody tr th:only-of-type {\n",
       "        vertical-align: middle;\n",
       "    }\n",
       "\n",
       "    .dataframe tbody tr th {\n",
       "        vertical-align: top;\n",
       "    }\n",
       "\n",
       "    .dataframe thead th {\n",
       "        text-align: right;\n",
       "    }\n",
       "</style>\n",
       "<table border=\"1\" class=\"dataframe\">\n",
       "  <thead>\n",
       "    <tr style=\"text-align: right;\">\n",
       "      <th></th>\n",
       "      <th>h_d_a_index</th>\n",
       "      <th>h_d_a_original</th>\n",
       "      <th>h_d_a</th>\n",
       "    </tr>\n",
       "  </thead>\n",
       "  <tbody>\n",
       "    <tr>\n",
       "      <th>0</th>\n",
       "      <td>117</td>\n",
       "      <td>£18.71 per hour</td>\n",
       "      <td>18.71</td>\n",
       "    </tr>\n",
       "    <tr>\n",
       "      <th>1</th>\n",
       "      <td>156</td>\n",
       "      <td>£15 - £17 per hour</td>\n",
       "      <td>15 - 17</td>\n",
       "    </tr>\n",
       "    <tr>\n",
       "      <th>2</th>\n",
       "      <td>276</td>\n",
       "      <td>£23 - £26 per hour</td>\n",
       "      <td>23 - 26</td>\n",
       "    </tr>\n",
       "    <tr>\n",
       "      <th>3</th>\n",
       "      <td>279</td>\n",
       "      <td>£18.01 per hour</td>\n",
       "      <td>18.01</td>\n",
       "    </tr>\n",
       "    <tr>\n",
       "      <th>4</th>\n",
       "      <td>284</td>\n",
       "      <td>£18.01 - £22.67 per hour</td>\n",
       "      <td>18.01 - 22.67</td>\n",
       "    </tr>\n",
       "    <tr>\n",
       "      <th>5</th>\n",
       "      <td>339</td>\n",
       "      <td>£23 - £26 per hour</td>\n",
       "      <td>23 - 26</td>\n",
       "    </tr>\n",
       "    <tr>\n",
       "      <th>6</th>\n",
       "      <td>111</td>\n",
       "      <td>£300 - £312.50 per day</td>\n",
       "      <td>300 - 312.50</td>\n",
       "    </tr>\n",
       "    <tr>\n",
       "      <th>7</th>\n",
       "      <td>113</td>\n",
       "      <td>£400 - £500 per day</td>\n",
       "      <td>400 - 500</td>\n",
       "    </tr>\n",
       "    <tr>\n",
       "      <th>8</th>\n",
       "      <td>116</td>\n",
       "      <td>£350 per day</td>\n",
       "      <td>350</td>\n",
       "    </tr>\n",
       "    <tr>\n",
       "      <th>9</th>\n",
       "      <td>161</td>\n",
       "      <td>£400 - £450 per day, inc benefits</td>\n",
       "      <td>400 - 450  inc benefits</td>\n",
       "    </tr>\n",
       "    <tr>\n",
       "      <th>10</th>\n",
       "      <td>3</td>\n",
       "      <td>£32,000 per annum</td>\n",
       "      <td>32000</td>\n",
       "    </tr>\n",
       "    <tr>\n",
       "      <th>11</th>\n",
       "      <td>0</td>\n",
       "      <td>£28,000 - £32,000 per annum</td>\n",
       "      <td>28000 - 32000</td>\n",
       "    </tr>\n",
       "    <tr>\n",
       "      <th>12</th>\n",
       "      <td>115</td>\n",
       "      <td>£30,000 - £60,000 per annum, inc benefits</td>\n",
       "      <td>30000 - 60000  inc benefits</td>\n",
       "    </tr>\n",
       "    <tr>\n",
       "      <th>13</th>\n",
       "      <td>183</td>\n",
       "      <td>€60,000 - €65,000 per annum</td>\n",
       "      <td>60000 - 65000</td>\n",
       "    </tr>\n",
       "    <tr>\n",
       "      <th>14</th>\n",
       "      <td>209</td>\n",
       "      <td>£85,000 - £95,000 per annum, OTE</td>\n",
       "      <td>85000 - 95000  OTE</td>\n",
       "    </tr>\n",
       "    <tr>\n",
       "      <th>15</th>\n",
       "      <td>248</td>\n",
       "      <td>£37,500 - £45,000 per annum, OTE, inc benefits...</td>\n",
       "      <td>37500 - 45000  OTE inc benefits negotiable</td>\n",
       "    </tr>\n",
       "    <tr>\n",
       "      <th>16</th>\n",
       "      <td>278</td>\n",
       "      <td>£33,000 - £35,000 per annum, inc benefits</td>\n",
       "      <td>33000 - 35000  inc benefits</td>\n",
       "    </tr>\n",
       "    <tr>\n",
       "      <th>17</th>\n",
       "      <td>281</td>\n",
       "      <td>£30,000 - £34,000 per annum, inc benefits, neg...</td>\n",
       "      <td>30000 - 34000  inc benefits negotiable</td>\n",
       "    </tr>\n",
       "    <tr>\n",
       "      <th>18</th>\n",
       "      <td>283</td>\n",
       "      <td>£39,000 - £46,000 per annum, OTE, inc benefits...</td>\n",
       "      <td>39000 - 46000  OTE inc benefits negotiable</td>\n",
       "    </tr>\n",
       "  </tbody>\n",
       "</table>\n",
       "</div>"
      ],
      "text/plain": [
       "    h_d_a_index                                     h_d_a_original  \\\n",
       "0           117                                    £18.71 per hour   \n",
       "1           156                                 £15 - £17 per hour   \n",
       "2           276                                 £23 - £26 per hour   \n",
       "3           279                                    £18.01 per hour   \n",
       "4           284                           £18.01 - £22.67 per hour   \n",
       "5           339                                 £23 - £26 per hour   \n",
       "6           111                             £300 - £312.50 per day   \n",
       "7           113                                £400 - £500 per day   \n",
       "8           116                                       £350 per day   \n",
       "9           161                  £400 - £450 per day, inc benefits   \n",
       "10            3                                  £32,000 per annum   \n",
       "11            0                        £28,000 - £32,000 per annum   \n",
       "12          115          £30,000 - £60,000 per annum, inc benefits   \n",
       "13          183                        €60,000 - €65,000 per annum   \n",
       "14          209                   £85,000 - £95,000 per annum, OTE   \n",
       "15          248  £37,500 - £45,000 per annum, OTE, inc benefits...   \n",
       "16          278          £33,000 - £35,000 per annum, inc benefits   \n",
       "17          281  £30,000 - £34,000 per annum, inc benefits, neg...   \n",
       "18          283  £39,000 - £46,000 per annum, OTE, inc benefits...   \n",
       "\n",
       "                                         h_d_a  \n",
       "0                                       18.71   \n",
       "1                                     15 - 17   \n",
       "2                                     23 - 26   \n",
       "3                                       18.01   \n",
       "4                               18.01 - 22.67   \n",
       "5                                     23 - 26   \n",
       "6                                300 - 312.50   \n",
       "7                                   400 - 500   \n",
       "8                                         350   \n",
       "9                      400 - 450  inc benefits  \n",
       "10                                      32000   \n",
       "11                              28000 - 32000   \n",
       "12                 30000 - 60000  inc benefits  \n",
       "13                              60000 - 65000   \n",
       "14                          85000 - 95000  OTE  \n",
       "15  37500 - 45000  OTE inc benefits negotiable  \n",
       "16                 33000 - 35000  inc benefits  \n",
       "17      30000 - 34000  inc benefits negotiable  \n",
       "18  39000 - 46000  OTE inc benefits negotiable  "
      ]
     },
     "execution_count": 14,
     "metadata": {},
     "output_type": "execute_result"
    }
   ],
   "source": [
    "# Replace the £ sign with empty space\n",
    "df_hr_day_annum[ 'h_d_a'].replace('£', '', regex=True, inplace=True)\n",
    "df_hr_day_annum[ 'h_d_a'].replace('€', '',  regex=True, inplace=True)\n",
    "df_hr_day_annum[ 'h_d_a'].replace('per day', '', regex=True, inplace=True)\n",
    "df_hr_day_annum[ 'h_d_a'].replace('per annum', '', regex=True, inplace=True)\n",
    "df_hr_day_annum[ 'h_d_a'].replace(',', '', regex=True, inplace=True)\n",
    "df_hr_day_annum[ 'h_d_a'].replace('per hour', '', regex=True, inplace=True)\n",
    "df_hr_day_annum\n"
   ]
  },
  {
   "cell_type": "code",
   "execution_count": null,
   "id": "82400284",
   "metadata": {},
   "outputs": [],
   "source": []
  },
  {
   "cell_type": "code",
   "execution_count": 15,
   "id": "5a0241c0",
   "metadata": {},
   "outputs": [
    {
     "name": "stdout",
     "output_type": "stream",
     "text": [
      "['18.71', '15', '23', '18.01', '18.01', '23', '300', '400', '350', '400', '32000', '28000', '30000', '60000', '85000', '37500', '33000', '30000', '39000']\n",
      "[0, '17', '26', 0, '22.67', '26', '312.50', '500', 0, '450', 0, '32000', '60000', '65000', '95000', '45000', '35000', '34000', '46000']\n"
     ]
    }
   ],
   "source": [
    "min_salary   =[]\n",
    "max_salary  = []\n",
    "\n",
    "for i in df_hr_day_annum[ 'h_d_a']:\n",
    "    \n",
    "    \n",
    "    #for minimum \n",
    "    n = i.split()[0]      \n",
    "    min_salary.append(n)\n",
    "    \n",
    "    # for maximum \n",
    "    if len(i.split())==1:\n",
    "        x = 0\n",
    "    else: \n",
    "        x = i.split()[2]  \n",
    "    \n",
    "    max_salary.append(x)\n",
    "\n",
    "print(min_salary)\n",
    "print(max_salary)\n",
    "df_hr_day_annum['min_salary'] = min_salary\n",
    "df_hr_day_annum['max_salary'] = max_salary\n",
    "\n"
   ]
  },
  {
   "cell_type": "code",
   "execution_count": 16,
   "id": "e30dff2f",
   "metadata": {},
   "outputs": [
    {
     "data": {
      "text/html": [
       "<div>\n",
       "<style scoped>\n",
       "    .dataframe tbody tr th:only-of-type {\n",
       "        vertical-align: middle;\n",
       "    }\n",
       "\n",
       "    .dataframe tbody tr th {\n",
       "        vertical-align: top;\n",
       "    }\n",
       "\n",
       "    .dataframe thead th {\n",
       "        text-align: right;\n",
       "    }\n",
       "</style>\n",
       "<table border=\"1\" class=\"dataframe\">\n",
       "  <thead>\n",
       "    <tr style=\"text-align: right;\">\n",
       "      <th></th>\n",
       "      <th>h_d_a_index</th>\n",
       "      <th>h_d_a_original</th>\n",
       "      <th>h_d_a</th>\n",
       "      <th>min_salary</th>\n",
       "      <th>max_salary</th>\n",
       "    </tr>\n",
       "  </thead>\n",
       "  <tbody>\n",
       "    <tr>\n",
       "      <th>0</th>\n",
       "      <td>117</td>\n",
       "      <td>£18.71 per hour</td>\n",
       "      <td>18.71</td>\n",
       "      <td>18.71</td>\n",
       "      <td>0</td>\n",
       "    </tr>\n",
       "    <tr>\n",
       "      <th>1</th>\n",
       "      <td>156</td>\n",
       "      <td>£15 - £17 per hour</td>\n",
       "      <td>15 - 17</td>\n",
       "      <td>15</td>\n",
       "      <td>17</td>\n",
       "    </tr>\n",
       "    <tr>\n",
       "      <th>2</th>\n",
       "      <td>276</td>\n",
       "      <td>£23 - £26 per hour</td>\n",
       "      <td>23 - 26</td>\n",
       "      <td>23</td>\n",
       "      <td>26</td>\n",
       "    </tr>\n",
       "    <tr>\n",
       "      <th>3</th>\n",
       "      <td>279</td>\n",
       "      <td>£18.01 per hour</td>\n",
       "      <td>18.01</td>\n",
       "      <td>18.01</td>\n",
       "      <td>0</td>\n",
       "    </tr>\n",
       "    <tr>\n",
       "      <th>4</th>\n",
       "      <td>284</td>\n",
       "      <td>£18.01 - £22.67 per hour</td>\n",
       "      <td>18.01 - 22.67</td>\n",
       "      <td>18.01</td>\n",
       "      <td>22.67</td>\n",
       "    </tr>\n",
       "    <tr>\n",
       "      <th>5</th>\n",
       "      <td>339</td>\n",
       "      <td>£23 - £26 per hour</td>\n",
       "      <td>23 - 26</td>\n",
       "      <td>23</td>\n",
       "      <td>26</td>\n",
       "    </tr>\n",
       "    <tr>\n",
       "      <th>6</th>\n",
       "      <td>111</td>\n",
       "      <td>£300 - £312.50 per day</td>\n",
       "      <td>300 - 312.50</td>\n",
       "      <td>300</td>\n",
       "      <td>312.50</td>\n",
       "    </tr>\n",
       "    <tr>\n",
       "      <th>7</th>\n",
       "      <td>113</td>\n",
       "      <td>£400 - £500 per day</td>\n",
       "      <td>400 - 500</td>\n",
       "      <td>400</td>\n",
       "      <td>500</td>\n",
       "    </tr>\n",
       "    <tr>\n",
       "      <th>8</th>\n",
       "      <td>116</td>\n",
       "      <td>£350 per day</td>\n",
       "      <td>350</td>\n",
       "      <td>350</td>\n",
       "      <td>0</td>\n",
       "    </tr>\n",
       "    <tr>\n",
       "      <th>9</th>\n",
       "      <td>161</td>\n",
       "      <td>£400 - £450 per day, inc benefits</td>\n",
       "      <td>400 - 450  inc benefits</td>\n",
       "      <td>400</td>\n",
       "      <td>450</td>\n",
       "    </tr>\n",
       "    <tr>\n",
       "      <th>10</th>\n",
       "      <td>3</td>\n",
       "      <td>£32,000 per annum</td>\n",
       "      <td>32000</td>\n",
       "      <td>32000</td>\n",
       "      <td>0</td>\n",
       "    </tr>\n",
       "    <tr>\n",
       "      <th>11</th>\n",
       "      <td>0</td>\n",
       "      <td>£28,000 - £32,000 per annum</td>\n",
       "      <td>28000 - 32000</td>\n",
       "      <td>28000</td>\n",
       "      <td>32000</td>\n",
       "    </tr>\n",
       "    <tr>\n",
       "      <th>12</th>\n",
       "      <td>115</td>\n",
       "      <td>£30,000 - £60,000 per annum, inc benefits</td>\n",
       "      <td>30000 - 60000  inc benefits</td>\n",
       "      <td>30000</td>\n",
       "      <td>60000</td>\n",
       "    </tr>\n",
       "    <tr>\n",
       "      <th>13</th>\n",
       "      <td>183</td>\n",
       "      <td>€60,000 - €65,000 per annum</td>\n",
       "      <td>60000 - 65000</td>\n",
       "      <td>60000</td>\n",
       "      <td>65000</td>\n",
       "    </tr>\n",
       "    <tr>\n",
       "      <th>14</th>\n",
       "      <td>209</td>\n",
       "      <td>£85,000 - £95,000 per annum, OTE</td>\n",
       "      <td>85000 - 95000  OTE</td>\n",
       "      <td>85000</td>\n",
       "      <td>95000</td>\n",
       "    </tr>\n",
       "    <tr>\n",
       "      <th>15</th>\n",
       "      <td>248</td>\n",
       "      <td>£37,500 - £45,000 per annum, OTE, inc benefits...</td>\n",
       "      <td>37500 - 45000  OTE inc benefits negotiable</td>\n",
       "      <td>37500</td>\n",
       "      <td>45000</td>\n",
       "    </tr>\n",
       "    <tr>\n",
       "      <th>16</th>\n",
       "      <td>278</td>\n",
       "      <td>£33,000 - £35,000 per annum, inc benefits</td>\n",
       "      <td>33000 - 35000  inc benefits</td>\n",
       "      <td>33000</td>\n",
       "      <td>35000</td>\n",
       "    </tr>\n",
       "    <tr>\n",
       "      <th>17</th>\n",
       "      <td>281</td>\n",
       "      <td>£30,000 - £34,000 per annum, inc benefits, neg...</td>\n",
       "      <td>30000 - 34000  inc benefits negotiable</td>\n",
       "      <td>30000</td>\n",
       "      <td>34000</td>\n",
       "    </tr>\n",
       "    <tr>\n",
       "      <th>18</th>\n",
       "      <td>283</td>\n",
       "      <td>£39,000 - £46,000 per annum, OTE, inc benefits...</td>\n",
       "      <td>39000 - 46000  OTE inc benefits negotiable</td>\n",
       "      <td>39000</td>\n",
       "      <td>46000</td>\n",
       "    </tr>\n",
       "  </tbody>\n",
       "</table>\n",
       "</div>"
      ],
      "text/plain": [
       "    h_d_a_index                                     h_d_a_original  \\\n",
       "0           117                                    £18.71 per hour   \n",
       "1           156                                 £15 - £17 per hour   \n",
       "2           276                                 £23 - £26 per hour   \n",
       "3           279                                    £18.01 per hour   \n",
       "4           284                           £18.01 - £22.67 per hour   \n",
       "5           339                                 £23 - £26 per hour   \n",
       "6           111                             £300 - £312.50 per day   \n",
       "7           113                                £400 - £500 per day   \n",
       "8           116                                       £350 per day   \n",
       "9           161                  £400 - £450 per day, inc benefits   \n",
       "10            3                                  £32,000 per annum   \n",
       "11            0                        £28,000 - £32,000 per annum   \n",
       "12          115          £30,000 - £60,000 per annum, inc benefits   \n",
       "13          183                        €60,000 - €65,000 per annum   \n",
       "14          209                   £85,000 - £95,000 per annum, OTE   \n",
       "15          248  £37,500 - £45,000 per annum, OTE, inc benefits...   \n",
       "16          278          £33,000 - £35,000 per annum, inc benefits   \n",
       "17          281  £30,000 - £34,000 per annum, inc benefits, neg...   \n",
       "18          283  £39,000 - £46,000 per annum, OTE, inc benefits...   \n",
       "\n",
       "                                         h_d_a min_salary max_salary  \n",
       "0                                       18.71       18.71          0  \n",
       "1                                     15 - 17          15         17  \n",
       "2                                     23 - 26          23         26  \n",
       "3                                       18.01       18.01          0  \n",
       "4                               18.01 - 22.67       18.01      22.67  \n",
       "5                                     23 - 26          23         26  \n",
       "6                                300 - 312.50         300     312.50  \n",
       "7                                   400 - 500         400        500  \n",
       "8                                         350         350          0  \n",
       "9                      400 - 450  inc benefits        400        450  \n",
       "10                                      32000       32000          0  \n",
       "11                              28000 - 32000       28000      32000  \n",
       "12                 30000 - 60000  inc benefits      30000      60000  \n",
       "13                              60000 - 65000       60000      65000  \n",
       "14                          85000 - 95000  OTE      85000      95000  \n",
       "15  37500 - 45000  OTE inc benefits negotiable      37500      45000  \n",
       "16                 33000 - 35000  inc benefits      33000      35000  \n",
       "17      30000 - 34000  inc benefits negotiable      30000      34000  \n",
       "18  39000 - 46000  OTE inc benefits negotiable      39000      46000  "
      ]
     },
     "execution_count": 16,
     "metadata": {},
     "output_type": "execute_result"
    }
   ],
   "source": [
    "df_hr_day_annum"
   ]
  },
  {
   "cell_type": "code",
   "execution_count": 17,
   "id": "5485e596",
   "metadata": {},
   "outputs": [
    {
     "data": {
      "text/plain": [
       "Index(['h_d_a_index', 'h_d_a_original', 'h_d_a', 'min_salary', 'max_salary'], dtype='object')"
      ]
     },
     "execution_count": 17,
     "metadata": {},
     "output_type": "execute_result"
    }
   ],
   "source": [
    "df_hr_day_annum.columns"
   ]
  },
  {
   "cell_type": "markdown",
   "id": "55b2a4b8",
   "metadata": {},
   "source": [
    "- **Salary per hour is less than £100**\n",
    "- **Salary per day is greater than £200 and less than £1000**\n"
   ]
  },
  {
   "cell_type": "code",
   "execution_count": 18,
   "id": "522dc3a3",
   "metadata": {},
   "outputs": [
    {
     "name": "stdout",
     "output_type": "stream",
     "text": [
      "<class 'pandas.core.frame.DataFrame'>\n",
      "RangeIndex: 19 entries, 0 to 18\n",
      "Data columns (total 5 columns):\n",
      " #   Column          Non-Null Count  Dtype \n",
      "---  ------          --------------  ----- \n",
      " 0   h_d_a_index     19 non-null     int64 \n",
      " 1   h_d_a_original  19 non-null     object\n",
      " 2   h_d_a           19 non-null     object\n",
      " 3   min_salary      19 non-null     object\n",
      " 4   max_salary      19 non-null     object\n",
      "dtypes: int64(1), object(4)\n",
      "memory usage: 888.0+ bytes\n"
     ]
    }
   ],
   "source": [
    "df_hr_day_annum.info()"
   ]
  },
  {
   "cell_type": "code",
   "execution_count": 19,
   "id": "5ed1c50d",
   "metadata": {
    "scrolled": true
   },
   "outputs": [
    {
     "name": "stdout",
     "output_type": "stream",
     "text": [
      "<class 'pandas.core.frame.DataFrame'>\n",
      "RangeIndex: 19 entries, 0 to 18\n",
      "Data columns (total 5 columns):\n",
      " #   Column          Non-Null Count  Dtype  \n",
      "---  ------          --------------  -----  \n",
      " 0   h_d_a_index     19 non-null     int64  \n",
      " 1   h_d_a_original  19 non-null     object \n",
      " 2   h_d_a           19 non-null     object \n",
      " 3   min_salary      19 non-null     float64\n",
      " 4   max_salary      19 non-null     float64\n",
      "dtypes: float64(2), int64(1), object(2)\n",
      "memory usage: 888.0+ bytes\n"
     ]
    }
   ],
   "source": [
    "# change 'min_salary' and 'max_salary' to numeric \n",
    "df_hr_day_annum['min_salary'] = pd.to_numeric(df_hr_day_annum['min_salary'])\n",
    "df_hr_day_annum['max_salary'] = pd.to_numeric(df_hr_day_annum['max_salary'])\n",
    "df_hr_day_annum.info()\n"
   ]
  },
  {
   "cell_type": "code",
   "execution_count": 20,
   "id": "ebc81c1a",
   "metadata": {},
   "outputs": [
    {
     "data": {
      "text/html": [
       "<div>\n",
       "<style scoped>\n",
       "    .dataframe tbody tr th:only-of-type {\n",
       "        vertical-align: middle;\n",
       "    }\n",
       "\n",
       "    .dataframe tbody tr th {\n",
       "        vertical-align: top;\n",
       "    }\n",
       "\n",
       "    .dataframe thead th {\n",
       "        text-align: right;\n",
       "    }\n",
       "</style>\n",
       "<table border=\"1\" class=\"dataframe\">\n",
       "  <thead>\n",
       "    <tr style=\"text-align: right;\">\n",
       "      <th></th>\n",
       "      <th>h_d_a_index</th>\n",
       "      <th>h_d_a_original</th>\n",
       "      <th>h_d_a</th>\n",
       "      <th>min_salary</th>\n",
       "      <th>max_salary</th>\n",
       "    </tr>\n",
       "  </thead>\n",
       "  <tbody>\n",
       "    <tr>\n",
       "      <th>1</th>\n",
       "      <td>156</td>\n",
       "      <td>£15 - £17 per hour</td>\n",
       "      <td>15 - 17</td>\n",
       "      <td>15.0</td>\n",
       "      <td>17.0</td>\n",
       "    </tr>\n",
       "  </tbody>\n",
       "</table>\n",
       "</div>"
      ],
      "text/plain": [
       "   h_d_a_index      h_d_a_original     h_d_a  min_salary  max_salary\n",
       "1          156  £15 - £17 per hour  15 - 17         15.0        17.0"
      ]
     },
     "execution_count": 20,
     "metadata": {},
     "output_type": "execute_result"
    }
   ],
   "source": [
    "df_hr_day_annum[df_hr_day_annum['min_salary']==15]"
   ]
  },
  {
   "cell_type": "code",
   "execution_count": 21,
   "id": "0fe6cc9b",
   "metadata": {},
   "outputs": [
    {
     "data": {
      "text/html": [
       "<div>\n",
       "<style scoped>\n",
       "    .dataframe tbody tr th:only-of-type {\n",
       "        vertical-align: middle;\n",
       "    }\n",
       "\n",
       "    .dataframe tbody tr th {\n",
       "        vertical-align: top;\n",
       "    }\n",
       "\n",
       "    .dataframe thead th {\n",
       "        text-align: right;\n",
       "    }\n",
       "</style>\n",
       "<table border=\"1\" class=\"dataframe\">\n",
       "  <thead>\n",
       "    <tr style=\"text-align: right;\">\n",
       "      <th></th>\n",
       "      <th>h_d_a_index</th>\n",
       "      <th>h_d_a_original</th>\n",
       "      <th>h_d_a</th>\n",
       "      <th>min_salary</th>\n",
       "      <th>max_salary</th>\n",
       "    </tr>\n",
       "  </thead>\n",
       "  <tbody>\n",
       "    <tr>\n",
       "      <th>0</th>\n",
       "      <td>117</td>\n",
       "      <td>£18.71 per hour</td>\n",
       "      <td>18.71</td>\n",
       "      <td>11675.04</td>\n",
       "      <td>0.00</td>\n",
       "    </tr>\n",
       "    <tr>\n",
       "      <th>1</th>\n",
       "      <td>156</td>\n",
       "      <td>£15 - £17 per hour</td>\n",
       "      <td>15 - 17</td>\n",
       "      <td>9360.00</td>\n",
       "      <td>10608.00</td>\n",
       "    </tr>\n",
       "    <tr>\n",
       "      <th>2</th>\n",
       "      <td>276</td>\n",
       "      <td>£23 - £26 per hour</td>\n",
       "      <td>23 - 26</td>\n",
       "      <td>14352.00</td>\n",
       "      <td>16224.00</td>\n",
       "    </tr>\n",
       "    <tr>\n",
       "      <th>3</th>\n",
       "      <td>279</td>\n",
       "      <td>£18.01 per hour</td>\n",
       "      <td>18.01</td>\n",
       "      <td>11238.24</td>\n",
       "      <td>0.00</td>\n",
       "    </tr>\n",
       "    <tr>\n",
       "      <th>4</th>\n",
       "      <td>284</td>\n",
       "      <td>£18.01 - £22.67 per hour</td>\n",
       "      <td>18.01 - 22.67</td>\n",
       "      <td>11238.24</td>\n",
       "      <td>14146.08</td>\n",
       "    </tr>\n",
       "    <tr>\n",
       "      <th>5</th>\n",
       "      <td>339</td>\n",
       "      <td>£23 - £26 per hour</td>\n",
       "      <td>23 - 26</td>\n",
       "      <td>14352.00</td>\n",
       "      <td>16224.00</td>\n",
       "    </tr>\n",
       "    <tr>\n",
       "      <th>6</th>\n",
       "      <td>111</td>\n",
       "      <td>£300 - £312.50 per day</td>\n",
       "      <td>300 - 312.50</td>\n",
       "      <td>300.00</td>\n",
       "      <td>312.50</td>\n",
       "    </tr>\n",
       "    <tr>\n",
       "      <th>7</th>\n",
       "      <td>113</td>\n",
       "      <td>£400 - £500 per day</td>\n",
       "      <td>400 - 500</td>\n",
       "      <td>400.00</td>\n",
       "      <td>500.00</td>\n",
       "    </tr>\n",
       "    <tr>\n",
       "      <th>8</th>\n",
       "      <td>116</td>\n",
       "      <td>£350 per day</td>\n",
       "      <td>350</td>\n",
       "      <td>350.00</td>\n",
       "      <td>0.00</td>\n",
       "    </tr>\n",
       "    <tr>\n",
       "      <th>9</th>\n",
       "      <td>161</td>\n",
       "      <td>£400 - £450 per day, inc benefits</td>\n",
       "      <td>400 - 450  inc benefits</td>\n",
       "      <td>400.00</td>\n",
       "      <td>450.00</td>\n",
       "    </tr>\n",
       "    <tr>\n",
       "      <th>10</th>\n",
       "      <td>3</td>\n",
       "      <td>£32,000 per annum</td>\n",
       "      <td>32000</td>\n",
       "      <td>32000.00</td>\n",
       "      <td>0.00</td>\n",
       "    </tr>\n",
       "    <tr>\n",
       "      <th>11</th>\n",
       "      <td>0</td>\n",
       "      <td>£28,000 - £32,000 per annum</td>\n",
       "      <td>28000 - 32000</td>\n",
       "      <td>28000.00</td>\n",
       "      <td>32000.00</td>\n",
       "    </tr>\n",
       "    <tr>\n",
       "      <th>12</th>\n",
       "      <td>115</td>\n",
       "      <td>£30,000 - £60,000 per annum, inc benefits</td>\n",
       "      <td>30000 - 60000  inc benefits</td>\n",
       "      <td>30000.00</td>\n",
       "      <td>60000.00</td>\n",
       "    </tr>\n",
       "    <tr>\n",
       "      <th>13</th>\n",
       "      <td>183</td>\n",
       "      <td>€60,000 - €65,000 per annum</td>\n",
       "      <td>60000 - 65000</td>\n",
       "      <td>60000.00</td>\n",
       "      <td>65000.00</td>\n",
       "    </tr>\n",
       "    <tr>\n",
       "      <th>14</th>\n",
       "      <td>209</td>\n",
       "      <td>£85,000 - £95,000 per annum, OTE</td>\n",
       "      <td>85000 - 95000  OTE</td>\n",
       "      <td>85000.00</td>\n",
       "      <td>95000.00</td>\n",
       "    </tr>\n",
       "    <tr>\n",
       "      <th>15</th>\n",
       "      <td>248</td>\n",
       "      <td>£37,500 - £45,000 per annum, OTE, inc benefits...</td>\n",
       "      <td>37500 - 45000  OTE inc benefits negotiable</td>\n",
       "      <td>37500.00</td>\n",
       "      <td>45000.00</td>\n",
       "    </tr>\n",
       "    <tr>\n",
       "      <th>16</th>\n",
       "      <td>278</td>\n",
       "      <td>£33,000 - £35,000 per annum, inc benefits</td>\n",
       "      <td>33000 - 35000  inc benefits</td>\n",
       "      <td>33000.00</td>\n",
       "      <td>35000.00</td>\n",
       "    </tr>\n",
       "    <tr>\n",
       "      <th>17</th>\n",
       "      <td>281</td>\n",
       "      <td>£30,000 - £34,000 per annum, inc benefits, neg...</td>\n",
       "      <td>30000 - 34000  inc benefits negotiable</td>\n",
       "      <td>30000.00</td>\n",
       "      <td>34000.00</td>\n",
       "    </tr>\n",
       "    <tr>\n",
       "      <th>18</th>\n",
       "      <td>283</td>\n",
       "      <td>£39,000 - £46,000 per annum, OTE, inc benefits...</td>\n",
       "      <td>39000 - 46000  OTE inc benefits negotiable</td>\n",
       "      <td>39000.00</td>\n",
       "      <td>46000.00</td>\n",
       "    </tr>\n",
       "  </tbody>\n",
       "</table>\n",
       "</div>"
      ],
      "text/plain": [
       "    h_d_a_index                                     h_d_a_original  \\\n",
       "0           117                                    £18.71 per hour   \n",
       "1           156                                 £15 - £17 per hour   \n",
       "2           276                                 £23 - £26 per hour   \n",
       "3           279                                    £18.01 per hour   \n",
       "4           284                           £18.01 - £22.67 per hour   \n",
       "5           339                                 £23 - £26 per hour   \n",
       "6           111                             £300 - £312.50 per day   \n",
       "7           113                                £400 - £500 per day   \n",
       "8           116                                       £350 per day   \n",
       "9           161                  £400 - £450 per day, inc benefits   \n",
       "10            3                                  £32,000 per annum   \n",
       "11            0                        £28,000 - £32,000 per annum   \n",
       "12          115          £30,000 - £60,000 per annum, inc benefits   \n",
       "13          183                        €60,000 - €65,000 per annum   \n",
       "14          209                   £85,000 - £95,000 per annum, OTE   \n",
       "15          248  £37,500 - £45,000 per annum, OTE, inc benefits...   \n",
       "16          278          £33,000 - £35,000 per annum, inc benefits   \n",
       "17          281  £30,000 - £34,000 per annum, inc benefits, neg...   \n",
       "18          283  £39,000 - £46,000 per annum, OTE, inc benefits...   \n",
       "\n",
       "                                         h_d_a  min_salary  max_salary  \n",
       "0                                       18.71     11675.04        0.00  \n",
       "1                                     15 - 17      9360.00    10608.00  \n",
       "2                                     23 - 26     14352.00    16224.00  \n",
       "3                                       18.01     11238.24        0.00  \n",
       "4                               18.01 - 22.67     11238.24    14146.08  \n",
       "5                                     23 - 26     14352.00    16224.00  \n",
       "6                                300 - 312.50       300.00      312.50  \n",
       "7                                   400 - 500       400.00      500.00  \n",
       "8                                         350       350.00        0.00  \n",
       "9                      400 - 450  inc benefits      400.00      450.00  \n",
       "10                                      32000     32000.00        0.00  \n",
       "11                              28000 - 32000     28000.00    32000.00  \n",
       "12                 30000 - 60000  inc benefits    30000.00    60000.00  \n",
       "13                              60000 - 65000     60000.00    65000.00  \n",
       "14                          85000 - 95000  OTE    85000.00    95000.00  \n",
       "15  37500 - 45000  OTE inc benefits negotiable    37500.00    45000.00  \n",
       "16                 33000 - 35000  inc benefits    33000.00    35000.00  \n",
       "17      30000 - 34000  inc benefits negotiable    30000.00    34000.00  \n",
       "18  39000 - 46000  OTE inc benefits negotiable    39000.00    46000.00  "
      ]
     },
     "execution_count": 21,
     "metadata": {},
     "output_type": "execute_result"
    }
   ],
   "source": [
    "for i in df_hr_day_annum['min_salary']:\n",
    "    \n",
    "     if i < 100:\n",
    "            df_hr_day_annum.loc[df_hr_day_annum['min_salary']==i, 'min_salary'] = i * 12 * 52\n",
    "    \n",
    "for n in df_hr_day_annum['max_salary']:\n",
    "    \n",
    "    if n < 100:\n",
    "        df_hr_day_annum.loc[df_hr_day_annum['max_salary']==n, 'max_salary'] = n * 12 * 52\n",
    "        \n",
    "\n",
    "df_hr_day_annum\n"
   ]
  },
  {
   "cell_type": "code",
   "execution_count": null,
   "id": "1242a605",
   "metadata": {},
   "outputs": [],
   "source": []
  },
  {
   "cell_type": "code",
   "execution_count": 22,
   "id": "8273aa10",
   "metadata": {},
   "outputs": [
    {
     "data": {
      "text/html": [
       "<div>\n",
       "<style scoped>\n",
       "    .dataframe tbody tr th:only-of-type {\n",
       "        vertical-align: middle;\n",
       "    }\n",
       "\n",
       "    .dataframe tbody tr th {\n",
       "        vertical-align: top;\n",
       "    }\n",
       "\n",
       "    .dataframe thead th {\n",
       "        text-align: right;\n",
       "    }\n",
       "</style>\n",
       "<table border=\"1\" class=\"dataframe\">\n",
       "  <thead>\n",
       "    <tr style=\"text-align: right;\">\n",
       "      <th></th>\n",
       "      <th>h_d_a_index</th>\n",
       "      <th>h_d_a_original</th>\n",
       "      <th>h_d_a</th>\n",
       "      <th>min_salary</th>\n",
       "      <th>max_salary</th>\n",
       "    </tr>\n",
       "  </thead>\n",
       "  <tbody>\n",
       "    <tr>\n",
       "      <th>0</th>\n",
       "      <td>117</td>\n",
       "      <td>£18.71 per hour</td>\n",
       "      <td>18.71</td>\n",
       "      <td>11675.04</td>\n",
       "      <td>0.00</td>\n",
       "    </tr>\n",
       "    <tr>\n",
       "      <th>1</th>\n",
       "      <td>156</td>\n",
       "      <td>£15 - £17 per hour</td>\n",
       "      <td>15 - 17</td>\n",
       "      <td>9360.00</td>\n",
       "      <td>10608.00</td>\n",
       "    </tr>\n",
       "    <tr>\n",
       "      <th>2</th>\n",
       "      <td>276</td>\n",
       "      <td>£23 - £26 per hour</td>\n",
       "      <td>23 - 26</td>\n",
       "      <td>14352.00</td>\n",
       "      <td>16224.00</td>\n",
       "    </tr>\n",
       "    <tr>\n",
       "      <th>3</th>\n",
       "      <td>279</td>\n",
       "      <td>£18.01 per hour</td>\n",
       "      <td>18.01</td>\n",
       "      <td>11238.24</td>\n",
       "      <td>0.00</td>\n",
       "    </tr>\n",
       "    <tr>\n",
       "      <th>4</th>\n",
       "      <td>284</td>\n",
       "      <td>£18.01 - £22.67 per hour</td>\n",
       "      <td>18.01 - 22.67</td>\n",
       "      <td>11238.24</td>\n",
       "      <td>14146.08</td>\n",
       "    </tr>\n",
       "    <tr>\n",
       "      <th>5</th>\n",
       "      <td>339</td>\n",
       "      <td>£23 - £26 per hour</td>\n",
       "      <td>23 - 26</td>\n",
       "      <td>14352.00</td>\n",
       "      <td>16224.00</td>\n",
       "    </tr>\n",
       "    <tr>\n",
       "      <th>6</th>\n",
       "      <td>111</td>\n",
       "      <td>£300 - £312.50 per day</td>\n",
       "      <td>300 - 312.50</td>\n",
       "      <td>75600.00</td>\n",
       "      <td>78750.00</td>\n",
       "    </tr>\n",
       "    <tr>\n",
       "      <th>7</th>\n",
       "      <td>113</td>\n",
       "      <td>£400 - £500 per day</td>\n",
       "      <td>400 - 500</td>\n",
       "      <td>100800.00</td>\n",
       "      <td>126000.00</td>\n",
       "    </tr>\n",
       "    <tr>\n",
       "      <th>8</th>\n",
       "      <td>116</td>\n",
       "      <td>£350 per day</td>\n",
       "      <td>350</td>\n",
       "      <td>88200.00</td>\n",
       "      <td>0.00</td>\n",
       "    </tr>\n",
       "    <tr>\n",
       "      <th>9</th>\n",
       "      <td>161</td>\n",
       "      <td>£400 - £450 per day, inc benefits</td>\n",
       "      <td>400 - 450  inc benefits</td>\n",
       "      <td>100800.00</td>\n",
       "      <td>113400.00</td>\n",
       "    </tr>\n",
       "    <tr>\n",
       "      <th>10</th>\n",
       "      <td>3</td>\n",
       "      <td>£32,000 per annum</td>\n",
       "      <td>32000</td>\n",
       "      <td>32000.00</td>\n",
       "      <td>0.00</td>\n",
       "    </tr>\n",
       "    <tr>\n",
       "      <th>11</th>\n",
       "      <td>0</td>\n",
       "      <td>£28,000 - £32,000 per annum</td>\n",
       "      <td>28000 - 32000</td>\n",
       "      <td>28000.00</td>\n",
       "      <td>32000.00</td>\n",
       "    </tr>\n",
       "    <tr>\n",
       "      <th>12</th>\n",
       "      <td>115</td>\n",
       "      <td>£30,000 - £60,000 per annum, inc benefits</td>\n",
       "      <td>30000 - 60000  inc benefits</td>\n",
       "      <td>30000.00</td>\n",
       "      <td>60000.00</td>\n",
       "    </tr>\n",
       "    <tr>\n",
       "      <th>13</th>\n",
       "      <td>183</td>\n",
       "      <td>€60,000 - €65,000 per annum</td>\n",
       "      <td>60000 - 65000</td>\n",
       "      <td>60000.00</td>\n",
       "      <td>65000.00</td>\n",
       "    </tr>\n",
       "    <tr>\n",
       "      <th>14</th>\n",
       "      <td>209</td>\n",
       "      <td>£85,000 - £95,000 per annum, OTE</td>\n",
       "      <td>85000 - 95000  OTE</td>\n",
       "      <td>85000.00</td>\n",
       "      <td>95000.00</td>\n",
       "    </tr>\n",
       "    <tr>\n",
       "      <th>15</th>\n",
       "      <td>248</td>\n",
       "      <td>£37,500 - £45,000 per annum, OTE, inc benefits...</td>\n",
       "      <td>37500 - 45000  OTE inc benefits negotiable</td>\n",
       "      <td>37500.00</td>\n",
       "      <td>45000.00</td>\n",
       "    </tr>\n",
       "    <tr>\n",
       "      <th>16</th>\n",
       "      <td>278</td>\n",
       "      <td>£33,000 - £35,000 per annum, inc benefits</td>\n",
       "      <td>33000 - 35000  inc benefits</td>\n",
       "      <td>33000.00</td>\n",
       "      <td>35000.00</td>\n",
       "    </tr>\n",
       "    <tr>\n",
       "      <th>17</th>\n",
       "      <td>281</td>\n",
       "      <td>£30,000 - £34,000 per annum, inc benefits, neg...</td>\n",
       "      <td>30000 - 34000  inc benefits negotiable</td>\n",
       "      <td>30000.00</td>\n",
       "      <td>34000.00</td>\n",
       "    </tr>\n",
       "    <tr>\n",
       "      <th>18</th>\n",
       "      <td>283</td>\n",
       "      <td>£39,000 - £46,000 per annum, OTE, inc benefits...</td>\n",
       "      <td>39000 - 46000  OTE inc benefits negotiable</td>\n",
       "      <td>39000.00</td>\n",
       "      <td>46000.00</td>\n",
       "    </tr>\n",
       "  </tbody>\n",
       "</table>\n",
       "</div>"
      ],
      "text/plain": [
       "    h_d_a_index                                     h_d_a_original  \\\n",
       "0           117                                    £18.71 per hour   \n",
       "1           156                                 £15 - £17 per hour   \n",
       "2           276                                 £23 - £26 per hour   \n",
       "3           279                                    £18.01 per hour   \n",
       "4           284                           £18.01 - £22.67 per hour   \n",
       "5           339                                 £23 - £26 per hour   \n",
       "6           111                             £300 - £312.50 per day   \n",
       "7           113                                £400 - £500 per day   \n",
       "8           116                                       £350 per day   \n",
       "9           161                  £400 - £450 per day, inc benefits   \n",
       "10            3                                  £32,000 per annum   \n",
       "11            0                        £28,000 - £32,000 per annum   \n",
       "12          115          £30,000 - £60,000 per annum, inc benefits   \n",
       "13          183                        €60,000 - €65,000 per annum   \n",
       "14          209                   £85,000 - £95,000 per annum, OTE   \n",
       "15          248  £37,500 - £45,000 per annum, OTE, inc benefits...   \n",
       "16          278          £33,000 - £35,000 per annum, inc benefits   \n",
       "17          281  £30,000 - £34,000 per annum, inc benefits, neg...   \n",
       "18          283  £39,000 - £46,000 per annum, OTE, inc benefits...   \n",
       "\n",
       "                                         h_d_a  min_salary  max_salary  \n",
       "0                                       18.71     11675.04        0.00  \n",
       "1                                     15 - 17      9360.00    10608.00  \n",
       "2                                     23 - 26     14352.00    16224.00  \n",
       "3                                       18.01     11238.24        0.00  \n",
       "4                               18.01 - 22.67     11238.24    14146.08  \n",
       "5                                     23 - 26     14352.00    16224.00  \n",
       "6                                300 - 312.50     75600.00    78750.00  \n",
       "7                                   400 - 500    100800.00   126000.00  \n",
       "8                                         350     88200.00        0.00  \n",
       "9                      400 - 450  inc benefits   100800.00   113400.00  \n",
       "10                                      32000     32000.00        0.00  \n",
       "11                              28000 - 32000     28000.00    32000.00  \n",
       "12                 30000 - 60000  inc benefits    30000.00    60000.00  \n",
       "13                              60000 - 65000     60000.00    65000.00  \n",
       "14                          85000 - 95000  OTE    85000.00    95000.00  \n",
       "15  37500 - 45000  OTE inc benefits negotiable    37500.00    45000.00  \n",
       "16                 33000 - 35000  inc benefits    33000.00    35000.00  \n",
       "17      30000 - 34000  inc benefits negotiable    30000.00    34000.00  \n",
       "18  39000 - 46000  OTE inc benefits negotiable    39000.00    46000.00  "
      ]
     },
     "execution_count": 22,
     "metadata": {},
     "output_type": "execute_result"
    }
   ],
   "source": [
    "for i in df_hr_day_annum['min_salary']:\n",
    "    \n",
    "    if 200 < i < 1000:\n",
    "        df_hr_day_annum.loc[df_hr_day_annum['min_salary']==i, 'min_salary'] = i * 252\n",
    "        \n",
    "for n in df_hr_day_annum['max_salary']:\n",
    "    \n",
    "    if 200 < n < 1000:\n",
    "        df_hr_day_annum.loc[df_hr_day_annum['max_salary']== n, 'max_salary'] = n * 252\n",
    "\n",
    "\n",
    "df_hr_day_annum\n",
    "    "
   ]
  },
  {
   "cell_type": "code",
   "execution_count": 26,
   "id": "f15b40e0",
   "metadata": {},
   "outputs": [
    {
     "data": {
      "text/plain": [
       "h_d_a_index                               183\n",
       "h_d_a_original    €60,000 - €65,000 per annum\n",
       "h_d_a                          60000 - 65000 \n",
       "min_salary                            60000.0\n",
       "max_salary                            65000.0\n",
       "Name: 13, dtype: object"
      ]
     },
     "execution_count": 26,
     "metadata": {},
     "output_type": "execute_result"
    }
   ],
   "source": [
    "# Exchange rate €1 = £0.86 index at 13 (183 on the actual dataset)\n",
    "# df_per_annum.iloc[62:63, :]\n",
    "df_hr_day_annum.iloc[13, :]"
   ]
  },
  {
   "cell_type": "code",
   "execution_count": 27,
   "id": "ad01fa2c",
   "metadata": {},
   "outputs": [
    {
     "data": {
      "text/plain": [
       "'60000 - 65000 '"
      ]
     },
     "execution_count": 27,
     "metadata": {},
     "output_type": "execute_result"
    }
   ],
   "source": [
    "df_hr_day_annum.iloc[13, 2]"
   ]
  },
  {
   "cell_type": "code",
   "execution_count": 34,
   "id": "b92d7ebe",
   "metadata": {},
   "outputs": [
    {
     "data": {
      "text/plain": [
       "51600.0"
      ]
     },
     "execution_count": 34,
     "metadata": {},
     "output_type": "execute_result"
    }
   ],
   "source": [
    "df_hr_day_annum.iloc[13, 3]"
   ]
  },
  {
   "cell_type": "code",
   "execution_count": 33,
   "id": "69b505c6",
   "metadata": {},
   "outputs": [
    {
     "data": {
      "text/plain": [
       "'€60,000 - €65,000 per annum'"
      ]
     },
     "execution_count": 33,
     "metadata": {},
     "output_type": "execute_result"
    }
   ],
   "source": [
    "df_hr_day_annum.iloc[13, 1]"
   ]
  },
  {
   "cell_type": "code",
   "execution_count": 29,
   "id": "7ccf54ea",
   "metadata": {},
   "outputs": [
    {
     "data": {
      "text/plain": [
       "51600.0"
      ]
     },
     "execution_count": 29,
     "metadata": {},
     "output_type": "execute_result"
    }
   ],
   "source": [
    "df_hr_day_annum.iloc[13, 3]*0.86"
   ]
  },
  {
   "cell_type": "code",
   "execution_count": 32,
   "id": "c9112c99",
   "metadata": {},
   "outputs": [
    {
     "data": {
      "text/html": [
       "<div>\n",
       "<style scoped>\n",
       "    .dataframe tbody tr th:only-of-type {\n",
       "        vertical-align: middle;\n",
       "    }\n",
       "\n",
       "    .dataframe tbody tr th {\n",
       "        vertical-align: top;\n",
       "    }\n",
       "\n",
       "    .dataframe thead th {\n",
       "        text-align: right;\n",
       "    }\n",
       "</style>\n",
       "<table border=\"1\" class=\"dataframe\">\n",
       "  <thead>\n",
       "    <tr style=\"text-align: right;\">\n",
       "      <th></th>\n",
       "      <th>h_d_a_index</th>\n",
       "      <th>h_d_a_original</th>\n",
       "      <th>h_d_a</th>\n",
       "      <th>min_salary</th>\n",
       "      <th>max_salary</th>\n",
       "    </tr>\n",
       "  </thead>\n",
       "  <tbody>\n",
       "    <tr>\n",
       "      <th>0</th>\n",
       "      <td>117</td>\n",
       "      <td>£18.71 per hour</td>\n",
       "      <td>18.71</td>\n",
       "      <td>11675.04</td>\n",
       "      <td>0.00</td>\n",
       "    </tr>\n",
       "    <tr>\n",
       "      <th>1</th>\n",
       "      <td>156</td>\n",
       "      <td>£15 - £17 per hour</td>\n",
       "      <td>15 - 17</td>\n",
       "      <td>9360.00</td>\n",
       "      <td>10608.00</td>\n",
       "    </tr>\n",
       "    <tr>\n",
       "      <th>2</th>\n",
       "      <td>276</td>\n",
       "      <td>£23 - £26 per hour</td>\n",
       "      <td>23 - 26</td>\n",
       "      <td>14352.00</td>\n",
       "      <td>16224.00</td>\n",
       "    </tr>\n",
       "    <tr>\n",
       "      <th>3</th>\n",
       "      <td>279</td>\n",
       "      <td>£18.01 per hour</td>\n",
       "      <td>18.01</td>\n",
       "      <td>11238.24</td>\n",
       "      <td>0.00</td>\n",
       "    </tr>\n",
       "    <tr>\n",
       "      <th>4</th>\n",
       "      <td>284</td>\n",
       "      <td>£18.01 - £22.67 per hour</td>\n",
       "      <td>18.01 - 22.67</td>\n",
       "      <td>11238.24</td>\n",
       "      <td>14146.08</td>\n",
       "    </tr>\n",
       "    <tr>\n",
       "      <th>5</th>\n",
       "      <td>339</td>\n",
       "      <td>£23 - £26 per hour</td>\n",
       "      <td>23 - 26</td>\n",
       "      <td>14352.00</td>\n",
       "      <td>16224.00</td>\n",
       "    </tr>\n",
       "    <tr>\n",
       "      <th>6</th>\n",
       "      <td>111</td>\n",
       "      <td>£300 - £312.50 per day</td>\n",
       "      <td>300 - 312.50</td>\n",
       "      <td>75600.00</td>\n",
       "      <td>78750.00</td>\n",
       "    </tr>\n",
       "    <tr>\n",
       "      <th>7</th>\n",
       "      <td>113</td>\n",
       "      <td>£400 - £500 per day</td>\n",
       "      <td>400 - 500</td>\n",
       "      <td>100800.00</td>\n",
       "      <td>126000.00</td>\n",
       "    </tr>\n",
       "    <tr>\n",
       "      <th>8</th>\n",
       "      <td>116</td>\n",
       "      <td>£350 per day</td>\n",
       "      <td>350</td>\n",
       "      <td>88200.00</td>\n",
       "      <td>0.00</td>\n",
       "    </tr>\n",
       "    <tr>\n",
       "      <th>9</th>\n",
       "      <td>161</td>\n",
       "      <td>£400 - £450 per day, inc benefits</td>\n",
       "      <td>400 - 450  inc benefits</td>\n",
       "      <td>100800.00</td>\n",
       "      <td>113400.00</td>\n",
       "    </tr>\n",
       "    <tr>\n",
       "      <th>10</th>\n",
       "      <td>3</td>\n",
       "      <td>£32,000 per annum</td>\n",
       "      <td>32000</td>\n",
       "      <td>32000.00</td>\n",
       "      <td>0.00</td>\n",
       "    </tr>\n",
       "    <tr>\n",
       "      <th>11</th>\n",
       "      <td>0</td>\n",
       "      <td>£28,000 - £32,000 per annum</td>\n",
       "      <td>28000 - 32000</td>\n",
       "      <td>28000.00</td>\n",
       "      <td>32000.00</td>\n",
       "    </tr>\n",
       "    <tr>\n",
       "      <th>12</th>\n",
       "      <td>115</td>\n",
       "      <td>£30,000 - £60,000 per annum, inc benefits</td>\n",
       "      <td>30000 - 60000  inc benefits</td>\n",
       "      <td>30000.00</td>\n",
       "      <td>60000.00</td>\n",
       "    </tr>\n",
       "    <tr>\n",
       "      <th>13</th>\n",
       "      <td>183</td>\n",
       "      <td>€60,000 - €65,000 per annum</td>\n",
       "      <td>51600.0</td>\n",
       "      <td>51600.00</td>\n",
       "      <td>65000.00</td>\n",
       "    </tr>\n",
       "    <tr>\n",
       "      <th>14</th>\n",
       "      <td>209</td>\n",
       "      <td>£85,000 - £95,000 per annum, OTE</td>\n",
       "      <td>85000 - 95000  OTE</td>\n",
       "      <td>85000.00</td>\n",
       "      <td>95000.00</td>\n",
       "    </tr>\n",
       "    <tr>\n",
       "      <th>15</th>\n",
       "      <td>248</td>\n",
       "      <td>£37,500 - £45,000 per annum, OTE, inc benefits...</td>\n",
       "      <td>37500 - 45000  OTE inc benefits negotiable</td>\n",
       "      <td>37500.00</td>\n",
       "      <td>45000.00</td>\n",
       "    </tr>\n",
       "    <tr>\n",
       "      <th>16</th>\n",
       "      <td>278</td>\n",
       "      <td>£33,000 - £35,000 per annum, inc benefits</td>\n",
       "      <td>33000 - 35000  inc benefits</td>\n",
       "      <td>33000.00</td>\n",
       "      <td>35000.00</td>\n",
       "    </tr>\n",
       "    <tr>\n",
       "      <th>17</th>\n",
       "      <td>281</td>\n",
       "      <td>£30,000 - £34,000 per annum, inc benefits, neg...</td>\n",
       "      <td>30000 - 34000  inc benefits negotiable</td>\n",
       "      <td>30000.00</td>\n",
       "      <td>34000.00</td>\n",
       "    </tr>\n",
       "    <tr>\n",
       "      <th>18</th>\n",
       "      <td>283</td>\n",
       "      <td>£39,000 - £46,000 per annum, OTE, inc benefits...</td>\n",
       "      <td>39000 - 46000  OTE inc benefits negotiable</td>\n",
       "      <td>39000.00</td>\n",
       "      <td>46000.00</td>\n",
       "    </tr>\n",
       "  </tbody>\n",
       "</table>\n",
       "</div>"
      ],
      "text/plain": [
       "    h_d_a_index                                     h_d_a_original  \\\n",
       "0           117                                    £18.71 per hour   \n",
       "1           156                                 £15 - £17 per hour   \n",
       "2           276                                 £23 - £26 per hour   \n",
       "3           279                                    £18.01 per hour   \n",
       "4           284                           £18.01 - £22.67 per hour   \n",
       "5           339                                 £23 - £26 per hour   \n",
       "6           111                             £300 - £312.50 per day   \n",
       "7           113                                £400 - £500 per day   \n",
       "8           116                                       £350 per day   \n",
       "9           161                  £400 - £450 per day, inc benefits   \n",
       "10            3                                  £32,000 per annum   \n",
       "11            0                        £28,000 - £32,000 per annum   \n",
       "12          115          £30,000 - £60,000 per annum, inc benefits   \n",
       "13          183                        €60,000 - €65,000 per annum   \n",
       "14          209                   £85,000 - £95,000 per annum, OTE   \n",
       "15          248  £37,500 - £45,000 per annum, OTE, inc benefits...   \n",
       "16          278          £33,000 - £35,000 per annum, inc benefits   \n",
       "17          281  £30,000 - £34,000 per annum, inc benefits, neg...   \n",
       "18          283  £39,000 - £46,000 per annum, OTE, inc benefits...   \n",
       "\n",
       "                                         h_d_a  min_salary  max_salary  \n",
       "0                                       18.71     11675.04        0.00  \n",
       "1                                     15 - 17      9360.00    10608.00  \n",
       "2                                     23 - 26     14352.00    16224.00  \n",
       "3                                       18.01     11238.24        0.00  \n",
       "4                               18.01 - 22.67     11238.24    14146.08  \n",
       "5                                     23 - 26     14352.00    16224.00  \n",
       "6                                300 - 312.50     75600.00    78750.00  \n",
       "7                                   400 - 500    100800.00   126000.00  \n",
       "8                                         350     88200.00        0.00  \n",
       "9                      400 - 450  inc benefits   100800.00   113400.00  \n",
       "10                                      32000     32000.00        0.00  \n",
       "11                              28000 - 32000     28000.00    32000.00  \n",
       "12                 30000 - 60000  inc benefits    30000.00    60000.00  \n",
       "13                                     51600.0    51600.00    65000.00  \n",
       "14                          85000 - 95000  OTE    85000.00    95000.00  \n",
       "15  37500 - 45000  OTE inc benefits negotiable    37500.00    45000.00  \n",
       "16                 33000 - 35000  inc benefits    33000.00    35000.00  \n",
       "17      30000 - 34000  inc benefits negotiable    30000.00    34000.00  \n",
       "18  39000 - 46000  OTE inc benefits negotiable    39000.00    46000.00  "
      ]
     },
     "execution_count": 32,
     "metadata": {},
     "output_type": "execute_result"
    }
   ],
   "source": [
    "\n",
    "df_hr_day_annum.iloc[13, 2]= int(df_hr_day_annum.iloc[13, 3])*0.86\n",
    "#     i = i * 0.86 #* 52\n",
    "\n",
    "df_hr_day_annum.iloc[13, 3] = df_hr_day_annum.iloc[13, 3]*0.86\n",
    "#     i = k * 0.86 #* 52\n",
    "\n",
    "df_hr_day_annum\n"
   ]
  },
  {
   "cell_type": "code",
   "execution_count": null,
   "id": "b5c1272c",
   "metadata": {},
   "outputs": [],
   "source": []
  },
  {
   "cell_type": "code",
   "execution_count": 35,
   "id": "b3838a00",
   "metadata": {},
   "outputs": [],
   "source": [
    "# remove decimal places \n",
    "df_hr_day_annum['min_salary'] = df_hr_day_annum['min_salary'].astype(int)\n",
    "df_hr_day_annum['max_salary'] = df_hr_day_annum['max_salary'].astype(int)\n"
   ]
  },
  {
   "cell_type": "code",
   "execution_count": 36,
   "id": "6422fc32",
   "metadata": {},
   "outputs": [
    {
     "data": {
      "text/html": [
       "<div>\n",
       "<style scoped>\n",
       "    .dataframe tbody tr th:only-of-type {\n",
       "        vertical-align: middle;\n",
       "    }\n",
       "\n",
       "    .dataframe tbody tr th {\n",
       "        vertical-align: top;\n",
       "    }\n",
       "\n",
       "    .dataframe thead th {\n",
       "        text-align: right;\n",
       "    }\n",
       "</style>\n",
       "<table border=\"1\" class=\"dataframe\">\n",
       "  <thead>\n",
       "    <tr style=\"text-align: right;\">\n",
       "      <th></th>\n",
       "      <th>h_d_a_index</th>\n",
       "      <th>h_d_a_original</th>\n",
       "      <th>h_d_a</th>\n",
       "      <th>min_salary</th>\n",
       "      <th>max_salary</th>\n",
       "    </tr>\n",
       "  </thead>\n",
       "  <tbody>\n",
       "    <tr>\n",
       "      <th>0</th>\n",
       "      <td>117</td>\n",
       "      <td>£18.71 per hour</td>\n",
       "      <td>18.71</td>\n",
       "      <td>11675</td>\n",
       "      <td>0</td>\n",
       "    </tr>\n",
       "    <tr>\n",
       "      <th>1</th>\n",
       "      <td>156</td>\n",
       "      <td>£15 - £17 per hour</td>\n",
       "      <td>15 - 17</td>\n",
       "      <td>9360</td>\n",
       "      <td>10608</td>\n",
       "    </tr>\n",
       "    <tr>\n",
       "      <th>2</th>\n",
       "      <td>276</td>\n",
       "      <td>£23 - £26 per hour</td>\n",
       "      <td>23 - 26</td>\n",
       "      <td>14352</td>\n",
       "      <td>16224</td>\n",
       "    </tr>\n",
       "    <tr>\n",
       "      <th>3</th>\n",
       "      <td>279</td>\n",
       "      <td>£18.01 per hour</td>\n",
       "      <td>18.01</td>\n",
       "      <td>11238</td>\n",
       "      <td>0</td>\n",
       "    </tr>\n",
       "    <tr>\n",
       "      <th>4</th>\n",
       "      <td>284</td>\n",
       "      <td>£18.01 - £22.67 per hour</td>\n",
       "      <td>18.01 - 22.67</td>\n",
       "      <td>11238</td>\n",
       "      <td>14146</td>\n",
       "    </tr>\n",
       "    <tr>\n",
       "      <th>5</th>\n",
       "      <td>339</td>\n",
       "      <td>£23 - £26 per hour</td>\n",
       "      <td>23 - 26</td>\n",
       "      <td>14352</td>\n",
       "      <td>16224</td>\n",
       "    </tr>\n",
       "    <tr>\n",
       "      <th>6</th>\n",
       "      <td>111</td>\n",
       "      <td>£300 - £312.50 per day</td>\n",
       "      <td>300 - 312.50</td>\n",
       "      <td>75600</td>\n",
       "      <td>78750</td>\n",
       "    </tr>\n",
       "    <tr>\n",
       "      <th>7</th>\n",
       "      <td>113</td>\n",
       "      <td>£400 - £500 per day</td>\n",
       "      <td>400 - 500</td>\n",
       "      <td>100800</td>\n",
       "      <td>126000</td>\n",
       "    </tr>\n",
       "    <tr>\n",
       "      <th>8</th>\n",
       "      <td>116</td>\n",
       "      <td>£350 per day</td>\n",
       "      <td>350</td>\n",
       "      <td>88200</td>\n",
       "      <td>0</td>\n",
       "    </tr>\n",
       "    <tr>\n",
       "      <th>9</th>\n",
       "      <td>161</td>\n",
       "      <td>£400 - £450 per day, inc benefits</td>\n",
       "      <td>400 - 450  inc benefits</td>\n",
       "      <td>100800</td>\n",
       "      <td>113400</td>\n",
       "    </tr>\n",
       "    <tr>\n",
       "      <th>10</th>\n",
       "      <td>3</td>\n",
       "      <td>£32,000 per annum</td>\n",
       "      <td>32000</td>\n",
       "      <td>32000</td>\n",
       "      <td>0</td>\n",
       "    </tr>\n",
       "    <tr>\n",
       "      <th>11</th>\n",
       "      <td>0</td>\n",
       "      <td>£28,000 - £32,000 per annum</td>\n",
       "      <td>28000 - 32000</td>\n",
       "      <td>28000</td>\n",
       "      <td>32000</td>\n",
       "    </tr>\n",
       "    <tr>\n",
       "      <th>12</th>\n",
       "      <td>115</td>\n",
       "      <td>£30,000 - £60,000 per annum, inc benefits</td>\n",
       "      <td>30000 - 60000  inc benefits</td>\n",
       "      <td>30000</td>\n",
       "      <td>60000</td>\n",
       "    </tr>\n",
       "    <tr>\n",
       "      <th>13</th>\n",
       "      <td>183</td>\n",
       "      <td>€60,000 - €65,000 per annum</td>\n",
       "      <td>51600.0</td>\n",
       "      <td>51600</td>\n",
       "      <td>65000</td>\n",
       "    </tr>\n",
       "    <tr>\n",
       "      <th>14</th>\n",
       "      <td>209</td>\n",
       "      <td>£85,000 - £95,000 per annum, OTE</td>\n",
       "      <td>85000 - 95000  OTE</td>\n",
       "      <td>85000</td>\n",
       "      <td>95000</td>\n",
       "    </tr>\n",
       "    <tr>\n",
       "      <th>15</th>\n",
       "      <td>248</td>\n",
       "      <td>£37,500 - £45,000 per annum, OTE, inc benefits...</td>\n",
       "      <td>37500 - 45000  OTE inc benefits negotiable</td>\n",
       "      <td>37500</td>\n",
       "      <td>45000</td>\n",
       "    </tr>\n",
       "    <tr>\n",
       "      <th>16</th>\n",
       "      <td>278</td>\n",
       "      <td>£33,000 - £35,000 per annum, inc benefits</td>\n",
       "      <td>33000 - 35000  inc benefits</td>\n",
       "      <td>33000</td>\n",
       "      <td>35000</td>\n",
       "    </tr>\n",
       "    <tr>\n",
       "      <th>17</th>\n",
       "      <td>281</td>\n",
       "      <td>£30,000 - £34,000 per annum, inc benefits, neg...</td>\n",
       "      <td>30000 - 34000  inc benefits negotiable</td>\n",
       "      <td>30000</td>\n",
       "      <td>34000</td>\n",
       "    </tr>\n",
       "    <tr>\n",
       "      <th>18</th>\n",
       "      <td>283</td>\n",
       "      <td>£39,000 - £46,000 per annum, OTE, inc benefits...</td>\n",
       "      <td>39000 - 46000  OTE inc benefits negotiable</td>\n",
       "      <td>39000</td>\n",
       "      <td>46000</td>\n",
       "    </tr>\n",
       "  </tbody>\n",
       "</table>\n",
       "</div>"
      ],
      "text/plain": [
       "    h_d_a_index                                     h_d_a_original  \\\n",
       "0           117                                    £18.71 per hour   \n",
       "1           156                                 £15 - £17 per hour   \n",
       "2           276                                 £23 - £26 per hour   \n",
       "3           279                                    £18.01 per hour   \n",
       "4           284                           £18.01 - £22.67 per hour   \n",
       "5           339                                 £23 - £26 per hour   \n",
       "6           111                             £300 - £312.50 per day   \n",
       "7           113                                £400 - £500 per day   \n",
       "8           116                                       £350 per day   \n",
       "9           161                  £400 - £450 per day, inc benefits   \n",
       "10            3                                  £32,000 per annum   \n",
       "11            0                        £28,000 - £32,000 per annum   \n",
       "12          115          £30,000 - £60,000 per annum, inc benefits   \n",
       "13          183                        €60,000 - €65,000 per annum   \n",
       "14          209                   £85,000 - £95,000 per annum, OTE   \n",
       "15          248  £37,500 - £45,000 per annum, OTE, inc benefits...   \n",
       "16          278          £33,000 - £35,000 per annum, inc benefits   \n",
       "17          281  £30,000 - £34,000 per annum, inc benefits, neg...   \n",
       "18          283  £39,000 - £46,000 per annum, OTE, inc benefits...   \n",
       "\n",
       "                                         h_d_a  min_salary  max_salary  \n",
       "0                                       18.71        11675           0  \n",
       "1                                     15 - 17         9360       10608  \n",
       "2                                     23 - 26        14352       16224  \n",
       "3                                       18.01        11238           0  \n",
       "4                               18.01 - 22.67        11238       14146  \n",
       "5                                     23 - 26        14352       16224  \n",
       "6                                300 - 312.50        75600       78750  \n",
       "7                                   400 - 500       100800      126000  \n",
       "8                                         350        88200           0  \n",
       "9                      400 - 450  inc benefits      100800      113400  \n",
       "10                                      32000        32000           0  \n",
       "11                              28000 - 32000        28000       32000  \n",
       "12                 30000 - 60000  inc benefits       30000       60000  \n",
       "13                                     51600.0       51600       65000  \n",
       "14                          85000 - 95000  OTE       85000       95000  \n",
       "15  37500 - 45000  OTE inc benefits negotiable       37500       45000  \n",
       "16                 33000 - 35000  inc benefits       33000       35000  \n",
       "17      30000 - 34000  inc benefits negotiable       30000       34000  \n",
       "18  39000 - 46000  OTE inc benefits negotiable       39000       46000  "
      ]
     },
     "execution_count": 36,
     "metadata": {},
     "output_type": "execute_result"
    }
   ],
   "source": [
    "df_hr_day_annum"
   ]
  },
  {
   "cell_type": "code",
   "execution_count": 46,
   "id": "5cb70060",
   "metadata": {},
   "outputs": [
    {
     "data": {
      "text/html": [
       "<div>\n",
       "<style scoped>\n",
       "    .dataframe tbody tr th:only-of-type {\n",
       "        vertical-align: middle;\n",
       "    }\n",
       "\n",
       "    .dataframe tbody tr th {\n",
       "        vertical-align: top;\n",
       "    }\n",
       "\n",
       "    .dataframe thead th {\n",
       "        text-align: right;\n",
       "    }\n",
       "</style>\n",
       "<table border=\"1\" class=\"dataframe\">\n",
       "  <thead>\n",
       "    <tr style=\"text-align: right;\">\n",
       "      <th></th>\n",
       "      <th>title</th>\n",
       "      <th>date</th>\n",
       "      <th>employer</th>\n",
       "      <th>location</th>\n",
       "      <th>salary</th>\n",
       "      <th>working_hours</th>\n",
       "    </tr>\n",
       "  </thead>\n",
       "  <tbody>\n",
       "    <tr>\n",
       "      <th>0</th>\n",
       "      <td>Data Analyst</td>\n",
       "      <td>28 March</td>\n",
       "      <td>SES Water</td>\n",
       "      <td>Redhill</td>\n",
       "      <td>£28,000 - £32,000 per annum</td>\n",
       "      <td>Permanent, full-time</td>\n",
       "    </tr>\n",
       "    <tr>\n",
       "      <th>1</th>\n",
       "      <td>Business Data Analyst/Data Analyst</td>\n",
       "      <td>3 days ago</td>\n",
       "      <td>Deutsche Bank</td>\n",
       "      <td>Birmingham</td>\n",
       "      <td>Competitive salary</td>\n",
       "      <td>Contract, full-time</td>\n",
       "    </tr>\n",
       "  </tbody>\n",
       "</table>\n",
       "</div>"
      ],
      "text/plain": [
       "                                title        date       employer    location  \\\n",
       "0                        Data Analyst    28 March      SES Water     Redhill   \n",
       "1  Business Data Analyst/Data Analyst  3 days ago  Deutsche Bank  Birmingham   \n",
       "\n",
       "                        salary         working_hours  \n",
       "0  £28,000 - £32,000 per annum  Permanent, full-time  \n",
       "1           Competitive salary   Contract, full-time  "
      ]
     },
     "execution_count": 46,
     "metadata": {},
     "output_type": "execute_result"
    }
   ],
   "source": [
    "#importing libraries\n",
    "import pandas as pd\n",
    "\n",
    "df_original  = pd.read_csv('data_analyst_28_04_24.csv')\n",
    "\n",
    "df_data_analyst = df_original.loc[df_original.title.str.contains('Data Analyst'), \n",
    "                         ['title', 'date', 'employer', 'location', 'salary', 'working_hours']]\n",
    "\n",
    "# remove 229 duplicated values from df_data_analyst= \n",
    "df_data_analyst.drop_duplicates(inplace=True)\n",
    "\n",
    "df_data_analyst.head(2)\n",
    "\n"
   ]
  },
  {
   "cell_type": "code",
   "execution_count": 25,
   "id": "1f60b69c",
   "metadata": {},
   "outputs": [
    {
     "data": {
      "text/plain": [
       "0     £28,000 - £32,000 per annum\n",
       "1              Competitive salary\n",
       "2              Competitive salary\n",
       "3               £32,000 per annum\n",
       "6                 Training Course\n",
       "7                 Training Course\n",
       "8                 Training Course\n",
       "9                 Training Course\n",
       "10                Training Course\n",
       "11                Training Course\n",
       "Name: salary, dtype: object"
      ]
     },
     "execution_count": 25,
     "metadata": {},
     "output_type": "execute_result"
    }
   ],
   "source": [
    "df_data_analyst['salary'].str.strip().head(10)\n"
   ]
  },
  {
   "cell_type": "code",
   "execution_count": 145,
   "id": "933510d4",
   "metadata": {},
   "outputs": [
    {
     "data": {
      "text/plain": [
       "array(['£28,000 - £32,000 per annum', 'Competitive salary',\n",
       "       '£32,000 per annum', ' Training Course', '£42,000 per annum',\n",
       "       '£22,778 per annum', '£18,000 per annum',\n",
       "       '£15,000 - £17,000 per annum', 'Salary negotiable',\n",
       "       '£300 - £312.50 per day'], dtype=object)"
      ]
     },
     "execution_count": 145,
     "metadata": {},
     "output_type": "execute_result"
    }
   ],
   "source": [
    "# .strip() method did not work to remove space at the beginning of ' Training Course' when applied for entire column \n",
    "df_data_analyst['salary'].unique()[:10]\n"
   ]
  },
  {
   "cell_type": "code",
   "execution_count": 146,
   "id": "b3a4035d",
   "metadata": {},
   "outputs": [
    {
     "name": "stdout",
     "output_type": "stream",
     "text": [
      "Competitive salary\n",
      " Training Course\n",
      "Salary negotiable\n"
     ]
    }
   ],
   "source": [
    "print(df_data_analyst['salary'].unique()[1])\n",
    "print(df_data_analyst['salary'].unique()[3])\n",
    "print(df_data_analyst['salary'].unique()[8])\n"
   ]
  },
  {
   "cell_type": "code",
   "execution_count": 147,
   "id": "e15c21a0",
   "metadata": {},
   "outputs": [
    {
     "data": {
      "text/plain": [
       "salary\n",
       " Training Course               78\n",
       "Competitive salary             27\n",
       "Salary negotiable              11\n",
       "£35,000 - £40,000 per annum     9\n",
       "£35,000 - £45,000 per annum     8\n",
       "£45,000 - £55,000 per annum     6\n",
       "£50,000 - £60,000 per annum     5\n",
       "£65,000 - £75,000 per annum     5\n",
       "£30,000 - £35,000 per annum     5\n",
       "£22,000 - £25,000 per annum     5\n",
       "Name: count, dtype: int64"
      ]
     },
     "execution_count": 147,
     "metadata": {},
     "output_type": "execute_result"
    }
   ],
   "source": [
    "df_data_analyst['salary'].value_counts()[:10]\n",
    "# unique()\n"
   ]
  },
  {
   "cell_type": "markdown",
   "id": "8f12d0e1",
   "metadata": {},
   "source": [
    "### No figure salaries "
   ]
  },
  {
   "cell_type": "code",
   "execution_count": 47,
   "id": "38092e83",
   "metadata": {},
   "outputs": [
    {
     "data": {
      "text/plain": [
       "Index([   1,    2,   72,  100,  103,  118,  119,  154,  158,  166,  167,  220,\n",
       "        269,  664, 1333, 1421, 1846, 1856, 1958, 2002, 2145, 2150, 2151, 2152,\n",
       "       2154, 2155, 2157],\n",
       "      dtype='int64')"
      ]
     },
     "execution_count": 47,
     "metadata": {},
     "output_type": "execute_result"
    }
   ],
   "source": [
    "com_salary = df_data_analyst.loc[df_data_analyst['salary']=='Competitive salary']\n",
    "com_salary.index\n"
   ]
  },
  {
   "cell_type": "code",
   "execution_count": 149,
   "id": "b54b6684",
   "metadata": {},
   "outputs": [
    {
     "data": {
      "text/html": [
       "<div>\n",
       "<style scoped>\n",
       "    .dataframe tbody tr th:only-of-type {\n",
       "        vertical-align: middle;\n",
       "    }\n",
       "\n",
       "    .dataframe tbody tr th {\n",
       "        vertical-align: top;\n",
       "    }\n",
       "\n",
       "    .dataframe thead th {\n",
       "        text-align: right;\n",
       "    }\n",
       "</style>\n",
       "<table border=\"1\" class=\"dataframe\">\n",
       "  <thead>\n",
       "    <tr style=\"text-align: right;\">\n",
       "      <th></th>\n",
       "      <th>title</th>\n",
       "      <th>date</th>\n",
       "      <th>employer</th>\n",
       "      <th>location</th>\n",
       "      <th>salary</th>\n",
       "      <th>working_hours</th>\n",
       "    </tr>\n",
       "  </thead>\n",
       "  <tbody>\n",
       "  </tbody>\n",
       "</table>\n",
       "</div>"
      ],
      "text/plain": [
       "Empty DataFrame\n",
       "Columns: [title, date, employer, location, salary, working_hours]\n",
       "Index: []"
      ]
     },
     "execution_count": 149,
     "metadata": {},
     "output_type": "execute_result"
    }
   ],
   "source": [
    "training_salary = df_data_analyst.loc[df_data_analyst['salary']== 'Training Course']\n",
    "training_salary\n"
   ]
  },
  {
   "cell_type": "code",
   "execution_count": 48,
   "id": "0ee076c0",
   "metadata": {},
   "outputs": [
    {
     "data": {
      "text/html": [
       "<div>\n",
       "<style scoped>\n",
       "    .dataframe tbody tr th:only-of-type {\n",
       "        vertical-align: middle;\n",
       "    }\n",
       "\n",
       "    .dataframe tbody tr th {\n",
       "        vertical-align: top;\n",
       "    }\n",
       "\n",
       "    .dataframe thead th {\n",
       "        text-align: right;\n",
       "    }\n",
       "</style>\n",
       "<table border=\"1\" class=\"dataframe\">\n",
       "  <thead>\n",
       "    <tr style=\"text-align: right;\">\n",
       "      <th></th>\n",
       "      <th>title</th>\n",
       "      <th>date</th>\n",
       "      <th>employer</th>\n",
       "      <th>location</th>\n",
       "      <th>salary</th>\n",
       "      <th>working_hours</th>\n",
       "    </tr>\n",
       "  </thead>\n",
       "  <tbody>\n",
       "    <tr>\n",
       "      <th>6</th>\n",
       "      <td>Data Analyst Trainee</td>\n",
       "      <td>24 January</td>\n",
       "      <td>ITonlinelearning Recruitment</td>\n",
       "      <td>Kingston Upon Thames</td>\n",
       "      <td>Training Course</td>\n",
       "      <td>Permanent, full-time</td>\n",
       "    </tr>\n",
       "    <tr>\n",
       "      <th>7</th>\n",
       "      <td>Data Analyst Trainee</td>\n",
       "      <td>2 January</td>\n",
       "      <td>ITonlinelearning Recruitment</td>\n",
       "      <td>Stoke-on-Trent</td>\n",
       "      <td>Training Course</td>\n",
       "      <td>Permanent, full-time</td>\n",
       "    </tr>\n",
       "  </tbody>\n",
       "</table>\n",
       "</div>"
      ],
      "text/plain": [
       "                  title        date                      employer  \\\n",
       "6  Data Analyst Trainee  24 January  ITonlinelearning Recruitment   \n",
       "7  Data Analyst Trainee   2 January  ITonlinelearning Recruitment   \n",
       "\n",
       "               location            salary         working_hours  \n",
       "6  Kingston Upon Thames   Training Course  Permanent, full-time  \n",
       "7        Stoke-on-Trent   Training Course  Permanent, full-time  "
      ]
     },
     "execution_count": 48,
     "metadata": {},
     "output_type": "execute_result"
    }
   ],
   "source": [
    "training_salary = df_data_analyst.loc[df_data_analyst['salary']== ' Training Course']\n",
    "training_salary.head(2)\n"
   ]
  },
  {
   "cell_type": "code",
   "execution_count": 151,
   "id": "d0eb9856",
   "metadata": {},
   "outputs": [
    {
     "data": {
      "text/plain": [
       "Index([ 6,  7,  8,  9, 10, 11, 12, 13, 14, 15, 16, 17, 18, 19, 20, 21, 22, 23,\n",
       "       24, 25, 26, 29, 30, 31, 32, 34, 37, 38, 39, 40, 41, 42, 43, 44, 45, 46,\n",
       "       47, 48, 49, 50, 51, 52, 53, 56, 57, 58, 59, 60, 61, 62, 63, 64, 65, 67,\n",
       "       68, 69, 73, 74, 75, 76, 77, 78, 79, 80, 83, 84, 85, 86, 87, 89, 90, 91,\n",
       "       92, 94, 95, 96, 97, 98],\n",
       "      dtype='int64')"
      ]
     },
     "execution_count": 151,
     "metadata": {},
     "output_type": "execute_result"
    }
   ],
   "source": [
    "training_salary = df_data_analyst.loc[df_data_analyst['salary']== ' Training Course']\n",
    "training_salary.index\n",
    "# negotiate_salary = df_data_analyst.loc[df_data_analyst['salary']=='Salary negotiable']"
   ]
  },
  {
   "cell_type": "code",
   "execution_count": 152,
   "id": "ecfe6f2e",
   "metadata": {},
   "outputs": [
    {
     "data": {
      "text/plain": [
       "6     Training Course\n",
       "7     Training Course\n",
       "8     Training Course\n",
       "9     Training Course\n",
       "10    Training Course\n",
       "Name: salary, dtype: object"
      ]
     },
     "execution_count": 152,
     "metadata": {},
     "output_type": "execute_result"
    }
   ],
   "source": [
    "# .strip() method did not work to remove space at the beginning of ' Training Course' when applied on one column\n",
    "training_salary['salary'].str.strip()[:5]\n"
   ]
  },
  {
   "cell_type": "code",
   "execution_count": 153,
   "id": "41ff62d8",
   "metadata": {},
   "outputs": [
    {
     "data": {
      "text/plain": [
       "array([' Training Course'], dtype=object)"
      ]
     },
     "execution_count": 153,
     "metadata": {},
     "output_type": "execute_result"
    }
   ],
   "source": [
    "# .strip() method did not work to remove space at the beginning of ' Training Course' when applied on one column\n",
    "training_salary['salary'].unique()\n"
   ]
  },
  {
   "cell_type": "code",
   "execution_count": 49,
   "id": "5fb81a68",
   "metadata": {},
   "outputs": [
    {
     "data": {
      "text/plain": [
       "Index([105, 123, 145, 155, 165, 210, 232, 250, 254, 262, 285], dtype='int64')"
      ]
     },
     "execution_count": 49,
     "metadata": {},
     "output_type": "execute_result"
    }
   ],
   "source": [
    "# training_salary = df_data_analyst.loc[df_data_analyst['salary']== 'Training Course']\n",
    "negotiate_salary = df_data_analyst.loc[df_data_analyst['salary']=='Salary negotiable']\n",
    "negotiate_salary.index\n"
   ]
  },
  {
   "cell_type": "code",
   "execution_count": null,
   "id": "90d3159d",
   "metadata": {},
   "outputs": [],
   "source": []
  },
  {
   "cell_type": "code",
   "execution_count": null,
   "id": "7e33f082",
   "metadata": {},
   "outputs": [],
   "source": [
    "cobination_non_salary_index = [ 6, 77, 84, 105,165, 285, 28,103, 2728,2863]"
   ]
  },
  {
   "cell_type": "code",
   "execution_count": 51,
   "id": "f3b66584",
   "metadata": {},
   "outputs": [
    {
     "data": {
      "text/plain": [
       "6        Training Course\n",
       "77       Training Course\n",
       "84       Training Course\n",
       "105    Salary negotiable\n",
       "165    Salary negotiable\n",
       "Name: salary, dtype: object"
      ]
     },
     "execution_count": 51,
     "metadata": {},
     "output_type": "execute_result"
    }
   ],
   "source": [
    "salary_unique  =  df_data_analyst.loc[[6, 77, 84, 105,165, 285, 1,103, 117, 156, 276, 279, 284, 339, 111, 113, 116, 161, 3, 0, 115, 183, 209, 248, 278, 281, 283 ], 'salary']\n",
    "salary_unique.head()\n"
   ]
  },
  {
   "cell_type": "code",
   "execution_count": 53,
   "id": "32dfea81",
   "metadata": {},
   "outputs": [
    {
     "data": {
      "text/html": [
       "<div>\n",
       "<style scoped>\n",
       "    .dataframe tbody tr th:only-of-type {\n",
       "        vertical-align: middle;\n",
       "    }\n",
       "\n",
       "    .dataframe tbody tr th {\n",
       "        vertical-align: top;\n",
       "    }\n",
       "\n",
       "    .dataframe thead th {\n",
       "        text-align: right;\n",
       "    }\n",
       "</style>\n",
       "<table border=\"1\" class=\"dataframe\">\n",
       "  <thead>\n",
       "    <tr style=\"text-align: right;\">\n",
       "      <th></th>\n",
       "      <th>salary_unique_index</th>\n",
       "      <th>salary_unique_original</th>\n",
       "    </tr>\n",
       "  </thead>\n",
       "  <tbody>\n",
       "    <tr>\n",
       "      <th>0</th>\n",
       "      <td>6</td>\n",
       "      <td>Training Course</td>\n",
       "    </tr>\n",
       "    <tr>\n",
       "      <th>1</th>\n",
       "      <td>77</td>\n",
       "      <td>Training Course</td>\n",
       "    </tr>\n",
       "    <tr>\n",
       "      <th>2</th>\n",
       "      <td>84</td>\n",
       "      <td>Training Course</td>\n",
       "    </tr>\n",
       "    <tr>\n",
       "      <th>3</th>\n",
       "      <td>105</td>\n",
       "      <td>Salary negotiable</td>\n",
       "    </tr>\n",
       "    <tr>\n",
       "      <th>4</th>\n",
       "      <td>165</td>\n",
       "      <td>Salary negotiable</td>\n",
       "    </tr>\n",
       "  </tbody>\n",
       "</table>\n",
       "</div>"
      ],
      "text/plain": [
       "   salary_unique_index salary_unique_original\n",
       "0                    6        Training Course\n",
       "1                   77        Training Course\n",
       "2                   84        Training Course\n",
       "3                  105      Salary negotiable\n",
       "4                  165      Salary negotiable"
      ]
     },
     "execution_count": 53,
     "metadata": {},
     "output_type": "execute_result"
    }
   ],
   "source": [
    "df_salary_unique  = pd.DataFrame({'salary_unique_index':salary_unique.index, 'salary_unique_original':salary_unique.values})\n",
    "df_salary_unique.head()\n"
   ]
  },
  {
   "cell_type": "code",
   "execution_count": 38,
   "id": "503e7ac3",
   "metadata": {},
   "outputs": [
    {
     "data": {
      "text/plain": [
       "0                                       Training Course\n",
       "1                                       Training Course\n",
       "2                                       Training Course\n",
       "3                                     Salary negotiable\n",
       "4                                     Salary negotiable\n",
       "5                                     Salary negotiable\n",
       "6                                    Competitive salary\n",
       "7                                    Competitive salary\n",
       "8                                    Competitive salary\n",
       "9                                    Competitive salary\n",
       "10                                      £18.71 per hour\n",
       "11                                   £15 - £17 per hour\n",
       "12                                   £23 - £26 per hour\n",
       "13                                      £18.01 per hour\n",
       "14                             £18.01 - £22.67 per hour\n",
       "15                                   £23 - £26 per hour\n",
       "16                               £300 - £312.50 per day\n",
       "17                                  £400 - £500 per day\n",
       "18                                         £350 per day\n",
       "19                    £400 - £450 per day, inc benefits\n",
       "20                                    £32,000 per annum\n",
       "21                          £28,000 - £32,000 per annum\n",
       "22            £30,000 - £60,000 per annum, inc benefits\n",
       "23                          €60,000 - €65,000 per annum\n",
       "24                     £85,000 - £95,000 per annum, OTE\n",
       "25    £37,500 - £45,000 per annum, OTE, inc benefits...\n",
       "26            £33,000 - £35,000 per annum, inc benefits\n",
       "27    £30,000 - £34,000 per annum, inc benefits, neg...\n",
       "28    £39,000 - £46,000 per annum, OTE, inc benefits...\n",
       "Name: salary_unique_original, dtype: object"
      ]
     },
     "execution_count": 38,
     "metadata": {},
     "output_type": "execute_result"
    }
   ],
   "source": [
    "# .strip() method did not work to remove space at the beginning of ' Training Course' when applied on one column\n",
    "df_salary_unique['salary_unique_original'].str.strip()\n"
   ]
  },
  {
   "cell_type": "code",
   "execution_count": 158,
   "id": "1e25eda1",
   "metadata": {},
   "outputs": [
    {
     "data": {
      "text/plain": [
       "array([' Training Course', 'Salary negotiable', 'Competitive salary',\n",
       "       '£18.71 per hour', '£15 - £17 per hour', '£23 - £26 per hour',\n",
       "       '£18.01 per hour', '£18.01 - £22.67 per hour',\n",
       "       '£300 - £312.50 per day', '£400 - £500 per day', '£350 per day',\n",
       "       '£400 - £450 per day, inc benefits', '£32,000 per annum',\n",
       "       '£28,000 - £32,000 per annum',\n",
       "       '£30,000 - £60,000 per annum, inc benefits',\n",
       "       '€60,000 - €65,000 per annum', '£85,000 - £95,000 per annum, OTE',\n",
       "       '£37,500 - £45,000 per annum, OTE, inc benefits, negotiable',\n",
       "       '£33,000 - £35,000 per annum, inc benefits',\n",
       "       '£30,000 - £34,000 per annum, inc benefits, negotiable',\n",
       "       '£39,000 - £46,000 per annum, OTE, inc benefits, negotiable'],\n",
       "      dtype=object)"
      ]
     },
     "execution_count": 158,
     "metadata": {},
     "output_type": "execute_result"
    }
   ],
   "source": [
    "# .strip() method did not work to remove space at the beginning of ' Training Course' when applied on one column\n",
    "df_salary_unique['salary_unique_original'].unique()\n"
   ]
  },
  {
   "cell_type": "code",
   "execution_count": 159,
   "id": "48d6c06f",
   "metadata": {},
   "outputs": [
    {
     "data": {
      "text/plain": [
       "' Training Course'"
      ]
     },
     "execution_count": 159,
     "metadata": {},
     "output_type": "execute_result"
    }
   ],
   "source": [
    "df_salary_unique['salary_unique_original'][0]"
   ]
  },
  {
   "cell_type": "code",
   "execution_count": 160,
   "id": "84462998",
   "metadata": {},
   "outputs": [
    {
     "data": {
      "text/plain": [
       "['Training', 'Course']"
      ]
     },
     "execution_count": 160,
     "metadata": {},
     "output_type": "execute_result"
    }
   ],
   "source": [
    "#strip() method worked to remove space at the beginning of ' Training Course' when applied line by line (for individual values)\n",
    "df_salary_unique['salary_unique_original'][0].split()\n"
   ]
  },
  {
   "cell_type": "code",
   "execution_count": 161,
   "id": "c92eb0ab",
   "metadata": {},
   "outputs": [
    {
     "name": "stdout",
     "output_type": "stream",
     "text": [
      " Training Course\n",
      " Training Course\n",
      " Training Course\n",
      "Salary negotiable\n",
      "Salary negotiable\n",
      "Salary negotiable\n",
      "Competitive salary\n",
      "Competitive salary\n"
     ]
    }
   ],
   "source": [
    "for i in df_salary_unique['salary_unique_original']:\n",
    "    if 'per' not in i:\n",
    "        print(i)"
   ]
  },
  {
   "cell_type": "code",
   "execution_count": 162,
   "id": "79831811",
   "metadata": {},
   "outputs": [
    {
     "name": "stdout",
     "output_type": "stream",
     "text": [
      "['£18.71', 'per', 'hour']\n",
      "['£15', '-', '£17', 'per', 'hour']\n",
      "['£23', '-', '£26', 'per', 'hour']\n",
      "['£18.01', 'per', 'hour']\n",
      "['£18.01', '-', '£22.67', 'per', 'hour']\n",
      "['£23', '-', '£26', 'per', 'hour']\n",
      "['£300', '-', '£312.50', 'per', 'day']\n",
      "['£400', '-', '£500', 'per', 'day']\n",
      "['£350', 'per', 'day']\n",
      "['£400', '-', '£450', 'per', 'day,', 'inc', 'benefits']\n",
      "['£32,000', 'per', 'annum']\n",
      "['£28,000', '-', '£32,000', 'per', 'annum']\n",
      "['£30,000', '-', '£60,000', 'per', 'annum,', 'inc', 'benefits']\n",
      "['€60,000', '-', '€65,000', 'per', 'annum']\n",
      "['£85,000', '-', '£95,000', 'per', 'annum,', 'OTE']\n",
      "['£37,500', '-', '£45,000', 'per', 'annum,', 'OTE,', 'inc', 'benefits,', 'negotiable']\n",
      "['£33,000', '-', '£35,000', 'per', 'annum,', 'inc', 'benefits']\n",
      "['£30,000', '-', '£34,000', 'per', 'annum,', 'inc', 'benefits,', 'negotiable']\n",
      "['£39,000', '-', '£46,000', 'per', 'annum,', 'OTE,', 'inc', 'benefits,', 'negotiable']\n"
     ]
    }
   ],
   "source": [
    "for i in df_salary_unique['salary_unique_original'].str.split():\n",
    "    if 'per' in i:\n",
    "        print(i)"
   ]
  },
  {
   "cell_type": "code",
   "execution_count": 163,
   "id": "0ba33683",
   "metadata": {},
   "outputs": [
    {
     "name": "stdout",
     "output_type": "stream",
     "text": [
      "['£18.71', 'per', 'hour']\n",
      "['£15', '-', '£17', 'per', 'hour']\n",
      "['£23', '-', '£26', 'per', 'hour']\n",
      "['£18.01', 'per', 'hour']\n",
      "['£18.01', '-', '£22.67', 'per', 'hour']\n",
      "['£23', '-', '£26', 'per', 'hour']\n",
      "['£300', '-', '£312.50', 'per', 'day']\n",
      "['£400', '-', '£500', 'per', 'day']\n",
      "['£350', 'per', 'day']\n",
      "['£400', '-', '£450', 'per', 'day,', 'inc', 'benefits']\n",
      "['£32,000', 'per', 'annum']\n",
      "['£28,000', '-', '£32,000', 'per', 'annum']\n",
      "['£30,000', '-', '£60,000', 'per', 'annum,', 'inc', 'benefits']\n",
      "['€60,000', '-', '€65,000', 'per', 'annum']\n",
      "['£85,000', '-', '£95,000', 'per', 'annum,', 'OTE']\n",
      "['£37,500', '-', '£45,000', 'per', 'annum,', 'OTE,', 'inc', 'benefits,', 'negotiable']\n",
      "['£33,000', '-', '£35,000', 'per', 'annum,', 'inc', 'benefits']\n",
      "['£30,000', '-', '£34,000', 'per', 'annum,', 'inc', 'benefits,', 'negotiable']\n",
      "['£39,000', '-', '£46,000', 'per', 'annum,', 'OTE,', 'inc', 'benefits,', 'negotiable']\n"
     ]
    }
   ],
   "source": [
    "for i in df_salary_unique['salary_unique_original']:#.str.split():\n",
    "    if 'per' in i:\n",
    "        print(i.split())\n",
    "        "
   ]
  },
  {
   "cell_type": "code",
   "execution_count": 164,
   "id": "f50ca2f3",
   "metadata": {},
   "outputs": [
    {
     "data": {
      "text/plain": [
       "0                                       Training Course\n",
       "1                                       Training Course\n",
       "2                                       Training Course\n",
       "3                                     Salary negotiable\n",
       "4                                     Salary negotiable\n",
       "5                                     Salary negotiable\n",
       "6                                    Competitive salary\n",
       "7                                    Competitive salary\n",
       "8                                        18.71 per hour\n",
       "9                                      15 - 17 per hour\n",
       "10                                     23 - 26 per hour\n",
       "11                                       18.01 per hour\n",
       "12                               18.01 - 22.67 per hour\n",
       "13                                     23 - 26 per hour\n",
       "14                                 300 - 312.50 per day\n",
       "15                                    400 - 500 per day\n",
       "16                                          350 per day\n",
       "17                       400 - 450 per day inc benefits\n",
       "18                                      32000 per annum\n",
       "19                              28000 - 32000 per annum\n",
       "20                 30000 - 60000 per annum inc benefits\n",
       "21                              60000 - 65000 per annum\n",
       "22                          85000 - 95000 per annum OTE\n",
       "23    37500 - 45000 per annum OTE inc benefits negot...\n",
       "24                 33000 - 35000 per annum inc benefits\n",
       "25      30000 - 34000 per annum inc benefits negotiable\n",
       "26    39000 - 46000 per annum OTE inc benefits negot...\n",
       "Name: salary_unique_original, dtype: object"
      ]
     },
     "execution_count": 164,
     "metadata": {},
     "output_type": "execute_result"
    }
   ],
   "source": [
    "def remove_characters():\n",
    "    df_salary_unique['salary_unique_original'].replace('£', '', regex=True, inplace=True)\n",
    "    df_salary_unique['salary_unique_original'].replace('€', '',  regex=True, inplace=True)\n",
    "    df_salary_unique['salary_unique_original'].replace(',', '', regex=True, inplace=True)\n",
    "\n",
    "    return df_salary_unique['salary_unique_original']\n",
    "\n",
    "remove_characters()\n"
   ]
  },
  {
   "cell_type": "code",
   "execution_count": 54,
   "id": "39be3d74",
   "metadata": {},
   "outputs": [
    {
     "data": {
      "text/html": [
       "<div>\n",
       "<style scoped>\n",
       "    .dataframe tbody tr th:only-of-type {\n",
       "        vertical-align: middle;\n",
       "    }\n",
       "\n",
       "    .dataframe tbody tr th {\n",
       "        vertical-align: top;\n",
       "    }\n",
       "\n",
       "    .dataframe thead th {\n",
       "        text-align: right;\n",
       "    }\n",
       "</style>\n",
       "<table border=\"1\" class=\"dataframe\">\n",
       "  <thead>\n",
       "    <tr style=\"text-align: right;\">\n",
       "      <th></th>\n",
       "      <th>salary_unique_index</th>\n",
       "      <th>salary_unique_original</th>\n",
       "    </tr>\n",
       "  </thead>\n",
       "  <tbody>\n",
       "    <tr>\n",
       "      <th>0</th>\n",
       "      <td>6</td>\n",
       "      <td>Training Course</td>\n",
       "    </tr>\n",
       "    <tr>\n",
       "      <th>1</th>\n",
       "      <td>77</td>\n",
       "      <td>Training Course</td>\n",
       "    </tr>\n",
       "    <tr>\n",
       "      <th>2</th>\n",
       "      <td>84</td>\n",
       "      <td>Training Course</td>\n",
       "    </tr>\n",
       "    <tr>\n",
       "      <th>3</th>\n",
       "      <td>105</td>\n",
       "      <td>Salary negotiable</td>\n",
       "    </tr>\n",
       "    <tr>\n",
       "      <th>4</th>\n",
       "      <td>165</td>\n",
       "      <td>Salary negotiable</td>\n",
       "    </tr>\n",
       "  </tbody>\n",
       "</table>\n",
       "</div>"
      ],
      "text/plain": [
       "   salary_unique_index salary_unique_original\n",
       "0                    6        Training Course\n",
       "1                   77        Training Course\n",
       "2                   84        Training Course\n",
       "3                  105      Salary negotiable\n",
       "4                  165      Salary negotiable"
      ]
     },
     "execution_count": 54,
     "metadata": {},
     "output_type": "execute_result"
    }
   ],
   "source": [
    "df_salary_unique.head()"
   ]
  },
  {
   "cell_type": "code",
   "execution_count": 166,
   "id": "abb64ec8",
   "metadata": {},
   "outputs": [
    {
     "data": {
      "text/plain": [
       "'23 - 26 per hour'"
      ]
     },
     "execution_count": 166,
     "metadata": {},
     "output_type": "execute_result"
    }
   ],
   "source": [
    "df_salary_unique.iloc[10, 1]\n",
    "        "
   ]
  },
  {
   "cell_type": "code",
   "execution_count": 167,
   "id": "f3fd3f5a",
   "metadata": {},
   "outputs": [
    {
     "data": {
      "text/plain": [
       "['23', '-', '26', 'per', 'hour']"
      ]
     },
     "execution_count": 167,
     "metadata": {},
     "output_type": "execute_result"
    }
   ],
   "source": [
    "df_salary_unique.iloc[10, 1].split()"
   ]
  },
  {
   "cell_type": "code",
   "execution_count": 169,
   "id": "7bd74401",
   "metadata": {},
   "outputs": [
    {
     "data": {
      "text/plain": [
       "['39000', '-', '46000', 'per', 'annum', 'OTE', 'inc', 'benefits', 'negotiable']"
      ]
     },
     "execution_count": 169,
     "metadata": {},
     "output_type": "execute_result"
    }
   ],
   "source": [
    "df_salary_unique.iloc[26, 1].split()"
   ]
  },
  {
   "cell_type": "code",
   "execution_count": 55,
   "id": "223c69b4",
   "metadata": {},
   "outputs": [
    {
     "data": {
      "text/html": [
       "<div>\n",
       "<style scoped>\n",
       "    .dataframe tbody tr th:only-of-type {\n",
       "        vertical-align: middle;\n",
       "    }\n",
       "\n",
       "    .dataframe tbody tr th {\n",
       "        vertical-align: top;\n",
       "    }\n",
       "\n",
       "    .dataframe thead th {\n",
       "        text-align: right;\n",
       "    }\n",
       "</style>\n",
       "<table border=\"1\" class=\"dataframe\">\n",
       "  <thead>\n",
       "    <tr style=\"text-align: right;\">\n",
       "      <th></th>\n",
       "      <th>salary_unique_index</th>\n",
       "      <th>salary_unique_original</th>\n",
       "      <th>min_unique_salary</th>\n",
       "      <th>max_unique_salary</th>\n",
       "    </tr>\n",
       "  </thead>\n",
       "  <tbody>\n",
       "    <tr>\n",
       "      <th>0</th>\n",
       "      <td>6</td>\n",
       "      <td>Training Course</td>\n",
       "      <td>Training Course</td>\n",
       "      <td>Training Course</td>\n",
       "    </tr>\n",
       "    <tr>\n",
       "      <th>1</th>\n",
       "      <td>77</td>\n",
       "      <td>Training Course</td>\n",
       "      <td>Training Course</td>\n",
       "      <td>Training Course</td>\n",
       "    </tr>\n",
       "    <tr>\n",
       "      <th>2</th>\n",
       "      <td>84</td>\n",
       "      <td>Training Course</td>\n",
       "      <td>Training Course</td>\n",
       "      <td>Training Course</td>\n",
       "    </tr>\n",
       "    <tr>\n",
       "      <th>3</th>\n",
       "      <td>105</td>\n",
       "      <td>Salary negotiable</td>\n",
       "      <td>Salary negotiable</td>\n",
       "      <td>Salary negotiable</td>\n",
       "    </tr>\n",
       "    <tr>\n",
       "      <th>4</th>\n",
       "      <td>165</td>\n",
       "      <td>Salary negotiable</td>\n",
       "      <td>Salary negotiable</td>\n",
       "      <td>Salary negotiable</td>\n",
       "    </tr>\n",
       "  </tbody>\n",
       "</table>\n",
       "</div>"
      ],
      "text/plain": [
       "   salary_unique_index salary_unique_original  min_unique_salary  \\\n",
       "0                    6        Training Course    Training Course   \n",
       "1                   77        Training Course    Training Course   \n",
       "2                   84        Training Course    Training Course   \n",
       "3                  105      Salary negotiable  Salary negotiable   \n",
       "4                  165      Salary negotiable  Salary negotiable   \n",
       "\n",
       "   max_unique_salary  \n",
       "0    Training Course  \n",
       "1    Training Course  \n",
       "2    Training Course  \n",
       "3  Salary negotiable  \n",
       "4  Salary negotiable  "
      ]
     },
     "execution_count": 55,
     "metadata": {},
     "output_type": "execute_result"
    }
   ],
   "source": [
    "# create two columns by splitting 'h_d_a_original' columns \n",
    "min_salary   =[]\n",
    "max_salary  = []\n",
    "\n",
    "for i in df_salary_unique['salary_unique_original']:\n",
    "    \n",
    "    if 'per' not in i:\n",
    "        min_salary.append(i)\n",
    "        max_salary.append(i)\n",
    "        \n",
    "for i in df_salary_unique['salary_unique_original']:\n",
    "    \n",
    "    if 'per' in i:\n",
    " \n",
    "        # the first value is the the minimum \n",
    "        n = i.split()[0]      \n",
    "        min_salary.append(n)\n",
    "\n",
    "        # the second value is the the maximum if i has range values  \n",
    "        if len(i.split())==3:\n",
    "            x = 0\n",
    "        else: \n",
    "            x = i.split()[2]  \n",
    "\n",
    "        max_salary.append(x)\n",
    "    \n",
    "# print(min_salary)\n",
    "# print(max_salary)\n",
    "\n",
    "# create 'min_salary' and 'max_salary' columns  \n",
    "df_salary_unique['min_unique_salary'] = min_salary\n",
    "df_salary_unique['max_unique_salary'] = max_salary\n",
    "\n",
    "df_salary_unique.head()\n"
   ]
  },
  {
   "cell_type": "code",
   "execution_count": 171,
   "id": "60c232a1",
   "metadata": {},
   "outputs": [
    {
     "data": {
      "text/plain": [
       "Index(['salary_unique_index', 'salary_unique_original', 'min_unique_salary',\n",
       "       'max_unique_salary'],\n",
       "      dtype='object')"
      ]
     },
     "execution_count": 171,
     "metadata": {},
     "output_type": "execute_result"
    }
   ],
   "source": [
    "df_salary_unique.columns"
   ]
  },
  {
   "cell_type": "code",
   "execution_count": 172,
   "id": "aadad579",
   "metadata": {},
   "outputs": [
    {
     "data": {
      "text/plain": [
       "10        26\n",
       "11         0\n",
       "12     22.67\n",
       "13        26\n",
       "14    312.50\n",
       "15       500\n",
       "16         0\n",
       "17       450\n",
       "18         0\n",
       "19     32000\n",
       "20     60000\n",
       "21     65000\n",
       "22     95000\n",
       "23     45000\n",
       "24     35000\n",
       "25     34000\n",
       "26     46000\n",
       "Name: max_unique_salary, dtype: object"
      ]
     },
     "execution_count": 172,
     "metadata": {},
     "output_type": "execute_result"
    }
   ],
   "source": [
    "# select numeric salaries\n",
    "df_salary_unique['max_unique_salary'][10:]\n"
   ]
  },
  {
   "cell_type": "code",
   "execution_count": 173,
   "id": "dd878317",
   "metadata": {},
   "outputs": [
    {
     "data": {
      "text/plain": [
       "10       23\n",
       "11    18.01\n",
       "12    18.01\n",
       "13       23\n",
       "14      300\n",
       "15      400\n",
       "16      350\n",
       "17      400\n",
       "18    32000\n",
       "19    28000\n",
       "20    30000\n",
       "21    60000\n",
       "22    85000\n",
       "23    37500\n",
       "24    33000\n",
       "25    30000\n",
       "26    39000\n",
       "Name: min_unique_salary, dtype: object"
      ]
     },
     "execution_count": 173,
     "metadata": {},
     "output_type": "execute_result"
    }
   ],
   "source": [
    "df_salary_unique['min_unique_salary'][10:]\n"
   ]
  },
  {
   "cell_type": "markdown",
   "id": "2d3e8f4e",
   "metadata": {},
   "source": [
    "## Create the copy of 'salary' column"
   ]
  },
  {
   "cell_type": "code",
   "execution_count": 174,
   "id": "fae95f42",
   "metadata": {},
   "outputs": [
    {
     "data": {
      "text/html": [
       "<div>\n",
       "<style scoped>\n",
       "    .dataframe tbody tr th:only-of-type {\n",
       "        vertical-align: middle;\n",
       "    }\n",
       "\n",
       "    .dataframe tbody tr th {\n",
       "        vertical-align: top;\n",
       "    }\n",
       "\n",
       "    .dataframe thead th {\n",
       "        text-align: right;\n",
       "    }\n",
       "</style>\n",
       "<table border=\"1\" class=\"dataframe\">\n",
       "  <thead>\n",
       "    <tr style=\"text-align: right;\">\n",
       "      <th></th>\n",
       "      <th>title</th>\n",
       "      <th>date</th>\n",
       "      <th>employer</th>\n",
       "      <th>location</th>\n",
       "      <th>salary</th>\n",
       "      <th>salary_copy</th>\n",
       "      <th>working_hours</th>\n",
       "    </tr>\n",
       "  </thead>\n",
       "  <tbody>\n",
       "    <tr>\n",
       "      <th>0</th>\n",
       "      <td>Data Analyst</td>\n",
       "      <td>28 March</td>\n",
       "      <td>SES Water</td>\n",
       "      <td>Redhill</td>\n",
       "      <td>£28,000 - £32,000 per annum</td>\n",
       "      <td>£28,000 - £32,000 per annum</td>\n",
       "      <td>Permanent, full-time</td>\n",
       "    </tr>\n",
       "    <tr>\n",
       "      <th>1</th>\n",
       "      <td>Business Data Analyst/Data Analyst</td>\n",
       "      <td>3 days ago</td>\n",
       "      <td>Deutsche Bank</td>\n",
       "      <td>Birmingham</td>\n",
       "      <td>Competitive salary</td>\n",
       "      <td>Competitive salary</td>\n",
       "      <td>Contract, full-time</td>\n",
       "    </tr>\n",
       "  </tbody>\n",
       "</table>\n",
       "</div>"
      ],
      "text/plain": [
       "                                title        date       employer    location  \\\n",
       "0                        Data Analyst    28 March      SES Water     Redhill   \n",
       "1  Business Data Analyst/Data Analyst  3 days ago  Deutsche Bank  Birmingham   \n",
       "\n",
       "                        salary                  salary_copy  \\\n",
       "0  £28,000 - £32,000 per annum  £28,000 - £32,000 per annum   \n",
       "1           Competitive salary           Competitive salary   \n",
       "\n",
       "          working_hours  \n",
       "0  Permanent, full-time  \n",
       "1   Contract, full-time  "
      ]
     },
     "execution_count": 174,
     "metadata": {},
     "output_type": "execute_result"
    }
   ],
   "source": [
    "# create a copy of salary column\n",
    "salary_copy = df_data_analyst['salary']\n",
    "\n",
    "#insert the new column next to the 'salary' column right side at index 5 to make visual comparison \n",
    "df_data_analyst.insert(loc = 5, column = 'salary_copy', value = salary_copy)\n",
    "\n",
    "df_data_analyst.head(2)\n"
   ]
  },
  {
   "cell_type": "code",
   "execution_count": 175,
   "id": "1c5cd70e",
   "metadata": {},
   "outputs": [
    {
     "data": {
      "text/plain": [
       "Index(['title', 'date', 'employer', 'location', 'salary', 'salary_copy',\n",
       "       'working_hours'],\n",
       "      dtype='object')"
      ]
     },
     "execution_count": 175,
     "metadata": {},
     "output_type": "execute_result"
    }
   ],
   "source": [
    "df_data_analyst.columns"
   ]
  },
  {
   "cell_type": "code",
   "execution_count": 4,
   "id": "9d4916f7",
   "metadata": {},
   "outputs": [
    {
     "name": "stdout",
     "output_type": "stream",
     "text": [
      "<class 'pandas.core.frame.DataFrame'>\n",
      "Index: 523 entries, 0 to 2863\n",
      "Data columns (total 9 columns):\n",
      " #   Column           Non-Null Count  Dtype \n",
      "---  ------           --------------  ----- \n",
      " 0   title            523 non-null    object\n",
      " 1   date             523 non-null    object\n",
      " 2   employer         523 non-null    object\n",
      " 3   location         523 non-null    object\n",
      " 4   salary           523 non-null    object\n",
      " 5   salary_copy      523 non-null    object\n",
      " 6   working_hours    523 non-null    object\n",
      " 7   job_weblink      523 non-null    object\n",
      " 8   job_description  523 non-null    object\n",
      "dtypes: object(9)\n",
      "memory usage: 40.9+ KB\n"
     ]
    }
   ],
   "source": [
    "df_data_analyst.info()"
   ]
  },
  {
   "cell_type": "markdown",
   "id": "ea5dcade",
   "metadata": {},
   "source": [
    "### Replace/remove '£', '€', ',' signs with nothing from 'salary_copy' column"
   ]
  },
  {
   "cell_type": "code",
   "execution_count": 176,
   "id": "d9ee1a33",
   "metadata": {},
   "outputs": [
    {
     "data": {
      "text/html": [
       "<div>\n",
       "<style scoped>\n",
       "    .dataframe tbody tr th:only-of-type {\n",
       "        vertical-align: middle;\n",
       "    }\n",
       "\n",
       "    .dataframe tbody tr th {\n",
       "        vertical-align: top;\n",
       "    }\n",
       "\n",
       "    .dataframe thead th {\n",
       "        text-align: right;\n",
       "    }\n",
       "</style>\n",
       "<table border=\"1\" class=\"dataframe\">\n",
       "  <thead>\n",
       "    <tr style=\"text-align: right;\">\n",
       "      <th></th>\n",
       "      <th>title</th>\n",
       "      <th>date</th>\n",
       "      <th>employer</th>\n",
       "      <th>location</th>\n",
       "      <th>salary</th>\n",
       "      <th>salary_copy</th>\n",
       "      <th>working_hours</th>\n",
       "    </tr>\n",
       "  </thead>\n",
       "  <tbody>\n",
       "    <tr>\n",
       "      <th>0</th>\n",
       "      <td>Data Analyst</td>\n",
       "      <td>28 March</td>\n",
       "      <td>SES Water</td>\n",
       "      <td>Redhill</td>\n",
       "      <td>£28,000 - £32,000 per annum</td>\n",
       "      <td>28000 - 32000 per annum</td>\n",
       "      <td>Permanent, full-time</td>\n",
       "    </tr>\n",
       "    <tr>\n",
       "      <th>1</th>\n",
       "      <td>Business Data Analyst/Data Analyst</td>\n",
       "      <td>3 days ago</td>\n",
       "      <td>Deutsche Bank</td>\n",
       "      <td>Birmingham</td>\n",
       "      <td>Competitive salary</td>\n",
       "      <td>Competitive salary</td>\n",
       "      <td>Contract, full-time</td>\n",
       "    </tr>\n",
       "  </tbody>\n",
       "</table>\n",
       "</div>"
      ],
      "text/plain": [
       "                                title        date       employer    location  \\\n",
       "0                        Data Analyst    28 March      SES Water     Redhill   \n",
       "1  Business Data Analyst/Data Analyst  3 days ago  Deutsche Bank  Birmingham   \n",
       "\n",
       "                        salary              salary_copy         working_hours  \n",
       "0  £28,000 - £32,000 per annum  28000 - 32000 per annum  Permanent, full-time  \n",
       "1           Competitive salary       Competitive salary   Contract, full-time  "
      ]
     },
     "execution_count": 176,
     "metadata": {},
     "output_type": "execute_result"
    }
   ],
   "source": [
    "# replace/remove '£', '€', ',' signs with nothing from 'salary_copy' column\n",
    "df_data_analyst['salary_copy'].replace(['£', '€', ','], '', regex=True, inplace=True)\n",
    "df_data_analyst.head(2)\n"
   ]
  },
  {
   "cell_type": "code",
   "execution_count": 177,
   "id": "a4358a64",
   "metadata": {},
   "outputs": [
    {
     "data": {
      "text/plain": [
       "0    28000 - 32000 per annum\n",
       "1         Competitive salary\n",
       "2         Competitive salary\n",
       "3            32000 per annum\n",
       "6            Training Course\n",
       "7            Training Course\n",
       "8            Training Course\n",
       "9            Training Course\n",
       "Name: salary_copy, dtype: object"
      ]
     },
     "execution_count": 177,
     "metadata": {},
     "output_type": "execute_result"
    }
   ],
   "source": [
    "df_data_analyst['salary_copy'][:8]\n"
   ]
  },
  {
   "cell_type": "code",
   "execution_count": 178,
   "id": "c34a03f4",
   "metadata": {},
   "outputs": [
    {
     "data": {
      "text/plain": [
       "117             £18.71 per hour\n",
       "156          £15 - £17 per hour\n",
       "276          £23 - £26 per hour\n",
       "279             £18.01 per hour\n",
       "284    £18.01 - £22.67 per hour\n",
       "339          £23 - £26 per hour\n",
       "Name: salary, dtype: object"
      ]
     },
     "execution_count": 178,
     "metadata": {},
     "output_type": "execute_result"
    }
   ],
   "source": [
    "# all Per hour salary are less than 100 \n",
    "per_hour = df_data_analyst.loc[df_data_analyst.salary.str.contains('per hour'),'salary']\n",
    "per_hour\n"
   ]
  },
  {
   "cell_type": "code",
   "execution_count": 179,
   "id": "fb20c4ed",
   "metadata": {},
   "outputs": [
    {
     "data": {
      "text/plain": [
       "111               £300 - £312.50 per day\n",
       "113                  £400 - £500 per day\n",
       "116                         £350 per day\n",
       "147                         £450 per day\n",
       "161    £400 - £450 per day, inc benefits\n",
       "172                  £500 - £550 per day\n",
       "184                  £450 - £500 per day\n",
       "188                  £180 - £200 per day\n",
       "208                  £550 - £650 per day\n",
       "225                  £200 - £250 per day\n",
       "233                  £350 - £400 per day\n",
       "234                  £300 - £400 per day\n",
       "235                  £200 - £250 per day\n",
       "255                  £600 - £650 per day\n",
       "258                  £450 - £451 per day\n",
       "272                  £400 - £500 per day\n",
       "288                  £450 - £550 per day\n",
       "289                         £350 per day\n",
       "303                  £400 - £500 per day\n",
       "343                  £700 - £850 per day\n",
       "345                  £550 - £650 per day\n",
       "350                         £600 per day\n",
       "Name: salary, dtype: object"
      ]
     },
     "execution_count": 179,
     "metadata": {},
     "output_type": "execute_result"
    }
   ],
   "source": [
    "per_day = df_data_analyst.loc[df_data_analyst.salary.str.contains('per day'),'salary']\n",
    "per_day\n"
   ]
  },
  {
   "cell_type": "markdown",
   "id": "7f99adaa",
   "metadata": {},
   "source": [
    "### Create 'min_salary' & 'max_salary' columns using values of the 'salary_copy' column"
   ]
  },
  {
   "cell_type": "code",
   "execution_count": 180,
   "id": "5cd732d6",
   "metadata": {},
   "outputs": [
    {
     "data": {
      "text/html": [
       "<div>\n",
       "<style scoped>\n",
       "    .dataframe tbody tr th:only-of-type {\n",
       "        vertical-align: middle;\n",
       "    }\n",
       "\n",
       "    .dataframe tbody tr th {\n",
       "        vertical-align: top;\n",
       "    }\n",
       "\n",
       "    .dataframe thead th {\n",
       "        text-align: right;\n",
       "    }\n",
       "</style>\n",
       "<table border=\"1\" class=\"dataframe\">\n",
       "  <thead>\n",
       "    <tr style=\"text-align: right;\">\n",
       "      <th></th>\n",
       "      <th>title</th>\n",
       "      <th>date</th>\n",
       "      <th>employer</th>\n",
       "      <th>location</th>\n",
       "      <th>salary</th>\n",
       "      <th>salary_copy</th>\n",
       "      <th>working_hours</th>\n",
       "      <th>min_salary</th>\n",
       "      <th>max_salary</th>\n",
       "    </tr>\n",
       "  </thead>\n",
       "  <tbody>\n",
       "    <tr>\n",
       "      <th>0</th>\n",
       "      <td>Data Analyst</td>\n",
       "      <td>28 March</td>\n",
       "      <td>SES Water</td>\n",
       "      <td>Redhill</td>\n",
       "      <td>£28,000 - £32,000 per annum</td>\n",
       "      <td>28000 - 32000 per annum</td>\n",
       "      <td>Permanent, full-time</td>\n",
       "      <td>28000</td>\n",
       "      <td>32000</td>\n",
       "    </tr>\n",
       "    <tr>\n",
       "      <th>1</th>\n",
       "      <td>Business Data Analyst/Data Analyst</td>\n",
       "      <td>3 days ago</td>\n",
       "      <td>Deutsche Bank</td>\n",
       "      <td>Birmingham</td>\n",
       "      <td>Competitive salary</td>\n",
       "      <td>Competitive salary</td>\n",
       "      <td>Contract, full-time</td>\n",
       "      <td>Competitive salary</td>\n",
       "      <td>Competitive salary</td>\n",
       "    </tr>\n",
       "  </tbody>\n",
       "</table>\n",
       "</div>"
      ],
      "text/plain": [
       "                                title        date       employer    location  \\\n",
       "0                        Data Analyst    28 March      SES Water     Redhill   \n",
       "1  Business Data Analyst/Data Analyst  3 days ago  Deutsche Bank  Birmingham   \n",
       "\n",
       "                        salary              salary_copy         working_hours  \\\n",
       "0  £28,000 - £32,000 per annum  28000 - 32000 per annum  Permanent, full-time   \n",
       "1           Competitive salary       Competitive salary   Contract, full-time   \n",
       "\n",
       "           min_salary          max_salary  \n",
       "0               28000               32000  \n",
       "1  Competitive salary  Competitive salary  "
      ]
     },
     "execution_count": 180,
     "metadata": {},
     "output_type": "execute_result"
    }
   ],
   "source": [
    "# min_salary is at index zero after split() if 'per' is in the value \n",
    "df_data_analyst['min_salary'] = df_data_analyst['salary_copy'].apply(lambda x: x.split()[0] if 'per' in x else x)\n",
    "\n",
    "# if 'per' is in the value & the length of split is more than 3 then max_salary at index 2 if less than 3 max_salary = zero\n",
    "df_data_analyst['max_salary'] = df_data_analyst['salary_copy'].apply(lambda x: x.split()[2] if 'per' in x and len(x.split()) > 3 else 0)\n",
    "\n",
    "# if 'per' is not in the value fill 'min_salary' and 'max_salary' with the salary value -Training Course, Competitive salary,etc\n",
    "df_data_analyst['min_salary'] = df_data_analyst.apply(lambda row: row['salary_copy'] if 'per' not in row['salary_copy'] else row['min_salary'], axis=1)\n",
    "df_data_analyst['max_salary'] = df_data_analyst.apply(lambda row: row['salary_copy'] if 'per' not in row['salary_copy'] else row['max_salary'], axis=1)\n",
    "\n",
    "df_data_analyst.head(2)\n"
   ]
  },
  {
   "cell_type": "markdown",
   "id": "58b6b577",
   "metadata": {},
   "source": [
    "### Rearrange  'min_salary'  & 'max_salary' columns locations to right of 'salary_copy' to make visual comparison "
   ]
  },
  {
   "cell_type": "code",
   "execution_count": 181,
   "id": "4612e5b5",
   "metadata": {},
   "outputs": [
    {
     "data": {
      "text/html": [
       "<div>\n",
       "<style scoped>\n",
       "    .dataframe tbody tr th:only-of-type {\n",
       "        vertical-align: middle;\n",
       "    }\n",
       "\n",
       "    .dataframe tbody tr th {\n",
       "        vertical-align: top;\n",
       "    }\n",
       "\n",
       "    .dataframe thead th {\n",
       "        text-align: right;\n",
       "    }\n",
       "</style>\n",
       "<table border=\"1\" class=\"dataframe\">\n",
       "  <thead>\n",
       "    <tr style=\"text-align: right;\">\n",
       "      <th></th>\n",
       "      <th>title</th>\n",
       "      <th>date</th>\n",
       "      <th>employer</th>\n",
       "      <th>location</th>\n",
       "      <th>salary</th>\n",
       "      <th>salary_copy</th>\n",
       "      <th>min_salary</th>\n",
       "      <th>max_salary</th>\n",
       "      <th>working_hours</th>\n",
       "    </tr>\n",
       "  </thead>\n",
       "  <tbody>\n",
       "    <tr>\n",
       "      <th>0</th>\n",
       "      <td>Data Analyst</td>\n",
       "      <td>28 March</td>\n",
       "      <td>SES Water</td>\n",
       "      <td>Redhill</td>\n",
       "      <td>£28,000 - £32,000 per annum</td>\n",
       "      <td>28000 - 32000 per annum</td>\n",
       "      <td>28000</td>\n",
       "      <td>32000</td>\n",
       "      <td>Permanent, full-time</td>\n",
       "    </tr>\n",
       "    <tr>\n",
       "      <th>1</th>\n",
       "      <td>Business Data Analyst/Data Analyst</td>\n",
       "      <td>3 days ago</td>\n",
       "      <td>Deutsche Bank</td>\n",
       "      <td>Birmingham</td>\n",
       "      <td>Competitive salary</td>\n",
       "      <td>Competitive salary</td>\n",
       "      <td>Competitive salary</td>\n",
       "      <td>Competitive salary</td>\n",
       "      <td>Contract, full-time</td>\n",
       "    </tr>\n",
       "  </tbody>\n",
       "</table>\n",
       "</div>"
      ],
      "text/plain": [
       "                                title        date       employer    location  \\\n",
       "0                        Data Analyst    28 March      SES Water     Redhill   \n",
       "1  Business Data Analyst/Data Analyst  3 days ago  Deutsche Bank  Birmingham   \n",
       "\n",
       "                        salary              salary_copy          min_salary  \\\n",
       "0  £28,000 - £32,000 per annum  28000 - 32000 per annum               28000   \n",
       "1           Competitive salary       Competitive salary  Competitive salary   \n",
       "\n",
       "           max_salary         working_hours  \n",
       "0               32000  Permanent, full-time  \n",
       "1  Competitive salary   Contract, full-time  "
      ]
     },
     "execution_count": 181,
     "metadata": {},
     "output_type": "execute_result"
    }
   ],
   "source": [
    "# move 'min_salary' column to index 6\n",
    "column_to_move = df_data_analyst.pop('min_salary')\n",
    "\n",
    "df_data_analyst.insert(6, 'min_salary', column_to_move)\n",
    "\n",
    "# move 'max_salary' column to index 7\n",
    "column_to_move_1 = df_data_analyst.pop('max_salary')\n",
    "\n",
    "df_data_analyst.insert(7, 'max_salary', column_to_move_1)\n",
    "\n",
    "df_data_analyst.head(2)\n"
   ]
  },
  {
   "cell_type": "code",
   "execution_count": 182,
   "id": "b4e249c5",
   "metadata": {},
   "outputs": [
    {
     "data": {
      "text/plain": [
       "Index(['title', 'date', 'employer', 'location', 'salary', 'salary_copy',\n",
       "       'min_salary', 'max_salary', 'working_hours'],\n",
       "      dtype='object')"
      ]
     },
     "execution_count": 182,
     "metadata": {},
     "output_type": "execute_result"
    }
   ],
   "source": [
    "df_data_analyst.columns"
   ]
  },
  {
   "cell_type": "code",
   "execution_count": 183,
   "id": "74db1134",
   "metadata": {},
   "outputs": [
    {
     "data": {
      "text/html": [
       "<div>\n",
       "<style scoped>\n",
       "    .dataframe tbody tr th:only-of-type {\n",
       "        vertical-align: middle;\n",
       "    }\n",
       "\n",
       "    .dataframe tbody tr th {\n",
       "        vertical-align: top;\n",
       "    }\n",
       "\n",
       "    .dataframe thead th {\n",
       "        text-align: right;\n",
       "    }\n",
       "</style>\n",
       "<table border=\"1\" class=\"dataframe\">\n",
       "  <thead>\n",
       "    <tr style=\"text-align: right;\">\n",
       "      <th></th>\n",
       "      <th>salary</th>\n",
       "      <th>salary_copy</th>\n",
       "      <th>min_salary</th>\n",
       "      <th>max_salary</th>\n",
       "    </tr>\n",
       "  </thead>\n",
       "  <tbody>\n",
       "    <tr>\n",
       "      <th>0</th>\n",
       "      <td>£28,000 - £32,000 per annum</td>\n",
       "      <td>28000 - 32000 per annum</td>\n",
       "      <td>28000</td>\n",
       "      <td>32000</td>\n",
       "    </tr>\n",
       "    <tr>\n",
       "      <th>1</th>\n",
       "      <td>Competitive salary</td>\n",
       "      <td>Competitive salary</td>\n",
       "      <td>Competitive salary</td>\n",
       "      <td>Competitive salary</td>\n",
       "    </tr>\n",
       "    <tr>\n",
       "      <th>2</th>\n",
       "      <td>Competitive salary</td>\n",
       "      <td>Competitive salary</td>\n",
       "      <td>Competitive salary</td>\n",
       "      <td>Competitive salary</td>\n",
       "    </tr>\n",
       "    <tr>\n",
       "      <th>3</th>\n",
       "      <td>£32,000 per annum</td>\n",
       "      <td>32000 per annum</td>\n",
       "      <td>32000</td>\n",
       "      <td>0</td>\n",
       "    </tr>\n",
       "    <tr>\n",
       "      <th>6</th>\n",
       "      <td>Training Course</td>\n",
       "      <td>Training Course</td>\n",
       "      <td>Training Course</td>\n",
       "      <td>Training Course</td>\n",
       "    </tr>\n",
       "  </tbody>\n",
       "</table>\n",
       "</div>"
      ],
      "text/plain": [
       "                        salary              salary_copy          min_salary  \\\n",
       "0  £28,000 - £32,000 per annum  28000 - 32000 per annum               28000   \n",
       "1           Competitive salary       Competitive salary  Competitive salary   \n",
       "2           Competitive salary       Competitive salary  Competitive salary   \n",
       "3            £32,000 per annum          32000 per annum               32000   \n",
       "6              Training Course          Training Course     Training Course   \n",
       "\n",
       "           max_salary  \n",
       "0               32000  \n",
       "1  Competitive salary  \n",
       "2  Competitive salary  \n",
       "3                   0  \n",
       "6     Training Course  "
      ]
     },
     "execution_count": 183,
     "metadata": {},
     "output_type": "execute_result"
    }
   ],
   "source": [
    "df_data_analyst[['salary', 'salary_copy','min_salary','max_salary']].head(5)"
   ]
  },
  {
   "cell_type": "code",
   "execution_count": 184,
   "id": "7836f645",
   "metadata": {},
   "outputs": [
    {
     "data": {
      "text/html": [
       "<div>\n",
       "<style scoped>\n",
       "    .dataframe tbody tr th:only-of-type {\n",
       "        vertical-align: middle;\n",
       "    }\n",
       "\n",
       "    .dataframe tbody tr th {\n",
       "        vertical-align: top;\n",
       "    }\n",
       "\n",
       "    .dataframe thead th {\n",
       "        text-align: right;\n",
       "    }\n",
       "</style>\n",
       "<table border=\"1\" class=\"dataframe\">\n",
       "  <thead>\n",
       "    <tr style=\"text-align: right;\">\n",
       "      <th></th>\n",
       "      <th>salary</th>\n",
       "      <th>salary_copy</th>\n",
       "      <th>min_salary</th>\n",
       "      <th>max_salary</th>\n",
       "    </tr>\n",
       "  </thead>\n",
       "  <tbody>\n",
       "    <tr>\n",
       "      <th>2151</th>\n",
       "      <td>Competitive salary</td>\n",
       "      <td>Competitive salary</td>\n",
       "      <td>Competitive salary</td>\n",
       "      <td>Competitive salary</td>\n",
       "    </tr>\n",
       "    <tr>\n",
       "      <th>2152</th>\n",
       "      <td>Competitive salary</td>\n",
       "      <td>Competitive salary</td>\n",
       "      <td>Competitive salary</td>\n",
       "      <td>Competitive salary</td>\n",
       "    </tr>\n",
       "    <tr>\n",
       "      <th>2154</th>\n",
       "      <td>Competitive salary</td>\n",
       "      <td>Competitive salary</td>\n",
       "      <td>Competitive salary</td>\n",
       "      <td>Competitive salary</td>\n",
       "    </tr>\n",
       "    <tr>\n",
       "      <th>2155</th>\n",
       "      <td>Competitive salary</td>\n",
       "      <td>Competitive salary</td>\n",
       "      <td>Competitive salary</td>\n",
       "      <td>Competitive salary</td>\n",
       "    </tr>\n",
       "    <tr>\n",
       "      <th>2157</th>\n",
       "      <td>Competitive salary</td>\n",
       "      <td>Competitive salary</td>\n",
       "      <td>Competitive salary</td>\n",
       "      <td>Competitive salary</td>\n",
       "    </tr>\n",
       "  </tbody>\n",
       "</table>\n",
       "</div>"
      ],
      "text/plain": [
       "                  salary         salary_copy          min_salary  \\\n",
       "2151  Competitive salary  Competitive salary  Competitive salary   \n",
       "2152  Competitive salary  Competitive salary  Competitive salary   \n",
       "2154  Competitive salary  Competitive salary  Competitive salary   \n",
       "2155  Competitive salary  Competitive salary  Competitive salary   \n",
       "2157  Competitive salary  Competitive salary  Competitive salary   \n",
       "\n",
       "              max_salary  \n",
       "2151  Competitive salary  \n",
       "2152  Competitive salary  \n",
       "2154  Competitive salary  \n",
       "2155  Competitive salary  \n",
       "2157  Competitive salary  "
      ]
     },
     "execution_count": 184,
     "metadata": {},
     "output_type": "execute_result"
    }
   ],
   "source": [
    "df_data_analyst[['salary', 'salary_copy','min_salary','max_salary']].tail(5)"
   ]
  },
  {
   "cell_type": "markdown",
   "id": "b87e4803",
   "metadata": {},
   "source": [
    "## Creating a dataframe by selecting relevant columns to work on "
   ]
  },
  {
   "cell_type": "code",
   "execution_count": 185,
   "id": "96c6342f",
   "metadata": {},
   "outputs": [
    {
     "data": {
      "text/html": [
       "<div>\n",
       "<style scoped>\n",
       "    .dataframe tbody tr th:only-of-type {\n",
       "        vertical-align: middle;\n",
       "    }\n",
       "\n",
       "    .dataframe tbody tr th {\n",
       "        vertical-align: top;\n",
       "    }\n",
       "\n",
       "    .dataframe thead th {\n",
       "        text-align: right;\n",
       "    }\n",
       "</style>\n",
       "<table border=\"1\" class=\"dataframe\">\n",
       "  <thead>\n",
       "    <tr style=\"text-align: right;\">\n",
       "      <th></th>\n",
       "      <th>title</th>\n",
       "      <th>date</th>\n",
       "      <th>employer</th>\n",
       "      <th>location</th>\n",
       "      <th>salary</th>\n",
       "      <th>salary_copy</th>\n",
       "      <th>min_salary</th>\n",
       "      <th>max_salary</th>\n",
       "      <th>working_hours</th>\n",
       "    </tr>\n",
       "  </thead>\n",
       "  <tbody>\n",
       "    <tr>\n",
       "      <th>0</th>\n",
       "      <td>Data Analyst</td>\n",
       "      <td>28 March</td>\n",
       "      <td>SES Water</td>\n",
       "      <td>Redhill</td>\n",
       "      <td>£28,000 - £32,000 per annum</td>\n",
       "      <td>28000 - 32000 per annum</td>\n",
       "      <td>28000</td>\n",
       "      <td>32000</td>\n",
       "      <td>Permanent, full-time</td>\n",
       "    </tr>\n",
       "    <tr>\n",
       "      <th>1</th>\n",
       "      <td>Business Data Analyst/Data Analyst</td>\n",
       "      <td>3 days ago</td>\n",
       "      <td>Deutsche Bank</td>\n",
       "      <td>Birmingham</td>\n",
       "      <td>Competitive salary</td>\n",
       "      <td>Competitive salary</td>\n",
       "      <td>Competitive salary</td>\n",
       "      <td>Competitive salary</td>\n",
       "      <td>Contract, full-time</td>\n",
       "    </tr>\n",
       "  </tbody>\n",
       "</table>\n",
       "</div>"
      ],
      "text/plain": [
       "                                title        date       employer    location  \\\n",
       "0                        Data Analyst    28 March      SES Water     Redhill   \n",
       "1  Business Data Analyst/Data Analyst  3 days ago  Deutsche Bank  Birmingham   \n",
       "\n",
       "                        salary              salary_copy          min_salary  \\\n",
       "0  £28,000 - £32,000 per annum  28000 - 32000 per annum               28000   \n",
       "1           Competitive salary       Competitive salary  Competitive salary   \n",
       "\n",
       "           max_salary         working_hours  \n",
       "0               32000  Permanent, full-time  \n",
       "1  Competitive salary   Contract, full-time  "
      ]
     },
     "execution_count": 185,
     "metadata": {},
     "output_type": "execute_result"
    }
   ],
   "source": [
    "df_working = df_data_analyst.loc[:,['title', 'date', 'employer', 'location', \n",
    "                                         'salary', 'salary_copy','min_salary', 'max_salary', 'working_hours']]\n",
    "# remove 229 duplicated values from df_data_analyst= \n",
    "df_working.drop_duplicates(inplace=True)\n",
    "df_working.head(2)\n"
   ]
  },
  {
   "cell_type": "markdown",
   "id": "b3039214",
   "metadata": {},
   "source": [
    "## One salary at index 183(179) contains Euro (€)\n",
    "- Change it to £ (UK pound) at Exchange rate €1 = £0.86 to match with the rest\n"
   ]
  },
  {
   "cell_type": "code",
   "execution_count": 186,
   "id": "9e23c474",
   "metadata": {},
   "outputs": [
    {
     "data": {
      "text/html": [
       "<div>\n",
       "<style scoped>\n",
       "    .dataframe tbody tr th:only-of-type {\n",
       "        vertical-align: middle;\n",
       "    }\n",
       "\n",
       "    .dataframe tbody tr th {\n",
       "        vertical-align: top;\n",
       "    }\n",
       "\n",
       "    .dataframe thead th {\n",
       "        text-align: right;\n",
       "    }\n",
       "</style>\n",
       "<table border=\"1\" class=\"dataframe\">\n",
       "  <thead>\n",
       "    <tr style=\"text-align: right;\">\n",
       "      <th></th>\n",
       "      <th>salary</th>\n",
       "      <th>salary_copy</th>\n",
       "      <th>min_salary</th>\n",
       "      <th>max_salary</th>\n",
       "    </tr>\n",
       "  </thead>\n",
       "  <tbody>\n",
       "    <tr>\n",
       "      <th>183</th>\n",
       "      <td>€60,000 - €65,000 per annum</td>\n",
       "      <td>60000 - 65000 per annum</td>\n",
       "      <td>60000</td>\n",
       "      <td>65000</td>\n",
       "    </tr>\n",
       "  </tbody>\n",
       "</table>\n",
       "</div>"
      ],
      "text/plain": [
       "                          salary              salary_copy min_salary  \\\n",
       "183  €60,000 - €65,000 per annum  60000 - 65000 per annum      60000   \n",
       "\n",
       "    max_salary  \n",
       "183      65000  "
      ]
     },
     "execution_count": 186,
     "metadata": {},
     "output_type": "execute_result"
    }
   ],
   "source": [
    "df_working.loc[df_working.salary.str.contains('€'),['salary', 'salary_copy', 'min_salary', 'max_salary']]\n"
   ]
  },
  {
   "cell_type": "code",
   "execution_count": 187,
   "id": "307158d1",
   "metadata": {},
   "outputs": [
    {
     "data": {
      "text/html": [
       "<div>\n",
       "<style scoped>\n",
       "    .dataframe tbody tr th:only-of-type {\n",
       "        vertical-align: middle;\n",
       "    }\n",
       "\n",
       "    .dataframe tbody tr th {\n",
       "        vertical-align: top;\n",
       "    }\n",
       "\n",
       "    .dataframe thead th {\n",
       "        text-align: right;\n",
       "    }\n",
       "</style>\n",
       "<table border=\"1\" class=\"dataframe\">\n",
       "  <thead>\n",
       "    <tr style=\"text-align: right;\">\n",
       "      <th></th>\n",
       "      <th>title</th>\n",
       "      <th>date</th>\n",
       "      <th>employer</th>\n",
       "      <th>location</th>\n",
       "      <th>salary</th>\n",
       "      <th>salary_copy</th>\n",
       "      <th>min_salary</th>\n",
       "      <th>max_salary</th>\n",
       "      <th>working_hours</th>\n",
       "    </tr>\n",
       "  </thead>\n",
       "  <tbody>\n",
       "    <tr>\n",
       "      <th>183</th>\n",
       "      <td>Senior Data Analyst</td>\n",
       "      <td>18 April</td>\n",
       "      <td>Sphere Digital Recruitment</td>\n",
       "      <td>London</td>\n",
       "      <td>€60,000 - €65,000 per annum</td>\n",
       "      <td>60000 - 65000 per annum</td>\n",
       "      <td>60000</td>\n",
       "      <td>65000</td>\n",
       "      <td>Permanent, full-time</td>\n",
       "    </tr>\n",
       "  </tbody>\n",
       "</table>\n",
       "</div>"
      ],
      "text/plain": [
       "                   title      date                    employer location  \\\n",
       "183  Senior Data Analyst  18 April  Sphere Digital Recruitment   London   \n",
       "\n",
       "                          salary              salary_copy min_salary  \\\n",
       "183  €60,000 - €65,000 per annum  60000 - 65000 per annum      60000   \n",
       "\n",
       "    max_salary         working_hours  \n",
       "183      65000  Permanent, full-time  "
      ]
     },
     "execution_count": 187,
     "metadata": {},
     "output_type": "execute_result"
    }
   ],
   "source": [
    "df_working[df_working['salary']== '€60,000 - €65,000 per annum']\n"
   ]
  },
  {
   "cell_type": "code",
   "execution_count": 190,
   "id": "7ea78ed6",
   "metadata": {
    "scrolled": true
   },
   "outputs": [
    {
     "data": {
      "text/plain": [
       "title                             Customer Data Analyst\n",
       "date                                           19 April\n",
       "employer         Harnham - Data & Analytics Recruitment\n",
       "location                                         London\n",
       "salary                      £35,000 - £50,000 per annum\n",
       "salary_copy                     35000 - 50000 per annum\n",
       "min_salary                                        35000\n",
       "max_salary                                        50000\n",
       "working_hours                      Permanent, full-time\n",
       "Name: 214, dtype: object"
      ]
     },
     "execution_count": 190,
     "metadata": {},
     "output_type": "execute_result"
    }
   ],
   "source": [
    "df_working.iloc[179, :]"
   ]
  },
  {
   "cell_type": "code",
   "execution_count": 191,
   "id": "b1a48862",
   "metadata": {},
   "outputs": [
    {
     "data": {
      "text/plain": [
       "Index([183], dtype='int64')"
      ]
     },
     "execution_count": 191,
     "metadata": {},
     "output_type": "execute_result"
    }
   ],
   "source": [
    "df_working[df_working['salary']== '€60,000 - €65,000 per annum'].index\n"
   ]
  },
  {
   "cell_type": "code",
   "execution_count": 192,
   "id": "455fc601",
   "metadata": {},
   "outputs": [
    {
     "data": {
      "text/plain": [
       "'€60,000 - €65,000 per annum'"
      ]
     },
     "execution_count": 192,
     "metadata": {},
     "output_type": "execute_result"
    }
   ],
   "source": [
    "df_working['salary'][183]\n"
   ]
  },
  {
   "cell_type": "code",
   "execution_count": 193,
   "id": "71c86e09",
   "metadata": {},
   "outputs": [
    {
     "data": {
      "text/plain": [
       "('60000', '65000')"
      ]
     },
     "execution_count": 193,
     "metadata": {},
     "output_type": "execute_result"
    }
   ],
   "source": [
    "df_working['min_salary'][183], df_working['max_salary'][183]\n"
   ]
  },
  {
   "cell_type": "code",
   "execution_count": 194,
   "id": "75697900",
   "metadata": {},
   "outputs": [
    {
     "data": {
      "text/plain": [
       "min_salary\n",
       " Training Course      78\n",
       "Competitive salary    27\n",
       "35000                 27\n",
       "30000                 18\n",
       "40000                 11\n",
       "Salary negotiable     11\n",
       "Name: count, dtype: int64"
      ]
     },
     "execution_count": 194,
     "metadata": {},
     "output_type": "execute_result"
    }
   ],
   "source": [
    "df_working['min_salary'].value_counts()[:6]"
   ]
  },
  {
   "cell_type": "code",
   "execution_count": 195,
   "id": "35c17f1d",
   "metadata": {},
   "outputs": [
    {
     "data": {
      "text/plain": [
       "max_salary\n",
       " Training Course      78\n",
       "Competitive salary    27\n",
       "0                     22\n",
       "40000                 19\n",
       "45000                 16\n",
       "60000                 12\n",
       "Name: count, dtype: int64"
      ]
     },
     "execution_count": 195,
     "metadata": {},
     "output_type": "execute_result"
    }
   ],
   "source": [
    "df_working['max_salary'].value_counts()[:6]"
   ]
  },
  {
   "cell_type": "code",
   "execution_count": 196,
   "id": "baf51ca4",
   "metadata": {},
   "outputs": [
    {
     "data": {
      "text/plain": [
       "(dtype('O'), dtype('O'))"
      ]
     },
     "execution_count": 196,
     "metadata": {},
     "output_type": "execute_result"
    }
   ],
   "source": [
    "df_working['min_salary'].dtype, df_working['max_salary'].dtype\n"
   ]
  },
  {
   "cell_type": "markdown",
   "id": "019f646e",
   "metadata": {},
   "source": [
    "### Change 'min_salary' & max_salary from string to numeric and apply the following \n",
    "1. First replace 'Competitive salary', ' Training Course' & 'Salary negotiable' with 1, 2, 3 to numeric\n",
    "2. Change 'min_salary' & max_salary from string to numeric\n",
    "3. Apply the exchange rate rateat  €1 = £0.86 to 'min_salary' & max_salary and convert it to integers\n",
    "4. Change hourly paid ( from 4 upto 100) salary's to annum salary conversion multiply the salary by 12 and 52\n",
    "5. Daily paid salary (200 to 1000) to annum salary conversion multiply salary by 252\n",
    "6. Keep annum salary as it is for salaries over 1000"
   ]
  },
  {
   "cell_type": "code",
   "execution_count": 197,
   "id": "318a0e31",
   "metadata": {},
   "outputs": [
    {
     "data": {
      "text/html": [
       "<div>\n",
       "<style scoped>\n",
       "    .dataframe tbody tr th:only-of-type {\n",
       "        vertical-align: middle;\n",
       "    }\n",
       "\n",
       "    .dataframe tbody tr th {\n",
       "        vertical-align: top;\n",
       "    }\n",
       "\n",
       "    .dataframe thead th {\n",
       "        text-align: right;\n",
       "    }\n",
       "</style>\n",
       "<table border=\"1\" class=\"dataframe\">\n",
       "  <thead>\n",
       "    <tr style=\"text-align: right;\">\n",
       "      <th></th>\n",
       "      <th>title</th>\n",
       "      <th>date</th>\n",
       "      <th>employer</th>\n",
       "      <th>location</th>\n",
       "      <th>salary</th>\n",
       "      <th>salary_copy</th>\n",
       "      <th>min_salary</th>\n",
       "      <th>max_salary</th>\n",
       "      <th>working_hours</th>\n",
       "    </tr>\n",
       "  </thead>\n",
       "  <tbody>\n",
       "    <tr>\n",
       "      <th>0</th>\n",
       "      <td>Data Analyst</td>\n",
       "      <td>28 March</td>\n",
       "      <td>SES Water</td>\n",
       "      <td>Redhill</td>\n",
       "      <td>£28,000 - £32,000 per annum</td>\n",
       "      <td>28000 - 32000 per annum</td>\n",
       "      <td>28000</td>\n",
       "      <td>32000</td>\n",
       "      <td>Permanent, full-time</td>\n",
       "    </tr>\n",
       "    <tr>\n",
       "      <th>1</th>\n",
       "      <td>Business Data Analyst/Data Analyst</td>\n",
       "      <td>3 days ago</td>\n",
       "      <td>Deutsche Bank</td>\n",
       "      <td>Birmingham</td>\n",
       "      <td>Competitive salary</td>\n",
       "      <td>Competitive salary</td>\n",
       "      <td>1</td>\n",
       "      <td>1</td>\n",
       "      <td>Contract, full-time</td>\n",
       "    </tr>\n",
       "    <tr>\n",
       "      <th>2</th>\n",
       "      <td>Data Analyst</td>\n",
       "      <td>18 April</td>\n",
       "      <td>Equiniti</td>\n",
       "      <td>Worthing</td>\n",
       "      <td>Competitive salary</td>\n",
       "      <td>Competitive salary</td>\n",
       "      <td>1</td>\n",
       "      <td>1</td>\n",
       "      <td>Permanent, full-time</td>\n",
       "    </tr>\n",
       "    <tr>\n",
       "      <th>3</th>\n",
       "      <td>Data Analyst</td>\n",
       "      <td>9 April</td>\n",
       "      <td>Anglian Water</td>\n",
       "      <td>Peterborough</td>\n",
       "      <td>£32,000 per annum</td>\n",
       "      <td>32000 per annum</td>\n",
       "      <td>32000</td>\n",
       "      <td>0</td>\n",
       "      <td>Permanent, full-time</td>\n",
       "    </tr>\n",
       "    <tr>\n",
       "      <th>6</th>\n",
       "      <td>Data Analyst Trainee</td>\n",
       "      <td>24 January</td>\n",
       "      <td>ITonlinelearning Recruitment</td>\n",
       "      <td>Kingston Upon Thames</td>\n",
       "      <td>Training Course</td>\n",
       "      <td>Training Course</td>\n",
       "      <td>2</td>\n",
       "      <td>2</td>\n",
       "      <td>Permanent, full-time</td>\n",
       "    </tr>\n",
       "  </tbody>\n",
       "</table>\n",
       "</div>"
      ],
      "text/plain": [
       "                                title        date  \\\n",
       "0                        Data Analyst    28 March   \n",
       "1  Business Data Analyst/Data Analyst  3 days ago   \n",
       "2                        Data Analyst    18 April   \n",
       "3                        Data Analyst     9 April   \n",
       "6                Data Analyst Trainee  24 January   \n",
       "\n",
       "                       employer              location  \\\n",
       "0                     SES Water               Redhill   \n",
       "1                 Deutsche Bank            Birmingham   \n",
       "2                      Equiniti              Worthing   \n",
       "3                 Anglian Water          Peterborough   \n",
       "6  ITonlinelearning Recruitment  Kingston Upon Thames   \n",
       "\n",
       "                        salary              salary_copy min_salary max_salary  \\\n",
       "0  £28,000 - £32,000 per annum  28000 - 32000 per annum      28000      32000   \n",
       "1           Competitive salary       Competitive salary          1          1   \n",
       "2           Competitive salary       Competitive salary          1          1   \n",
       "3            £32,000 per annum          32000 per annum      32000          0   \n",
       "6              Training Course          Training Course          2          2   \n",
       "\n",
       "          working_hours  \n",
       "0  Permanent, full-time  \n",
       "1   Contract, full-time  \n",
       "2  Permanent, full-time  \n",
       "3  Permanent, full-time  \n",
       "6  Permanent, full-time  "
      ]
     },
     "execution_count": 197,
     "metadata": {},
     "output_type": "execute_result"
    }
   ],
   "source": [
    "# Replace 'Competitive salary', ' Training Course' & 'Salary negotiable' to numeric with 1, 2, 3 \n",
    "df_working['max_salary'].replace(['Competitive salary', ' Training Course', 'Salary negotiable' ], [1,2,3], inplace = True)\n",
    "df_working['min_salary'].replace(['Competitive salary', ' Training Course', 'Salary negotiable' ], [1,2,3], inplace = True)\n",
    "df_working.head()\n"
   ]
  },
  {
   "cell_type": "code",
   "execution_count": 198,
   "id": "375a469b",
   "metadata": {},
   "outputs": [
    {
     "data": {
      "text/plain": [
       "(dtype('O'), dtype('O'))"
      ]
     },
     "execution_count": 198,
     "metadata": {},
     "output_type": "execute_result"
    }
   ],
   "source": [
    "df_working['min_salary'].dtype, df_working['max_salary'].dtype"
   ]
  },
  {
   "cell_type": "code",
   "execution_count": 199,
   "id": "3aa36aba",
   "metadata": {},
   "outputs": [],
   "source": [
    "#Change 'min_salary' & max_salary from string to numeric\n",
    "df_working['min_salary'] =pd.to_numeric(df_working['min_salary'])\n",
    "df_working['max_salary'] =pd.to_numeric(df_working['max_salary'])\n"
   ]
  },
  {
   "cell_type": "code",
   "execution_count": 200,
   "id": "aad9343e",
   "metadata": {},
   "outputs": [
    {
     "data": {
      "text/plain": [
       "(dtype('float64'), dtype('float64'))"
      ]
     },
     "execution_count": 200,
     "metadata": {},
     "output_type": "execute_result"
    }
   ],
   "source": [
    "df_working['min_salary'].dtype, df_working['max_salary'].dtype"
   ]
  },
  {
   "cell_type": "markdown",
   "id": "7fd4cc3d",
   "metadata": {},
   "source": [
    "### Apply the exchange rate rate €1 = £0.86 to 'min_salary' & max_salary and convert it to integers "
   ]
  },
  {
   "cell_type": "code",
   "execution_count": 201,
   "id": "09b21e20",
   "metadata": {},
   "outputs": [
    {
     "data": {
      "text/plain": [
       "(60000.0, 65000.0)"
      ]
     },
     "execution_count": 201,
     "metadata": {},
     "output_type": "execute_result"
    }
   ],
   "source": [
    "# Before exchange rate rate €1 = £0.86 applied\n",
    "df_working['min_salary'][183], df_working['max_salary'][183]\n"
   ]
  },
  {
   "cell_type": "code",
   "execution_count": 202,
   "id": "3895988a",
   "metadata": {},
   "outputs": [],
   "source": [
    "# Appling the exchange rate rate €1 = £0.86 using df.loc[row_indexer,column_indexer] method\n",
    "df_working.loc[183, 'min_salary'] = df_working.loc[183, 'min_salary']*0.86\n",
    "df_working.loc[183, 'max_salary'] = df_working.loc[183, 'max_salary']*0.86\n"
   ]
  },
  {
   "cell_type": "code",
   "execution_count": 203,
   "id": "00a0c439",
   "metadata": {},
   "outputs": [
    {
     "data": {
      "text/plain": [
       "(51600.0, 55900.0)"
      ]
     },
     "execution_count": 203,
     "metadata": {},
     "output_type": "execute_result"
    }
   ],
   "source": [
    "# AFTER exchange rate rate €1 = £0.86 applied\n",
    "df_working['min_salary'][183], df_working['max_salary'][183]\n"
   ]
  },
  {
   "cell_type": "code",
   "execution_count": 204,
   "id": "7cbdc782",
   "metadata": {},
   "outputs": [
    {
     "data": {
      "text/plain": [
       "(dtype('float64'), dtype('float64'))"
      ]
     },
     "execution_count": 204,
     "metadata": {},
     "output_type": "execute_result"
    }
   ],
   "source": [
    "df_working['min_salary'].dtype, df_working['max_salary'].dtype"
   ]
  },
  {
   "cell_type": "code",
   "execution_count": 205,
   "id": "ada8b43f",
   "metadata": {},
   "outputs": [],
   "source": [
    "# Change 'min_salary' & max_salary from string to integer (int)\n",
    "df_working['min_salary'] = df_working['min_salary'].astype(int)\n",
    "df_working['max_salary'] = df_working['max_salary'].astype(int)\n"
   ]
  },
  {
   "cell_type": "code",
   "execution_count": 206,
   "id": "5e95056c",
   "metadata": {},
   "outputs": [
    {
     "data": {
      "text/plain": [
       "(dtype('int32'), dtype('int32'))"
      ]
     },
     "execution_count": 206,
     "metadata": {},
     "output_type": "execute_result"
    }
   ],
   "source": [
    "df_working['min_salary'].dtype, df_working['max_salary'].dtype"
   ]
  },
  {
   "cell_type": "code",
   "execution_count": 207,
   "id": "56179ca5",
   "metadata": {},
   "outputs": [
    {
     "data": {
      "text/plain": [
       "(51600, 55900)"
      ]
     },
     "execution_count": 207,
     "metadata": {},
     "output_type": "execute_result"
    }
   ],
   "source": [
    "df_working['min_salary'][183], df_working['max_salary'][183]"
   ]
  },
  {
   "cell_type": "markdown",
   "id": "459ae3c0",
   "metadata": {},
   "source": [
    "### Changing hourly and Daily salary to annum salary "
   ]
  },
  {
   "cell_type": "code",
   "execution_count": 208,
   "id": "6e909110",
   "metadata": {},
   "outputs": [
    {
     "data": {
      "text/html": [
       "<div>\n",
       "<style scoped>\n",
       "    .dataframe tbody tr th:only-of-type {\n",
       "        vertical-align: middle;\n",
       "    }\n",
       "\n",
       "    .dataframe tbody tr th {\n",
       "        vertical-align: top;\n",
       "    }\n",
       "\n",
       "    .dataframe thead th {\n",
       "        text-align: right;\n",
       "    }\n",
       "</style>\n",
       "<table border=\"1\" class=\"dataframe\">\n",
       "  <thead>\n",
       "    <tr style=\"text-align: right;\">\n",
       "      <th></th>\n",
       "      <th>title</th>\n",
       "      <th>date</th>\n",
       "      <th>employer</th>\n",
       "      <th>location</th>\n",
       "      <th>salary</th>\n",
       "      <th>salary_copy</th>\n",
       "      <th>min_salary</th>\n",
       "      <th>max_salary</th>\n",
       "      <th>working_hours</th>\n",
       "    </tr>\n",
       "  </thead>\n",
       "  <tbody>\n",
       "    <tr>\n",
       "      <th>0</th>\n",
       "      <td>Data Analyst</td>\n",
       "      <td>28 March</td>\n",
       "      <td>SES Water</td>\n",
       "      <td>Redhill</td>\n",
       "      <td>£28,000 - £32,000 per annum</td>\n",
       "      <td>28000 - 32000 per annum</td>\n",
       "      <td>28000</td>\n",
       "      <td>32000</td>\n",
       "      <td>Permanent, full-time</td>\n",
       "    </tr>\n",
       "    <tr>\n",
       "      <th>1</th>\n",
       "      <td>Business Data Analyst/Data Analyst</td>\n",
       "      <td>3 days ago</td>\n",
       "      <td>Deutsche Bank</td>\n",
       "      <td>Birmingham</td>\n",
       "      <td>Competitive salary</td>\n",
       "      <td>Competitive salary</td>\n",
       "      <td>1</td>\n",
       "      <td>1</td>\n",
       "      <td>Contract, full-time</td>\n",
       "    </tr>\n",
       "    <tr>\n",
       "      <th>2</th>\n",
       "      <td>Data Analyst</td>\n",
       "      <td>18 April</td>\n",
       "      <td>Equiniti</td>\n",
       "      <td>Worthing</td>\n",
       "      <td>Competitive salary</td>\n",
       "      <td>Competitive salary</td>\n",
       "      <td>1</td>\n",
       "      <td>1</td>\n",
       "      <td>Permanent, full-time</td>\n",
       "    </tr>\n",
       "    <tr>\n",
       "      <th>3</th>\n",
       "      <td>Data Analyst</td>\n",
       "      <td>9 April</td>\n",
       "      <td>Anglian Water</td>\n",
       "      <td>Peterborough</td>\n",
       "      <td>£32,000 per annum</td>\n",
       "      <td>32000 per annum</td>\n",
       "      <td>32000</td>\n",
       "      <td>0</td>\n",
       "      <td>Permanent, full-time</td>\n",
       "    </tr>\n",
       "    <tr>\n",
       "      <th>6</th>\n",
       "      <td>Data Analyst Trainee</td>\n",
       "      <td>24 January</td>\n",
       "      <td>ITonlinelearning Recruitment</td>\n",
       "      <td>Kingston Upon Thames</td>\n",
       "      <td>Training Course</td>\n",
       "      <td>Training Course</td>\n",
       "      <td>2</td>\n",
       "      <td>2</td>\n",
       "      <td>Permanent, full-time</td>\n",
       "    </tr>\n",
       "  </tbody>\n",
       "</table>\n",
       "</div>"
      ],
      "text/plain": [
       "                                title        date  \\\n",
       "0                        Data Analyst    28 March   \n",
       "1  Business Data Analyst/Data Analyst  3 days ago   \n",
       "2                        Data Analyst    18 April   \n",
       "3                        Data Analyst     9 April   \n",
       "6                Data Analyst Trainee  24 January   \n",
       "\n",
       "                       employer              location  \\\n",
       "0                     SES Water               Redhill   \n",
       "1                 Deutsche Bank            Birmingham   \n",
       "2                      Equiniti              Worthing   \n",
       "3                 Anglian Water          Peterborough   \n",
       "6  ITonlinelearning Recruitment  Kingston Upon Thames   \n",
       "\n",
       "                        salary              salary_copy  min_salary  \\\n",
       "0  £28,000 - £32,000 per annum  28000 - 32000 per annum       28000   \n",
       "1           Competitive salary       Competitive salary           1   \n",
       "2           Competitive salary       Competitive salary           1   \n",
       "3            £32,000 per annum          32000 per annum       32000   \n",
       "6              Training Course          Training Course           2   \n",
       "\n",
       "   max_salary         working_hours  \n",
       "0       32000  Permanent, full-time  \n",
       "1           1   Contract, full-time  \n",
       "2           1  Permanent, full-time  \n",
       "3           0  Permanent, full-time  \n",
       "6           2  Permanent, full-time  "
      ]
     },
     "execution_count": 208,
     "metadata": {},
     "output_type": "execute_result"
    }
   ],
   "source": [
    "# Using list comprehension\n",
    "df_working['min_salary']= [salary * 12 * 52 if 3 < salary < 100 else salary*252 if 200<salary<100 else salary for salary in df_working['min_salary']]\n",
    "df_working['max_salary']= [salary * 12 * 52 if 3 < salary < 100 else salary*252 if 200<salary<100 else salary for salary in df_working['max_salary']]\n",
    "df_working.head()"
   ]
  },
  {
   "cell_type": "code",
   "execution_count": 209,
   "id": "a342882b",
   "metadata": {},
   "outputs": [
    {
     "data": {
      "text/html": [
       "<div>\n",
       "<style scoped>\n",
       "    .dataframe tbody tr th:only-of-type {\n",
       "        vertical-align: middle;\n",
       "    }\n",
       "\n",
       "    .dataframe tbody tr th {\n",
       "        vertical-align: top;\n",
       "    }\n",
       "\n",
       "    .dataframe thead th {\n",
       "        text-align: right;\n",
       "    }\n",
       "</style>\n",
       "<table border=\"1\" class=\"dataframe\">\n",
       "  <thead>\n",
       "    <tr style=\"text-align: right;\">\n",
       "      <th></th>\n",
       "      <th>title</th>\n",
       "      <th>date</th>\n",
       "      <th>employer</th>\n",
       "      <th>location</th>\n",
       "      <th>salary</th>\n",
       "      <th>salary_copy</th>\n",
       "      <th>min_salary</th>\n",
       "      <th>max_salary</th>\n",
       "      <th>working_hours</th>\n",
       "    </tr>\n",
       "  </thead>\n",
       "  <tbody>\n",
       "    <tr>\n",
       "      <th>156</th>\n",
       "      <td>Data Analyst</td>\n",
       "      <td>2 days ago</td>\n",
       "      <td>Adecco</td>\n",
       "      <td>Ipswich</td>\n",
       "      <td>£15 - £17 per hour</td>\n",
       "      <td>15 - 17 per hour</td>\n",
       "      <td>9360</td>\n",
       "      <td>10608</td>\n",
       "      <td>Temporary, full-time</td>\n",
       "    </tr>\n",
       "  </tbody>\n",
       "</table>\n",
       "</div>"
      ],
      "text/plain": [
       "            title        date employer location              salary  \\\n",
       "156  Data Analyst  2 days ago  Adecco   Ipswich  £15 - £17 per hour   \n",
       "\n",
       "          salary_copy  min_salary  max_salary         working_hours  \n",
       "156  15 - 17 per hour        9360       10608  Temporary, full-time  "
      ]
     },
     "execution_count": 209,
     "metadata": {},
     "output_type": "execute_result"
    }
   ],
   "source": [
    "df_working[df_working['salary']== '£15 - £17 per hour']"
   ]
  },
  {
   "cell_type": "code",
   "execution_count": 210,
   "id": "8b5f178c",
   "metadata": {},
   "outputs": [
    {
     "name": "stdout",
     "output_type": "stream",
     "text": [
      "int64\n",
      "int64\n"
     ]
    }
   ],
   "source": [
    "print(df_working['min_salary'].dtype)\n",
    "print(df_working['max_salary'].dtype)"
   ]
  },
  {
   "cell_type": "code",
   "execution_count": 212,
   "id": "0aa99988",
   "metadata": {},
   "outputs": [
    {
     "data": {
      "text/html": [
       "<div>\n",
       "<style scoped>\n",
       "    .dataframe tbody tr th:only-of-type {\n",
       "        vertical-align: middle;\n",
       "    }\n",
       "\n",
       "    .dataframe tbody tr th {\n",
       "        vertical-align: top;\n",
       "    }\n",
       "\n",
       "    .dataframe thead th {\n",
       "        text-align: right;\n",
       "    }\n",
       "</style>\n",
       "<table border=\"1\" class=\"dataframe\">\n",
       "  <thead>\n",
       "    <tr style=\"text-align: right;\">\n",
       "      <th></th>\n",
       "      <th>salary</th>\n",
       "      <th>salary_copy</th>\n",
       "      <th>min_salary</th>\n",
       "      <th>max_salary</th>\n",
       "    </tr>\n",
       "  </thead>\n",
       "  <tbody>\n",
       "    <tr>\n",
       "      <th>117</th>\n",
       "      <td>£18.71 per hour</td>\n",
       "      <td>18.71 per hour</td>\n",
       "      <td>11232</td>\n",
       "      <td>0</td>\n",
       "    </tr>\n",
       "    <tr>\n",
       "      <th>156</th>\n",
       "      <td>£15 - £17 per hour</td>\n",
       "      <td>15 - 17 per hour</td>\n",
       "      <td>9360</td>\n",
       "      <td>10608</td>\n",
       "    </tr>\n",
       "    <tr>\n",
       "      <th>279</th>\n",
       "      <td>£18.01 per hour</td>\n",
       "      <td>18.01 per hour</td>\n",
       "      <td>11232</td>\n",
       "      <td>0</td>\n",
       "    </tr>\n",
       "    <tr>\n",
       "      <th>284</th>\n",
       "      <td>£18.01 - £22.67 per hour</td>\n",
       "      <td>18.01 - 22.67 per hour</td>\n",
       "      <td>11232</td>\n",
       "      <td>13728</td>\n",
       "    </tr>\n",
       "    <tr>\n",
       "      <th>111</th>\n",
       "      <td>£300 - £312.50 per day</td>\n",
       "      <td>300 - 312.50 per day</td>\n",
       "      <td>300</td>\n",
       "      <td>312</td>\n",
       "    </tr>\n",
       "    <tr>\n",
       "      <th>113</th>\n",
       "      <td>£400 - £500 per day</td>\n",
       "      <td>400 - 500 per day</td>\n",
       "      <td>400</td>\n",
       "      <td>500</td>\n",
       "    </tr>\n",
       "    <tr>\n",
       "      <th>116</th>\n",
       "      <td>£350 per day</td>\n",
       "      <td>350 per day</td>\n",
       "      <td>350</td>\n",
       "      <td>0</td>\n",
       "    </tr>\n",
       "    <tr>\n",
       "      <th>161</th>\n",
       "      <td>£400 - £450 per day, inc benefits</td>\n",
       "      <td>400 - 450 per day inc benefits</td>\n",
       "      <td>400</td>\n",
       "      <td>450</td>\n",
       "    </tr>\n",
       "    <tr>\n",
       "      <th>3</th>\n",
       "      <td>£32,000 per annum</td>\n",
       "      <td>32000 per annum</td>\n",
       "      <td>32000</td>\n",
       "      <td>0</td>\n",
       "    </tr>\n",
       "    <tr>\n",
       "      <th>0</th>\n",
       "      <td>£28,000 - £32,000 per annum</td>\n",
       "      <td>28000 - 32000 per annum</td>\n",
       "      <td>28000</td>\n",
       "      <td>32000</td>\n",
       "    </tr>\n",
       "    <tr>\n",
       "      <th>115</th>\n",
       "      <td>£30,000 - £60,000 per annum, inc benefits</td>\n",
       "      <td>30000 - 60000 per annum inc benefits</td>\n",
       "      <td>30000</td>\n",
       "      <td>60000</td>\n",
       "    </tr>\n",
       "    <tr>\n",
       "      <th>183</th>\n",
       "      <td>€60,000 - €65,000 per annum</td>\n",
       "      <td>60000 - 65000 per annum</td>\n",
       "      <td>51600</td>\n",
       "      <td>55900</td>\n",
       "    </tr>\n",
       "    <tr>\n",
       "      <th>209</th>\n",
       "      <td>£85,000 - £95,000 per annum, OTE</td>\n",
       "      <td>85000 - 95000 per annum OTE</td>\n",
       "      <td>85000</td>\n",
       "      <td>95000</td>\n",
       "    </tr>\n",
       "    <tr>\n",
       "      <th>248</th>\n",
       "      <td>£37,500 - £45,000 per annum, OTE, inc benefits...</td>\n",
       "      <td>37500 - 45000 per annum OTE inc benefits negot...</td>\n",
       "      <td>37500</td>\n",
       "      <td>45000</td>\n",
       "    </tr>\n",
       "    <tr>\n",
       "      <th>281</th>\n",
       "      <td>£30,000 - £34,000 per annum, inc benefits, neg...</td>\n",
       "      <td>30000 - 34000 per annum inc benefits negotiable</td>\n",
       "      <td>30000</td>\n",
       "      <td>34000</td>\n",
       "    </tr>\n",
       "  </tbody>\n",
       "</table>\n",
       "</div>"
      ],
      "text/plain": [
       "                                                salary  \\\n",
       "117                                    £18.71 per hour   \n",
       "156                                 £15 - £17 per hour   \n",
       "279                                    £18.01 per hour   \n",
       "284                           £18.01 - £22.67 per hour   \n",
       "111                             £300 - £312.50 per day   \n",
       "113                                £400 - £500 per day   \n",
       "116                                       £350 per day   \n",
       "161                  £400 - £450 per day, inc benefits   \n",
       "3                                    £32,000 per annum   \n",
       "0                          £28,000 - £32,000 per annum   \n",
       "115          £30,000 - £60,000 per annum, inc benefits   \n",
       "183                        €60,000 - €65,000 per annum   \n",
       "209                   £85,000 - £95,000 per annum, OTE   \n",
       "248  £37,500 - £45,000 per annum, OTE, inc benefits...   \n",
       "281  £30,000 - £34,000 per annum, inc benefits, neg...   \n",
       "\n",
       "                                           salary_copy  min_salary  max_salary  \n",
       "117                                     18.71 per hour       11232           0  \n",
       "156                                   15 - 17 per hour        9360       10608  \n",
       "279                                     18.01 per hour       11232           0  \n",
       "284                             18.01 - 22.67 per hour       11232       13728  \n",
       "111                               300 - 312.50 per day         300         312  \n",
       "113                                  400 - 500 per day         400         500  \n",
       "116                                        350 per day         350           0  \n",
       "161                     400 - 450 per day inc benefits         400         450  \n",
       "3                                      32000 per annum       32000           0  \n",
       "0                              28000 - 32000 per annum       28000       32000  \n",
       "115               30000 - 60000 per annum inc benefits       30000       60000  \n",
       "183                            60000 - 65000 per annum       51600       55900  \n",
       "209                        85000 - 95000 per annum OTE       85000       95000  \n",
       "248  37500 - 45000 per annum OTE inc benefits negot...       37500       45000  \n",
       "281    30000 - 34000 per annum inc benefits negotiable       30000       34000  "
      ]
     },
     "execution_count": 212,
     "metadata": {},
     "output_type": "execute_result"
    }
   ],
   "source": [
    "# Visual check on some of unique values based on thier index number\n",
    "df_working.loc[[117, 156, 279, 284, 111, 113, 116, 161, 3, 0, 115, 183, 209, 248, 281], ['salary', 'salary_copy', 'min_salary', 'max_salary']]\n"
   ]
  },
  {
   "cell_type": "markdown",
   "id": "9ff87bc9",
   "metadata": {},
   "source": [
    "## Salary - putting all together "
   ]
  },
  {
   "cell_type": "code",
   "execution_count": 26,
   "id": "60b43479",
   "metadata": {},
   "outputs": [
    {
     "data": {
      "text/html": [
       "<div>\n",
       "<style scoped>\n",
       "    .dataframe tbody tr th:only-of-type {\n",
       "        vertical-align: middle;\n",
       "    }\n",
       "\n",
       "    .dataframe tbody tr th {\n",
       "        vertical-align: top;\n",
       "    }\n",
       "\n",
       "    .dataframe thead th {\n",
       "        text-align: right;\n",
       "    }\n",
       "</style>\n",
       "<table border=\"1\" class=\"dataframe\">\n",
       "  <thead>\n",
       "    <tr style=\"text-align: right;\">\n",
       "      <th></th>\n",
       "      <th>title</th>\n",
       "      <th>date</th>\n",
       "      <th>employer</th>\n",
       "      <th>location</th>\n",
       "      <th>salary</th>\n",
       "      <th>salary_copy</th>\n",
       "      <th>working_hours</th>\n",
       "      <th>min_salary</th>\n",
       "      <th>max_salary</th>\n",
       "    </tr>\n",
       "  </thead>\n",
       "  <tbody>\n",
       "    <tr>\n",
       "      <th>0</th>\n",
       "      <td>Data Analyst</td>\n",
       "      <td>28 March</td>\n",
       "      <td>SES Water</td>\n",
       "      <td>Redhill</td>\n",
       "      <td>£28,000 - £32,000 per annum</td>\n",
       "      <td>28000 - 32000 per annum</td>\n",
       "      <td>Permanent, full-time</td>\n",
       "      <td>28000</td>\n",
       "      <td>32000</td>\n",
       "    </tr>\n",
       "    <tr>\n",
       "      <th>1</th>\n",
       "      <td>Business Data Analyst/Data Analyst</td>\n",
       "      <td>3 days ago</td>\n",
       "      <td>Deutsche Bank</td>\n",
       "      <td>Birmingham</td>\n",
       "      <td>Competitive salary</td>\n",
       "      <td>Competitive salary</td>\n",
       "      <td>Contract, full-time</td>\n",
       "      <td>1</td>\n",
       "      <td>1</td>\n",
       "    </tr>\n",
       "    <tr>\n",
       "      <th>2</th>\n",
       "      <td>Data Analyst</td>\n",
       "      <td>18 April</td>\n",
       "      <td>Equiniti</td>\n",
       "      <td>Worthing</td>\n",
       "      <td>Competitive salary</td>\n",
       "      <td>Competitive salary</td>\n",
       "      <td>Permanent, full-time</td>\n",
       "      <td>1</td>\n",
       "      <td>1</td>\n",
       "    </tr>\n",
       "    <tr>\n",
       "      <th>3</th>\n",
       "      <td>Data Analyst</td>\n",
       "      <td>9 April</td>\n",
       "      <td>Anglian Water</td>\n",
       "      <td>Peterborough</td>\n",
       "      <td>£32,000 per annum</td>\n",
       "      <td>32000 per annum</td>\n",
       "      <td>Permanent, full-time</td>\n",
       "      <td>32000</td>\n",
       "      <td>0</td>\n",
       "    </tr>\n",
       "    <tr>\n",
       "      <th>6</th>\n",
       "      <td>Data Analyst Trainee</td>\n",
       "      <td>24 January</td>\n",
       "      <td>ITonlinelearning Recruitment</td>\n",
       "      <td>Kingston Upon Thames</td>\n",
       "      <td>Training Course</td>\n",
       "      <td>Training Course</td>\n",
       "      <td>Permanent, full-time</td>\n",
       "      <td>2</td>\n",
       "      <td>2</td>\n",
       "    </tr>\n",
       "  </tbody>\n",
       "</table>\n",
       "</div>"
      ],
      "text/plain": [
       "                                title        date  \\\n",
       "0                        Data Analyst    28 March   \n",
       "1  Business Data Analyst/Data Analyst  3 days ago   \n",
       "2                        Data Analyst    18 April   \n",
       "3                        Data Analyst     9 April   \n",
       "6                Data Analyst Trainee  24 January   \n",
       "\n",
       "                       employer              location  \\\n",
       "0                     SES Water               Redhill   \n",
       "1                 Deutsche Bank            Birmingham   \n",
       "2                      Equiniti              Worthing   \n",
       "3                 Anglian Water          Peterborough   \n",
       "6  ITonlinelearning Recruitment  Kingston Upon Thames   \n",
       "\n",
       "                        salary              salary_copy         working_hours  \\\n",
       "0  £28,000 - £32,000 per annum  28000 - 32000 per annum  Permanent, full-time   \n",
       "1           Competitive salary       Competitive salary   Contract, full-time   \n",
       "2           Competitive salary       Competitive salary  Permanent, full-time   \n",
       "3            £32,000 per annum          32000 per annum  Permanent, full-time   \n",
       "6              Training Course          Training Course  Permanent, full-time   \n",
       "\n",
       "   min_salary  max_salary  \n",
       "0       28000       32000  \n",
       "1           1           1  \n",
       "2           1           1  \n",
       "3       32000           0  \n",
       "6           2           2  "
      ]
     },
     "execution_count": 26,
     "metadata": {},
     "output_type": "execute_result"
    }
   ],
   "source": [
    "#importing libraries\n",
    "import pandas as pd\n",
    "import numpy as np\n",
    "import datetime\n",
    "\n",
    "pd.options.display.max_rows = None\n",
    "\n",
    "df_original  = pd.read_csv('data_analyst_28_04_24.csv')\n",
    "\n",
    "# select jobs containing 'Data Analyst' and Creating a dataframe by selecting relevant columns for analysis \n",
    "df_data_analyst = df_original.loc[df_original.title.str.contains('Data Analyst'), \n",
    "                         ['title', 'date', 'employer', 'location', 'salary', 'working_hours']]\n",
    "\n",
    "# remove 229 duplicated values from df_data_analyst= \n",
    "df_data_analyst.drop_duplicates(inplace=True)\n",
    "\n",
    "\n",
    "# create a copy\n",
    "salary_copy = df_data_analyst['salary']\n",
    "\n",
    "#insert the new column next to the 'salary' column right side at index 5 to make visual comparison \n",
    "df_data_analyst.insert(loc = 5, column = 'salary_copy', value = salary_copy)\n",
    "\n",
    "# df_data_analyst.head(2)\n",
    "\n",
    "# replace/remove '£', '€', ',' signs with nothing from 'salary_copy' column\n",
    "df_data_analyst['salary_copy'].replace(['£', '€', ','], '', regex=True, inplace=True)\n",
    "df_data_analyst.head(2)\n",
    "\n",
    "### Create 'min_salary' & 'max_salary' columns using values of the 'salary_copy' column\n",
    "# min_salary is at index zero after split() if 'per' is in the value \n",
    "df_data_analyst['min_salary'] = df_data_analyst['salary_copy'].apply(lambda x: x.split()[0] if 'per' in x else x)\n",
    "\n",
    "# if 'per' is in the value & the length of split is more than 3 then max_salary at index 2 if less than 3 max_salary = zero\n",
    "df_data_analyst['max_salary'] = df_data_analyst['salary_copy'].apply(lambda x: x.split()[2] if 'per' in x and len(x.split()) > 3 else 0)\n",
    "\n",
    "# if 'per' is not in the value fill 'min_salary' and 'max_salary' with the salary value -Training Course, Competitive salary,etc\n",
    "df_data_analyst['min_salary'] = df_data_analyst.apply(lambda row: row['salary_copy'] if 'per' not in row['salary_copy'] else row['min_salary'], axis=1)\n",
    "df_data_analyst['max_salary'] = df_data_analyst.apply(lambda row: row['salary_copy'] if 'per' not in row['salary_copy'] else row['max_salary'], axis=1)\n",
    "\n",
    " \n",
    "# Replace 'Competitive salary', ' Training Course' & 'Salary negotiable' to numeric with 1, 2, 3 \n",
    "df_data_analyst['max_salary'].replace(['Competitive salary', ' Training Course', 'Salary negotiable' ], [1,2,3], inplace = True)\n",
    "df_data_analyst['min_salary'].replace(['Competitive salary', ' Training Course', 'Salary negotiable' ], [1,2,3], inplace = True)\n",
    "\n",
    "# Change 'min_salary' & max_salary from string to numeric\n",
    "df_data_analyst['min_salary'] =pd.to_numeric(df_data_analyst['min_salary'])\n",
    "df_data_analyst['max_salary'] =pd.to_numeric(df_data_analyst['max_salary'])\n",
    "\n",
    "### Apply the exchange rate rate €1 = £*0.86 to 'min_salary' & max_salary and convert it to integers \n",
    "# Appling the exchange rate rate €1 = £*0.86 using df.loc[row_indexer,column_indexer] method\n",
    "df_data_analyst.loc[183, 'min_salary'] = df_data_analyst.loc[183, 'min_salary']*0.86\n",
    "df_data_analyst.loc[183, 'max_salary'] = df_data_analyst.loc[183, 'max_salary']*0.86\n",
    "\n",
    "# Change 'min_salary' & max_salary from string to integer (int)\n",
    "df_data_analyst['min_salary'] = df_data_analyst['min_salary'].astype(int)\n",
    "df_data_analyst['max_salary'] = df_data_analyst['max_salary'].astype(int)\n",
    "\n",
    "# list Comprehension - to change hourly salary multiply by 12 and 52 and daily paid by 252 and keep annum salary as it is\n",
    "df_data_analyst['min_salary'] = [salary * 12 * 52 if 3 < salary < 100 else salary*252 if 200<salary<100 else salary for salary in df_data_analyst['min_salary']]\n",
    "df_data_analyst['max_salary']= [salary * 12 * 52 if 3 < salary < 100 else salary*252 if 200<salary<100 else salary for salary in df_data_analyst['max_salary']]\n",
    "\n",
    "\n",
    "# save the data as 'data_analyst_salary_08_05_24.csv'\n",
    "# df_data_analyst.to_csv('data_analyst_salary_08_05_24.csv',index=None) #columns=['title', 'date', 'employer', 'location', 'salary', 'working_hours','job_weblink', 'job_description'],  index=None)\n",
    "\n",
    "df_data_analyst.head()\n"
   ]
  },
  {
   "cell_type": "code",
   "execution_count": null,
   "id": "51e36984",
   "metadata": {},
   "outputs": [],
   "source": []
  },
  {
   "cell_type": "markdown",
   "id": "20b14173",
   "metadata": {},
   "source": [
    "##  Salary putting all together using a FUNCTION"
   ]
  },
  {
   "cell_type": "code",
   "execution_count": 215,
   "id": "d8370239",
   "metadata": {},
   "outputs": [],
   "source": [
    "#importing libraries\n",
    "import pandas as pd\n",
    "import numpy as np\n",
    "import datetime\n",
    "\n",
    "pd.options.display.max_rows = None\n",
    "\n",
    "df_original  = pd.read_csv('data_analyst_28_04_24.csv')\n",
    "\n",
    "# select jobs containing 'Data Analyst' and Creating a dataframe by selecting relevant columns for analysis \n",
    "df_data_analyst = df_original.loc[df_original.title.str.contains('Data Analyst'), \n",
    "                         ['title', 'date', 'employer', 'location', 'salary', 'working_hours']]\n",
    "\n",
    "# remove 229 duplicated values from df_data_analyst= \n",
    "df_data_analyst.drop_duplicates(inplace=True)\n",
    "\n",
    "\n",
    "\n",
    "def salary_conversation(item):\n",
    "\n",
    "    # create a copy\n",
    "    salary_copy = df_data_analyst['salary']\n",
    "\n",
    "    #insert the new column next to the 'salary' column right side at index 5 to make visual comparison \n",
    "    df_data_analyst.insert(loc = 5, column = 'salary_copy', value = salary_copy)\n",
    "\n",
    "    # df_data_analyst.head(2)\n",
    "\n",
    "    # replace/remove '£', '€', ',' signs with nothing from 'salary_copy' column\n",
    "    df_data_analyst['salary_copy'].replace(['£', '€', ','], '', regex=True, inplace=True)\n",
    "    df_data_analyst.head(2)\n",
    "\n",
    "    ### Create 'min_salary' & 'max_salary' columns using values of the 'salary_copy' column\n",
    "    # min_salary is at index zero after split() if 'per' is in the value \n",
    "    df_data_analyst['min_salary'] = df_data_analyst['salary_copy'].apply(lambda x: x.split()[0] if 'per' in x else x)\n",
    "\n",
    "    # if 'per' is in the value & the length of split is more than 3 then max_salary at index 2 if less than 3 max_salary = zero\n",
    "    df_data_analyst['max_salary'] = df_data_analyst['salary_copy'].apply(lambda x: x.split()[2] if 'per' in x and len(x.split()) > 3 else 0)\n",
    "\n",
    "    # if 'per' is not in the value fill 'min_salary' and 'max_salary' with the salary value -Training Course, Competitive salary,etc\n",
    "    df_data_analyst['min_salary'] = df_data_analyst.apply(lambda row: row['salary_copy'] if 'per' not in row['salary_copy'] else row['min_salary'], axis=1)\n",
    "    df_data_analyst['max_salary'] = df_data_analyst.apply(lambda row: row['salary_copy'] if 'per' not in row['salary_copy'] else row['max_salary'], axis=1)\n",
    "\n",
    "\n",
    "    # Replace 'Competitive salary', ' Training Course' & 'Salary negotiable' to numeric with 1, 2, 3 \n",
    "    df_data_analyst['max_salary'].replace(['Competitive salary', ' Training Course', 'Salary negotiable' ], [1,2,3], inplace = True)\n",
    "    df_data_analyst['min_salary'].replace(['Competitive salary', ' Training Course', 'Salary negotiable' ], [1,2,3], inplace = True)\n",
    "\n",
    "    # Change 'min_salary' & max_salary from string to numeric\n",
    "    df_data_analyst['min_salary'] =pd.to_numeric(df_data_analyst['min_salary'])\n",
    "    df_data_analyst['max_salary'] =pd.to_numeric(df_data_analyst['max_salary'])\n",
    "\n",
    "    ### Apply the exchange rate rate €1 = £0.86 to 'min_salary' & max_salary and convert it to integers \n",
    "    # Appling the exchange rate rate €1 = £0.86 using df.loc[row_indexer,column_indexer] method\n",
    "    df_data_analyst.loc[183, 'min_salary'] = df_data_analyst.loc[183, 'min_salary']*0.86\n",
    "    df_data_analyst.loc[183, 'max_salary'] = df_data_analyst.loc[183, 'max_salary']*0.86\n",
    "\n",
    "    # Change 'min_salary' & max_salary from string to integer (int)\n",
    "    df_data_analyst['min_salary'] = df_data_analyst['min_salary'].astype(int)\n",
    "    df_data_analyst['max_salary'] = df_data_analyst['max_salary'].astype(int)\n",
    "\n",
    "    # list Comprehension - to change hourly salary multiply by 12 and 52 and daily paid by 252 and keep annum salary as it is\n",
    "    df_data_analyst['min_salary'] = [salary * 12 * 52 if 3 < salary < 100 else salary*252 if 200<salary<100 else salary for salary in df_data_analyst['min_salary']]\n",
    "    df_data_analyst['max_salary']= [salary * 12 * 52 if 3 < salary < 100 else salary*252 if 200<salary<100 else salary for salary in df_data_analyst['max_salary']]\n",
    "\n",
    "\n",
    "# run the function\n",
    "df = salary_conversation(df_data_analyst)\n",
    "df\n"
   ]
  },
  {
   "cell_type": "markdown",
   "id": "cd7644ab",
   "metadata": {},
   "source": [
    "## Date column"
   ]
  },
  {
   "cell_type": "code",
   "execution_count": 29,
   "id": "d6fdb2d6",
   "metadata": {},
   "outputs": [
    {
     "data": {
      "text/html": [
       "<div>\n",
       "<style scoped>\n",
       "    .dataframe tbody tr th:only-of-type {\n",
       "        vertical-align: middle;\n",
       "    }\n",
       "\n",
       "    .dataframe tbody tr th {\n",
       "        vertical-align: top;\n",
       "    }\n",
       "\n",
       "    .dataframe thead th {\n",
       "        text-align: right;\n",
       "    }\n",
       "</style>\n",
       "<table border=\"1\" class=\"dataframe\">\n",
       "  <thead>\n",
       "    <tr style=\"text-align: right;\">\n",
       "      <th></th>\n",
       "      <th>title</th>\n",
       "      <th>date</th>\n",
       "      <th>date_transformed</th>\n",
       "      <th>employer</th>\n",
       "      <th>location</th>\n",
       "      <th>salary</th>\n",
       "      <th>salary_copy</th>\n",
       "      <th>working_hours</th>\n",
       "    </tr>\n",
       "  </thead>\n",
       "  <tbody>\n",
       "    <tr>\n",
       "      <th>0</th>\n",
       "      <td>Data Analyst</td>\n",
       "      <td>28 March</td>\n",
       "      <td>28 March</td>\n",
       "      <td>SES Water</td>\n",
       "      <td>Redhill</td>\n",
       "      <td>£28,000 - £32,000 per annum</td>\n",
       "      <td>£28,000 - £32,000 per annum</td>\n",
       "      <td>Permanent, full-time</td>\n",
       "    </tr>\n",
       "    <tr>\n",
       "      <th>1</th>\n",
       "      <td>Business Data Analyst/Data Analyst</td>\n",
       "      <td>3 days ago</td>\n",
       "      <td>3 days ago</td>\n",
       "      <td>Deutsche Bank</td>\n",
       "      <td>Birmingham</td>\n",
       "      <td>Competitive salary</td>\n",
       "      <td>Competitive salary</td>\n",
       "      <td>Contract, full-time</td>\n",
       "    </tr>\n",
       "  </tbody>\n",
       "</table>\n",
       "</div>"
      ],
      "text/plain": [
       "                                title        date date_transformed  \\\n",
       "0                        Data Analyst    28 March         28 March   \n",
       "1  Business Data Analyst/Data Analyst  3 days ago       3 days ago   \n",
       "\n",
       "        employer    location                       salary  \\\n",
       "0      SES Water     Redhill  £28,000 - £32,000 per annum   \n",
       "1  Deutsche Bank  Birmingham           Competitive salary   \n",
       "\n",
       "                   salary_copy         working_hours  \n",
       "0  £28,000 - £32,000 per annum  Permanent, full-time  \n",
       "1           Competitive salary   Contract, full-time  "
      ]
     },
     "execution_count": 29,
     "metadata": {},
     "output_type": "execute_result"
    }
   ],
   "source": [
    "import pandas as pd\n",
    "import numpy as np\n",
    "import datetime\n",
    "pd.options.display.max_rows = None\n",
    "\n",
    "def data_import():\n",
    "    \n",
    "    df_original  = pd.read_csv('data_analyst_28_04_24.csv')\n",
    "\n",
    "    # select jobs containing only 'Data Analyst'\n",
    "    df_data_analyst = df_original.loc[df_original.title.str.contains('Data Analyst'), \n",
    "                             ['title', 'date', 'employer', 'location', 'salary', 'working_hours']]\n",
    "    \n",
    "    # remove 229 duplicated values from df_data_analyst= \n",
    "    df_data_analyst.drop_duplicates(inplace=True)\n",
    "\n",
    "\n",
    "    # create the copy of 'date' column & insert it to the right side of 'date' column  at index 2 to make visual comparison\n",
    "    date_transformed  = df_data_analyst['date']\n",
    "    df_data_analyst.insert(loc = 2, column = 'date_transformed', value = date_transformed)\n",
    "\n",
    "    # create the copy of 'salary' column & insert it to the right side of 'salary' column  at index 6 to make visual comparison\n",
    "    salary_copy = df_data_analyst['salary']\n",
    "\n",
    "    #insert the new column next to the 'salary' column right side at index 6 to make visual comparison \n",
    "    df_data_analyst.insert(loc = 6, column = 'salary_copy', value = salary_copy)\n",
    "    \n",
    "    return df_data_analyst\n",
    "\n",
    "\n",
    "df_data_analyst = data_import()\n",
    "\n",
    "df_data_analyst.head(2)\n"
   ]
  },
  {
   "cell_type": "code",
   "execution_count": 30,
   "id": "dc4cc787",
   "metadata": {},
   "outputs": [
    {
     "data": {
      "text/html": [
       "<div>\n",
       "<style scoped>\n",
       "    .dataframe tbody tr th:only-of-type {\n",
       "        vertical-align: middle;\n",
       "    }\n",
       "\n",
       "    .dataframe tbody tr th {\n",
       "        vertical-align: top;\n",
       "    }\n",
       "\n",
       "    .dataframe thead th {\n",
       "        text-align: right;\n",
       "    }\n",
       "</style>\n",
       "<table border=\"1\" class=\"dataframe\">\n",
       "  <thead>\n",
       "    <tr style=\"text-align: right;\">\n",
       "      <th></th>\n",
       "      <th>title</th>\n",
       "      <th>date</th>\n",
       "      <th>date_transformed</th>\n",
       "      <th>employer</th>\n",
       "      <th>location</th>\n",
       "      <th>salary</th>\n",
       "      <th>salary_copy</th>\n",
       "      <th>working_hours</th>\n",
       "      <th>day_of_week</th>\n",
       "      <th>month</th>\n",
       "    </tr>\n",
       "  </thead>\n",
       "  <tbody>\n",
       "    <tr>\n",
       "      <th>0</th>\n",
       "      <td>Data Analyst</td>\n",
       "      <td>28 March</td>\n",
       "      <td>2024-03-28</td>\n",
       "      <td>SES Water</td>\n",
       "      <td>Redhill</td>\n",
       "      <td>£28,000 - £32,000 per annum</td>\n",
       "      <td>£28,000 - £32,000 per annum</td>\n",
       "      <td>Permanent, full-time</td>\n",
       "      <td>Thursday</td>\n",
       "      <td>March</td>\n",
       "    </tr>\n",
       "    <tr>\n",
       "      <th>1</th>\n",
       "      <td>Business Data Analyst/Data Analyst</td>\n",
       "      <td>3 days ago</td>\n",
       "      <td>2024-04-24</td>\n",
       "      <td>Deutsche Bank</td>\n",
       "      <td>Birmingham</td>\n",
       "      <td>Competitive salary</td>\n",
       "      <td>Competitive salary</td>\n",
       "      <td>Contract, full-time</td>\n",
       "      <td>Wednesday</td>\n",
       "      <td>April</td>\n",
       "    </tr>\n",
       "    <tr>\n",
       "      <th>2</th>\n",
       "      <td>Data Analyst</td>\n",
       "      <td>18 April</td>\n",
       "      <td>2024-04-18</td>\n",
       "      <td>Equiniti</td>\n",
       "      <td>Worthing</td>\n",
       "      <td>Competitive salary</td>\n",
       "      <td>Competitive salary</td>\n",
       "      <td>Permanent, full-time</td>\n",
       "      <td>Thursday</td>\n",
       "      <td>April</td>\n",
       "    </tr>\n",
       "    <tr>\n",
       "      <th>3</th>\n",
       "      <td>Data Analyst</td>\n",
       "      <td>9 April</td>\n",
       "      <td>2024-04-09</td>\n",
       "      <td>Anglian Water</td>\n",
       "      <td>Peterborough</td>\n",
       "      <td>£32,000 per annum</td>\n",
       "      <td>£32,000 per annum</td>\n",
       "      <td>Permanent, full-time</td>\n",
       "      <td>Tuesday</td>\n",
       "      <td>April</td>\n",
       "    </tr>\n",
       "    <tr>\n",
       "      <th>6</th>\n",
       "      <td>Data Analyst Trainee</td>\n",
       "      <td>24 January</td>\n",
       "      <td>2024-01-24</td>\n",
       "      <td>ITonlinelearning Recruitment</td>\n",
       "      <td>Kingston Upon Thames</td>\n",
       "      <td>Training Course</td>\n",
       "      <td>Training Course</td>\n",
       "      <td>Permanent, full-time</td>\n",
       "      <td>Wednesday</td>\n",
       "      <td>January</td>\n",
       "    </tr>\n",
       "  </tbody>\n",
       "</table>\n",
       "</div>"
      ],
      "text/plain": [
       "                                title        date date_transformed  \\\n",
       "0                        Data Analyst    28 March       2024-03-28   \n",
       "1  Business Data Analyst/Data Analyst  3 days ago       2024-04-24   \n",
       "2                        Data Analyst    18 April       2024-04-18   \n",
       "3                        Data Analyst     9 April       2024-04-09   \n",
       "6                Data Analyst Trainee  24 January       2024-01-24   \n",
       "\n",
       "                       employer              location  \\\n",
       "0                     SES Water               Redhill   \n",
       "1                 Deutsche Bank            Birmingham   \n",
       "2                      Equiniti              Worthing   \n",
       "3                 Anglian Water          Peterborough   \n",
       "6  ITonlinelearning Recruitment  Kingston Upon Thames   \n",
       "\n",
       "                        salary                  salary_copy  \\\n",
       "0  £28,000 - £32,000 per annum  £28,000 - £32,000 per annum   \n",
       "1           Competitive salary           Competitive salary   \n",
       "2           Competitive salary           Competitive salary   \n",
       "3            £32,000 per annum            £32,000 per annum   \n",
       "6              Training Course              Training Course   \n",
       "\n",
       "          working_hours day_of_week    month  \n",
       "0  Permanent, full-time    Thursday    March  \n",
       "1   Contract, full-time   Wednesday    April  \n",
       "2  Permanent, full-time    Thursday    April  \n",
       "3  Permanent, full-time     Tuesday    April  \n",
       "6  Permanent, full-time   Wednesday  January  "
      ]
     },
     "execution_count": 30,
     "metadata": {},
     "output_type": "execute_result"
    }
   ],
   "source": [
    "def transformer_date():\n",
    "    \n",
    "    # date section\n",
    "    \n",
    "    date_list = []\n",
    "    day_ago =[]\n",
    "   \n",
    "    # Adding 2023 to other months 'June' &  'December' \n",
    "    months_2023 = ['June',  'December']\n",
    "    \n",
    "    for month in months_2023:\n",
    "        df_data_analyst.loc[df_data_analyst['date_transformed'].str.contains(month), 'date_transformed'] += ' 2023'\n",
    "\n",
    "    # Adding 2024 to January', 'February', 'March' & 'April'\n",
    "    months_2024 = ['January', 'Feburary', 'March', 'April']\n",
    "    \n",
    "    for month in months_2024:\n",
    "        df_data_analyst.loc[df_data_analyst['date_transformed'].str.contains(month),'date_transformed'] += ' 2024'\n",
    "    \n",
    "    # Transforming \"days ago\"\n",
    "    for i in df_data_analyst['date_transformed']:\n",
    "\n",
    "        if  \"days ago\" in i:\n",
    "\n",
    "            # select the first (index zero)\n",
    "            no_days = i[0]\n",
    "            day_ago.append(int(no_days))\n",
    "\n",
    "            # specify the date scrapped the website to '27 April 2024' \n",
    "            scrapping_date =datetime.datetime.strptime('27 April 2024' , \"%d %B %Y\") # '%d %b %Y')\n",
    "\n",
    "            for e in day_ago:\n",
    "                d = datetime.timedelta(days = e)\n",
    "                a = (scrapping_date - d).strftime(\"%d %B %Y\") \n",
    "\n",
    "            # Substitute each values of i (days_ ago) with a (proper date before scrapping the website)\n",
    "            df_data_analyst.loc[df_data_analyst['date_transformed']  == i, 'date_transformed'] =  a\n",
    "    \n",
    "     # Changing 'Yesterday' to the daate before scarpping date ('27 April 2024')  '26 April 2024'\n",
    "    df_data_analyst.loc[df_data_analyst['date_transformed']  == 'Yesterday', 'date_transformed' ] = '26 April 2024'\n",
    "    \n",
    "    # 'Feburary' misspelt on the website replace it with 'February'\n",
    "    df_data_analyst['date_transformed'] = df_data_analyst['date_transformed'].str.replace('Feburary', 'February')\n",
    "    \n",
    "    #change to datetime format \n",
    "    df_data_analyst['date_transformed'] = pd.to_datetime(df_data_analyst['date_transformed'])\n",
    "    \n",
    "    # Extract  days of the week and create a column \n",
    "    df_data_analyst['day_of_week'] = df_data_analyst['date_transformed'].dt.day_name()\n",
    "    \n",
    "     # Extract  the month name and create a column\n",
    "    df_data_analyst['month'] = df_data_analyst['date_transformed'].dt.month_name(locale='English')\n",
    "    \n",
    "    return df_data_analyst.head()\n",
    "\n",
    "\n",
    "\n",
    "transformer_date()\n"
   ]
  },
  {
   "cell_type": "markdown",
   "id": "3d84f81e",
   "metadata": {},
   "source": [
    "## Salary column "
   ]
  },
  {
   "cell_type": "code",
   "execution_count": 31,
   "id": "051b857c",
   "metadata": {},
   "outputs": [],
   "source": [
    "def transform_salary():\n",
    "        # Salary section\n",
    "\n",
    "    # replace/remove '£', '€', ',' signs with nothing from 'salary_copy' column\n",
    "    df_data_analyst['salary_copy'].replace(['£', '€', ','], '', regex=True, inplace=True)\n",
    "    df_data_analyst.head(2)\n",
    "\n",
    "    ### Create 'min_salary' & 'max_salary' columns using values of the 'salary_copy' column\n",
    "    # min_salary is at index zero after split() if 'per' is in the value \n",
    "    df_data_analyst['min_salary'] = df_data_analyst['salary_copy'].apply(lambda x: x.split()[0] if 'per' in x else x)\n",
    "\n",
    "    # if 'per' is in the value & the length of split is more than 3 then max_salary at index 2 if less than 3 max_salary = zero\n",
    "    df_data_analyst['max_salary'] = df_data_analyst['salary_copy'].apply(lambda x: x.split()[2] if 'per' in x and len(x.split()) > 3 else 0)\n",
    "\n",
    "    # if 'per' is not in the value fill 'min_salary' and 'max_salary' with the salary value -Training Course, Competitive salary,etc\n",
    "    df_data_analyst['min_salary'] = df_data_analyst.apply(lambda row: row['salary_copy'] if 'per' not in row['salary_copy'] else row['min_salary'], axis=1)\n",
    "    df_data_analyst['max_salary'] = df_data_analyst.apply(lambda row: row['salary_copy'] if 'per' not in row['salary_copy'] else row['max_salary'], axis=1)\n",
    "\n",
    "\n",
    "    # Replace 'Competitive salary', ' Training Course' & 'Salary negotiable' to numeric with 1, 2, 3 \n",
    "    df_data_analyst['max_salary'].replace(['Competitive salary', ' Training Course', 'Salary negotiable' ], [1,2,3], inplace = True)\n",
    "    df_data_analyst['min_salary'].replace(['Competitive salary', ' Training Course', 'Salary negotiable' ], [1,2,3], inplace = True)\n",
    "\n",
    "    # Change 'min_salary' & max_salary from string to numeric\n",
    "    df_data_analyst['min_salary'] =pd.to_numeric(df_data_analyst['min_salary'])\n",
    "    df_data_analyst['max_salary'] =pd.to_numeric(df_data_analyst['max_salary'])\n",
    "\n",
    "    ### Apply the exchange rate rate €1 = £0.86 to 'min_salary' & max_salary and convert it to integers \n",
    "    # Appling the exchange rate rate €1 = £0.86 using df.loc[row_indexer,column_indexer] method\n",
    "    df_data_analyst.loc[183, 'min_salary'] = df_data_analyst.loc[183, 'min_salary']*0.86\n",
    "    df_data_analyst.loc[183, 'max_salary'] = df_data_analyst.loc[183, 'max_salary']*0.86\n",
    "\n",
    "    # Change 'min_salary' & max_salary from string to integer (int)\n",
    "    df_data_analyst['min_salary'] = df_data_analyst['min_salary'].astype(int)\n",
    "    df_data_analyst['max_salary'] = df_data_analyst['max_salary'].astype(int)\n",
    "\n",
    "    # list Comprehension - to change hourly salary multiply by 12 and 52 and daily paid by 252 and keep annum salary as it is\n",
    "    df_data_analyst['min_salary'] = [salary * 12 * 52 if 3 < salary < 100 else salary*252 if 200<salary<100 else salary for salary in df_data_analyst['min_salary']]\n",
    "    df_data_analyst['max_salary']= [salary * 12 * 52 if 3 < salary < 100 else salary*252 if 200<salary<100 else salary for salary in df_data_analyst['max_salary']]\n",
    "\n",
    "\n",
    "transform_salary()\n"
   ]
  },
  {
   "cell_type": "code",
   "execution_count": null,
   "id": "cc6c20a3",
   "metadata": {},
   "outputs": [],
   "source": []
  },
  {
   "cell_type": "markdown",
   "id": "7ad3fd93",
   "metadata": {},
   "source": [
    "## Salary and date - Putting ALL together \n",
    "## Final FUNCTION code "
   ]
  },
  {
   "cell_type": "code",
   "execution_count": 33,
   "id": "44648678",
   "metadata": {},
   "outputs": [
    {
     "data": {
      "text/html": [
       "<div>\n",
       "<style scoped>\n",
       "    .dataframe tbody tr th:only-of-type {\n",
       "        vertical-align: middle;\n",
       "    }\n",
       "\n",
       "    .dataframe tbody tr th {\n",
       "        vertical-align: top;\n",
       "    }\n",
       "\n",
       "    .dataframe thead th {\n",
       "        text-align: right;\n",
       "    }\n",
       "</style>\n",
       "<table border=\"1\" class=\"dataframe\">\n",
       "  <thead>\n",
       "    <tr style=\"text-align: right;\">\n",
       "      <th></th>\n",
       "      <th>title</th>\n",
       "      <th>date</th>\n",
       "      <th>date_transformed</th>\n",
       "      <th>employer</th>\n",
       "      <th>location</th>\n",
       "      <th>salary</th>\n",
       "      <th>salary_copy</th>\n",
       "      <th>working_hours</th>\n",
       "      <th>day_of_week</th>\n",
       "      <th>month</th>\n",
       "      <th>min_salary</th>\n",
       "      <th>max_salary</th>\n",
       "    </tr>\n",
       "  </thead>\n",
       "  <tbody>\n",
       "    <tr>\n",
       "      <th>0</th>\n",
       "      <td>Data Analyst</td>\n",
       "      <td>28 March</td>\n",
       "      <td>2024-03-28</td>\n",
       "      <td>SES Water</td>\n",
       "      <td>Redhill</td>\n",
       "      <td>£28,000 - £32,000 per annum</td>\n",
       "      <td>28000 - 32000 per annum</td>\n",
       "      <td>Permanent, full-time</td>\n",
       "      <td>Thursday</td>\n",
       "      <td>March</td>\n",
       "      <td>28000</td>\n",
       "      <td>32000</td>\n",
       "    </tr>\n",
       "    <tr>\n",
       "      <th>1</th>\n",
       "      <td>Business Data Analyst/Data Analyst</td>\n",
       "      <td>3 days ago</td>\n",
       "      <td>2024-04-24</td>\n",
       "      <td>Deutsche Bank</td>\n",
       "      <td>Birmingham</td>\n",
       "      <td>Competitive salary</td>\n",
       "      <td>Competitive salary</td>\n",
       "      <td>Contract, full-time</td>\n",
       "      <td>Wednesday</td>\n",
       "      <td>April</td>\n",
       "      <td>1</td>\n",
       "      <td>1</td>\n",
       "    </tr>\n",
       "  </tbody>\n",
       "</table>\n",
       "</div>"
      ],
      "text/plain": [
       "                                title        date date_transformed  \\\n",
       "0                        Data Analyst    28 March       2024-03-28   \n",
       "1  Business Data Analyst/Data Analyst  3 days ago       2024-04-24   \n",
       "\n",
       "        employer    location                       salary  \\\n",
       "0      SES Water     Redhill  £28,000 - £32,000 per annum   \n",
       "1  Deutsche Bank  Birmingham           Competitive salary   \n",
       "\n",
       "               salary_copy         working_hours day_of_week  month  \\\n",
       "0  28000 - 32000 per annum  Permanent, full-time    Thursday  March   \n",
       "1       Competitive salary   Contract, full-time   Wednesday  April   \n",
       "\n",
       "   min_salary  max_salary  \n",
       "0       28000       32000  \n",
       "1           1           1  "
      ]
     },
     "execution_count": 33,
     "metadata": {},
     "output_type": "execute_result"
    }
   ],
   "source": [
    "\n",
    "import pandas as pd\n",
    "import numpy as np\n",
    "import datetime\n",
    "pd.options.display.max_rows = None\n",
    "\n",
    "\n",
    "#importing the data\n",
    "\n",
    "def import_data():\n",
    "    \n",
    "    df_original  = pd.read_csv('data_analyst_28_04_24.csv')\n",
    "\n",
    "    # select jobs containing only 'Data Analyst'\n",
    "    df_data_analyst = df_original.loc[df_original.title.str.contains('Data Analyst'), \n",
    "                             ['title', 'date', 'employer', 'location', 'salary', 'working_hours']]\n",
    "\n",
    "\n",
    "    # remove 229 duplicated values from df_data_analyst= \n",
    "    df_data_analyst.drop_duplicates(inplace=True)\n",
    "\n",
    "    # create the copy of 'date' column & insert it to the right side of 'date' column  at index 2 to make visual comparison\n",
    "    date_transformed  = df_data_analyst['date']\n",
    "    df_data_analyst.insert(loc = 2, column = 'date_transformed', value = date_transformed)\n",
    "\n",
    "    # create the copy of 'salary' column & insert it to the right side of 'salary' column  at index 6 to make visual comparison\n",
    "    salary_copy = df_data_analyst['salary']\n",
    "\n",
    "    #insert the new column next to the 'salary' column right side at index 6 to make visual comparison \n",
    "    df_data_analyst.insert(loc = 6, column = 'salary_copy', value = salary_copy)\n",
    "    \n",
    "    return df_data_analyst\n",
    "\n",
    "\n",
    "# date section\n",
    "\n",
    "def transform_date():\n",
    "    \n",
    "    # assign df_data_analyst to the aabove function -import_data()\n",
    "    df_data_analyst = import_data()\n",
    "    \n",
    "    date_list = []\n",
    "    day_ago =[]\n",
    "   \n",
    "    # Adding 2023 to other months 'June' &  'December' \n",
    "    months_2023 = ['June',  'December']\n",
    "    \n",
    "    for month in months_2023:\n",
    "        df_data_analyst.loc[df_data_analyst['date_transformed'].str.contains(month), 'date_transformed'] += ' 2023'\n",
    "\n",
    "    # Adding 2024 to January', 'February', 'March' & 'April'\n",
    "    months_2024 = ['January', 'Feburary', 'March', 'April']\n",
    "    \n",
    "    for month in months_2024:\n",
    "        df_data_analyst.loc[df_data_analyst['date_transformed'].str.contains(month),'date_transformed'] += ' 2024'\n",
    "    \n",
    "    # Transforming \"days ago\"\n",
    "    for i in df_data_analyst['date_transformed']:\n",
    "\n",
    "        if  \"days ago\" in i:\n",
    "\n",
    "            # select the first (index zero)\n",
    "            no_days = i[0]\n",
    "            day_ago.append(int(no_days))\n",
    "\n",
    "            # specify the date scrapped the website to '27 April 2024' \n",
    "            scrapping_date =datetime.datetime.strptime('27 April 2024' , \"%d %B %Y\") # '%d %b %Y')\n",
    "\n",
    "            for e in day_ago:\n",
    "                d = datetime.timedelta(days = e)\n",
    "                a = (scrapping_date - d).strftime(\"%d %B %Y\") \n",
    "\n",
    "            # Substitute each values of i (days_ ago) with a (proper date before scrapping the website)\n",
    "            df_data_analyst.loc[df_data_analyst['date_transformed']  == i, 'date_transformed'] =  a\n",
    "    \n",
    "     # Changing 'Yesterday' to the daate before scarpping date ('27 April 2024')  '26 April 2024'\n",
    "    df_data_analyst.loc[df_data_analyst['date_transformed']  == 'Yesterday', 'date_transformed' ] = '26 April 2024'\n",
    "    \n",
    "    # 'Feburary' misspelt on the website replace it with 'February'\n",
    "    df_data_analyst['date_transformed'] = df_data_analyst['date_transformed'].str.replace('Feburary', 'February')\n",
    "    \n",
    "    #change to datetime format \n",
    "    df_data_analyst['date_transformed'] = pd.to_datetime(df_data_analyst['date_transformed'])\n",
    "    \n",
    "    # Extract  days of the week and create a column \n",
    "    df_data_analyst['day_of_week'] = df_data_analyst['date_transformed'].dt.day_name()\n",
    "    \n",
    "     # Extract  the month name and create a column\n",
    "    df_data_analyst['month'] = df_data_analyst['date_transformed'].dt.month_name(locale='English')\n",
    "    \n",
    "    return df_data_analyst\n",
    "\n",
    " \n",
    "    \n",
    "# Salary section\n",
    "\n",
    "def transform_salary_date():\n",
    "    \n",
    "    # call and assign the above function -transform_date() to df_data_analyst to work with the salary \n",
    "    df_data_analyst = transform_date() \n",
    "\n",
    "    # replace/remove '£', '€', ',' signs with nothing from 'salary_copy' column\n",
    "    df_data_analyst['salary_copy'].replace(['£', '€', ','], '', regex=True, inplace=True)\n",
    "    df_data_analyst.head(2)\n",
    "\n",
    "    ### Create 'min_salary' & 'max_salary' columns using values of the 'salary_copy' column\n",
    "    # min_salary is at index zero after split() if 'per' is in the value \n",
    "    df_data_analyst['min_salary'] = df_data_analyst['salary_copy'].apply(lambda x: x.split()[0] if 'per' in x else x)\n",
    "\n",
    "    # if 'per' is in the value & the length of split is more than 3 then max_salary at index 2 if less than 3 max_salary = zero\n",
    "    df_data_analyst['max_salary'] = df_data_analyst['salary_copy'].apply(lambda x: x.split()[2] if 'per' in x and len(x.split()) > 3 else 0)\n",
    "\n",
    "    # if 'per' is not in the value fill 'min_salary' and 'max_salary' with the salary value -Training Course, Competitive salary,etc\n",
    "    df_data_analyst['min_salary'] = df_data_analyst.apply(lambda row: row['salary_copy'] if 'per' not in row['salary_copy'] else row['min_salary'], axis=1)\n",
    "    df_data_analyst['max_salary'] = df_data_analyst.apply(lambda row: row['salary_copy'] if 'per' not in row['salary_copy'] else row['max_salary'], axis=1)\n",
    "\n",
    "\n",
    "    # Replace 'Competitive salary', ' Training Course' & 'Salary negotiable' to numeric with 1, 2, 3 \n",
    "    df_data_analyst['max_salary'].replace(['Competitive salary', ' Training Course', 'Salary negotiable' ], [1,2,3], inplace = True)\n",
    "    df_data_analyst['min_salary'].replace(['Competitive salary', ' Training Course', 'Salary negotiable' ], [1,2,3], inplace = True)\n",
    "\n",
    "    # Change 'min_salary' & max_salary from string to numeric\n",
    "    df_data_analyst['min_salary'] =pd.to_numeric(df_data_analyst['min_salary'])\n",
    "    df_data_analyst['max_salary'] =pd.to_numeric(df_data_analyst['max_salary'])\n",
    "\n",
    "    ### Apply the exchange rate rate €1 = £0.86 to 'min_salary' & max_salary and convert it to integers \n",
    "    # Appling the exchange rate rate €1 = £0.86 using df.loc[row_indexer,column_indexer] method\n",
    "    df_data_analyst.loc[183, 'min_salary'] = df_data_analyst.loc[183, 'min_salary']*0.86\n",
    "    df_data_analyst.loc[183, 'max_salary'] = df_data_analyst.loc[183, 'max_salary']*0.86\n",
    "\n",
    "    # Change 'min_salary' & max_salary from string to integer (int)\n",
    "    df_data_analyst['min_salary'] = df_data_analyst['min_salary'].astype(int)\n",
    "    df_data_analyst['max_salary'] = df_data_analyst['max_salary'].astype(int)\n",
    "    \n",
    "    # hourly pay  from 3 upto 100) salary's to annum salary conversion multiply the salary by 12 and 52\n",
    "    # Daily pay salary from 100 to 1000 to annum salary conversion multiply salary by 252 or keep annum salary \n",
    "    df_data_analyst['min_salary'] = [salary * 12 * 52 if 3 < salary < 100 else salary*252 if 100<salary<1000 else salary for salary in df_data_analyst['min_salary']]\n",
    "    df_data_analyst['max_salary']= [salary * 12 * 52 if 3 < salary < 100 else salary*252 if 100<salary<1000 else salary for salary in df_data_analyst['max_salary']]\n",
    "\n",
    "\n",
    "    # save the data as 'data_analyst_salary_08_05_24.csv'\n",
    "    df_data_analyst.to_csv('salary_&_date_transformed_08_05_24.csv', index=None) #columns=['title', 'date', 'employer', 'location', 'salary', 'working_hours','job_weblink', 'job_description'],  index=None)\n",
    "\n",
    "    return df_data_analyst\n",
    "\n",
    "\n",
    "# assign the final function to df and run\n",
    "df = transform_salary_date()\n",
    "\n",
    "df.head(2)\n",
    "\n"
   ]
  },
  {
   "cell_type": "code",
   "execution_count": 221,
   "id": "e223b950",
   "metadata": {},
   "outputs": [
    {
     "data": {
      "text/plain": [
       "Index(['title', 'date', 'date_transformed', 'employer', 'location', 'salary',\n",
       "       'salary_copy', 'working_hours', 'day_of_week', 'month', 'min_salary',\n",
       "       'max_salary'],\n",
       "      dtype='object')"
      ]
     },
     "execution_count": 221,
     "metadata": {},
     "output_type": "execute_result"
    }
   ],
   "source": [
    "df.columns "
   ]
  },
  {
   "cell_type": "markdown",
   "id": "69f58bf6",
   "metadata": {},
   "source": [
    "## Read back the 'salary_&_date_transformed_08_05_24.csv' file"
   ]
  },
  {
   "cell_type": "code",
   "execution_count": 35,
   "id": "198cebbc",
   "metadata": {},
   "outputs": [
    {
     "data": {
      "text/html": [
       "<div>\n",
       "<style scoped>\n",
       "    .dataframe tbody tr th:only-of-type {\n",
       "        vertical-align: middle;\n",
       "    }\n",
       "\n",
       "    .dataframe tbody tr th {\n",
       "        vertical-align: top;\n",
       "    }\n",
       "\n",
       "    .dataframe thead th {\n",
       "        text-align: right;\n",
       "    }\n",
       "</style>\n",
       "<table border=\"1\" class=\"dataframe\">\n",
       "  <thead>\n",
       "    <tr style=\"text-align: right;\">\n",
       "      <th></th>\n",
       "      <th>title</th>\n",
       "      <th>date</th>\n",
       "      <th>date_transformed</th>\n",
       "      <th>day_of_week</th>\n",
       "      <th>month</th>\n",
       "      <th>salary</th>\n",
       "      <th>salary_copy</th>\n",
       "      <th>min_salary</th>\n",
       "      <th>max_salary</th>\n",
       "      <th>working_hours</th>\n",
       "      <th>employer</th>\n",
       "      <th>location</th>\n",
       "    </tr>\n",
       "  </thead>\n",
       "  <tbody>\n",
       "    <tr>\n",
       "      <th>0</th>\n",
       "      <td>Data Analyst</td>\n",
       "      <td>28 March</td>\n",
       "      <td>2024-03-28</td>\n",
       "      <td>Thursday</td>\n",
       "      <td>March</td>\n",
       "      <td>£28,000 - £32,000 per annum</td>\n",
       "      <td>28000 - 32000 per annum</td>\n",
       "      <td>28000</td>\n",
       "      <td>32000</td>\n",
       "      <td>Permanent, full-time</td>\n",
       "      <td>SES Water</td>\n",
       "      <td>Redhill</td>\n",
       "    </tr>\n",
       "    <tr>\n",
       "      <th>1</th>\n",
       "      <td>Business Data Analyst/Data Analyst</td>\n",
       "      <td>3 days ago</td>\n",
       "      <td>2024-04-24</td>\n",
       "      <td>Wednesday</td>\n",
       "      <td>April</td>\n",
       "      <td>Competitive salary</td>\n",
       "      <td>Competitive salary</td>\n",
       "      <td>1</td>\n",
       "      <td>1</td>\n",
       "      <td>Contract, full-time</td>\n",
       "      <td>Deutsche Bank</td>\n",
       "      <td>Birmingham</td>\n",
       "    </tr>\n",
       "  </tbody>\n",
       "</table>\n",
       "</div>"
      ],
      "text/plain": [
       "                                title        date date_transformed  \\\n",
       "0                        Data Analyst    28 March       2024-03-28   \n",
       "1  Business Data Analyst/Data Analyst  3 days ago       2024-04-24   \n",
       "\n",
       "  day_of_week  month                       salary              salary_copy  \\\n",
       "0    Thursday  March  £28,000 - £32,000 per annum  28000 - 32000 per annum   \n",
       "1   Wednesday  April           Competitive salary       Competitive salary   \n",
       "\n",
       "   min_salary  max_salary         working_hours       employer    location  \n",
       "0       28000       32000  Permanent, full-time      SES Water     Redhill  \n",
       "1           1           1   Contract, full-time  Deutsche Bank  Birmingham  "
      ]
     },
     "execution_count": 35,
     "metadata": {},
     "output_type": "execute_result"
    }
   ],
   "source": [
    "import pandas as pd\n",
    "import numpy as np\n",
    "import matplotlib.pyplot as plt\n",
    "import seaborn as sns\n",
    "df_sal_da = pd.read_csv('salary_&_date_transformed_08_05_24.csv')\n",
    "\n",
    "# rearrange orders -put related columns next to each other to make visual  comparisons with the original values \n",
    "df_date_salary = df_sal_da[['title', 'date', 'date_transformed','day_of_week', 'month','salary', 'salary_copy','min_salary', \n",
    "                           'max_salary', 'working_hours','employer', 'location', ]]\n",
    "df_date_salary.head(2)\n"
   ]
  },
  {
   "cell_type": "code",
   "execution_count": 40,
   "id": "3b95e806",
   "metadata": {},
   "outputs": [
    {
     "name": "stdout",
     "output_type": "stream",
     "text": [
      "<class 'pandas.core.frame.DataFrame'>\n",
      "RangeIndex: 294 entries, 0 to 293\n",
      "Data columns (total 12 columns):\n",
      " #   Column            Non-Null Count  Dtype \n",
      "---  ------            --------------  ----- \n",
      " 0   title             294 non-null    object\n",
      " 1   date              294 non-null    object\n",
      " 2   date_transformed  294 non-null    object\n",
      " 3   day_of_week       294 non-null    object\n",
      " 4   month             294 non-null    object\n",
      " 5   salary            294 non-null    object\n",
      " 6   salary_copy       294 non-null    object\n",
      " 7   min_salary        294 non-null    int64 \n",
      " 8   max_salary        294 non-null    int64 \n",
      " 9   working_hours     294 non-null    object\n",
      " 10  employer          294 non-null    object\n",
      " 11  location          294 non-null    object\n",
      "dtypes: int64(2), object(10)\n",
      "memory usage: 27.7+ KB\n"
     ]
    }
   ],
   "source": [
    "df_date_salary.info()"
   ]
  },
  {
   "cell_type": "code",
   "execution_count": 36,
   "id": "a24be898",
   "metadata": {},
   "outputs": [
    {
     "data": {
      "text/html": [
       "<div>\n",
       "<style scoped>\n",
       "    .dataframe tbody tr th:only-of-type {\n",
       "        vertical-align: middle;\n",
       "    }\n",
       "\n",
       "    .dataframe tbody tr th {\n",
       "        vertical-align: top;\n",
       "    }\n",
       "\n",
       "    .dataframe thead th {\n",
       "        text-align: right;\n",
       "    }\n",
       "</style>\n",
       "<table border=\"1\" class=\"dataframe\">\n",
       "  <thead>\n",
       "    <tr style=\"text-align: right;\">\n",
       "      <th></th>\n",
       "      <th>title</th>\n",
       "      <th>date</th>\n",
       "      <th>date_transformed</th>\n",
       "      <th>day_of_week</th>\n",
       "      <th>month</th>\n",
       "      <th>salary</th>\n",
       "      <th>salary_copy</th>\n",
       "      <th>min_salary</th>\n",
       "      <th>max_salary</th>\n",
       "      <th>working_hours</th>\n",
       "      <th>employer</th>\n",
       "      <th>location</th>\n",
       "    </tr>\n",
       "  </thead>\n",
       "  <tbody>\n",
       "    <tr>\n",
       "      <th>0</th>\n",
       "      <td>Data Analyst</td>\n",
       "      <td>28 March</td>\n",
       "      <td>2024-03-28</td>\n",
       "      <td>Thursday</td>\n",
       "      <td>March</td>\n",
       "      <td>£28,000 - £32,000 per annum</td>\n",
       "      <td>28000 - 32000 per annum</td>\n",
       "      <td>28000</td>\n",
       "      <td>32000</td>\n",
       "      <td>Permanent, full-time</td>\n",
       "      <td>SES Water</td>\n",
       "      <td>Redhill</td>\n",
       "    </tr>\n",
       "    <tr>\n",
       "      <th>1</th>\n",
       "      <td>Business Data Analyst/Data Analyst</td>\n",
       "      <td>3 days ago</td>\n",
       "      <td>2024-04-24</td>\n",
       "      <td>Wednesday</td>\n",
       "      <td>April</td>\n",
       "      <td>Competitive salary</td>\n",
       "      <td>Competitive salary</td>\n",
       "      <td>1</td>\n",
       "      <td>1</td>\n",
       "      <td>Contract, full-time</td>\n",
       "      <td>Deutsche Bank</td>\n",
       "      <td>Birmingham</td>\n",
       "    </tr>\n",
       "  </tbody>\n",
       "</table>\n",
       "</div>"
      ],
      "text/plain": [
       "                                title        date date_transformed  \\\n",
       "0                        Data Analyst    28 March       2024-03-28   \n",
       "1  Business Data Analyst/Data Analyst  3 days ago       2024-04-24   \n",
       "\n",
       "  day_of_week  month                       salary              salary_copy  \\\n",
       "0    Thursday  March  £28,000 - £32,000 per annum  28000 - 32000 per annum   \n",
       "1   Wednesday  April           Competitive salary       Competitive salary   \n",
       "\n",
       "   min_salary  max_salary         working_hours       employer    location  \n",
       "0       28000       32000  Permanent, full-time      SES Water     Redhill  \n",
       "1           1           1   Contract, full-time  Deutsche Bank  Birmingham  "
      ]
     },
     "execution_count": 36,
     "metadata": {},
     "output_type": "execute_result"
    }
   ],
   "source": [
    "df_date_salary.head(2)"
   ]
  },
  {
   "cell_type": "code",
   "execution_count": 41,
   "id": "8ca81dcb",
   "metadata": {},
   "outputs": [
    {
     "data": {
      "text/html": [
       "<div>\n",
       "<style scoped>\n",
       "    .dataframe tbody tr th:only-of-type {\n",
       "        vertical-align: middle;\n",
       "    }\n",
       "\n",
       "    .dataframe tbody tr th {\n",
       "        vertical-align: top;\n",
       "    }\n",
       "\n",
       "    .dataframe thead th {\n",
       "        text-align: right;\n",
       "    }\n",
       "</style>\n",
       "<table border=\"1\" class=\"dataframe\">\n",
       "  <thead>\n",
       "    <tr style=\"text-align: right;\">\n",
       "      <th></th>\n",
       "      <th>date</th>\n",
       "      <th>date_transformed</th>\n",
       "      <th>day_of_week</th>\n",
       "      <th>month</th>\n",
       "    </tr>\n",
       "  </thead>\n",
       "  <tbody>\n",
       "    <tr>\n",
       "      <th>100</th>\n",
       "      <td>Yesterday</td>\n",
       "      <td>2024-04-26</td>\n",
       "      <td>Friday</td>\n",
       "      <td>April</td>\n",
       "    </tr>\n",
       "    <tr>\n",
       "      <th>133</th>\n",
       "      <td>Yesterday</td>\n",
       "      <td>2024-04-26</td>\n",
       "      <td>Friday</td>\n",
       "      <td>April</td>\n",
       "    </tr>\n",
       "    <tr>\n",
       "      <th>181</th>\n",
       "      <td>Yesterday</td>\n",
       "      <td>2024-04-26</td>\n",
       "      <td>Friday</td>\n",
       "      <td>April</td>\n",
       "    </tr>\n",
       "    <tr>\n",
       "      <th>208</th>\n",
       "      <td>Yesterday</td>\n",
       "      <td>2024-04-26</td>\n",
       "      <td>Friday</td>\n",
       "      <td>April</td>\n",
       "    </tr>\n",
       "    <tr>\n",
       "      <th>249</th>\n",
       "      <td>Yesterday</td>\n",
       "      <td>2024-04-26</td>\n",
       "      <td>Friday</td>\n",
       "      <td>April</td>\n",
       "    </tr>\n",
       "  </tbody>\n",
       "</table>\n",
       "</div>"
      ],
      "text/plain": [
       "          date date_transformed day_of_week  month\n",
       "100  Yesterday       2024-04-26      Friday  April\n",
       "133  Yesterday       2024-04-26      Friday  April\n",
       "181  Yesterday       2024-04-26      Friday  April\n",
       "208  Yesterday       2024-04-26      Friday  April\n",
       "249  Yesterday       2024-04-26      Friday  April"
      ]
     },
     "execution_count": 41,
     "metadata": {},
     "output_type": "execute_result"
    }
   ],
   "source": [
    "df_date_salary.loc[df_date_salary['date']  == 'Yesterday', ['date', 'date_transformed', 'day_of_week', 'month']]"
   ]
  },
  {
   "cell_type": "code",
   "execution_count": 42,
   "id": "bf62ce51",
   "metadata": {},
   "outputs": [
    {
     "data": {
      "text/plain": [
       "Index([100, 133, 181, 208, 249], dtype='int64')"
      ]
     },
     "execution_count": 42,
     "metadata": {},
     "output_type": "execute_result"
    }
   ],
   "source": [
    "df_date_salary.loc[df_date_salary['date']  == 'Yesterday', ['date', 'date_transformed', 'day_of_week',  'month']].index"
   ]
  },
  {
   "cell_type": "markdown",
   "id": "0151377b",
   "metadata": {},
   "source": [
    "## Checking the 'date' columns\n",
    "### Add the original 'date' column "
   ]
  },
  {
   "cell_type": "code",
   "execution_count": 44,
   "id": "a514580c",
   "metadata": {},
   "outputs": [
    {
     "data": {
      "text/html": [
       "<div>\n",
       "<style scoped>\n",
       "    .dataframe tbody tr th:only-of-type {\n",
       "        vertical-align: middle;\n",
       "    }\n",
       "\n",
       "    .dataframe tbody tr th {\n",
       "        vertical-align: top;\n",
       "    }\n",
       "\n",
       "    .dataframe thead th {\n",
       "        text-align: right;\n",
       "    }\n",
       "</style>\n",
       "<table border=\"1\" class=\"dataframe\">\n",
       "  <thead>\n",
       "    <tr style=\"text-align: right;\">\n",
       "      <th></th>\n",
       "      <th>date</th>\n",
       "      <th>date_transformed</th>\n",
       "      <th>day_of_week</th>\n",
       "      <th>month</th>\n",
       "    </tr>\n",
       "  </thead>\n",
       "  <tbody>\n",
       "    <tr>\n",
       "      <th>118</th>\n",
       "      <td>19 April</td>\n",
       "      <td>2024-04-19</td>\n",
       "      <td>Friday</td>\n",
       "      <td>April</td>\n",
       "    </tr>\n",
       "    <tr>\n",
       "      <th>157</th>\n",
       "      <td>22 March</td>\n",
       "      <td>2024-03-22</td>\n",
       "      <td>Friday</td>\n",
       "      <td>March</td>\n",
       "    </tr>\n",
       "    <tr>\n",
       "      <th>214</th>\n",
       "      <td>8 April</td>\n",
       "      <td>2024-04-08</td>\n",
       "      <td>Monday</td>\n",
       "      <td>April</td>\n",
       "    </tr>\n",
       "    <tr>\n",
       "      <th>28</th>\n",
       "      <td>12 January</td>\n",
       "      <td>2024-01-12</td>\n",
       "      <td>Friday</td>\n",
       "      <td>January</td>\n",
       "    </tr>\n",
       "    <tr>\n",
       "      <th>100</th>\n",
       "      <td>Yesterday</td>\n",
       "      <td>2024-04-26</td>\n",
       "      <td>Friday</td>\n",
       "      <td>April</td>\n",
       "    </tr>\n",
       "    <tr>\n",
       "      <th>115</th>\n",
       "      <td>27 Feburary</td>\n",
       "      <td>2024-02-27</td>\n",
       "      <td>Tuesday</td>\n",
       "      <td>February</td>\n",
       "    </tr>\n",
       "    <tr>\n",
       "      <th>121</th>\n",
       "      <td>18 April</td>\n",
       "      <td>2024-04-18</td>\n",
       "      <td>Thursday</td>\n",
       "      <td>April</td>\n",
       "    </tr>\n",
       "    <tr>\n",
       "      <th>131</th>\n",
       "      <td>9 April</td>\n",
       "      <td>2024-04-09</td>\n",
       "      <td>Tuesday</td>\n",
       "      <td>April</td>\n",
       "    </tr>\n",
       "    <tr>\n",
       "      <th>2</th>\n",
       "      <td>18 April</td>\n",
       "      <td>2024-04-18</td>\n",
       "      <td>Thursday</td>\n",
       "      <td>April</td>\n",
       "    </tr>\n",
       "    <tr>\n",
       "      <th>166</th>\n",
       "      <td>4 days ago</td>\n",
       "      <td>2024-04-23</td>\n",
       "      <td>Tuesday</td>\n",
       "      <td>April</td>\n",
       "    </tr>\n",
       "    <tr>\n",
       "      <th>39</th>\n",
       "      <td>23 January</td>\n",
       "      <td>2024-01-23</td>\n",
       "      <td>Tuesday</td>\n",
       "      <td>January</td>\n",
       "    </tr>\n",
       "    <tr>\n",
       "      <th>78</th>\n",
       "      <td>16 January</td>\n",
       "      <td>2024-01-16</td>\n",
       "      <td>Tuesday</td>\n",
       "      <td>January</td>\n",
       "    </tr>\n",
       "    <tr>\n",
       "      <th>269</th>\n",
       "      <td>2 days ago</td>\n",
       "      <td>2024-04-25</td>\n",
       "      <td>Thursday</td>\n",
       "      <td>April</td>\n",
       "    </tr>\n",
       "    <tr>\n",
       "      <th>122</th>\n",
       "      <td>28 March</td>\n",
       "      <td>2024-03-28</td>\n",
       "      <td>Thursday</td>\n",
       "      <td>March</td>\n",
       "    </tr>\n",
       "    <tr>\n",
       "      <th>161</th>\n",
       "      <td>5 April</td>\n",
       "      <td>2024-04-05</td>\n",
       "      <td>Friday</td>\n",
       "      <td>April</td>\n",
       "    </tr>\n",
       "    <tr>\n",
       "      <th>218</th>\n",
       "      <td>11 April</td>\n",
       "      <td>2024-04-11</td>\n",
       "      <td>Thursday</td>\n",
       "      <td>April</td>\n",
       "    </tr>\n",
       "  </tbody>\n",
       "</table>\n",
       "</div>"
      ],
      "text/plain": [
       "            date date_transformed day_of_week     month\n",
       "118     19 April       2024-04-19      Friday     April\n",
       "157     22 March       2024-03-22      Friday     March\n",
       "214      8 April       2024-04-08      Monday     April\n",
       "28    12 January       2024-01-12      Friday   January\n",
       "100    Yesterday       2024-04-26      Friday     April\n",
       "115  27 Feburary       2024-02-27     Tuesday  February\n",
       "121     18 April       2024-04-18    Thursday     April\n",
       "131      9 April       2024-04-09     Tuesday     April\n",
       "2       18 April       2024-04-18    Thursday     April\n",
       "166   4 days ago       2024-04-23     Tuesday     April\n",
       "39    23 January       2024-01-23     Tuesday   January\n",
       "78    16 January       2024-01-16     Tuesday   January\n",
       "269   2 days ago       2024-04-25    Thursday     April\n",
       "122     28 March       2024-03-28    Thursday     March\n",
       "161      5 April       2024-04-05      Friday     April\n",
       "218     11 April       2024-04-11    Thursday     April"
      ]
     },
     "execution_count": 44,
     "metadata": {},
     "output_type": "execute_result"
    }
   ],
   "source": [
    "# scrapping_date = '27 April 2024' \n",
    "df_m_f_yest =df_date_salary.loc[[118, 157, 214, 28, 100,115,  121,   131, 2, 166, 39, 78, 269,122, 161, 218], \n",
    "                                   ['date', 'date_transformed', 'day_of_week', 'month']]\n",
    "\n",
    "df_m_f_yest\n"
   ]
  },
  {
   "cell_type": "code",
   "execution_count": 227,
   "id": "7581f0ba",
   "metadata": {},
   "outputs": [
    {
     "name": "stdout",
     "output_type": "stream",
     "text": [
      "<class 'pandas.core.frame.DataFrame'>\n",
      "Index: 16 entries, 118 to 218\n",
      "Data columns (total 4 columns):\n",
      " #   Column            Non-Null Count  Dtype \n",
      "---  ------            --------------  ----- \n",
      " 0   date              16 non-null     object\n",
      " 1   date_transformed  16 non-null     object\n",
      " 2   day_of_week       16 non-null     object\n",
      " 3   month             16 non-null     object\n",
      "dtypes: object(4)\n",
      "memory usage: 640.0+ bytes\n"
     ]
    }
   ],
   "source": [
    "df_m_f_yest.info()"
   ]
  },
  {
   "cell_type": "markdown",
   "id": "b14bd2af",
   "metadata": {},
   "source": [
    "### Change df_m_f_yest['date_transformed'] to datetime datatype "
   ]
  },
  {
   "cell_type": "code",
   "execution_count": 228,
   "id": "57d15e3a",
   "metadata": {},
   "outputs": [],
   "source": [
    "df_m_f_yest['date_transformed'] = pd.to_datetime(df_m_f_yest['date_transformed'])"
   ]
  },
  {
   "cell_type": "code",
   "execution_count": 229,
   "id": "9e5f5ffd",
   "metadata": {},
   "outputs": [
    {
     "name": "stdout",
     "output_type": "stream",
     "text": [
      "<class 'pandas.core.frame.DataFrame'>\n",
      "Index: 16 entries, 118 to 218\n",
      "Data columns (total 4 columns):\n",
      " #   Column            Non-Null Count  Dtype         \n",
      "---  ------            --------------  -----         \n",
      " 0   date              16 non-null     object        \n",
      " 1   date_transformed  16 non-null     datetime64[ns]\n",
      " 2   day_of_week       16 non-null     object        \n",
      " 3   month             16 non-null     object        \n",
      "dtypes: datetime64[ns](1), object(3)\n",
      "memory usage: 640.0+ bytes\n"
     ]
    }
   ],
   "source": [
    "df_m_f_yest.info()"
   ]
  },
  {
   "cell_type": "code",
   "execution_count": 45,
   "id": "b60b8190",
   "metadata": {
    "scrolled": true
   },
   "outputs": [
    {
     "data": {
      "text/plain": [
       "day_of_week\n",
       "Tuesday      68\n",
       "Monday       61\n",
       "Wednesday    60\n",
       "Thursday     55\n",
       "Friday       44\n",
       "Saturday      3\n",
       "Sunday        3\n",
       "Name: count, dtype: int64"
      ]
     },
     "execution_count": 45,
     "metadata": {},
     "output_type": "execute_result"
    }
   ],
   "source": [
    "# Monday (61), Tuesday  (61) and Wednesday (60) are the most jobs advertised \n",
    "# Saturday & Sunday (3) have the least jobs advertised \n",
    "# Agency focus on Monday, Tuesday and Wednesday  to look out for jobs advertising by other companies ?\n",
    "df_date_salary.day_of_week.value_counts()\n"
   ]
  },
  {
   "cell_type": "code",
   "execution_count": 46,
   "id": "876c0d27",
   "metadata": {},
   "outputs": [
    {
     "data": {
      "text/plain": [
       "month\n",
       "April       167\n",
       "January      63\n",
       "March        53\n",
       "December      8\n",
       "February      2\n",
       "June          1\n",
       "Name: count, dtype: int64"
      ]
     },
     "execution_count": 46,
     "metadata": {},
     "output_type": "execute_result"
    }
   ],
   "source": [
    "df_date_salary.month.value_counts()\n"
   ]
  },
  {
   "cell_type": "markdown",
   "id": "7ac4a66b",
   "metadata": {},
   "source": [
    "##  For analysis - date column \n",
    "- line/bar chart to comment on trends of job adverts during weekdays \n",
    "- line/bar chart to comment on trends of job adverts on months \n",
    "- pie chart for months/week day\n",
    "- Monday (61), Tuesday  (61) and Wednesday (60)are most jobs advertised \n",
    "- Saturday & Sunday (3) have the least jobs advertised \n",
    "- should the Agency focus on Monday, Tuesday and Wednesday to look our for jobs advertising by other companies ?\n"
   ]
  },
  {
   "cell_type": "markdown",
   "id": "fae0ff2b",
   "metadata": {},
   "source": [
    "## Checking the 'salary' columns"
   ]
  },
  {
   "cell_type": "code",
   "execution_count": 111,
   "id": "335d40b0",
   "metadata": {},
   "outputs": [
    {
     "data": {
      "text/html": [
       "<div>\n",
       "<style scoped>\n",
       "    .dataframe tbody tr th:only-of-type {\n",
       "        vertical-align: middle;\n",
       "    }\n",
       "\n",
       "    .dataframe tbody tr th {\n",
       "        vertical-align: top;\n",
       "    }\n",
       "\n",
       "    .dataframe thead th {\n",
       "        text-align: right;\n",
       "    }\n",
       "</style>\n",
       "<table border=\"1\" class=\"dataframe\">\n",
       "  <thead>\n",
       "    <tr style=\"text-align: right;\">\n",
       "      <th></th>\n",
       "      <th>salary</th>\n",
       "      <th>salary_copy</th>\n",
       "      <th>min_salary</th>\n",
       "      <th>max_salary</th>\n",
       "    </tr>\n",
       "  </thead>\n",
       "  <tbody>\n",
       "    <tr>\n",
       "      <th>117</th>\n",
       "      <td>Salary negotiable</td>\n",
       "      <td>Salary negotiable</td>\n",
       "      <td>3</td>\n",
       "      <td>3</td>\n",
       "    </tr>\n",
       "    <tr>\n",
       "      <th>156</th>\n",
       "      <td>£30,000 - £55,000 per annum</td>\n",
       "      <td>30000 - 55000 per annum</td>\n",
       "      <td>30000</td>\n",
       "      <td>55000</td>\n",
       "    </tr>\n",
       "    <tr>\n",
       "      <th>276</th>\n",
       "      <td>£22,000 - £25,000 per annum</td>\n",
       "      <td>22000 - 25000 per annum</td>\n",
       "      <td>22000</td>\n",
       "      <td>25000</td>\n",
       "    </tr>\n",
       "    <tr>\n",
       "      <th>279</th>\n",
       "      <td>£22,000 - £25,000 per annum</td>\n",
       "      <td>22000 - 25000 per annum</td>\n",
       "      <td>22000</td>\n",
       "      <td>25000</td>\n",
       "    </tr>\n",
       "    <tr>\n",
       "      <th>284</th>\n",
       "      <td>Competitive salary</td>\n",
       "      <td>Competitive salary</td>\n",
       "      <td>1</td>\n",
       "      <td>1</td>\n",
       "    </tr>\n",
       "    <tr>\n",
       "      <th>111</th>\n",
       "      <td>£45,000 - £55,000 per annum</td>\n",
       "      <td>45000 - 55000 per annum</td>\n",
       "      <td>45000</td>\n",
       "      <td>55000</td>\n",
       "    </tr>\n",
       "    <tr>\n",
       "      <th>113</th>\n",
       "      <td>£25,000 - £30,000 per annum</td>\n",
       "      <td>25000 - 30000 per annum</td>\n",
       "      <td>25000</td>\n",
       "      <td>30000</td>\n",
       "    </tr>\n",
       "    <tr>\n",
       "      <th>116</th>\n",
       "      <td>£45,000 - £60,000 per annum</td>\n",
       "      <td>45000 - 60000 per annum</td>\n",
       "      <td>45000</td>\n",
       "      <td>60000</td>\n",
       "    </tr>\n",
       "    <tr>\n",
       "      <th>161</th>\n",
       "      <td>£40,000 - £60,000 per annum, inc benefits, neg...</td>\n",
       "      <td>40000 - 60000 per annum inc benefits negotiable</td>\n",
       "      <td>40000</td>\n",
       "      <td>60000</td>\n",
       "    </tr>\n",
       "    <tr>\n",
       "      <th>3</th>\n",
       "      <td>£32,000 per annum</td>\n",
       "      <td>32000 per annum</td>\n",
       "      <td>32000</td>\n",
       "      <td>0</td>\n",
       "    </tr>\n",
       "    <tr>\n",
       "      <th>0</th>\n",
       "      <td>£28,000 - £32,000 per annum</td>\n",
       "      <td>28000 - 32000 per annum</td>\n",
       "      <td>28000</td>\n",
       "      <td>32000</td>\n",
       "    </tr>\n",
       "    <tr>\n",
       "      <th>115</th>\n",
       "      <td>£35,000 - £40,000 per annum</td>\n",
       "      <td>35000 - 40000 per annum</td>\n",
       "      <td>35000</td>\n",
       "      <td>40000</td>\n",
       "    </tr>\n",
       "    <tr>\n",
       "      <th>183</th>\n",
       "      <td>Competitive salary</td>\n",
       "      <td>Competitive salary</td>\n",
       "      <td>1</td>\n",
       "      <td>1</td>\n",
       "    </tr>\n",
       "    <tr>\n",
       "      <th>209</th>\n",
       "      <td>£37,500 - £45,000 per annum, OTE, inc benefits...</td>\n",
       "      <td>37500 - 45000 per annum OTE inc benefits negot...</td>\n",
       "      <td>37500</td>\n",
       "      <td>45000</td>\n",
       "    </tr>\n",
       "    <tr>\n",
       "      <th>248</th>\n",
       "      <td>£400 - £500 per day</td>\n",
       "      <td>400 - 500 per day</td>\n",
       "      <td>100800</td>\n",
       "      <td>126000</td>\n",
       "    </tr>\n",
       "    <tr>\n",
       "      <th>278</th>\n",
       "      <td>£22,000 - £25,000 per annum</td>\n",
       "      <td>22000 - 25000 per annum</td>\n",
       "      <td>22000</td>\n",
       "      <td>25000</td>\n",
       "    </tr>\n",
       "    <tr>\n",
       "      <th>281</th>\n",
       "      <td>Competitive salary</td>\n",
       "      <td>Competitive salary</td>\n",
       "      <td>1</td>\n",
       "      <td>1</td>\n",
       "    </tr>\n",
       "    <tr>\n",
       "      <th>283</th>\n",
       "      <td>Competitive salary</td>\n",
       "      <td>Competitive salary</td>\n",
       "      <td>1</td>\n",
       "      <td>1</td>\n",
       "    </tr>\n",
       "  </tbody>\n",
       "</table>\n",
       "</div>"
      ],
      "text/plain": [
       "                                                salary  \\\n",
       "117                                  Salary negotiable   \n",
       "156                        £30,000 - £55,000 per annum   \n",
       "276                        £22,000 - £25,000 per annum   \n",
       "279                        £22,000 - £25,000 per annum   \n",
       "284                                 Competitive salary   \n",
       "111                        £45,000 - £55,000 per annum   \n",
       "113                        £25,000 - £30,000 per annum   \n",
       "116                        £45,000 - £60,000 per annum   \n",
       "161  £40,000 - £60,000 per annum, inc benefits, neg...   \n",
       "3                                    £32,000 per annum   \n",
       "0                          £28,000 - £32,000 per annum   \n",
       "115                        £35,000 - £40,000 per annum   \n",
       "183                                 Competitive salary   \n",
       "209  £37,500 - £45,000 per annum, OTE, inc benefits...   \n",
       "248                                £400 - £500 per day   \n",
       "278                        £22,000 - £25,000 per annum   \n",
       "281                                 Competitive salary   \n",
       "283                                 Competitive salary   \n",
       "\n",
       "                                           salary_copy  min_salary  max_salary  \n",
       "117                                  Salary negotiable           3           3  \n",
       "156                            30000 - 55000 per annum       30000       55000  \n",
       "276                            22000 - 25000 per annum       22000       25000  \n",
       "279                            22000 - 25000 per annum       22000       25000  \n",
       "284                                 Competitive salary           1           1  \n",
       "111                            45000 - 55000 per annum       45000       55000  \n",
       "113                            25000 - 30000 per annum       25000       30000  \n",
       "116                            45000 - 60000 per annum       45000       60000  \n",
       "161    40000 - 60000 per annum inc benefits negotiable       40000       60000  \n",
       "3                                      32000 per annum       32000           0  \n",
       "0                              28000 - 32000 per annum       28000       32000  \n",
       "115                            35000 - 40000 per annum       35000       40000  \n",
       "183                                 Competitive salary           1           1  \n",
       "209  37500 - 45000 per annum OTE inc benefits negot...       37500       45000  \n",
       "248                                  400 - 500 per day      100800      126000  \n",
       "278                            22000 - 25000 per annum       22000       25000  \n",
       "281                                 Competitive salary           1           1  \n",
       "283                                 Competitive salary           1           1  "
      ]
     },
     "execution_count": 111,
     "metadata": {},
     "output_type": "execute_result"
    }
   ],
   "source": [
    "hr_day_annum =  df_date_salary.loc[[117, 156, 276, 279, 284, 111, 113, 116, 161, 3, 0, 115, 183, 209, 248, 278, 281, 283 ], \n",
    "                                   ['salary', 'salary_copy', 'min_salary', 'max_salary']]\n",
    "\n",
    "hr_day_annum\n"
   ]
  },
  {
   "cell_type": "markdown",
   "id": "eb71c69e",
   "metadata": {},
   "source": [
    "## Minimum salary"
   ]
  },
  {
   "cell_type": "code",
   "execution_count": 48,
   "id": "df786241",
   "metadata": {},
   "outputs": [
    {
     "data": {
      "text/plain": [
       "min_salary\n",
       "2         78\n",
       "1         27\n",
       "35000     27\n",
       "30000     18\n",
       "40000     11\n",
       "3         11\n",
       "55000     10\n",
       "50000      9\n",
       "45000      9\n",
       "28000      8\n",
       "65000      5\n",
       "25000      5\n",
       "22000      5\n",
       "100800     4\n",
       "113400     4\n",
       "Name: count, dtype: int64"
      ]
     },
     "execution_count": 48,
     "metadata": {},
     "output_type": "execute_result"
    }
   ],
   "source": [
    "df_date_salary.min_salary.value_counts()[:15]\n"
   ]
  },
  {
   "cell_type": "markdown",
   "id": "229fd866",
   "metadata": {},
   "source": [
    "## Maximum Salary"
   ]
  },
  {
   "cell_type": "code",
   "execution_count": 49,
   "id": "0e7380e6",
   "metadata": {},
   "outputs": [
    {
     "data": {
      "text/plain": [
       "max_salary\n",
       "2         78\n",
       "1         27\n",
       "0         22\n",
       "40000     19\n",
       "45000     16\n",
       "60000     12\n",
       "3         11\n",
       "55000      9\n",
       "35000      8\n",
       "25000      7\n",
       "75000      6\n",
       "30000      6\n",
       "50000      6\n",
       "70000      5\n",
       "126000     4\n",
       "Name: count, dtype: int64"
      ]
     },
     "execution_count": 49,
     "metadata": {},
     "output_type": "execute_result"
    }
   ],
   "source": [
    "df_date_salary.max_salary.value_counts()[:15]\n"
   ]
  },
  {
   "cell_type": "code",
   "execution_count": 237,
   "id": "4c2a536e",
   "metadata": {},
   "outputs": [
    {
     "data": {
      "text/plain": [
       "650000"
      ]
     },
     "execution_count": 237,
     "metadata": {},
     "output_type": "execute_result"
    }
   ],
   "source": [
    "df_date_salary.max_salary.max()"
   ]
  },
  {
   "cell_type": "code",
   "execution_count": 239,
   "id": "33c3df07",
   "metadata": {},
   "outputs": [
    {
     "data": {
      "text/plain": [
       "salary_copy\n",
       " Training Course           78\n",
       "Competitive salary         27\n",
       "Salary negotiable          11\n",
       "35000 - 40000 per annum     9\n",
       "35000 - 45000 per annum     8\n",
       "45000 - 55000 per annum     6\n",
       "65000 - 75000 per annum     5\n",
       "30000 - 35000 per annum     5\n",
       "50000 - 60000 per annum     5\n",
       "22000 - 25000 per annum     5\n",
       "55000 - 70000 per annum     4\n",
       "30000 - 40000 per annum     4\n",
       "400 - 500 per day           3\n",
       "40000 - 50000 per annum     3\n",
       "25000 - 30000 per annum     3\n",
       "Name: count, dtype: int64"
      ]
     },
     "execution_count": 239,
     "metadata": {},
     "output_type": "execute_result"
    }
   ],
   "source": [
    "# Competitive salary (135), 28000 - 32000 per annum (108), Training Course (85) & Salary negotiable (11) \n",
    "df_date_salary.salary_copy.value_counts()[:15]\n"
   ]
  },
  {
   "cell_type": "code",
   "execution_count": 240,
   "id": "3200e845",
   "metadata": {},
   "outputs": [
    {
     "name": "stdout",
     "output_type": "stream",
     "text": [
      "<class 'pandas.core.frame.DataFrame'>\n",
      "RangeIndex: 294 entries, 0 to 293\n",
      "Data columns (total 12 columns):\n",
      " #   Column            Non-Null Count  Dtype \n",
      "---  ------            --------------  ----- \n",
      " 0   title             294 non-null    object\n",
      " 1   date              294 non-null    object\n",
      " 2   date_transformed  294 non-null    object\n",
      " 3   day_of_week       294 non-null    object\n",
      " 4   month             294 non-null    object\n",
      " 5   salary            294 non-null    object\n",
      " 6   salary_copy       294 non-null    object\n",
      " 7   min_salary        294 non-null    int64 \n",
      " 8   max_salary        294 non-null    int64 \n",
      " 9   working_hours     294 non-null    object\n",
      " 10  employer          294 non-null    object\n",
      " 11  location          294 non-null    object\n",
      "dtypes: int64(2), object(10)\n",
      "memory usage: 27.7+ KB\n"
     ]
    }
   ],
   "source": [
    "df_date_salary.info()"
   ]
  },
  {
   "cell_type": "markdown",
   "id": "5ebaf415",
   "metadata": {},
   "source": [
    "\n",
    "    "
   ]
  },
  {
   "cell_type": "markdown",
   "id": "207661d5",
   "metadata": {},
   "source": [
    "## Reversing none figure salaries\n",
    "### 'Competitive salary', ' Training Course' & 'Salary negotiable'\n",
    "- For analysis purposes initially the 'Competitive salary', ' Training Course' & 'Salary negotiable' was changed to numeric 1, 2, 3 respectively to complete the transformation of min_salary and max_salary columns\n",
    "- df_data_analyst['max_salary'].replace(['Competitive salary', ' Training Course', 'Salary negotiable' ], [1,2,3], inplace = True)\n",
    "- df_data_analyst['min_salary'].replace(['Competitive salary', ' Training Course', 'Salary negotiable' ], [1,2,3], inplace = True)"
   ]
  },
  {
   "cell_type": "code",
   "execution_count": 39,
   "id": "2ecf921c",
   "metadata": {},
   "outputs": [
    {
     "data": {
      "text/html": [
       "<div>\n",
       "<style scoped>\n",
       "    .dataframe tbody tr th:only-of-type {\n",
       "        vertical-align: middle;\n",
       "    }\n",
       "\n",
       "    .dataframe tbody tr th {\n",
       "        vertical-align: top;\n",
       "    }\n",
       "\n",
       "    .dataframe thead th {\n",
       "        text-align: right;\n",
       "    }\n",
       "</style>\n",
       "<table border=\"1\" class=\"dataframe\">\n",
       "  <thead>\n",
       "    <tr style=\"text-align: right;\">\n",
       "      <th></th>\n",
       "      <th>min_salary</th>\n",
       "      <th>max_salary</th>\n",
       "    </tr>\n",
       "  </thead>\n",
       "  <tbody>\n",
       "    <tr>\n",
       "      <th>0</th>\n",
       "      <td>28000</td>\n",
       "      <td>32000</td>\n",
       "    </tr>\n",
       "    <tr>\n",
       "      <th>1</th>\n",
       "      <td>1</td>\n",
       "      <td>1</td>\n",
       "    </tr>\n",
       "    <tr>\n",
       "      <th>2</th>\n",
       "      <td>1</td>\n",
       "      <td>1</td>\n",
       "    </tr>\n",
       "    <tr>\n",
       "      <th>3</th>\n",
       "      <td>32000</td>\n",
       "      <td>0</td>\n",
       "    </tr>\n",
       "    <tr>\n",
       "      <th>4</th>\n",
       "      <td>2</td>\n",
       "      <td>2</td>\n",
       "    </tr>\n",
       "  </tbody>\n",
       "</table>\n",
       "</div>"
      ],
      "text/plain": [
       "   min_salary  max_salary\n",
       "0       28000       32000\n",
       "1           1           1\n",
       "2           1           1\n",
       "3       32000           0\n",
       "4           2           2"
      ]
     },
     "execution_count": 39,
     "metadata": {},
     "output_type": "execute_result"
    }
   ],
   "source": [
    "# select min_salary and max_salary columns \n",
    "df_salary_mix = df_date_salary.loc[:, ['min_salary', 'max_salary' ]]\n",
    "df_salary_mix.head()"
   ]
  },
  {
   "cell_type": "markdown",
   "id": "6344e0de",
   "metadata": {},
   "source": [
    "### Reverse,  Create a column and save the data "
   ]
  },
  {
   "cell_type": "code",
   "execution_count": 40,
   "id": "5d20c821",
   "metadata": {},
   "outputs": [
    {
     "data": {
      "text/plain": [
       "0        figured salary\n",
       "1    Competitive salary\n",
       "2    Competitive salary\n",
       "3        figured salary\n",
       "4       Training Course\n",
       "Name: salary_string, dtype: object"
      ]
     },
     "execution_count": 40,
     "metadata": {},
     "output_type": "execute_result"
    }
   ],
   "source": [
    "# Reverse none figures to 1. 2, 3 and the remaining to figured salary \n",
    "df_salary_mix['salary_string']= ['Competitive salary' if salary == 1  else 'Training Course' if salary == 2 \n",
    "                                 else  'Salary negotiable' if salary == 3 else 'figured salary' for salary in df_salary_mix['max_salary']]\n",
    "df_salary_mix['salary_string'].head()"
   ]
  },
  {
   "cell_type": "code",
   "execution_count": 43,
   "id": "94618471",
   "metadata": {},
   "outputs": [
    {
     "data": {
      "text/html": [
       "<div>\n",
       "<style scoped>\n",
       "    .dataframe tbody tr th:only-of-type {\n",
       "        vertical-align: middle;\n",
       "    }\n",
       "\n",
       "    .dataframe tbody tr th {\n",
       "        vertical-align: top;\n",
       "    }\n",
       "\n",
       "    .dataframe thead th {\n",
       "        text-align: right;\n",
       "    }\n",
       "</style>\n",
       "<table border=\"1\" class=\"dataframe\">\n",
       "  <thead>\n",
       "    <tr style=\"text-align: right;\">\n",
       "      <th></th>\n",
       "      <th>min_salary</th>\n",
       "      <th>max_salary</th>\n",
       "      <th>salary_string</th>\n",
       "    </tr>\n",
       "  </thead>\n",
       "  <tbody>\n",
       "    <tr>\n",
       "      <th>0</th>\n",
       "      <td>28000</td>\n",
       "      <td>32000</td>\n",
       "      <td>figured salary</td>\n",
       "    </tr>\n",
       "    <tr>\n",
       "      <th>1</th>\n",
       "      <td>1</td>\n",
       "      <td>1</td>\n",
       "      <td>Competitive salary</td>\n",
       "    </tr>\n",
       "  </tbody>\n",
       "</table>\n",
       "</div>"
      ],
      "text/plain": [
       "   min_salary  max_salary       salary_string\n",
       "0       28000       32000      figured salary\n",
       "1           1           1  Competitive salary"
      ]
     },
     "execution_count": 43,
     "metadata": {},
     "output_type": "execute_result"
    }
   ],
   "source": [
    "df_salary_mix.head(2)\n"
   ]
  },
  {
   "cell_type": "code",
   "execution_count": 244,
   "id": "69bf46a4",
   "metadata": {},
   "outputs": [],
   "source": [
    "# save the data to analyse it on a graph\n",
    "df_salary_mix.to_csv('salary_string.csv', index=False)\n"
   ]
  },
  {
   "cell_type": "markdown",
   "id": "3387fa15",
   "metadata": {},
   "source": [
    "# Detecting Salary outliers\n",
    "- Investigate  outliers in min_salary and max_salary columns\n",
    "- Drop outliers and calculate the average of min_salary and max_salary\n",
    "- Comment on the outcomes "
   ]
  },
  {
   "cell_type": "code",
   "execution_count": 56,
   "id": "e23ee8b9",
   "metadata": {},
   "outputs": [
    {
     "data": {
      "text/html": [
       "<div>\n",
       "<style scoped>\n",
       "    .dataframe tbody tr th:only-of-type {\n",
       "        vertical-align: middle;\n",
       "    }\n",
       "\n",
       "    .dataframe tbody tr th {\n",
       "        vertical-align: top;\n",
       "    }\n",
       "\n",
       "    .dataframe thead th {\n",
       "        text-align: right;\n",
       "    }\n",
       "</style>\n",
       "<table border=\"1\" class=\"dataframe\">\n",
       "  <thead>\n",
       "    <tr style=\"text-align: right;\">\n",
       "      <th></th>\n",
       "      <th>title</th>\n",
       "      <th>date</th>\n",
       "      <th>date_transformed</th>\n",
       "      <th>day_of_week</th>\n",
       "      <th>month</th>\n",
       "      <th>salary</th>\n",
       "      <th>salary_copy</th>\n",
       "      <th>min_salary</th>\n",
       "      <th>max_salary</th>\n",
       "      <th>working_hours</th>\n",
       "      <th>employer</th>\n",
       "      <th>location</th>\n",
       "    </tr>\n",
       "  </thead>\n",
       "  <tbody>\n",
       "    <tr>\n",
       "      <th>0</th>\n",
       "      <td>Data Analyst</td>\n",
       "      <td>28 March</td>\n",
       "      <td>2024-03-28</td>\n",
       "      <td>Thursday</td>\n",
       "      <td>March</td>\n",
       "      <td>£28,000 - £32,000 per annum</td>\n",
       "      <td>28000 - 32000 per annum</td>\n",
       "      <td>28000</td>\n",
       "      <td>32000</td>\n",
       "      <td>Permanent, full-time</td>\n",
       "      <td>SES Water</td>\n",
       "      <td>Redhill</td>\n",
       "    </tr>\n",
       "    <tr>\n",
       "      <th>1</th>\n",
       "      <td>Business Data Analyst/Data Analyst</td>\n",
       "      <td>3 days ago</td>\n",
       "      <td>2024-04-24</td>\n",
       "      <td>Wednesday</td>\n",
       "      <td>April</td>\n",
       "      <td>Competitive salary</td>\n",
       "      <td>Competitive salary</td>\n",
       "      <td>1</td>\n",
       "      <td>1</td>\n",
       "      <td>Contract, full-time</td>\n",
       "      <td>Deutsche Bank</td>\n",
       "      <td>Birmingham</td>\n",
       "    </tr>\n",
       "  </tbody>\n",
       "</table>\n",
       "</div>"
      ],
      "text/plain": [
       "                                title        date date_transformed  \\\n",
       "0                        Data Analyst    28 March       2024-03-28   \n",
       "1  Business Data Analyst/Data Analyst  3 days ago       2024-04-24   \n",
       "\n",
       "  day_of_week  month                       salary              salary_copy  \\\n",
       "0    Thursday  March  £28,000 - £32,000 per annum  28000 - 32000 per annum   \n",
       "1   Wednesday  April           Competitive salary       Competitive salary   \n",
       "\n",
       "   min_salary  max_salary         working_hours       employer    location  \n",
       "0       28000       32000  Permanent, full-time      SES Water     Redhill  \n",
       "1           1           1   Contract, full-time  Deutsche Bank  Birmingham  "
      ]
     },
     "execution_count": 56,
     "metadata": {},
     "output_type": "execute_result"
    }
   ],
   "source": [
    "import numpy as np\n",
    "import pandas as pd\n",
    "\n",
    "import matplotlib.pyplot as plt\n",
    "import seaborn as sns\n",
    "df_sal_da = pd.read_csv('salary_&_date_transformed_08_05_24.csv')\n",
    "\n",
    "# rearrange orders -put related columns next to each other to make visual  comparisons with the original values \n",
    "df_date_salary = df_sal_da[['title', 'date', 'date_transformed','day_of_week', 'month','salary', 'salary_copy','min_salary', \n",
    "                           'max_salary', 'working_hours','employer', 'location', ]]\n",
    "df_date_salary.head(2)\n"
   ]
  },
  {
   "cell_type": "code",
   "execution_count": 57,
   "id": "6fe25a7e",
   "metadata": {},
   "outputs": [
    {
     "data": {
      "text/html": [
       "<div>\n",
       "<style scoped>\n",
       "    .dataframe tbody tr th:only-of-type {\n",
       "        vertical-align: middle;\n",
       "    }\n",
       "\n",
       "    .dataframe tbody tr th {\n",
       "        vertical-align: top;\n",
       "    }\n",
       "\n",
       "    .dataframe thead th {\n",
       "        text-align: right;\n",
       "    }\n",
       "</style>\n",
       "<table border=\"1\" class=\"dataframe\">\n",
       "  <thead>\n",
       "    <tr style=\"text-align: right;\">\n",
       "      <th></th>\n",
       "      <th>title</th>\n",
       "      <th>date</th>\n",
       "      <th>date_transformed</th>\n",
       "      <th>day_of_week</th>\n",
       "      <th>month</th>\n",
       "      <th>salary</th>\n",
       "      <th>salary_copy</th>\n",
       "      <th>min_salary</th>\n",
       "      <th>max_salary</th>\n",
       "      <th>working_hours</th>\n",
       "      <th>employer</th>\n",
       "      <th>location</th>\n",
       "    </tr>\n",
       "  </thead>\n",
       "  <tbody>\n",
       "    <tr>\n",
       "      <th>0</th>\n",
       "      <td>Data Analyst</td>\n",
       "      <td>28 March</td>\n",
       "      <td>2024-03-28</td>\n",
       "      <td>Thursday</td>\n",
       "      <td>March</td>\n",
       "      <td>£28,000 - £32,000 per annum</td>\n",
       "      <td>28000 - 32000 per annum</td>\n",
       "      <td>28000</td>\n",
       "      <td>32000</td>\n",
       "      <td>Permanent, full-time</td>\n",
       "      <td>SES Water</td>\n",
       "      <td>Redhill</td>\n",
       "    </tr>\n",
       "    <tr>\n",
       "      <th>3</th>\n",
       "      <td>Data Analyst</td>\n",
       "      <td>9 April</td>\n",
       "      <td>2024-04-09</td>\n",
       "      <td>Tuesday</td>\n",
       "      <td>April</td>\n",
       "      <td>£32,000 per annum</td>\n",
       "      <td>32000 per annum</td>\n",
       "      <td>32000</td>\n",
       "      <td>0</td>\n",
       "      <td>Permanent, full-time</td>\n",
       "      <td>Anglian Water</td>\n",
       "      <td>Peterborough</td>\n",
       "    </tr>\n",
       "  </tbody>\n",
       "</table>\n",
       "</div>"
      ],
      "text/plain": [
       "          title      date date_transformed day_of_week  month  \\\n",
       "0  Data Analyst  28 March       2024-03-28    Thursday  March   \n",
       "3  Data Analyst   9 April       2024-04-09     Tuesday  April   \n",
       "\n",
       "                        salary              salary_copy  min_salary  \\\n",
       "0  £28,000 - £32,000 per annum  28000 - 32000 per annum       28000   \n",
       "3            £32,000 per annum          32000 per annum       32000   \n",
       "\n",
       "   max_salary         working_hours       employer      location  \n",
       "0       32000  Permanent, full-time      SES Water       Redhill  \n",
       "3           0  Permanent, full-time  Anglian Water  Peterborough  "
      ]
     },
     "execution_count": 57,
     "metadata": {},
     "output_type": "execute_result"
    }
   ],
   "source": [
    "# create a dataframe by excluding 'Competitive salary', ' Training Course' & 'Salary negotiable' was changed to numeric 1, 2, 3\n",
    "# excluding 'Competitive salary', ' Training Course' & 'Salary negotiable' i.e. >3\n",
    "# zero (0) at max_salary columns means fixed salary (no min or max)\n",
    "df_salary_data = df_date_salary[(df_date_salary[['min_salary', 'max_salary']]>3).any(axis=1)]\n",
    "df_salary_data.head(2)\n"
   ]
  },
  {
   "cell_type": "markdown",
   "id": "008908db",
   "metadata": {},
   "source": [
    "### Detecting outliers using Matplotlib"
   ]
  },
  {
   "cell_type": "code",
   "execution_count": 60,
   "id": "30104228",
   "metadata": {},
   "outputs": [],
   "source": [
    "import matplotlib.pyplot as plt\n"
   ]
  },
  {
   "cell_type": "code",
   "execution_count": 61,
   "id": "928bf62a",
   "metadata": {},
   "outputs": [
    {
     "data": {
      "image/png": "[encoded data removed]",
      "text/plain": [
       "<Figure size 640x480 with 1 Axes>"
      ]
     },
     "metadata": {},
     "output_type": "display_data"
    },
    {
     "data": {
      "text/plain": [
       "<Figure size 600x600 with 0 Axes>"
      ]
     },
     "metadata": {},
     "output_type": "display_data"
    }
   ],
   "source": [
    "plt.boxplot(df_salary_data['min_salary'])\n",
    "fig = plt.figure(figsize =(6, 6))\n",
    "plt.show()\n"
   ]
  },
  {
   "cell_type": "code",
   "execution_count": 62,
   "id": "35aad6c3",
   "metadata": {},
   "outputs": [
    {
     "data": {
      "image/png": "[encoded data removed]",
      "text/plain": [
       "<Figure size 640x480 with 1 Axes>"
      ]
     },
     "metadata": {},
     "output_type": "display_data"
    },
    {
     "data": {
      "text/plain": [
       "<Figure size 600x600 with 0 Axes>"
      ]
     },
     "metadata": {},
     "output_type": "display_data"
    }
   ],
   "source": [
    "plt.boxplot(df_salary_data['max_salary'], vert=False)\n",
    "fig = plt.figure(figsize =(6, 6))\n",
    "plt.show()"
   ]
  },
  {
   "cell_type": "markdown",
   "id": "32373ccc",
   "metadata": {},
   "source": [
    "### Detecting outliers using Seaborn"
   ]
  },
  {
   "cell_type": "code",
   "execution_count": 63,
   "id": "9ef8d765",
   "metadata": {},
   "outputs": [],
   "source": [
    "import seaborn as sns"
   ]
  },
  {
   "cell_type": "code",
   "execution_count": 64,
   "id": "e3f95c22",
   "metadata": {},
   "outputs": [
    {
     "data": {
      "image/png": "[encoded data removed]",
      "text/plain": [
       "<Figure size 640x480 with 1 Axes>"
      ]
     },
     "metadata": {},
     "output_type": "display_data"
    }
   ],
   "source": [
    "ax = sns.boxplot(data=df_salary_data['min_salary'], orient=\"h\")#, palette=\"Set2\") \n",
    "sns.set_theme(rc={'figure.figsize':(6,6)})\n"
   ]
  },
  {
   "cell_type": "markdown",
   "id": "03a571a4",
   "metadata": {},
   "source": [
    "### Extracing outliers values "
   ]
  },
  {
   "cell_type": "markdown",
   "id": "03dffee4",
   "metadata": {},
   "source": [
    "### min_salary column"
   ]
  },
  {
   "cell_type": "code",
   "execution_count": 3,
   "id": "830277ea",
   "metadata": {},
   "outputs": [
    {
     "name": "stdout",
     "output_type": "stream",
     "text": [
      "Series([], Name: min_salary, dtype: int64)\n",
      "91     100800\n",
      "94      88200\n",
      "119    113400\n",
      "133    100800\n",
      "142    126000\n",
      "154    113400\n",
      "173    138600\n",
      "174     85000\n",
      "196     88200\n",
      "216    151200\n",
      "219    113400\n",
      "231    100800\n",
      "245    113400\n",
      "246     88200\n",
      "248    100800\n",
      "272    176400\n",
      "273    138600\n",
      "275    151200\n",
      "Name: min_salary, dtype: int64\n"
     ]
    }
   ],
   "source": [
    "\n",
    "# finding the 1st quartile of min_salary \n",
    "q1_min = np.quantile(df_salary_data['min_salary'], 0.25)\n",
    " \n",
    "# finding the 3rd quartile\n",
    "q3_min = np.quantile(df_salary_data['min_salary'], 0.75)\n",
    "\n",
    "# finding the iqr region\n",
    "iqr_min = q3_min-q1_min\n",
    "\n",
    "# finding upper and lower bound\n",
    "upper_bound_min = q3_min+(1.5*iqr_min)\n",
    "lower_bound_min = q1_min-(1.5*iqr_min)\n",
    "# print(iqr_min, upper_bound_min, lower_bound_min)\n",
    "\n",
    "# extracting values \n",
    "lower_bound_outliers_min_salary =  df_salary_data['min_salary'][(df_salary_data['min_salary'] <= lower_bound_min)]\n",
    "upper_bound_outliers_min_salary  = df_salary_data['min_salary'][df_salary_data['min_salary'] >= upper_bound_min]\n",
    "\n",
    "print(lower_bound_outliers_min_salary)\n",
    "print(upper_bound_outliers_min_salary)\n"
   ]
  },
  {
   "cell_type": "markdown",
   "id": "90d2d3e4",
   "metadata": {},
   "source": [
    "### Droping Outliers from min_column"
   ]
  },
  {
   "cell_type": "code",
   "execution_count": 7,
   "id": "81c48b4e",
   "metadata": {},
   "outputs": [
    {
     "data": {
      "image/png": "[encoded data removed]",
      "text/plain": [
       "<Figure size 600x400 with 1 Axes>"
      ]
     },
     "metadata": {},
     "output_type": "display_data"
    }
   ],
   "source": [
    "# boxplot of data after outliers removed\n",
    "\n",
    "# Eliminating outliers \n",
    "min_outliers_clean = df_salary_data['min_salary'][(df_salary_data['min_salary'] >= lower_bound_min) &  \n",
    "                                                (df_salary_data['min_salary'] <= upper_bound_min)] \n",
    "\n",
    "plt.figure(figsize=(6, 4))\n",
    "plt.boxplot(min_outliers_clean, vert=False)\n",
    "plt.title(\"min_salary_clean\")\n",
    "plt.xlabel(\"salary_range\")\n",
    "plt.show()\n"
   ]
  },
  {
   "cell_type": "markdown",
   "id": "80ca4004",
   "metadata": {},
   "source": [
    "### max_salary column"
   ]
  },
  {
   "cell_type": "code",
   "execution_count": 4,
   "id": "9d8636f6",
   "metadata": {},
   "outputs": [
    {
     "name": "stdout",
     "output_type": "stream",
     "text": [
      "Series([], Name: max_salary, dtype: int64)\n",
      "91     126000\n",
      "133    113400\n",
      "142    138600\n",
      "154    126000\n",
      "173    163800\n",
      "191    650000\n",
      "202    120000\n",
      "203    120000\n",
      "216    163800\n",
      "219    113652\n",
      "231    126000\n",
      "245    138600\n",
      "248    126000\n",
      "272    214200\n",
      "273    163800\n",
      "Name: max_salary, dtype: int64\n"
     ]
    }
   ],
   "source": [
    "\n",
    "# finding the 1st quartile of \n",
    "q1_max = np.quantile(df_salary_data['max_salary'], 0.25)\n",
    " \n",
    "# finding the 3rd quartile\n",
    "q3_max = np.quantile(df_salary_data['max_salary'], 0.75)\n",
    "\n",
    " \n",
    "# finding the iqr region\n",
    "iqr_max = q3_max-q1_max\n",
    "\n",
    "# finding upper and lower bound\n",
    "upper_bound_max = q3_max+(1.5*iqr_max)\n",
    "lower_bound_max = q1_max-(1.5*iqr_max)\n",
    "# print(iqr_max, upper_bound_max, lower_bound_max)\n",
    "\n",
    "lower_bound_outliers_max_salary =  df_salary_data['max_salary'][(df_salary_data['max_salary'] <= lower_bound_max)]\n",
    "upper_bound_outliers_max_salary  = df_salary_data['max_salary'][df_salary_data['max_salary'] >= upper_bound_max]\n",
    "\n",
    "print(lower_bound_outliers_max_salary)\n",
    "print(upper_bound_outliers_max_salary)\n"
   ]
  },
  {
   "cell_type": "code",
   "execution_count": 68,
   "id": "6b0e58ae",
   "metadata": {},
   "outputs": [
    {
     "data": {
      "text/plain": [
       "650000"
      ]
     },
     "execution_count": 68,
     "metadata": {},
     "output_type": "execute_result"
    }
   ],
   "source": [
    "# Business Intelligence (BI) Data Analyst is the heighest paid  £55000 to £650000 per annum Permanent, full-time role\n",
    "upper_bound_outliers_max_salary.max()\n"
   ]
  },
  {
   "cell_type": "markdown",
   "id": "c55057ff",
   "metadata": {},
   "source": [
    "### Droping Outliers from max_column"
   ]
  },
  {
   "cell_type": "code",
   "execution_count": 6,
   "id": "6c42ed8c",
   "metadata": {},
   "outputs": [
    {
     "data": {
      "image/png": "[encoded data removed]",
      "text/plain": [
       "<Figure size 600x400 with 1 Axes>"
      ]
     },
     "metadata": {},
     "output_type": "display_data"
    }
   ],
   "source": [
    "# boxplot of data after outliers removed\n",
    "\n",
    "# Eliminating outliers \n",
    "max_outliers_clean = df_salary_data['max_salary'][(df_salary_data['max_salary'] >= lower_bound_max) &  \n",
    "                                                (df_salary_data['max_salary'] <= upper_bound_max)] \n",
    "\n",
    "plt.figure(figsize=(6, 4))\n",
    "plt.boxplot(max_outliers_clean, vert=False)\n",
    "plt.title(\"max_salary_clean\")\n",
    "plt.xlabel(\"salary_range\")\n",
    "plt.show()\n"
   ]
  },
  {
   "cell_type": "markdown",
   "id": "1da08114",
   "metadata": {},
   "source": [
    "### Calculating the average of min_salary & max_salary "
   ]
  },
  {
   "cell_type": "code",
   "execution_count": 8,
   "id": "63be1077",
   "metadata": {
    "scrolled": true
   },
   "outputs": [
    {
     "name": "stdout",
     "output_type": "stream",
     "text": [
      "min salary median =  35000\n",
      "min salary average =  37946\n",
      "-----------------------------------------------\n",
      "max salary average =  40318\n",
      "max salary median =  40000\n"
     ]
    }
   ],
   "source": [
    "# Outliers are removed, the data is normally distributed (evenly distributed) the mean is good indicator \n",
    "min_salary_average = min_outliers_clean.mean()\n",
    "max_salary_average = max_outliers_clean.mean()\n",
    "\n",
    "min_salary_median= min_outliers_clean.median()\n",
    "max_salary_median= max_outliers_clean.median()\n",
    "\n",
    "print('min salary median = ', int(min_salary_median))\n",
    "print('min salary average = ',int(min_salary_average))\n",
    "\n",
    "print('-----------------------------------------------')\n",
    "\n",
    "print('max salary average = ', int(max_salary_average))\n",
    "print('max salary median = ',int(max_salary_median))\n"
   ]
  },
  {
   "cell_type": "markdown",
   "id": "275ea7c1",
   "metadata": {},
   "source": [
    "## My analysis findings - Average Data Analyst Annual salary in England (UK)\n",
    "- Average of means: mean of min_salary + mean of max_salary \n",
    " - = 37946+ 40318 = 78264/2 = Average (mean) salary = £39,132\n",
    "- Average of Medians:   median of min_salary + median of max_salary \n",
    "- = 35000 + 40000 = 75000/2 = Average median salary = £37,500\n",
    "\n",
    "- Average (mean) salary = £39,132\n",
    "- Average of Medians salary = £37,500\n",
    "\n",
    "\n",
    "- I used the mean for my anaylysis because I removed outliers from the data hence a normal number distributions and the data has a low amount of outliers . The median is generally used to return the central tendency for skewed number distributions.\n"
   ]
  },
  {
   "cell_type": "markdown",
   "id": "4e9be3ef",
   "metadata": {},
   "source": [
    "## Average Data Analyst Annual salary in the UK \n",
    "\n",
    "by https://www.reed.co.uk/average-salary/average-data-analyst-salary is £44,484 (taking Low £40,150 and High £53,638)\n",
    "\n",
    "by https://uk.indeed.com/career/data-analyst/salaries is £35,630 \n",
    "\n",
    "by https://uk.talent.com/salary?job=data+analyst is £35,000 per year (using Median £35,000, Low £28,000, High £55,000)\n"
   ]
  },
  {
   "cell_type": "markdown",
   "id": "d8011ce6",
   "metadata": {},
   "source": [
    "## Save clean min_salary and max_salary "
   ]
  },
  {
   "cell_type": "code",
   "execution_count": 75,
   "id": "23abeab2",
   "metadata": {},
   "outputs": [
    {
     "name": "stdout",
     "output_type": "stream",
     "text": [
      "<class 'pandas.core.series.Series'>\n",
      "Index: 163 entries, 0 to 279\n",
      "Series name: max_salary\n",
      "Non-Null Count  Dtype\n",
      "--------------  -----\n",
      "163 non-null    int64\n",
      "dtypes: int64(1)\n",
      "memory usage: 2.5 KB\n"
     ]
    }
   ],
   "source": [
    "\n",
    "# max_salary column after cleaned from outliers conatins only 55 % (163) over half from 294 rows after duplicates removed \n",
    "# 31% from original 523 rows before duplicates removed\n",
    "max_outliers_clean.info()\n"
   ]
  },
  {
   "cell_type": "code",
   "execution_count": 76,
   "id": "24b83763",
   "metadata": {},
   "outputs": [
    {
     "name": "stdout",
     "output_type": "stream",
     "text": [
      "<class 'pandas.core.series.Series'>\n",
      "Index: 160 entries, 0 to 279\n",
      "Series name: min_salary\n",
      "Non-Null Count  Dtype\n",
      "--------------  -----\n",
      "160 non-null    int64\n",
      "dtypes: int64(1)\n",
      "memory usage: 2.5 KB\n"
     ]
    }
   ],
   "source": [
    "# min_salary column after cleaned from outliers conatins only 54 % (160) over half from 294 rows after duplicates removed  \n",
    "# 30.5% from original 523 rows before duplicates removed\n",
    "min_outliers_clean.info()\n"
   ]
  },
  {
   "cell_type": "code",
   "execution_count": null,
   "id": "e88f338d",
   "metadata": {},
   "outputs": [],
   "source": [
    "# max_salary column after cleaned from outliers conatins only 55 % (163) over half from 294 rows after duplicates removed \n",
    "# 31% from original 523 rows before duplicates removed\n",
    "\n",
    "# min_salary column after cleaned from outliers conatins only 54 % (160) over half from 294 rows after duplicates removed  \n",
    "# 30.5% from original 523 rows before duplicates removed"
   ]
  },
  {
   "cell_type": "markdown",
   "id": "6e528fc9",
   "metadata": {},
   "source": [
    "### Saving  min_salary and max_salary WITHOUT outliers"
   ]
  },
  {
   "cell_type": "code",
   "execution_count": 259,
   "id": "d587edc0",
   "metadata": {},
   "outputs": [],
   "source": [
    "pd.options.display.max_rows = None"
   ]
  },
  {
   "cell_type": "code",
   "execution_count": 105,
   "id": "d181e1bf",
   "metadata": {},
   "outputs": [
    {
     "data": {
      "text/plain": [
       "163"
      ]
     },
     "execution_count": 105,
     "metadata": {},
     "output_type": "execute_result"
    }
   ],
   "source": [
    "len(max_outliers_clean)"
   ]
  },
  {
   "cell_type": "code",
   "execution_count": 260,
   "id": "7a4504ac",
   "metadata": {},
   "outputs": [],
   "source": [
    "max_outliers_clean.to_csv('max_salary_clean.csv', index=False)\n",
    "min_outliers_clean.to_csv('min_salary_clean.csv', index=False)"
   ]
  },
  {
   "cell_type": "code",
   "execution_count": 103,
   "id": "6a7a2370",
   "metadata": {
    "scrolled": true
   },
   "outputs": [
    {
     "name": "stdout",
     "output_type": "stream",
     "text": [
      "<class 'pandas.core.series.Series'>\n",
      "Index: 163 entries, 0 to 279\n",
      "Series name: max_salary\n",
      "Non-Null Count  Dtype\n",
      "--------------  -----\n",
      "163 non-null    int64\n",
      "dtypes: int64(1)\n",
      "memory usage: 2.5 KB\n"
     ]
    }
   ],
   "source": [
    "max_outliers_clean.info()"
   ]
  },
  {
   "cell_type": "markdown",
   "id": "761e9d40",
   "metadata": {},
   "source": [
    "### Saving min_salary and max_salary with outliers "
   ]
  },
  {
   "cell_type": "code",
   "execution_count": 58,
   "id": "a5d412c8",
   "metadata": {},
   "outputs": [
    {
     "data": {
      "text/plain": [
       "0     32000\n",
       "3         0\n",
       "30        0\n",
       "85        0\n",
       "86        0\n",
       "Name: max_salary, dtype: int64"
      ]
     },
     "execution_count": 58,
     "metadata": {},
     "output_type": "execute_result"
    }
   ],
   "source": [
    "df_salary_data['max_salary'].head()\n"
   ]
  },
  {
   "cell_type": "code",
   "execution_count": 59,
   "id": "da7243ef",
   "metadata": {},
   "outputs": [
    {
     "data": {
      "text/html": [
       "<div>\n",
       "<style scoped>\n",
       "    .dataframe tbody tr th:only-of-type {\n",
       "        vertical-align: middle;\n",
       "    }\n",
       "\n",
       "    .dataframe tbody tr th {\n",
       "        vertical-align: top;\n",
       "    }\n",
       "\n",
       "    .dataframe thead th {\n",
       "        text-align: right;\n",
       "    }\n",
       "</style>\n",
       "<table border=\"1\" class=\"dataframe\">\n",
       "  <thead>\n",
       "    <tr style=\"text-align: right;\">\n",
       "      <th></th>\n",
       "      <th>title</th>\n",
       "      <th>date</th>\n",
       "      <th>date_transformed</th>\n",
       "      <th>day_of_week</th>\n",
       "      <th>month</th>\n",
       "      <th>salary</th>\n",
       "      <th>salary_copy</th>\n",
       "      <th>min_salary</th>\n",
       "      <th>max_salary</th>\n",
       "      <th>working_hours</th>\n",
       "      <th>employer</th>\n",
       "      <th>location</th>\n",
       "    </tr>\n",
       "  </thead>\n",
       "  <tbody>\n",
       "    <tr>\n",
       "      <th>0</th>\n",
       "      <td>Data Analyst</td>\n",
       "      <td>28 March</td>\n",
       "      <td>2024-03-28</td>\n",
       "      <td>Thursday</td>\n",
       "      <td>March</td>\n",
       "      <td>£28,000 - £32,000 per annum</td>\n",
       "      <td>28000 - 32000 per annum</td>\n",
       "      <td>28000</td>\n",
       "      <td>32000</td>\n",
       "      <td>Permanent, full-time</td>\n",
       "      <td>SES Water</td>\n",
       "      <td>Redhill</td>\n",
       "    </tr>\n",
       "    <tr>\n",
       "      <th>88</th>\n",
       "      <td>Data Analyst apprentice</td>\n",
       "      <td>17 April</td>\n",
       "      <td>2024-04-17</td>\n",
       "      <td>Wednesday</td>\n",
       "      <td>April</td>\n",
       "      <td>£15,000 - £17,000 per annum</td>\n",
       "      <td>15000 - 17000 per annum</td>\n",
       "      <td>15000</td>\n",
       "      <td>17000</td>\n",
       "      <td>Permanent, full-time</td>\n",
       "      <td>QA Ltd</td>\n",
       "      <td>Bristol</td>\n",
       "    </tr>\n",
       "  </tbody>\n",
       "</table>\n",
       "</div>"
      ],
      "text/plain": [
       "                      title      date date_transformed day_of_week  month  \\\n",
       "0              Data Analyst  28 March       2024-03-28    Thursday  March   \n",
       "88  Data Analyst apprentice  17 April       2024-04-17   Wednesday  April   \n",
       "\n",
       "                         salary              salary_copy  min_salary  \\\n",
       "0   £28,000 - £32,000 per annum  28000 - 32000 per annum       28000   \n",
       "88  £15,000 - £17,000 per annum  15000 - 17000 per annum       15000   \n",
       "\n",
       "    max_salary         working_hours   employer location  \n",
       "0        32000  Permanent, full-time  SES Water  Redhill  \n",
       "88       17000  Permanent, full-time     QA Ltd  Bristol  "
      ]
     },
     "execution_count": 59,
     "metadata": {},
     "output_type": "execute_result"
    }
   ],
   "source": [
    "df_max = df_salary_data[df_salary_data['max_salary'] >3]\n",
    "df_max.head(2)\n"
   ]
  },
  {
   "cell_type": "code",
   "execution_count": 263,
   "id": "00b83f54",
   "metadata": {},
   "outputs": [
    {
     "data": {
      "text/plain": [
       "0       32000\n",
       "88      17000\n",
       "90      78624\n",
       "91     126000\n",
       "92      35000\n",
       "93      60000\n",
       "98      28000\n",
       "99      45000\n",
       "100     45000\n",
       "103     40000\n",
       "Name: max_salary, dtype: int64"
      ]
     },
     "execution_count": 263,
     "metadata": {},
     "output_type": "execute_result"
    }
   ],
   "source": [
    "df_max_salary = df_max['max_salary']\n",
    "df_max_salary.head(10)\n"
   ]
  },
  {
   "cell_type": "code",
   "execution_count": 60,
   "id": "8d084a6c",
   "metadata": {},
   "outputs": [
    {
     "data": {
      "text/html": [
       "<div>\n",
       "<style scoped>\n",
       "    .dataframe tbody tr th:only-of-type {\n",
       "        vertical-align: middle;\n",
       "    }\n",
       "\n",
       "    .dataframe tbody tr th {\n",
       "        vertical-align: top;\n",
       "    }\n",
       "\n",
       "    .dataframe thead th {\n",
       "        text-align: right;\n",
       "    }\n",
       "</style>\n",
       "<table border=\"1\" class=\"dataframe\">\n",
       "  <thead>\n",
       "    <tr style=\"text-align: right;\">\n",
       "      <th></th>\n",
       "      <th>title</th>\n",
       "      <th>date</th>\n",
       "      <th>date_transformed</th>\n",
       "      <th>day_of_week</th>\n",
       "      <th>month</th>\n",
       "      <th>salary</th>\n",
       "      <th>salary_copy</th>\n",
       "      <th>min_salary</th>\n",
       "      <th>max_salary</th>\n",
       "      <th>working_hours</th>\n",
       "      <th>employer</th>\n",
       "      <th>location</th>\n",
       "    </tr>\n",
       "  </thead>\n",
       "  <tbody>\n",
       "    <tr>\n",
       "      <th>0</th>\n",
       "      <td>Data Analyst</td>\n",
       "      <td>28 March</td>\n",
       "      <td>2024-03-28</td>\n",
       "      <td>Thursday</td>\n",
       "      <td>March</td>\n",
       "      <td>£28,000 - £32,000 per annum</td>\n",
       "      <td>28000 - 32000 per annum</td>\n",
       "      <td>28000</td>\n",
       "      <td>32000</td>\n",
       "      <td>Permanent, full-time</td>\n",
       "      <td>SES Water</td>\n",
       "      <td>Redhill</td>\n",
       "    </tr>\n",
       "    <tr>\n",
       "      <th>3</th>\n",
       "      <td>Data Analyst</td>\n",
       "      <td>9 April</td>\n",
       "      <td>2024-04-09</td>\n",
       "      <td>Tuesday</td>\n",
       "      <td>April</td>\n",
       "      <td>£32,000 per annum</td>\n",
       "      <td>32000 per annum</td>\n",
       "      <td>32000</td>\n",
       "      <td>0</td>\n",
       "      <td>Permanent, full-time</td>\n",
       "      <td>Anglian Water</td>\n",
       "      <td>Peterborough</td>\n",
       "    </tr>\n",
       "  </tbody>\n",
       "</table>\n",
       "</div>"
      ],
      "text/plain": [
       "          title      date date_transformed day_of_week  month  \\\n",
       "0  Data Analyst  28 March       2024-03-28    Thursday  March   \n",
       "3  Data Analyst   9 April       2024-04-09     Tuesday  April   \n",
       "\n",
       "                        salary              salary_copy  min_salary  \\\n",
       "0  £28,000 - £32,000 per annum  28000 - 32000 per annum       28000   \n",
       "3            £32,000 per annum          32000 per annum       32000   \n",
       "\n",
       "   max_salary         working_hours       employer      location  \n",
       "0       32000  Permanent, full-time      SES Water       Redhill  \n",
       "3           0  Permanent, full-time  Anglian Water  Peterborough  "
      ]
     },
     "execution_count": 60,
     "metadata": {},
     "output_type": "execute_result"
    }
   ],
   "source": [
    "df_min = df_salary_data[df_salary_data['min_salary'] >3]\n",
    "df_min.head(2)\n"
   ]
  },
  {
   "cell_type": "code",
   "execution_count": 61,
   "id": "62b86408",
   "metadata": {},
   "outputs": [
    {
     "data": {
      "text/plain": [
       "0      28000\n",
       "3      32000\n",
       "30     42000\n",
       "85     22778\n",
       "86     18000\n",
       "88     15000\n",
       "90     75600\n",
       "91    100800\n",
       "92     30000\n",
       "93     30000\n",
       "Name: min_salary, dtype: int64"
      ]
     },
     "execution_count": 61,
     "metadata": {},
     "output_type": "execute_result"
    }
   ],
   "source": [
    "df_min_salary = df_min['min_salary']\n",
    "df_min_salary.head(10)\n"
   ]
  },
  {
   "cell_type": "markdown",
   "id": "2239d53b",
   "metadata": {},
   "source": [
    "### Save min_salary and max_salary with outliers "
   ]
  },
  {
   "cell_type": "code",
   "execution_count": 266,
   "id": "31131617",
   "metadata": {},
   "outputs": [],
   "source": [
    "df_max_salary.to_csv('max_salary_19.csv', index=False)\n",
    "df_min_salary.to_csv('min_salary_19.csv', index=False)\n"
   ]
  }
 ],
 "metadata": {
  "kernelspec": {
   "display_name": "Python 3 (ipykernel)",
   "language": "python",
   "name": "python3"
  },
  "language_info": {
   "codemirror_mode": {
    "name": "ipython",
    "version": 3
   },
   "file_extension": ".py",
   "mimetype": "text/x-python",
   "name": "python",
   "nbconvert_exporter": "python",
   "pygments_lexer": "ipython3",
   "version": "3.8.18"
  },
  "varInspector": {
   "cols": {
    "lenName": 16,
    "lenType": 16,
    "lenVar": 40
   },
   "kernels_config": {
    "python": {
     "delete_cmd_postfix": "",
     "delete_cmd_prefix": "del ",
     "library": "var_list.py",
     "varRefreshCmd": "print(var_dic_list())"
    },
    "r": {
     "delete_cmd_postfix": ") ",
     "delete_cmd_prefix": "rm(",
     "library": "var_list.r",
     "varRefreshCmd": "cat(var_dic_list()) "
    }
   },
   "types_to_exclude": [
    "module",
    "function",
    "builtin_function_or_method",
    "instance",
    "_Feature"
   ],
   "window_display": false
  }
 },
 "nbformat": 4,
 "nbformat_minor": 5
}
