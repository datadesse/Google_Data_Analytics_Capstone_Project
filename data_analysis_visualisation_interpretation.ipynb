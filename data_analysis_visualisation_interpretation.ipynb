{
 "cells": [
  {
   "cell_type": "markdown",
   "id": "2fbc732e",
   "metadata": {},
   "source": [
    "# Web Scraping of Data Analyst Jobs Analysis "
   ]
  },
  {
   "cell_type": "markdown",
   "id": "cebff87d",
   "metadata": {},
   "source": [
    "# 4. Analysis "
   ]
  },
  {
   "cell_type": "code",
   "execution_count": 1,
   "id": "0ba2d0e7",
   "metadata": {},
   "outputs": [
    {
     "data": {
      "text/html": [
       "<div>\n",
       "<style scoped>\n",
       "    .dataframe tbody tr th:only-of-type {\n",
       "        vertical-align: middle;\n",
       "    }\n",
       "\n",
       "    .dataframe tbody tr th {\n",
       "        vertical-align: top;\n",
       "    }\n",
       "\n",
       "    .dataframe thead th {\n",
       "        text-align: right;\n",
       "    }\n",
       "</style>\n",
       "<table border=\"1\" class=\"dataframe\">\n",
       "  <thead>\n",
       "    <tr style=\"text-align: right;\">\n",
       "      <th></th>\n",
       "      <th>title</th>\n",
       "      <th>date</th>\n",
       "      <th>date_transformed</th>\n",
       "      <th>day_of_week</th>\n",
       "      <th>month</th>\n",
       "      <th>salary</th>\n",
       "      <th>salary_copy</th>\n",
       "      <th>min_salary</th>\n",
       "      <th>max_salary</th>\n",
       "      <th>working_hours</th>\n",
       "      <th>employer</th>\n",
       "      <th>location</th>\n",
       "    </tr>\n",
       "  </thead>\n",
       "  <tbody>\n",
       "    <tr>\n",
       "      <th>0</th>\n",
       "      <td>Data Analyst</td>\n",
       "      <td>28 March</td>\n",
       "      <td>2024-03-28</td>\n",
       "      <td>Thursday</td>\n",
       "      <td>March</td>\n",
       "      <td>£28,000 - £32,000 per annum</td>\n",
       "      <td>28000 - 32000 per annum</td>\n",
       "      <td>28000</td>\n",
       "      <td>32000</td>\n",
       "      <td>Permanent, full-time</td>\n",
       "      <td>SES Water</td>\n",
       "      <td>Redhill</td>\n",
       "    </tr>\n",
       "    <tr>\n",
       "      <th>1</th>\n",
       "      <td>Business Data Analyst/Data Analyst</td>\n",
       "      <td>3 days ago</td>\n",
       "      <td>2024-04-24</td>\n",
       "      <td>Wednesday</td>\n",
       "      <td>April</td>\n",
       "      <td>Competitive salary</td>\n",
       "      <td>Competitive salary</td>\n",
       "      <td>1</td>\n",
       "      <td>1</td>\n",
       "      <td>Contract, full-time</td>\n",
       "      <td>Deutsche Bank</td>\n",
       "      <td>Birmingham</td>\n",
       "    </tr>\n",
       "  </tbody>\n",
       "</table>\n",
       "</div>"
      ],
      "text/plain": [
       "                                title        date date_transformed  \\\n",
       "0                        Data Analyst    28 March       2024-03-28   \n",
       "1  Business Data Analyst/Data Analyst  3 days ago       2024-04-24   \n",
       "\n",
       "  day_of_week  month                       salary              salary_copy  \\\n",
       "0    Thursday  March  £28,000 - £32,000 per annum  28000 - 32000 per annum   \n",
       "1   Wednesday  April           Competitive salary       Competitive salary   \n",
       "\n",
       "   min_salary  max_salary         working_hours       employer    location  \n",
       "0       28000       32000  Permanent, full-time      SES Water     Redhill  \n",
       "1           1           1   Contract, full-time  Deutsche Bank  Birmingham  "
      ]
     },
     "execution_count": 1,
     "metadata": {},
     "output_type": "execute_result"
    }
   ],
   "source": [
    "#importing libraries\n",
    "import pandas as pd\n",
    "import matplotlib.pyplot as plt\n",
    "%matplotlib inline\n",
    "from matplotlib import style\n",
    "\n",
    "df = pd.read_csv('salary_&_date_transformed_08_05_24.csv')\n",
    "\n",
    "# rearrange orders -put related columns next to each other to make visual  comparisons with the original values \n",
    "df_date_salary = df[['title', 'date', 'date_transformed','day_of_week', 'month','salary', 'salary_copy','min_salary', \n",
    "                           'max_salary', 'working_hours','employer', 'location', ]]\n",
    "\n",
    "df_date_salary.head(2)\n"
   ]
  },
  {
   "cell_type": "code",
   "execution_count": 4,
   "id": "17da98ad",
   "metadata": {},
   "outputs": [
    {
     "name": "stdout",
     "output_type": "stream",
     "text": [
      "<class 'pandas.core.frame.DataFrame'>\n",
      "RangeIndex: 294 entries, 0 to 293\n",
      "Data columns (total 12 columns):\n",
      " #   Column            Non-Null Count  Dtype \n",
      "---  ------            --------------  ----- \n",
      " 0   title             294 non-null    object\n",
      " 1   date              294 non-null    object\n",
      " 2   date_transformed  294 non-null    object\n",
      " 3   day_of_week       294 non-null    object\n",
      " 4   month             294 non-null    object\n",
      " 5   salary            294 non-null    object\n",
      " 6   salary_copy       294 non-null    object\n",
      " 7   min_salary        294 non-null    int64 \n",
      " 8   max_salary        294 non-null    int64 \n",
      " 9   working_hours     294 non-null    object\n",
      " 10  employer          294 non-null    object\n",
      " 11  location          294 non-null    object\n",
      "dtypes: int64(2), object(10)\n",
      "memory usage: 27.7+ KB\n"
     ]
    }
   ],
   "source": [
    "# check the data \n",
    "df_date_salary.info()"
   ]
  },
  {
   "cell_type": "code",
   "execution_count": 5,
   "id": "c6316443",
   "metadata": {},
   "outputs": [
    {
     "data": {
      "text/plain": [
       "0"
      ]
     },
     "execution_count": 5,
     "metadata": {},
     "output_type": "execute_result"
    }
   ],
   "source": [
    "# Checking for duplicates- none\n",
    "df_date_salary.duplicated().sum()\n"
   ]
  },
  {
   "cell_type": "markdown",
   "id": "b9ae304c",
   "metadata": {},
   "source": [
    "## Display figured salaries"
   ]
  },
  {
   "cell_type": "code",
   "execution_count": 2,
   "id": "0bcd7553",
   "metadata": {},
   "outputs": [
    {
     "data": {
      "text/html": [
       "<div>\n",
       "<style scoped>\n",
       "    .dataframe tbody tr th:only-of-type {\n",
       "        vertical-align: middle;\n",
       "    }\n",
       "\n",
       "    .dataframe tbody tr th {\n",
       "        vertical-align: top;\n",
       "    }\n",
       "\n",
       "    .dataframe thead th {\n",
       "        text-align: right;\n",
       "    }\n",
       "</style>\n",
       "<table border=\"1\" class=\"dataframe\">\n",
       "  <thead>\n",
       "    <tr style=\"text-align: right;\">\n",
       "      <th></th>\n",
       "      <th>title</th>\n",
       "      <th>date</th>\n",
       "      <th>date_transformed</th>\n",
       "      <th>day_of_week</th>\n",
       "      <th>month</th>\n",
       "      <th>salary</th>\n",
       "      <th>salary_copy</th>\n",
       "      <th>min_salary</th>\n",
       "      <th>max_salary</th>\n",
       "      <th>working_hours</th>\n",
       "      <th>employer</th>\n",
       "      <th>location</th>\n",
       "    </tr>\n",
       "  </thead>\n",
       "  <tbody>\n",
       "    <tr>\n",
       "      <th>0</th>\n",
       "      <td>Data Analyst</td>\n",
       "      <td>28 March</td>\n",
       "      <td>2024-03-28</td>\n",
       "      <td>Thursday</td>\n",
       "      <td>March</td>\n",
       "      <td>£28,000 - £32,000 per annum</td>\n",
       "      <td>28000 - 32000 per annum</td>\n",
       "      <td>28000</td>\n",
       "      <td>32000</td>\n",
       "      <td>Permanent, full-time</td>\n",
       "      <td>SES Water</td>\n",
       "      <td>Redhill</td>\n",
       "    </tr>\n",
       "    <tr>\n",
       "      <th>3</th>\n",
       "      <td>Data Analyst</td>\n",
       "      <td>9 April</td>\n",
       "      <td>2024-04-09</td>\n",
       "      <td>Tuesday</td>\n",
       "      <td>April</td>\n",
       "      <td>£32,000 per annum</td>\n",
       "      <td>32000 per annum</td>\n",
       "      <td>32000</td>\n",
       "      <td>0</td>\n",
       "      <td>Permanent, full-time</td>\n",
       "      <td>Anglian Water</td>\n",
       "      <td>Peterborough</td>\n",
       "    </tr>\n",
       "  </tbody>\n",
       "</table>\n",
       "</div>"
      ],
      "text/plain": [
       "          title      date date_transformed day_of_week  month  \\\n",
       "0  Data Analyst  28 March       2024-03-28    Thursday  March   \n",
       "3  Data Analyst   9 April       2024-04-09     Tuesday  April   \n",
       "\n",
       "                        salary              salary_copy  min_salary  \\\n",
       "0  £28,000 - £32,000 per annum  28000 - 32000 per annum       28000   \n",
       "3            £32,000 per annum          32000 per annum       32000   \n",
       "\n",
       "   max_salary         working_hours       employer      location  \n",
       "0       32000  Permanent, full-time      SES Water       Redhill  \n",
       "3           0  Permanent, full-time  Anglian Water  Peterborough  "
      ]
     },
     "execution_count": 2,
     "metadata": {},
     "output_type": "execute_result"
    }
   ],
   "source": [
    "df_date_salary[(df_date_salary[['min_salary', 'max_salary']]>3).any(axis=1)].head(2)\n"
   ]
  },
  {
   "cell_type": "code",
   "execution_count": 3,
   "id": "8a9fe89d",
   "metadata": {},
   "outputs": [
    {
     "data": {
      "text/plain": [
       "0    32000\n",
       "1        1\n",
       "2        1\n",
       "3        0\n",
       "4        2\n",
       "Name: max_salary, dtype: int64"
      ]
     },
     "execution_count": 3,
     "metadata": {},
     "output_type": "execute_result"
    }
   ],
   "source": [
    "df_date_salary.loc[:, 'max_salary'].head()\n"
   ]
  },
  {
   "cell_type": "code",
   "execution_count": 64,
   "id": "cc5c54dd",
   "metadata": {},
   "outputs": [
    {
     "data": {
      "text/html": [
       "<div>\n",
       "<style scoped>\n",
       "    .dataframe tbody tr th:only-of-type {\n",
       "        vertical-align: middle;\n",
       "    }\n",
       "\n",
       "    .dataframe tbody tr th {\n",
       "        vertical-align: top;\n",
       "    }\n",
       "\n",
       "    .dataframe thead th {\n",
       "        text-align: right;\n",
       "    }\n",
       "</style>\n",
       "<table border=\"1\" class=\"dataframe\">\n",
       "  <thead>\n",
       "    <tr style=\"text-align: right;\">\n",
       "      <th></th>\n",
       "      <th>title</th>\n",
       "      <th>max_salary</th>\n",
       "    </tr>\n",
       "  </thead>\n",
       "  <tbody>\n",
       "    <tr>\n",
       "      <th>0</th>\n",
       "      <td>Data Analyst</td>\n",
       "      <td>32000</td>\n",
       "    </tr>\n",
       "    <tr>\n",
       "      <th>88</th>\n",
       "      <td>Data Analyst apprentice</td>\n",
       "      <td>17000</td>\n",
       "    </tr>\n",
       "    <tr>\n",
       "      <th>90</th>\n",
       "      <td>Data Analyst- Tableau- Power BI- Python- Highe...</td>\n",
       "      <td>78624</td>\n",
       "    </tr>\n",
       "    <tr>\n",
       "      <th>91</th>\n",
       "      <td>Data Analyst</td>\n",
       "      <td>126000</td>\n",
       "    </tr>\n",
       "    <tr>\n",
       "      <th>92</th>\n",
       "      <td>Data Analyst</td>\n",
       "      <td>35000</td>\n",
       "    </tr>\n",
       "  </tbody>\n",
       "</table>\n",
       "</div>"
      ],
      "text/plain": [
       "                                                title  max_salary\n",
       "0                                        Data Analyst       32000\n",
       "88                            Data Analyst apprentice       17000\n",
       "90  Data Analyst- Tableau- Power BI- Python- Highe...       78624\n",
       "91                                       Data Analyst      126000\n",
       "92                                       Data Analyst       35000"
      ]
     },
     "execution_count": 64,
     "metadata": {},
     "output_type": "execute_result"
    }
   ],
   "source": [
    "df_max=df_date_salary.loc[df_date_salary['max_salary']>3,['title', 'max_salary']]\n",
    "df_max.head()\n"
   ]
  },
  {
   "cell_type": "code",
   "execution_count": 271,
   "id": "4507d3a7",
   "metadata": {},
   "outputs": [
    {
     "data": {
      "text/plain": [
       "(10608, 650000)"
      ]
     },
     "execution_count": 271,
     "metadata": {},
     "output_type": "execute_result"
    }
   ],
   "source": [
    "df_max.max_salary.min(), df_max.max_salary.max()"
   ]
  },
  {
   "cell_type": "code",
   "execution_count": 65,
   "id": "0f9c3139",
   "metadata": {},
   "outputs": [
    {
     "data": {
      "text/html": [
       "<div>\n",
       "<style scoped>\n",
       "    .dataframe tbody tr th:only-of-type {\n",
       "        vertical-align: middle;\n",
       "    }\n",
       "\n",
       "    .dataframe tbody tr th {\n",
       "        vertical-align: top;\n",
       "    }\n",
       "\n",
       "    .dataframe thead th {\n",
       "        text-align: right;\n",
       "    }\n",
       "</style>\n",
       "<table border=\"1\" class=\"dataframe\">\n",
       "  <thead>\n",
       "    <tr style=\"text-align: right;\">\n",
       "      <th></th>\n",
       "      <th>title</th>\n",
       "      <th>min_salary</th>\n",
       "    </tr>\n",
       "  </thead>\n",
       "  <tbody>\n",
       "    <tr>\n",
       "      <th>0</th>\n",
       "      <td>Data Analyst</td>\n",
       "      <td>28000</td>\n",
       "    </tr>\n",
       "    <tr>\n",
       "      <th>3</th>\n",
       "      <td>Data Analyst</td>\n",
       "      <td>32000</td>\n",
       "    </tr>\n",
       "    <tr>\n",
       "      <th>30</th>\n",
       "      <td>Senior Data Analyst</td>\n",
       "      <td>42000</td>\n",
       "    </tr>\n",
       "    <tr>\n",
       "      <th>85</th>\n",
       "      <td>Data Analyst Apprentice</td>\n",
       "      <td>22778</td>\n",
       "    </tr>\n",
       "    <tr>\n",
       "      <th>86</th>\n",
       "      <td>Data Analyst Apprentice</td>\n",
       "      <td>18000</td>\n",
       "    </tr>\n",
       "  </tbody>\n",
       "</table>\n",
       "</div>"
      ],
      "text/plain": [
       "                      title  min_salary\n",
       "0              Data Analyst       28000\n",
       "3              Data Analyst       32000\n",
       "30      Senior Data Analyst       42000\n",
       "85  Data Analyst Apprentice       22778\n",
       "86  Data Analyst Apprentice       18000"
      ]
     },
     "execution_count": 65,
     "metadata": {},
     "output_type": "execute_result"
    }
   ],
   "source": [
    "df_min=df_date_salary.loc[df_date_salary['min_salary']>3,['title', 'min_salary']]\n",
    "df_min.head()\n"
   ]
  },
  {
   "cell_type": "code",
   "execution_count": 273,
   "id": "40d530be",
   "metadata": {},
   "outputs": [
    {
     "data": {
      "text/html": [
       "<div>\n",
       "<style scoped>\n",
       "    .dataframe tbody tr th:only-of-type {\n",
       "        vertical-align: middle;\n",
       "    }\n",
       "\n",
       "    .dataframe tbody tr th {\n",
       "        vertical-align: top;\n",
       "    }\n",
       "\n",
       "    .dataframe thead th {\n",
       "        text-align: right;\n",
       "    }\n",
       "</style>\n",
       "<table border=\"1\" class=\"dataframe\">\n",
       "  <thead>\n",
       "    <tr style=\"text-align: right;\">\n",
       "      <th></th>\n",
       "      <th>title</th>\n",
       "      <th>min_salary</th>\n",
       "    </tr>\n",
       "  </thead>\n",
       "  <tbody>\n",
       "    <tr>\n",
       "      <th>128</th>\n",
       "      <td>Data Analyst</td>\n",
       "      <td>9360</td>\n",
       "    </tr>\n",
       "    <tr>\n",
       "      <th>95</th>\n",
       "      <td>Data Analyst</td>\n",
       "      <td>11232</td>\n",
       "    </tr>\n",
       "    <tr>\n",
       "      <th>237</th>\n",
       "      <td>Graduate Connected Car Data Analyst</td>\n",
       "      <td>11232</td>\n",
       "    </tr>\n",
       "    <tr>\n",
       "      <th>241</th>\n",
       "      <td>Junior Connected Car Data Analyst</td>\n",
       "      <td>11232</td>\n",
       "    </tr>\n",
       "    <tr>\n",
       "      <th>270</th>\n",
       "      <td>Lead Data Analyst Workforce - NHS (b7)</td>\n",
       "      <td>14352</td>\n",
       "    </tr>\n",
       "  </tbody>\n",
       "</table>\n",
       "</div>"
      ],
      "text/plain": [
       "                                      title  min_salary\n",
       "128                            Data Analyst        9360\n",
       "95                             Data Analyst       11232\n",
       "237     Graduate Connected Car Data Analyst       11232\n",
       "241       Junior Connected Car Data Analyst       11232\n",
       "270  Lead Data Analyst Workforce - NHS (b7)       14352"
      ]
     },
     "execution_count": 273,
     "metadata": {},
     "output_type": "execute_result"
    }
   ],
   "source": [
    "df_min[['title','min_salary']].sort_values(by = 'min_salary').head()\n"
   ]
  },
  {
   "cell_type": "code",
   "execution_count": 274,
   "id": "9f9d6b8b",
   "metadata": {},
   "outputs": [
    {
     "data": {
      "text/plain": [
       "(9360, 176400)"
      ]
     },
     "execution_count": 274,
     "metadata": {},
     "output_type": "execute_result"
    }
   ],
   "source": [
    "df_min.min_salary.min(), df_min.min_salary.max()\n"
   ]
  },
  {
   "cell_type": "code",
   "execution_count": 275,
   "id": "66d04bad",
   "metadata": {},
   "outputs": [],
   "source": [
    "df_min.to_csv('min_salary_figure.csv', index=None)\n",
    "df_max.to_csv('max_salary_figure.csv', index=None)\n"
   ]
  },
  {
   "cell_type": "code",
   "execution_count": 72,
   "id": "8d6461a6",
   "metadata": {},
   "outputs": [],
   "source": [
    "import pandas as pd"
   ]
  },
  {
   "cell_type": "code",
   "execution_count": 73,
   "id": "7b992a31",
   "metadata": {},
   "outputs": [
    {
     "data": {
      "text/html": [
       "<div>\n",
       "<style scoped>\n",
       "    .dataframe tbody tr th:only-of-type {\n",
       "        vertical-align: middle;\n",
       "    }\n",
       "\n",
       "    .dataframe tbody tr th {\n",
       "        vertical-align: top;\n",
       "    }\n",
       "\n",
       "    .dataframe thead th {\n",
       "        text-align: right;\n",
       "    }\n",
       "</style>\n",
       "<table border=\"1\" class=\"dataframe\">\n",
       "  <thead>\n",
       "    <tr style=\"text-align: right;\">\n",
       "      <th></th>\n",
       "      <th>title</th>\n",
       "      <th>max_salary</th>\n",
       "    </tr>\n",
       "  </thead>\n",
       "  <tbody>\n",
       "    <tr>\n",
       "      <th>0</th>\n",
       "      <td>Data Analyst</td>\n",
       "      <td>32000</td>\n",
       "    </tr>\n",
       "    <tr>\n",
       "      <th>1</th>\n",
       "      <td>Data Analyst apprentice</td>\n",
       "      <td>17000</td>\n",
       "    </tr>\n",
       "    <tr>\n",
       "      <th>2</th>\n",
       "      <td>Data Analyst- Tableau- Power BI- Python- Highe...</td>\n",
       "      <td>78624</td>\n",
       "    </tr>\n",
       "    <tr>\n",
       "      <th>3</th>\n",
       "      <td>Data Analyst</td>\n",
       "      <td>126000</td>\n",
       "    </tr>\n",
       "    <tr>\n",
       "      <th>4</th>\n",
       "      <td>Data Analyst</td>\n",
       "      <td>35000</td>\n",
       "    </tr>\n",
       "  </tbody>\n",
       "</table>\n",
       "</div>"
      ],
      "text/plain": [
       "                                               title  max_salary\n",
       "0                                       Data Analyst       32000\n",
       "1                            Data Analyst apprentice       17000\n",
       "2  Data Analyst- Tableau- Power BI- Python- Highe...       78624\n",
       "3                                       Data Analyst      126000\n",
       "4                                       Data Analyst       35000"
      ]
     },
     "execution_count": 73,
     "metadata": {},
     "output_type": "execute_result"
    }
   ],
   "source": [
    "df= pd.read_csv('max_salary_figure.csv')\n",
    "df.head()"
   ]
  },
  {
   "cell_type": "code",
   "execution_count": 79,
   "id": "17b18414",
   "metadata": {},
   "outputs": [
    {
     "data": {
      "text/html": [
       "<div>\n",
       "<style scoped>\n",
       "    .dataframe tbody tr th:only-of-type {\n",
       "        vertical-align: middle;\n",
       "    }\n",
       "\n",
       "    .dataframe tbody tr th {\n",
       "        vertical-align: top;\n",
       "    }\n",
       "\n",
       "    .dataframe thead th {\n",
       "        text-align: right;\n",
       "    }\n",
       "</style>\n",
       "<table border=\"1\" class=\"dataframe\">\n",
       "  <thead>\n",
       "    <tr style=\"text-align: right;\">\n",
       "      <th></th>\n",
       "      <th>title</th>\n",
       "      <th>max_salary</th>\n",
       "    </tr>\n",
       "  </thead>\n",
       "  <tbody>\n",
       "    <tr>\n",
       "      <th>151</th>\n",
       "      <td>Data Analyst - Financial Experience - London -...</td>\n",
       "      <td>65000</td>\n",
       "    </tr>\n",
       "    <tr>\n",
       "      <th>152</th>\n",
       "      <td>Exciting Opportunity for Graduate Data Analyst...</td>\n",
       "      <td>25000</td>\n",
       "    </tr>\n",
       "    <tr>\n",
       "      <th>153</th>\n",
       "      <td>Exciting Opportunity for Graduate Data Analyst...</td>\n",
       "      <td>25000</td>\n",
       "    </tr>\n",
       "    <tr>\n",
       "      <th>154</th>\n",
       "      <td>Exciting Opportunity for Graduate Data Analyst...</td>\n",
       "      <td>25000</td>\n",
       "    </tr>\n",
       "    <tr>\n",
       "      <th>155</th>\n",
       "      <td>Exciting Opportunity for Graduate Data Analyst...</td>\n",
       "      <td>25000</td>\n",
       "    </tr>\n",
       "  </tbody>\n",
       "</table>\n",
       "</div>"
      ],
      "text/plain": [
       "                                                 title  max_salary\n",
       "151  Data Analyst - Financial Experience - London -...       65000\n",
       "152  Exciting Opportunity for Graduate Data Analyst...       25000\n",
       "153  Exciting Opportunity for Graduate Data Analyst...       25000\n",
       "154  Exciting Opportunity for Graduate Data Analyst...       25000\n",
       "155  Exciting Opportunity for Graduate Data Analyst...       25000"
      ]
     },
     "execution_count": 79,
     "metadata": {},
     "output_type": "execute_result"
    }
   ],
   "source": [
    "df.tail()"
   ]
  },
  {
   "cell_type": "code",
   "execution_count": 56,
   "id": "0040994b",
   "metadata": {},
   "outputs": [
    {
     "data": {
      "text/plain": [
       "11"
      ]
     },
     "execution_count": 56,
     "metadata": {},
     "output_type": "execute_result"
    }
   ],
   "source": [
    "# 'Competitive salary' is the same number in 'max_salary' & 'min_salary'\n",
    "df_date_salary.loc[df_date_salary['max_salary']== 3, 'max_salary'].count()"
   ]
  },
  {
   "cell_type": "code",
   "execution_count": 55,
   "id": "2031f7c5",
   "metadata": {},
   "outputs": [
    {
     "data": {
      "text/plain": [
       "22"
      ]
     },
     "execution_count": 55,
     "metadata": {},
     "output_type": "execute_result"
    }
   ],
   "source": [
    "df_date_salary.loc[df_date_salary['max_salary']== 0, 'max_salary'].count()"
   ]
  },
  {
   "cell_type": "code",
   "execution_count": 54,
   "id": "f4c6884a",
   "metadata": {},
   "outputs": [
    {
     "data": {
      "text/plain": [
       "27"
      ]
     },
     "execution_count": 54,
     "metadata": {},
     "output_type": "execute_result"
    }
   ],
   "source": [
    "df_date_salary.loc[df_date_salary['max_salary']== 1, 'max_salary'].count()"
   ]
  },
  {
   "cell_type": "code",
   "execution_count": 57,
   "id": "0763b088",
   "metadata": {},
   "outputs": [
    {
     "data": {
      "text/plain": [
       "78"
      ]
     },
     "execution_count": 57,
     "metadata": {},
     "output_type": "execute_result"
    }
   ],
   "source": [
    "df_date_salary.loc[df_date_salary['max_salary']== 2, 'max_salary'].count()"
   ]
  },
  {
   "cell_type": "code",
   "execution_count": 53,
   "id": "2643e6f1",
   "metadata": {},
   "outputs": [
    {
     "data": {
      "text/plain": [
       "156"
      ]
     },
     "execution_count": 53,
     "metadata": {},
     "output_type": "execute_result"
    }
   ],
   "source": [
    "df_date_salary.loc[df_date_salary['max_salary']>3, 'max_salary'].count()"
   ]
  },
  {
   "cell_type": "code",
   "execution_count": 11,
   "id": "b75259e7",
   "metadata": {},
   "outputs": [
    {
     "data": {
      "text/plain": [
       "dtype('int64')"
      ]
     },
     "execution_count": 11,
     "metadata": {},
     "output_type": "execute_result"
    }
   ],
   "source": [
    "df_date_salary['max_salary'].dtype"
   ]
  },
  {
   "cell_type": "code",
   "execution_count": 58,
   "id": "e387ef24",
   "metadata": {},
   "outputs": [
    {
     "data": {
      "text/plain": [
       "max_salary\n",
       "2        78\n",
       "1        27\n",
       "0        22\n",
       "40000    19\n",
       "45000    16\n",
       "60000    12\n",
       "3        11\n",
       "55000     9\n",
       "35000     8\n",
       "25000     7\n",
       "Name: count, dtype: int64"
      ]
     },
     "execution_count": 58,
     "metadata": {},
     "output_type": "execute_result"
    }
   ],
   "source": [
    "df_date_salary['max_salary'].value_counts()[:10]"
   ]
  },
  {
   "cell_type": "code",
   "execution_count": 106,
   "id": "939dd9cf",
   "metadata": {},
   "outputs": [
    {
     "name": "stdout",
     "output_type": "stream",
     "text": [
      "<class 'pandas.core.series.Series'>\n",
      "RangeIndex: 294 entries, 0 to 293\n",
      "Series name: max_salary\n",
      "Non-Null Count  Dtype\n",
      "--------------  -----\n",
      "294 non-null    int64\n",
      "dtypes: int64(1)\n",
      "memory usage: 2.4 KB\n"
     ]
    }
   ],
   "source": [
    "df_date_salary['max_salary'].info()"
   ]
  },
  {
   "cell_type": "markdown",
   "id": "e00ca9dd",
   "metadata": {},
   "source": [
    "### Jobs with No Figure Salaries\n",
    "**Jobs without fixed salaries make up 39.40% (26.5 + 9.2 +3.7) of the dataset**"
   ]
  },
  {
   "cell_type": "code",
   "execution_count": 60,
   "id": "a7331b28",
   "metadata": {},
   "outputs": [
    {
     "name": "stdout",
     "output_type": "stream",
     "text": [
      "9.2\n",
      "26.5\n",
      "3.7\n"
     ]
    }
   ],
   "source": [
    "# 'Competitive salary', 'Salary negotiable' and  ' Training Course' are the same number in 'max_salary' & 'min_salary' columns \n",
    "print(round((df_date_salary.loc[df_date_salary['max_salary']== 1, 'max_salary'].count()/294)*100, 1))\n",
    "print(round((df_date_salary.loc[df_date_salary['max_salary']== 2, 'max_salary'].count()/294)*100, 1))\n",
    "print(round((df_date_salary.loc[df_date_salary['max_salary']== 3, 'max_salary'].count()/294)*100, 1))\n"
   ]
  },
  {
   "cell_type": "markdown",
   "id": "f4ad818d",
   "metadata": {},
   "source": [
    "### Jobs with Figure Salaries\n",
    "**Jobs with fixed make up 60.6 % (53.1+7.5) of the dataset**"
   ]
  },
  {
   "cell_type": "code",
   "execution_count": 49,
   "id": "80763882",
   "metadata": {},
   "outputs": [
    {
     "name": "stdout",
     "output_type": "stream",
     "text": [
      "53.1\n",
      "7.5\n"
     ]
    }
   ],
   "source": [
    "# Jobs with fixed make up 60.6 % (53.1+7.5) of the dataset\n",
    "print(round((df_date_salary.loc[df_date_salary['max_salary']>3, 'max_salary'].count()/294)*100, 1))\n",
    "print(round((df_date_salary.loc[df_date_salary['max_salary']==0, 'max_salary'].count()/294)*100, 1)) \n"
   ]
  },
  {
   "cell_type": "markdown",
   "id": "0209cd7a",
   "metadata": {},
   "source": [
    "## Employers column\n",
    "- ITonlinelearning Recruitment (78) and Harnham-Data & Analytics Recruitment(23) are top employers"
   ]
  },
  {
   "cell_type": "code",
   "execution_count": 15,
   "id": "8a6d60a9",
   "metadata": {},
   "outputs": [
    {
     "data": {
      "text/html": [
       "<div>\n",
       "<style scoped>\n",
       "    .dataframe tbody tr th:only-of-type {\n",
       "        vertical-align: middle;\n",
       "    }\n",
       "\n",
       "    .dataframe tbody tr th {\n",
       "        vertical-align: top;\n",
       "    }\n",
       "\n",
       "    .dataframe thead th {\n",
       "        text-align: right;\n",
       "    }\n",
       "</style>\n",
       "<table border=\"1\" class=\"dataframe\">\n",
       "  <thead>\n",
       "    <tr style=\"text-align: right;\">\n",
       "      <th></th>\n",
       "      <th>title</th>\n",
       "      <th>date</th>\n",
       "      <th>date_transformed</th>\n",
       "      <th>day_of_week</th>\n",
       "      <th>month</th>\n",
       "      <th>salary</th>\n",
       "      <th>salary_copy</th>\n",
       "      <th>min_salary</th>\n",
       "      <th>max_salary</th>\n",
       "      <th>working_hours</th>\n",
       "      <th>employer</th>\n",
       "      <th>location</th>\n",
       "    </tr>\n",
       "  </thead>\n",
       "  <tbody>\n",
       "    <tr>\n",
       "      <th>0</th>\n",
       "      <td>Data Analyst</td>\n",
       "      <td>28 March</td>\n",
       "      <td>2024-03-28</td>\n",
       "      <td>Thursday</td>\n",
       "      <td>March</td>\n",
       "      <td>£28,000 - £32,000 per annum</td>\n",
       "      <td>28000 - 32000 per annum</td>\n",
       "      <td>28000</td>\n",
       "      <td>32000</td>\n",
       "      <td>Permanent, full-time</td>\n",
       "      <td>SES Water</td>\n",
       "      <td>Redhill</td>\n",
       "    </tr>\n",
       "  </tbody>\n",
       "</table>\n",
       "</div>"
      ],
      "text/plain": [
       "          title      date date_transformed day_of_week  month  \\\n",
       "0  Data Analyst  28 March       2024-03-28    Thursday  March   \n",
       "\n",
       "                        salary              salary_copy  min_salary  \\\n",
       "0  £28,000 - £32,000 per annum  28000 - 32000 per annum       28000   \n",
       "\n",
       "   max_salary         working_hours   employer location  \n",
       "0       32000  Permanent, full-time  SES Water  Redhill  "
      ]
     },
     "execution_count": 15,
     "metadata": {},
     "output_type": "execute_result"
    }
   ],
   "source": [
    "df_date_salary[df_date_salary['employer']=='SES Water']"
   ]
  },
  {
   "cell_type": "code",
   "execution_count": 16,
   "id": "85bdf190",
   "metadata": {},
   "outputs": [
    {
     "data": {
      "text/html": [
       "<div>\n",
       "<style scoped>\n",
       "    .dataframe tbody tr th:only-of-type {\n",
       "        vertical-align: middle;\n",
       "    }\n",
       "\n",
       "    .dataframe tbody tr th {\n",
       "        vertical-align: top;\n",
       "    }\n",
       "\n",
       "    .dataframe thead th {\n",
       "        text-align: right;\n",
       "    }\n",
       "</style>\n",
       "<table border=\"1\" class=\"dataframe\">\n",
       "  <thead>\n",
       "    <tr style=\"text-align: right;\">\n",
       "      <th></th>\n",
       "      <th>title</th>\n",
       "      <th>date</th>\n",
       "      <th>date_transformed</th>\n",
       "      <th>day_of_week</th>\n",
       "      <th>month</th>\n",
       "      <th>salary</th>\n",
       "      <th>salary_copy</th>\n",
       "      <th>min_salary</th>\n",
       "      <th>max_salary</th>\n",
       "      <th>working_hours</th>\n",
       "      <th>employer</th>\n",
       "      <th>location</th>\n",
       "    </tr>\n",
       "  </thead>\n",
       "  <tbody>\n",
       "    <tr>\n",
       "      <th>1</th>\n",
       "      <td>Business Data Analyst/Data Analyst</td>\n",
       "      <td>3 days ago</td>\n",
       "      <td>2024-04-24</td>\n",
       "      <td>Wednesday</td>\n",
       "      <td>April</td>\n",
       "      <td>Competitive salary</td>\n",
       "      <td>Competitive salary</td>\n",
       "      <td>1</td>\n",
       "      <td>1</td>\n",
       "      <td>Contract, full-time</td>\n",
       "      <td>Deutsche Bank</td>\n",
       "      <td>Birmingham</td>\n",
       "    </tr>\n",
       "  </tbody>\n",
       "</table>\n",
       "</div>"
      ],
      "text/plain": [
       "                                title        date date_transformed  \\\n",
       "1  Business Data Analyst/Data Analyst  3 days ago       2024-04-24   \n",
       "\n",
       "  day_of_week  month              salary         salary_copy  min_salary  \\\n",
       "1   Wednesday  April  Competitive salary  Competitive salary           1   \n",
       "\n",
       "   max_salary        working_hours       employer    location  \n",
       "1           1  Contract, full-time  Deutsche Bank  Birmingham  "
      ]
     },
     "execution_count": 16,
     "metadata": {},
     "output_type": "execute_result"
    }
   ],
   "source": [
    "df_date_salary[df_date_salary['employer']=='Deutsche Bank']"
   ]
  },
  {
   "cell_type": "code",
   "execution_count": 14,
   "id": "47c28479",
   "metadata": {},
   "outputs": [
    {
     "data": {
      "text/plain": [
       "employer\n",
       "ITonlinelearning Recruitment              78\n",
       "Harnham - Data & Analytics Recruitment    23\n",
       "eFinancialCareers                         13\n",
       "How to Job Ltd                             9\n",
       "Charles Moore Associates Ltd               5\n",
       "Name: count, dtype: int64"
      ]
     },
     "execution_count": 14,
     "metadata": {},
     "output_type": "execute_result"
    }
   ],
   "source": [
    "# The top 5 employers offered the most job\n",
    "df_date_salary.employer.value_counts()[:5]\n"
   ]
  },
  {
   "cell_type": "code",
   "execution_count": 13,
   "id": "65062edf",
   "metadata": {},
   "outputs": [
    {
     "data": {
      "text/plain": [
       "Index(['ITonlinelearning Recruitment',\n",
       "       'Harnham - Data & Analytics Recruitment', 'eFinancialCareers',\n",
       "       'How to Job Ltd', 'Charles Moore Associates Ltd'],\n",
       "      dtype='object', name='employer')"
      ]
     },
     "execution_count": 13,
     "metadata": {},
     "output_type": "execute_result"
    }
   ],
   "source": [
    "df_date_salary.employer.value_counts()[:5].index"
   ]
  },
  {
   "cell_type": "markdown",
   "id": "7cc30d5c",
   "metadata": {},
   "source": [
    "**ITonlinelearning Recruitment (78), Harnham - Data & Analytics Recruitment(23), eFinancialCareers(13), How to Job Ltd (9), and Charles Moore Associates Ltd (5) are the top 5 employers in respective order**"
   ]
  },
  {
   "cell_type": "markdown",
   "id": "08f1018c",
   "metadata": {},
   "source": [
    "## Location column \n",
    "- London locations are mixed -like East London, Central London, City of London, North London,Kingston Upon Thames, North West London, Enfield, Twickenham, West London, North London, North West London, Hounslow, Croydon, Barking, Romford, Uxbridge which are all within Greater London                            "
   ]
  },
  {
   "cell_type": "code",
   "execution_count": 16,
   "id": "6174f344",
   "metadata": {
    "scrolled": false
   },
   "outputs": [
    {
     "data": {
      "text/plain": [
       "location\n",
       "London            84\n",
       "City of London    12\n",
       "Manchester        12\n",
       "Birmingham         6\n",
       "Watford            5\n",
       "Ipswich            5\n",
       "Bristol            5\n",
       "Leeds              4\n",
       "West London        4\n",
       "Peterborough       4\n",
       "Name: count, dtype: int64"
      ]
     },
     "execution_count": 16,
     "metadata": {},
     "output_type": "execute_result"
    }
   ],
   "source": [
    "location = df_date_salary.location.value_counts()\n",
    "location[:10]\n"
   ]
  },
  {
   "cell_type": "code",
   "execution_count": 17,
   "id": "c5983750",
   "metadata": {},
   "outputs": [
    {
     "data": {
      "text/plain": [
       "array([84, 12, 12,  6,  5,  5,  5,  4,  4,  4], dtype=int64)"
      ]
     },
     "execution_count": 17,
     "metadata": {},
     "output_type": "execute_result"
    }
   ],
   "source": [
    "location[:10].values"
   ]
  },
  {
   "cell_type": "markdown",
   "id": "91eba275",
   "metadata": {},
   "source": [
    "## Date column\n",
    "- most jobs are advertised on weekdays'  - least jobs on Weekends \n",
    "- Tuesday (68) the highest, Monday (61) second largest job advertised, then it starts to slowdown from Wednesday (60), Thursday (55), Friday (44) then drops sharply on the weekend aturday (3) and Sunday (3) \n",
    "- April (167) January ( 63), March (53), December (8), February (2), June (1)\n",
    "- there is a high peak in April this maybe becasue the start of the financial buget year emplyer trying to get mpre staff with new biudgt \n",
    "- January, February, March and April are from 2024 year data\n",
    "- There's a sharp fall in June. December and June are the only months form year 2023 so I am unable to analysis  \n",
    "- jobs advertised appear on the website for limited time until someone is hired so this has impacted on 2023 date aas well as on my analysis\n"
   ]
  },
  {
   "cell_type": "markdown",
   "id": "a4213340",
   "metadata": {},
   "source": [
    "### Day_of_the_Week analysis"
   ]
  },
  {
   "cell_type": "code",
   "execution_count": 18,
   "id": "4b971175",
   "metadata": {},
   "outputs": [
    {
     "data": {
      "text/plain": [
       "Index(['title', 'date', 'date_transformed', 'day_of_week', 'month', 'salary',\n",
       "       'salary_copy', 'min_salary', 'max_salary', 'working_hours', 'employer',\n",
       "       'location'],\n",
       "      dtype='object')"
      ]
     },
     "execution_count": 18,
     "metadata": {},
     "output_type": "execute_result"
    }
   ],
   "source": [
    "df_date_salary.columns"
   ]
  },
  {
   "cell_type": "code",
   "execution_count": 2,
   "id": "e6032226",
   "metadata": {},
   "outputs": [
    {
     "data": {
      "text/plain": [
       "0       Thursday\n",
       "1      Wednesday\n",
       "2       Thursday\n",
       "3        Tuesday\n",
       "4      Wednesday\n",
       "         ...    \n",
       "289      Tuesday\n",
       "290       Monday\n",
       "291       Monday\n",
       "292       Monday\n",
       "293       Monday\n",
       "Name: day_of_week, Length: 294, dtype: object"
      ]
     },
     "execution_count": 2,
     "metadata": {},
     "output_type": "execute_result"
    }
   ],
   "source": [
    "week  = df_date_salary.day_of_week\n",
    "week"
   ]
  },
  {
   "cell_type": "code",
   "execution_count": 3,
   "id": "a258e5b4",
   "metadata": {},
   "outputs": [
    {
     "data": {
      "text/plain": [
       "day_of_week\n",
       "Tuesday      68\n",
       "Monday       61\n",
       "Wednesday    60\n",
       "Thursday     55\n",
       "Friday       44\n",
       "Saturday      3\n",
       "Sunday        3\n",
       "Name: count, dtype: int64"
      ]
     },
     "execution_count": 3,
     "metadata": {},
     "output_type": "execute_result"
    }
   ],
   "source": [
    "week_day = df_date_salary.day_of_week.value_counts()\n",
    "week_day\n"
   ]
  },
  {
   "cell_type": "code",
   "execution_count": 27,
   "id": "9e40f55a",
   "metadata": {},
   "outputs": [
    {
     "data": {
      "text/plain": [
       "(Index(['Tuesday', 'Monday', 'Wednesday', 'Thursday', 'Friday', 'Saturday',\n",
       "        'Sunday'],\n",
       "       dtype='object', name='day_of_week'),\n",
       " array([68, 61, 60, 55, 44,  3,  3], dtype=int64))"
      ]
     },
     "execution_count": 27,
     "metadata": {},
     "output_type": "execute_result"
    }
   ],
   "source": [
    "week_day.index, week_day.values"
   ]
  },
  {
   "cell_type": "code",
   "execution_count": 4,
   "id": "c49b14ef",
   "metadata": {},
   "outputs": [],
   "source": [
    "# Reorder the Days of the week in respective to their the number of job advertised \n",
    "index = ['Monday','Tuesday',  'Wednesday', 'Thursday', 'Friday', 'Saturday','Sunday']\n",
    "values =   [ 61, 68, 60, 55, 44,  3,  3]\n"
   ]
  },
  {
   "cell_type": "code",
   "execution_count": 5,
   "id": "828a6fc6",
   "metadata": {},
   "outputs": [
    {
     "data": {
      "text/html": [
       "<div>\n",
       "<style scoped>\n",
       "    .dataframe tbody tr th:only-of-type {\n",
       "        vertical-align: middle;\n",
       "    }\n",
       "\n",
       "    .dataframe tbody tr th {\n",
       "        vertical-align: top;\n",
       "    }\n",
       "\n",
       "    .dataframe thead th {\n",
       "        text-align: right;\n",
       "    }\n",
       "</style>\n",
       "<table border=\"1\" class=\"dataframe\">\n",
       "  <thead>\n",
       "    <tr style=\"text-align: right;\">\n",
       "      <th></th>\n",
       "      <th>week_day</th>\n",
       "      <th>number of jobs advertised</th>\n",
       "    </tr>\n",
       "  </thead>\n",
       "  <tbody>\n",
       "    <tr>\n",
       "      <th>0</th>\n",
       "      <td>Monday</td>\n",
       "      <td>61</td>\n",
       "    </tr>\n",
       "    <tr>\n",
       "      <th>1</th>\n",
       "      <td>Tuesday</td>\n",
       "      <td>68</td>\n",
       "    </tr>\n",
       "    <tr>\n",
       "      <th>2</th>\n",
       "      <td>Wednesday</td>\n",
       "      <td>60</td>\n",
       "    </tr>\n",
       "    <tr>\n",
       "      <th>3</th>\n",
       "      <td>Thursday</td>\n",
       "      <td>55</td>\n",
       "    </tr>\n",
       "    <tr>\n",
       "      <th>4</th>\n",
       "      <td>Friday</td>\n",
       "      <td>44</td>\n",
       "    </tr>\n",
       "    <tr>\n",
       "      <th>5</th>\n",
       "      <td>Saturday</td>\n",
       "      <td>3</td>\n",
       "    </tr>\n",
       "    <tr>\n",
       "      <th>6</th>\n",
       "      <td>Sunday</td>\n",
       "      <td>3</td>\n",
       "    </tr>\n",
       "  </tbody>\n",
       "</table>\n",
       "</div>"
      ],
      "text/plain": [
       "    week_day  number of jobs advertised\n",
       "0     Monday                         61\n",
       "1    Tuesday                         68\n",
       "2  Wednesday                         60\n",
       "3   Thursday                         55\n",
       "4     Friday                         44\n",
       "5   Saturday                          3\n",
       "6     Sunday                          3"
      ]
     },
     "execution_count": 5,
     "metadata": {},
     "output_type": "execute_result"
    }
   ],
   "source": [
    "#create a dict and pass the series the data param to the dataframe constructor fro Week_days values count\n",
    "df_week_day = pd.DataFrame({'week_day':index, 'number of jobs advertised':values})\n",
    "df_week_day\n"
   ]
  },
  {
   "cell_type": "code",
   "execution_count": 8,
   "id": "60d18d01",
   "metadata": {},
   "outputs": [
    {
     "data": {
      "image/png": "[encoded data removed]",
      "text/plain": [
       "<Figure size 640x480 with 1 Axes>"
      ]
     },
     "metadata": {},
     "output_type": "display_data"
    }
   ],
   "source": [
    "y = df_week_day['number of jobs advertised']\n",
    "x = df_week_day['week_day']\n",
    "\n",
    "fig, ax = plt.subplots()\n",
    "\n",
    "# plt.xticks(rotation='vertical')\n",
    "plt.xticks(rotation= 75)\n",
    "ax.set_ylim(0,180)\n",
    "\n",
    "for i in range(len(x)):\n",
    "    plt.text(i, y[i], y[i], ha ='center', va='bottom')\n",
    "    \n",
    "# Add title and labels\n",
    "plt.title('Trends by the Days of the Week')\n",
    "plt.xlabel('days of the week')\n",
    "plt.ylabel('# Jobs advertised')\n",
    "    \n",
    "plt.bar(x,y )\n",
    "plt.show()\n"
   ]
  },
  {
   "cell_type": "code",
   "execution_count": 9,
   "id": "f61a4b1b",
   "metadata": {},
   "outputs": [
    {
     "data": {
      "image/png": "[encoded data removed]",
      "text/plain": [
       "<Figure size 640x480 with 1 Axes>"
      ]
     },
     "metadata": {},
     "output_type": "display_data"
    }
   ],
   "source": [
    "y = df_week_day['number of jobs advertised']\n",
    "x = df_week_day['week_day']\n",
    "\n",
    "\n",
    "fig, ax = plt.subplots()\n",
    "\n",
    "# plt.xticks(rotation='vertical')\n",
    "plt.xticks(rotation= 75)\n",
    "\n",
    "plt.plot(x, y, marker='o', linestyle='-')\n",
    " \n",
    "# Add title and labels\n",
    "plt.title('Job Advertising Trends by Days of the Week')\n",
    "plt.xlabel('days of the week')\n",
    "plt.ylabel('# Jobs advertised')\n",
    " \n",
    "# Display grid\n",
    "plt.grid(True)\n",
    " \n",
    "# Show the plot\n",
    "plt.show()\n"
   ]
  },
  {
   "cell_type": "markdown",
   "id": "86d2a2a0",
   "metadata": {},
   "source": [
    "### Months analysis "
   ]
  },
  {
   "cell_type": "code",
   "execution_count": 9,
   "id": "d487eecd",
   "metadata": {},
   "outputs": [
    {
     "data": {
      "text/plain": [
       "month\n",
       "April       167\n",
       "January      63\n",
       "March        53\n",
       "December      8\n",
       "February      2\n",
       "June          1\n",
       "Name: count, dtype: int64"
      ]
     },
     "execution_count": 9,
     "metadata": {},
     "output_type": "execute_result"
    }
   ],
   "source": [
    "months = df_date_salary.month.value_counts()\n",
    "months\n",
    "                                           "
   ]
  },
  {
   "cell_type": "code",
   "execution_count": 25,
   "id": "f16e317c",
   "metadata": {},
   "outputs": [
    {
     "data": {
      "text/plain": [
       "(Index(['April', 'January', 'March', 'December', 'February', 'June'], dtype='object', name='month'),\n",
       " array([167,  63,  53,   8,   2,   1], dtype=int64))"
      ]
     },
     "execution_count": 25,
     "metadata": {},
     "output_type": "execute_result"
    }
   ],
   "source": [
    " months.index, months.values"
   ]
  },
  {
   "cell_type": "code",
   "execution_count": 10,
   "id": "b11d7e26",
   "metadata": {},
   "outputs": [],
   "source": [
    "# Reorder the months in respective to their the number of job advertised \n",
    "month_index = [ 'June','December', 'January', 'February', 'March', 'April']\n",
    "month_values =   [ 1, 8, 63, 2, 53,  167]\n"
   ]
  },
  {
   "cell_type": "markdown",
   "id": "5d709720",
   "metadata": {},
   "source": [
    "**April (167) is the most job advertised and June (1) the least the rest January (63), March (53), December (5) and February (2)** "
   ]
  },
  {
   "cell_type": "code",
   "execution_count": 11,
   "id": "22108030",
   "metadata": {},
   "outputs": [
    {
     "data": {
      "text/html": [
       "<div>\n",
       "<style scoped>\n",
       "    .dataframe tbody tr th:only-of-type {\n",
       "        vertical-align: middle;\n",
       "    }\n",
       "\n",
       "    .dataframe tbody tr th {\n",
       "        vertical-align: top;\n",
       "    }\n",
       "\n",
       "    .dataframe thead th {\n",
       "        text-align: right;\n",
       "    }\n",
       "</style>\n",
       "<table border=\"1\" class=\"dataframe\">\n",
       "  <thead>\n",
       "    <tr style=\"text-align: right;\">\n",
       "      <th></th>\n",
       "      <th>month</th>\n",
       "      <th>number of jobs advertised</th>\n",
       "    </tr>\n",
       "  </thead>\n",
       "  <tbody>\n",
       "    <tr>\n",
       "      <th>0</th>\n",
       "      <td>June</td>\n",
       "      <td>1</td>\n",
       "    </tr>\n",
       "    <tr>\n",
       "      <th>1</th>\n",
       "      <td>December</td>\n",
       "      <td>8</td>\n",
       "    </tr>\n",
       "    <tr>\n",
       "      <th>2</th>\n",
       "      <td>January</td>\n",
       "      <td>63</td>\n",
       "    </tr>\n",
       "    <tr>\n",
       "      <th>3</th>\n",
       "      <td>February</td>\n",
       "      <td>2</td>\n",
       "    </tr>\n",
       "    <tr>\n",
       "      <th>4</th>\n",
       "      <td>March</td>\n",
       "      <td>53</td>\n",
       "    </tr>\n",
       "    <tr>\n",
       "      <th>5</th>\n",
       "      <td>April</td>\n",
       "      <td>167</td>\n",
       "    </tr>\n",
       "  </tbody>\n",
       "</table>\n",
       "</div>"
      ],
      "text/plain": [
       "      month  number of jobs advertised\n",
       "0      June                          1\n",
       "1  December                          8\n",
       "2   January                         63\n",
       "3  February                          2\n",
       "4     March                         53\n",
       "5     April                        167"
      ]
     },
     "execution_count": 11,
     "metadata": {},
     "output_type": "execute_result"
    }
   ],
   "source": [
    "df_months = pd.DataFrame({'month':month_index,'number of jobs advertised':month_values})\n",
    "df_months\n"
   ]
  },
  {
   "cell_type": "code",
   "execution_count": 12,
   "id": "d4a5d262",
   "metadata": {},
   "outputs": [
    {
     "data": {
      "image/png": "[encoded data removed]",
      "text/plain": [
       "<Figure size 640x480 with 1 Axes>"
      ]
     },
     "metadata": {},
     "output_type": "display_data"
    }
   ],
   "source": [
    "y = df_months['number of jobs advertised']\n",
    "x = df_months['month']\n",
    "\n",
    "fig, ax = plt.subplots()\n",
    "\n",
    "# plt.xticks(rotation='vertical')\n",
    "plt.xticks(rotation= 75)\n",
    "\n",
    "# Add title and labels\n",
    "plt.title('Trends by Months')\n",
    "plt.xlabel('Months')\n",
    "plt.ylabel('# Jobs advertised')\n",
    " \n",
    "    \n",
    "plt.bar(x,y )\n",
    "plt.show()\n"
   ]
  },
  {
   "cell_type": "code",
   "execution_count": 13,
   "id": "9f55cc47",
   "metadata": {},
   "outputs": [
    {
     "data": {
      "text/html": [
       "<div>\n",
       "<style scoped>\n",
       "    .dataframe tbody tr th:only-of-type {\n",
       "        vertical-align: middle;\n",
       "    }\n",
       "\n",
       "    .dataframe tbody tr th {\n",
       "        vertical-align: top;\n",
       "    }\n",
       "\n",
       "    .dataframe thead th {\n",
       "        text-align: right;\n",
       "    }\n",
       "</style>\n",
       "<table border=\"1\" class=\"dataframe\">\n",
       "  <thead>\n",
       "    <tr style=\"text-align: right;\">\n",
       "      <th></th>\n",
       "      <th>number of jobs advertised</th>\n",
       "    </tr>\n",
       "    <tr>\n",
       "      <th>month</th>\n",
       "      <th></th>\n",
       "    </tr>\n",
       "  </thead>\n",
       "  <tbody>\n",
       "    <tr>\n",
       "      <th>June</th>\n",
       "      <td>1</td>\n",
       "    </tr>\n",
       "    <tr>\n",
       "      <th>December</th>\n",
       "      <td>8</td>\n",
       "    </tr>\n",
       "    <tr>\n",
       "      <th>January</th>\n",
       "      <td>63</td>\n",
       "    </tr>\n",
       "    <tr>\n",
       "      <th>February</th>\n",
       "      <td>2</td>\n",
       "    </tr>\n",
       "    <tr>\n",
       "      <th>March</th>\n",
       "      <td>53</td>\n",
       "    </tr>\n",
       "    <tr>\n",
       "      <th>April</th>\n",
       "      <td>167</td>\n",
       "    </tr>\n",
       "  </tbody>\n",
       "</table>\n",
       "</div>"
      ],
      "text/plain": [
       "          number of jobs advertised\n",
       "month                              \n",
       "June                              1\n",
       "December                          8\n",
       "January                          63\n",
       "February                          2\n",
       "March                            53\n",
       "April                           167"
      ]
     },
     "execution_count": 13,
     "metadata": {},
     "output_type": "execute_result"
    }
   ],
   "source": [
    "# set 'month_index' as index and create a line chart\n",
    "df_months = df_months.set_index('month')\n",
    "df_months\n"
   ]
  },
  {
   "cell_type": "code",
   "execution_count": 10,
   "id": "73751897",
   "metadata": {},
   "outputs": [
    {
     "data": {
      "text/plain": [
       "Index(['month_values'], dtype='object')"
      ]
     },
     "execution_count": 10,
     "metadata": {},
     "output_type": "execute_result"
    }
   ],
   "source": [
    "df_months.columns"
   ]
  },
  {
   "cell_type": "code",
   "execution_count": 14,
   "id": "71410735",
   "metadata": {},
   "outputs": [
    {
     "data": {
      "image/png": "[encoded data removed]",
      "text/plain": [
       "<Figure size 640x480 with 1 Axes>"
      ]
     },
     "metadata": {},
     "output_type": "display_data"
    }
   ],
   "source": [
    "# plt.xticks(rotation='vertical')\n",
    "plt.xticks(rotation= 75)\n",
    "\n",
    "# Add title and labels\n",
    "plt.title('Job Advertising Trends by Month')\n",
    "plt.xlabel('Months')\n",
    "plt.ylabel('# Jobs advertised')\n",
    "\n",
    "plt.plot(df_months, linestyle = '-')\n",
    "plt.show()\n"
   ]
  },
  {
   "cell_type": "markdown",
   "id": "28aef5fc",
   "metadata": {},
   "source": [
    "## Salary column\n",
    "- 26.5% [(78/294)*100] 78 Out of 294 jobs advertised offer 'Competitive salary'  \n",
    "- 9.2% (27 jobs) [(27/294)*100] employers offer 'Training Course' to fulfill their Data Analyst workforce need. This is an indication that new graduate Data Analysts have promissing future.  \n",
    "- 3.7 %  [(11/294)*100] 11 employers are willing to negotiate the salary (Salary negotiable') to attract Data Analyst \n",
    "- 60.5%  (178)  jobs have fixed slaries\n",
    "\n",
    "- min_outliers_clean (min_salary) column after from outliers removed conatins 30.1 % (160 rows) less than half from the original 523 rows\n",
    "- max_outliers_clean (max_salary) column after from outliers removed conatins 31.2 % (163 rows) less than half from the original 523 rows\n"
   ]
  },
  {
   "cell_type": "code",
   "execution_count": 29,
   "id": "78503e18",
   "metadata": {},
   "outputs": [
    {
     "name": "stdout",
     "output_type": "stream",
     "text": [
      "<class 'pandas.core.series.Series'>\n",
      "RangeIndex: 294 entries, 0 to 293\n",
      "Series name: max_salary\n",
      "Non-Null Count  Dtype\n",
      "--------------  -----\n",
      "294 non-null    int64\n",
      "dtypes: int64(1)\n",
      "memory usage: 2.4 KB\n"
     ]
    }
   ],
   "source": [
    "df_date_salary.max_salary.info()"
   ]
  },
  {
   "cell_type": "code",
   "execution_count": 27,
   "id": "4dea19c7",
   "metadata": {},
   "outputs": [
    {
     "data": {
      "text/plain": [
       "salary\n",
       " Training Course               78\n",
       "Competitive salary             27\n",
       "Salary negotiable              11\n",
       "£35,000 - £40,000 per annum     9\n",
       "£35,000 - £45,000 per annum     8\n",
       "Name: count, dtype: int64"
      ]
     },
     "execution_count": 27,
     "metadata": {},
     "output_type": "execute_result"
    }
   ],
   "source": [
    "df_date_salary.salary.value_counts().head() "
   ]
  },
  {
   "cell_type": "markdown",
   "id": "e925fdc6",
   "metadata": {},
   "source": [
    " ### Five least paid Jobs (Minimum salary)"
   ]
  },
  {
   "cell_type": "code",
   "execution_count": 13,
   "id": "9d6cab90",
   "metadata": {},
   "outputs": [
    {
     "data": {
      "text/html": [
       "<div>\n",
       "<style scoped>\n",
       "    .dataframe tbody tr th:only-of-type {\n",
       "        vertical-align: middle;\n",
       "    }\n",
       "\n",
       "    .dataframe tbody tr th {\n",
       "        vertical-align: top;\n",
       "    }\n",
       "\n",
       "    .dataframe thead th {\n",
       "        text-align: right;\n",
       "    }\n",
       "</style>\n",
       "<table border=\"1\" class=\"dataframe\">\n",
       "  <thead>\n",
       "    <tr style=\"text-align: right;\">\n",
       "      <th></th>\n",
       "      <th>title</th>\n",
       "      <th>salary</th>\n",
       "      <th>min_salary</th>\n",
       "    </tr>\n",
       "  </thead>\n",
       "  <tbody>\n",
       "    <tr>\n",
       "      <th>0</th>\n",
       "      <td>Data Analyst</td>\n",
       "      <td>£28,000 - £32,000 per annum</td>\n",
       "      <td>28000</td>\n",
       "    </tr>\n",
       "    <tr>\n",
       "      <th>3</th>\n",
       "      <td>Data Analyst</td>\n",
       "      <td>£32,000 per annum</td>\n",
       "      <td>32000</td>\n",
       "    </tr>\n",
       "    <tr>\n",
       "      <th>30</th>\n",
       "      <td>Senior Data Analyst</td>\n",
       "      <td>£42,000 per annum</td>\n",
       "      <td>42000</td>\n",
       "    </tr>\n",
       "    <tr>\n",
       "      <th>85</th>\n",
       "      <td>Data Analyst Apprentice</td>\n",
       "      <td>£22,778 per annum</td>\n",
       "      <td>22778</td>\n",
       "    </tr>\n",
       "    <tr>\n",
       "      <th>86</th>\n",
       "      <td>Data Analyst Apprentice</td>\n",
       "      <td>£18,000 per annum</td>\n",
       "      <td>18000</td>\n",
       "    </tr>\n",
       "    <tr>\n",
       "      <th>...</th>\n",
       "      <td>...</td>\n",
       "      <td>...</td>\n",
       "      <td>...</td>\n",
       "    </tr>\n",
       "    <tr>\n",
       "      <th>275</th>\n",
       "      <td>Data Analyst Financial Services Hybrid £600/d ...</td>\n",
       "      <td>£600 per day</td>\n",
       "      <td>151200</td>\n",
       "    </tr>\n",
       "    <tr>\n",
       "      <th>276</th>\n",
       "      <td>Exciting Opportunity for Graduate Data Analyst...</td>\n",
       "      <td>£22,000 - £25,000 per annum</td>\n",
       "      <td>22000</td>\n",
       "    </tr>\n",
       "    <tr>\n",
       "      <th>277</th>\n",
       "      <td>Exciting Opportunity for Graduate Data Analyst...</td>\n",
       "      <td>£22,000 - £25,000 per annum</td>\n",
       "      <td>22000</td>\n",
       "    </tr>\n",
       "    <tr>\n",
       "      <th>278</th>\n",
       "      <td>Exciting Opportunity for Graduate Data Analyst...</td>\n",
       "      <td>£22,000 - £25,000 per annum</td>\n",
       "      <td>22000</td>\n",
       "    </tr>\n",
       "    <tr>\n",
       "      <th>279</th>\n",
       "      <td>Exciting Opportunity for Graduate Data Analyst...</td>\n",
       "      <td>£22,000 - £25,000 per annum</td>\n",
       "      <td>22000</td>\n",
       "    </tr>\n",
       "  </tbody>\n",
       "</table>\n",
       "<p>178 rows × 3 columns</p>\n",
       "</div>"
      ],
      "text/plain": [
       "                                                 title  \\\n",
       "0                                         Data Analyst   \n",
       "3                                         Data Analyst   \n",
       "30                                 Senior Data Analyst   \n",
       "85                             Data Analyst Apprentice   \n",
       "86                             Data Analyst Apprentice   \n",
       "..                                                 ...   \n",
       "275  Data Analyst Financial Services Hybrid £600/d ...   \n",
       "276  Exciting Opportunity for Graduate Data Analyst...   \n",
       "277  Exciting Opportunity for Graduate Data Analyst...   \n",
       "278  Exciting Opportunity for Graduate Data Analyst...   \n",
       "279  Exciting Opportunity for Graduate Data Analyst...   \n",
       "\n",
       "                          salary  min_salary  \n",
       "0    £28,000 - £32,000 per annum       28000  \n",
       "3              £32,000 per annum       32000  \n",
       "30             £42,000 per annum       42000  \n",
       "85             £22,778 per annum       22778  \n",
       "86             £18,000 per annum       18000  \n",
       "..                           ...         ...  \n",
       "275                 £600 per day      151200  \n",
       "276  £22,000 - £25,000 per annum       22000  \n",
       "277  £22,000 - £25,000 per annum       22000  \n",
       "278  £22,000 - £25,000 per annum       22000  \n",
       "279  £22,000 - £25,000 per annum       22000  \n",
       "\n",
       "[178 rows x 3 columns]"
      ]
     },
     "execution_count": 13,
     "metadata": {},
     "output_type": "execute_result"
    }
   ],
   "source": [
    "df_date_salary.loc[df_date_salary.min_salary >3, ['title','salary', 'min_salary']]"
   ]
  },
  {
   "cell_type": "code",
   "execution_count": 14,
   "id": "490c7640",
   "metadata": {},
   "outputs": [
    {
     "data": {
      "text/html": [
       "<div>\n",
       "<style scoped>\n",
       "    .dataframe tbody tr th:only-of-type {\n",
       "        vertical-align: middle;\n",
       "    }\n",
       "\n",
       "    .dataframe tbody tr th {\n",
       "        vertical-align: top;\n",
       "    }\n",
       "\n",
       "    .dataframe thead th {\n",
       "        text-align: right;\n",
       "    }\n",
       "</style>\n",
       "<table border=\"1\" class=\"dataframe\">\n",
       "  <thead>\n",
       "    <tr style=\"text-align: right;\">\n",
       "      <th></th>\n",
       "      <th>title</th>\n",
       "      <th>salary</th>\n",
       "      <th>min_salary</th>\n",
       "    </tr>\n",
       "  </thead>\n",
       "  <tbody>\n",
       "    <tr>\n",
       "      <th>128</th>\n",
       "      <td>Data Analyst</td>\n",
       "      <td>£15 - £17 per hour</td>\n",
       "      <td>9360</td>\n",
       "    </tr>\n",
       "    <tr>\n",
       "      <th>95</th>\n",
       "      <td>Data Analyst</td>\n",
       "      <td>£18.71 per hour</td>\n",
       "      <td>11232</td>\n",
       "    </tr>\n",
       "    <tr>\n",
       "      <th>237</th>\n",
       "      <td>Graduate Connected Car Data Analyst</td>\n",
       "      <td>£18.01 per hour</td>\n",
       "      <td>11232</td>\n",
       "    </tr>\n",
       "    <tr>\n",
       "      <th>241</th>\n",
       "      <td>Junior Connected Car Data Analyst</td>\n",
       "      <td>£18.01 - £22.67 per hour</td>\n",
       "      <td>11232</td>\n",
       "    </tr>\n",
       "    <tr>\n",
       "      <th>270</th>\n",
       "      <td>Lead Data Analyst Workforce - NHS (b7)</td>\n",
       "      <td>£23 - £26 per hour</td>\n",
       "      <td>14352</td>\n",
       "    </tr>\n",
       "  </tbody>\n",
       "</table>\n",
       "</div>"
      ],
      "text/plain": [
       "                                      title                    salary  \\\n",
       "128                            Data Analyst        £15 - £17 per hour   \n",
       "95                             Data Analyst           £18.71 per hour   \n",
       "237     Graduate Connected Car Data Analyst           £18.01 per hour   \n",
       "241       Junior Connected Car Data Analyst  £18.01 - £22.67 per hour   \n",
       "270  Lead Data Analyst Workforce - NHS (b7)        £23 - £26 per hour   \n",
       "\n",
       "     min_salary  \n",
       "128        9360  \n",
       "95        11232  \n",
       "237       11232  \n",
       "241       11232  \n",
       "270       14352  "
      ]
     },
     "execution_count": 14,
     "metadata": {},
     "output_type": "execute_result"
    }
   ],
   "source": [
    "# the least paid Data Analyst is £15 - £17 per hour ( £9360 per annum) Temporary, full-time \n",
    "df_date_salary.loc[df_date_salary.min_salary >3, ['title','salary','min_salary']].sort_values(by = 'min_salary').head()\n"
   ]
  },
  {
   "cell_type": "code",
   "execution_count": 15,
   "id": "bb54b204",
   "metadata": {},
   "outputs": [
    {
     "data": {
      "text/plain": [
       "128                              Data Analyst\n",
       "95                               Data Analyst\n",
       "237       Graduate Connected Car Data Analyst\n",
       "241         Junior Connected Car Data Analyst\n",
       "270    Lead Data Analyst Workforce - NHS (b7)\n",
       "Name: title, dtype: object"
      ]
     },
     "execution_count": 15,
     "metadata": {},
     "output_type": "execute_result"
    }
   ],
   "source": [
    "df_date_salary.loc[df_date_salary.min_salary >3, ['title','salary','min_salary']].sort_values(by = 'min_salary').head() ['title']"
   ]
  },
  {
   "cell_type": "code",
   "execution_count": 16,
   "id": "2c9e379f",
   "metadata": {},
   "outputs": [
    {
     "data": {
      "text/plain": [
       "array(['Data Analyst', 'Data Analyst',\n",
       "       'Graduate Connected Car Data Analyst',\n",
       "       'Junior Connected Car Data Analyst',\n",
       "       'Lead Data Analyst Workforce - NHS (b7)'], dtype=object)"
      ]
     },
     "execution_count": 16,
     "metadata": {},
     "output_type": "execute_result"
    }
   ],
   "source": [
    "df_date_salary.loc[df_date_salary.min_salary >3, ['title','salary','min_salary']].sort_values(by = 'min_salary').head() ['title'].values"
   ]
  },
  {
   "cell_type": "markdown",
   "id": "ab3c1543",
   "metadata": {},
   "source": [
    "### Five Top paid jobs (Maximum salary)"
   ]
  },
  {
   "cell_type": "code",
   "execution_count": 17,
   "id": "f274c3a9",
   "metadata": {},
   "outputs": [
    {
     "data": {
      "text/plain": [
       "650000"
      ]
     },
     "execution_count": 17,
     "metadata": {},
     "output_type": "execute_result"
    }
   ],
   "source": [
    "df_date_salary.max_salary.max()\n"
   ]
  },
  {
   "cell_type": "code",
   "execution_count": 18,
   "id": "79aa447d",
   "metadata": {},
   "outputs": [
    {
     "data": {
      "text/plain": [
       "191    650000\n",
       "272    214200\n",
       "273    163800\n",
       "173    163800\n",
       "216    163800\n",
       "Name: max_salary, dtype: int64"
      ]
     },
     "execution_count": 18,
     "metadata": {},
     "output_type": "execute_result"
    }
   ],
   "source": [
    "df_date_salary.max_salary.sort_values(ascending=False)[:5]\n"
   ]
  },
  {
   "cell_type": "code",
   "execution_count": 19,
   "id": "fd34ee10",
   "metadata": {},
   "outputs": [
    {
     "data": {
      "text/plain": [
       "Index([191, 272, 273, 173, 216], dtype='int64')"
      ]
     },
     "execution_count": 19,
     "metadata": {},
     "output_type": "execute_result"
    }
   ],
   "source": [
    "df_date_salary.max_salary.sort_values(ascending=False)[:5].index"
   ]
  },
  {
   "cell_type": "code",
   "execution_count": 20,
   "id": "4fcc9519",
   "metadata": {},
   "outputs": [
    {
     "name": "stdout",
     "output_type": "stream",
     "text": [
      "5\n",
      "0\n",
      "8\n"
     ]
    }
   ],
   "source": [
    "#get the index of'salary','title','max_salary' columns\n",
    "print(df_date_salary.columns.get_loc('salary'))\n",
    "print(df_date_salary.columns.get_loc('title'))\n",
    "print(df_date_salary.columns.get_loc('max_salary'))\n"
   ]
  },
  {
   "cell_type": "code",
   "execution_count": 21,
   "id": "627c55ed",
   "metadata": {},
   "outputs": [
    {
     "data": {
      "text/html": [
       "<div>\n",
       "<style scoped>\n",
       "    .dataframe tbody tr th:only-of-type {\n",
       "        vertical-align: middle;\n",
       "    }\n",
       "\n",
       "    .dataframe tbody tr th {\n",
       "        vertical-align: top;\n",
       "    }\n",
       "\n",
       "    .dataframe thead th {\n",
       "        text-align: right;\n",
       "    }\n",
       "</style>\n",
       "<table border=\"1\" class=\"dataframe\">\n",
       "  <thead>\n",
       "    <tr style=\"text-align: right;\">\n",
       "      <th></th>\n",
       "      <th>title</th>\n",
       "      <th>salary</th>\n",
       "      <th>max_salary</th>\n",
       "    </tr>\n",
       "  </thead>\n",
       "  <tbody>\n",
       "    <tr>\n",
       "      <th>191</th>\n",
       "      <td>BI Data Analyst</td>\n",
       "      <td>£55,000 - £650,000 per annum</td>\n",
       "      <td>650000</td>\n",
       "    </tr>\n",
       "    <tr>\n",
       "      <th>272</th>\n",
       "      <td>Tech BA/Data Analyst - Booking Model Controls/...</td>\n",
       "      <td>£700 - £850 per day</td>\n",
       "      <td>214200</td>\n",
       "    </tr>\n",
       "    <tr>\n",
       "      <th>273</th>\n",
       "      <td>Senior Business/Data Analyst - Sql, Excel, Dat...</td>\n",
       "      <td>£550 - £650 per day</td>\n",
       "      <td>163800</td>\n",
       "    </tr>\n",
       "    <tr>\n",
       "      <th>173</th>\n",
       "      <td>Senior Data Analyst</td>\n",
       "      <td>£550 - £650 per day</td>\n",
       "      <td>163800</td>\n",
       "    </tr>\n",
       "    <tr>\n",
       "      <th>216</th>\n",
       "      <td>Data Analyst - Markets Transformation</td>\n",
       "      <td>£600 - £650 per day</td>\n",
       "      <td>163800</td>\n",
       "    </tr>\n",
       "  </tbody>\n",
       "</table>\n",
       "</div>"
      ],
      "text/plain": [
       "                                                 title  \\\n",
       "191                                    BI Data Analyst   \n",
       "272  Tech BA/Data Analyst - Booking Model Controls/...   \n",
       "273  Senior Business/Data Analyst - Sql, Excel, Dat...   \n",
       "173                                Senior Data Analyst   \n",
       "216              Data Analyst - Markets Transformation   \n",
       "\n",
       "                           salary  max_salary  \n",
       "191  £55,000 - £650,000 per annum      650000  \n",
       "272           £700 - £850 per day      214200  \n",
       "273           £550 - £650 per day      163800  \n",
       "173           £550 - £650 per day      163800  \n",
       "216           £600 - £650 per day      163800  "
      ]
     },
     "execution_count": 21,
     "metadata": {},
     "output_type": "execute_result"
    }
   ],
   "source": [
    "# Extract the top 5 highly paid jobs title and salary \n",
    "# Business Intelligence (BI) Data Analyst is the heighest paid  £55000 to £650000 per annum Permanent, full-time role\n",
    "df_date_salary.iloc[[191, 272, 273, 173, 216], [0,5,8]]\n"
   ]
  },
  {
   "cell_type": "code",
   "execution_count": 22,
   "id": "51b8996c",
   "metadata": {},
   "outputs": [
    {
     "data": {
      "text/plain": [
       "array(['BI Data Analyst',\n",
       "       'Tech BA/Data Analyst - Booking Model Controls/Tableau',\n",
       "       'Senior Business/Data Analyst - Sql, Excel, Data Vis, Banking',\n",
       "       'Data Analyst - Markets Transformation', 'Senior Data Analyst'],\n",
       "      dtype=object)"
      ]
     },
     "execution_count": 22,
     "metadata": {},
     "output_type": "execute_result"
    }
   ],
   "source": [
    "df_date_salary.loc[df_date_salary.max_salary >3, ['title','max_salary']].sort_values(by = 'max_salary', ascending=False).head() ['title'].values "
   ]
  },
  {
   "cell_type": "markdown",
   "id": "b9ce3f44",
   "metadata": {},
   "source": [
    "\n",
    "### Working hours"
   ]
  },
  {
   "cell_type": "markdown",
   "id": "af1c0416",
   "metadata": {},
   "source": [
    "-  the majority of the jobs offer Permanent full-time working hours (86.7%) indicating that Data Analyst field would have higher job opportunities and long working hours\n"
   ]
  },
  {
   "cell_type": "code",
   "execution_count": 3,
   "id": "16e81101",
   "metadata": {},
   "outputs": [
    {
     "data": {
      "text/plain": [
       "working_hours\n",
       "Permanent, full-time                 255\n",
       "Contract, full-time                   29\n",
       "Temporary, full-time                   6\n",
       "Permanent, full-time or part-time      4\n",
       "Name: count, dtype: int64"
      ]
     },
     "execution_count": 3,
     "metadata": {},
     "output_type": "execute_result"
    }
   ],
   "source": [
    "working = df_date_salary['working_hours'].value_counts()\n",
    "working"
   ]
  },
  {
   "cell_type": "code",
   "execution_count": 5,
   "id": "3c4953fb",
   "metadata": {},
   "outputs": [
    {
     "data": {
      "text/plain": [
       "(Index(['Permanent, full-time', 'Contract, full-time', 'Temporary, full-time',\n",
       "        'Permanent, full-time or part-time'],\n",
       "       dtype='object', name='working_hours'),\n",
       " array([255,  29,   6,   4], dtype=int64))"
      ]
     },
     "execution_count": 5,
     "metadata": {},
     "output_type": "execute_result"
    }
   ],
   "source": [
    "working.index, working.values"
   ]
  },
  {
   "cell_type": "code",
   "execution_count": 22,
   "id": "94f5f182",
   "metadata": {},
   "outputs": [
    {
     "data": {
      "text/html": [
       "<div>\n",
       "<style scoped>\n",
       "    .dataframe tbody tr th:only-of-type {\n",
       "        vertical-align: middle;\n",
       "    }\n",
       "\n",
       "    .dataframe tbody tr th {\n",
       "        vertical-align: top;\n",
       "    }\n",
       "\n",
       "    .dataframe thead th {\n",
       "        text-align: right;\n",
       "    }\n",
       "</style>\n",
       "<table border=\"1\" class=\"dataframe\">\n",
       "  <thead>\n",
       "    <tr style=\"text-align: right;\">\n",
       "      <th></th>\n",
       "      <th>working_hours</th>\n",
       "      <th># of jobs</th>\n",
       "      <th>%</th>\n",
       "    </tr>\n",
       "  </thead>\n",
       "  <tbody>\n",
       "    <tr>\n",
       "      <th>0</th>\n",
       "      <td>Permanent, full-time</td>\n",
       "      <td>255</td>\n",
       "      <td>86.7%</td>\n",
       "    </tr>\n",
       "    <tr>\n",
       "      <th>1</th>\n",
       "      <td>Contract, full-time</td>\n",
       "      <td>29</td>\n",
       "      <td>9.9%</td>\n",
       "    </tr>\n",
       "    <tr>\n",
       "      <th>2</th>\n",
       "      <td>Temporary, full-time</td>\n",
       "      <td>6</td>\n",
       "      <td>2.0%</td>\n",
       "    </tr>\n",
       "    <tr>\n",
       "      <th>3</th>\n",
       "      <td>Permanent, full-time or part-time</td>\n",
       "      <td>4</td>\n",
       "      <td>1.4%</td>\n",
       "    </tr>\n",
       "  </tbody>\n",
       "</table>\n",
       "</div>"
      ],
      "text/plain": [
       "                       working_hours  # of jobs      %\n",
       "0               Permanent, full-time        255  86.7%\n",
       "1                Contract, full-time         29   9.9%\n",
       "2               Temporary, full-time          6   2.0%\n",
       "3  Permanent, full-time or part-time          4   1.4%"
      ]
     },
     "execution_count": 22,
     "metadata": {},
     "output_type": "execute_result"
    }
   ],
   "source": [
    "working = df_date_salary['working_hours'].value_counts()\n",
    "\n",
    "df_working = pd.DataFrame({'working_hours':working.index,\n",
    "                              '# of jobs':working.values})\n",
    "\n",
    "# Calculating the Percentage share of each working hours\n",
    "df_working['%'] = round((df_working['# of jobs'] /\n",
    "                  df_working['# of jobs'].sum()) * 100, 1).astype(str) + '%'\n",
    "df_working\n"
   ]
  },
  {
   "cell_type": "code",
   "execution_count": 11,
   "id": "cecbaa34",
   "metadata": {},
   "outputs": [
    {
     "data": {
      "image/png": "[encoded data removed]",
      "text/plain": [
       "<Figure size 640x480 with 1 Axes>"
      ]
     },
     "metadata": {},
     "output_type": "display_data"
    }
   ],
   "source": [
    "x = df_working_hr['working_hours']\n",
    "y = df_working_hr['# of jobs']\n",
    "\n",
    "fig, ax = plt.subplots()\n",
    "\n",
    "# plt.xticks(rotation='vertical')\n",
    "plt.xticks(rotation= 75)\n",
    "# ax.set_ylim(0,180)9\n",
    "\n",
    "# for i in range(len(x)):\n",
    "#     plt.text(i, y[i], y[i], ha ='center', va='bottom')\n",
    "    \n",
    "plt.bar(x,y )\n",
    "plt.show()"
   ]
  },
  {
   "cell_type": "code",
   "execution_count": 25,
   "id": "0af3a04e",
   "metadata": {},
   "outputs": [
    {
     "data": {
      "image/png": "[encoded data removed]",
      "text/plain": [
       "<Figure size 640x480 with 1 Axes>"
      ]
     },
     "metadata": {},
     "output_type": "display_data"
    }
   ],
   "source": [
    "x = df_date_salary.working_hours\n",
    "y = df_date_salary.max_salary\n",
    "\n",
    "fig, ax = plt.subplots()\n",
    "\n",
    "# plt.xticks(rotation='vertical')\n",
    "plt.xticks(rotation= 75)\n",
    "    \n",
    "plt.bar(x,y )\n",
    "plt.show()\n"
   ]
  },
  {
   "cell_type": "markdown",
   "id": "b01e28cc",
   "metadata": {},
   "source": [
    "# 5. Visualising the findings "
   ]
  },
  {
   "cell_type": "markdown",
   "id": "987e92b6",
   "metadata": {},
   "source": [
    "### Salary Types and Five Top Employers Created Using Tableau Public\n",
    "https://public.tableau.com/views/webscrapingofjobwebsite/salary_string_2?:language=en-US&:sid=&:display_count=n&:origin=viz_share_link\n",
    "https://public.tableau.com/views/webscrapingofjobwebsite/Sheet8?:language=en-US&:sid=&:display_count=n&:origin=viz_share_link\n",
    "<img src=\"salary_string_2_pie_chart.png\" alt ='alt_text' align= \"left\" width=\"450\"/> \n",
    "<img src=\"top_5_employers.png\"  alt ='alt_text' align= \"center\" width=\"400\"/> "
   ]
  },
  {
   "cell_type": "markdown",
   "id": "ac36ca0a",
   "metadata": {},
   "source": [
    "### Number of Jobs by the day of the week -Created Using Tableau Public \n",
    "https://public.tableau.com/views/webscrapingofjobwebsite/Sheet1?:language=en-US&:sid=&:display_count=n&:origin=viz_share_link\n",
    "https://public.tableau.com/views/webscrapingofjobwebsite/week_day_line?:language=en-US&:sid=&:display_count=n&:origin=viz_share_link\n",
    " <img src=\"week_day_bar.png\" alt ='alt_text' align= \"left\" width=\"450\"/> \n",
    "<img src=\"week_day_line.png\"  alt ='alt_text' align= \"center\" width=\"450\"/> "
   ]
  },
  {
   "cell_type": "markdown",
   "id": "6d8306ee",
   "metadata": {},
   "source": [
    "### Number of Jobs by Month- Bar and Line Chart Created Using Tableau Public\n",
    "https://public.tableau.com/views/webscrapingofjobwebsite/months?:language=en-US&:sid=&:display_count=n&:origin=viz_share_link\n",
    "https://public.tableau.com/views/webscrapingofjobwebsite/month_bar?:language=en-US&:sid=&:display_count=n&:origin=viz_share_link\n",
    "<img src=\"month_bar.png\" alt ='alt_text' align= \"left\" width=\"450\"/> \n",
    "<img src=\"months_line.png\"  alt ='alt_text' align= \"right\" width=\"450\"/>"
   ]
  },
  {
   "cell_type": "markdown",
   "id": "498e4556",
   "metadata": {},
   "source": [
    "### Five Top and least Paid Data Analyst jobs- Bar Chart Created Using Tableau Public\n",
    "https://public.tableau.com/views/webscrapingofjobwebsite/top_paid?:language=en-US&:sid=&:display_count=n&:origin=viz_share_link\n",
    "https://public.tableau.com/views/webscrapingofjobwebsite/least_paid?:language=en-US&:sid=&:display_count=n&:origin=viz_share_link\n",
    "<img src=\"top_paid.png\" alt ='alt_text' align= \"left\" width=\"450\"/> \n",
    "<img src=\"least_paid.png\"  alt ='alt_text' align= \"right\" width=\"450\"/>"
   ]
  },
  {
   "cell_type": "markdown",
   "id": "a8f1dc42",
   "metadata": {},
   "source": [
    "### Dashboard using Tableau Public\n",
    "https://public.tableau.com/views/webscrapingofjobwebsite/Dashboard1?:language=en-US&:sid=&:display_count=n&:origin=viz_share_link"
   ]
  },
  {
   "cell_type": "markdown",
   "id": "46742fd3",
   "metadata": {},
   "source": [
    "https://public.tableau.com/views/webscrapingofjobwebsite/Dashboard1?:language=en-US&:sid=&:display_count=n&:origin=viz_share_link"
   ]
  },
  {
   "cell_type": "code",
   "execution_count": 15,
   "id": "82a5d083",
   "metadata": {},
   "outputs": [
    {
     "data": {
      "text/html": [
       "  <div class='tableauPlaceholder' id='viz1716110504585' style='position: relative'><noscript><a href='#'><img alt='Dashboard ' src='https:&#47;&#47;public.tableau.com&#47;static&#47;images&#47;we&#47;webscrapingofjobwebsite&#47;Dashboard1&#47;1_rss.png' style='border: none' /></a></noscript><object class='tableauViz'  style='display:none;'><param name='host_url' value='https%3A%2F%2Fpublic.tableau.com%2F' /> <param name='embed_code_version' value='3' /> <param name='site_root' value='' /><param name='name' value='webscrapingofjobwebsite&#47;Dashboard1' /><param name='tabs' value='no' /><param name='toolbar' value='yes' /><param name='static_image' value='https:&#47;&#47;public.tableau.com&#47;static&#47;images&#47;we&#47;webscrapingofjobwebsite&#47;Dashboard1&#47;1.png' /> <param name='animate_transition' value='yes' /><param name='display_static_image' value='yes' /><param name='display_spinner' value='yes' /><param name='display_overlay' value='yes' /><param name='display_count' value='yes' /><param name='language' value='en-US' /></object></div>                <script type='text/javascript'>                    var divElement = document.getElementById('viz1716110504585');                    var vizElement = divElement.getElementsByTagName('object')[0];                    if ( divElement.offsetWidth > 800 ) { vizElement.style.width='1000px';vizElement.style.height='827px';} else if ( divElement.offsetWidth > 500 ) { vizElement.style.width='1000px';vizElement.style.height='827px';} else { vizElement.style.width='100%';vizElement.style.height='1277px';}                     var scriptElement = document.createElement('script');                    scriptElement.src = 'https://public.tableau.com/javascripts/api/viz_v1.js';                    vizElement.parentNode.insertBefore(scriptElement, vizElement);                </script>\n"
      ],
      "text/plain": [
       "<IPython.core.display.HTML object>"
      ]
     },
     "metadata": {},
     "output_type": "display_data"
    }
   ],
   "source": [
    " %%HTML \n",
    "   <div class='tableauPlaceholder' id='viz1716110504585' style='position: relative'><noscript><a href='#'><img alt='Dashboard ' src='https:&#47;&#47;public.tableau.com&#47;static&#47;images&#47;we&#47;webscrapingofjobwebsite&#47;Dashboard1&#47;1_rss.png' style='border: none' /></a></noscript><object class='tableauViz'  style='display:none;'><param name='host_url' value='https%3A%2F%2Fpublic.tableau.com%2F' /> <param name='embed_code_version' value='3' /> <param name='site_root' value='' /><param name='name' value='webscrapingofjobwebsite&#47;Dashboard1' /><param name='tabs' value='no' /><param name='toolbar' value='yes' /><param name='static_image' value='https:&#47;&#47;public.tableau.com&#47;static&#47;images&#47;we&#47;webscrapingofjobwebsite&#47;Dashboard1&#47;1.png' /> <param name='animate_transition' value='yes' /><param name='display_static_image' value='yes' /><param name='display_spinner' value='yes' /><param name='display_overlay' value='yes' /><param name='display_count' value='yes' /><param name='language' value='en-US' /></object></div>                <script type='text/javascript'>                    var divElement = document.getElementById('viz1716110504585');                    var vizElement = divElement.getElementsByTagName('object')[0];                    if ( divElement.offsetWidth > 800 ) { vizElement.style.width='1000px';vizElement.style.height='827px';} else if ( divElement.offsetWidth > 500 ) { vizElement.style.width='1000px';vizElement.style.height='827px';} else { vizElement.style.width='100%';vizElement.style.height='1277px';}                     var scriptElement = document.createElement('script');                    scriptElement.src = 'https://public.tableau.com/javascripts/api/viz_v1.js';                    vizElement.parentNode.insertBefore(scriptElement, vizElement);                </script>"
   ]
  },
  {
   "cell_type": "markdown",
   "id": "9b8de208",
   "metadata": {},
   "source": [
    "# 6. Data Interpretation & storytelling\n",
    "\n",
    "\n",
    "### Date column findings \n",
    "- most jobs are advertised on weekdays - least jobs on Weekends\n",
    "- Tuesday has the highest job advertising and it is  the best day of the week to use the scraping tool\n",
    "- Monday (61) is the second largest job advertised, Tuesday (68) the highest then it starts to slow down from Wednesday (60), Thursday (55), Friday (44) then drops sharply on the weekend Saturday (3) and Sunday (3)\n",
    "\n",
    "- April (167) is the most jobs advertised and June (1) the least the rest January (63), March (53), December (5) and February (2)\n",
    "- there is a high peak in April this maybe because the start of the financial budget year employers  trying to get more staff with new budget\n",
    "- January, February, March and April are from the 2024 year data\n",
    "- There's a sharp fall in June. There is no data between June & December 2023 so I am unable to analysis\n",
    "\n",
    "- The advertising starts increasing from December 2023 to January 2024, drops sharply in February & starts to increase from March reaching the highest in April (167)\n",
    "- jobs advertised may appear on the website for a limited time until someone is hired so this has impacted on 2023 date as well as my analysis\n",
    "\n",
    "### Salary column findings \n",
    " \n",
    "- 60.5%  (178)  jobs have fixed salaries\n",
    "- 26.5% [(78/294)*100] 78 Out of 294 jobs advertised offer 'Competitive salary'  \n",
    "- 9.2% (27 jobs) [(27/294)*100] employers offer 'Training Course' to fullfill their Data Analyst workforce need. \n",
    "- 3.7 %  [(11/294)*100] 11 employers are willing to negotiate the salary (Salary negotiable') to attract Data Analyst\n",
    "\n",
    "\n",
    "- min_outliers_clean (min_salary) column after outliers removed contains 30.1 % (160 rows) less than half of the original 523 rows\n",
    "- max_outliers_clean (max_salary) ccolumn after outliers removed contains 31.2 % (163 rows) less than half of the original 523 rows\n",
    "\n",
    "- The Average annual salary of Data Analyst is £39,132 (MEAN of min_salary column + MEAN of max_salary column)/2 \n",
    "\n",
    "\n",
    "\n",
    "### Employers column findings \n",
    "\n",
    "- The ITonlinelearning Recruitment (78) is the top employer followed by Harnham - Data & Analytics Recruitment(23), eFinancialCareers(13), How to Job Ltd (9), and Charles Moore Associates Ltd (5).\n",
    "\n",
    "\n",
    "### Working hours findings \n",
    "- the majority of the jobs offer Permanent full-time(86.7%) indicating that the Data Analyst field would have good job opportunities and long working hours\n",
    "\n",
    "### Location  \n",
    "- The location column is mixed and biases my analysis findings I have excluded it. For example, East London, Central London, City of London, North London, Kingston Upon Thames, North West London, Enfield, Twickenham, West London, Hounslow, Croydon, Barking, Romford, Uxbridge are all within Greater London. Similarly, locations around Birmingham are mixed too.  \n",
    "\n",
    " \n"
   ]
  },
  {
   "cell_type": "markdown",
   "id": "77a69ee9",
   "metadata": {},
   "source": [
    "## 7. Summary\n",
    "\n",
    "- I used the first page of the website to extract titles, salaries, locations, links, and descriptions of each job then experimented with the code before applying it to all pages\n",
    "- Created a single function that can automatically extract the required information from all pages and save the data as a CSV file\n",
    "- Processed the data then analysed using data visualization tools - Python libraries, Matplotlib and Seaborn to make comparisons between employers, salaries, working hours and date - change over time.\n",
    "- From 523 rows of the scrapped data, 229 (44%) duplicates were removed and only 294 rows (56%) were used for my analysis\n",
    "- Outliers in the min_salary and max_salary columns were significant and removed before the analysis\n",
    "- Max_salary column after outliers removed contains 55 % (163) of  294 rows, 31% from the original 523 rows\n",
    "- Min_salary column aafter outliers removed contains 54 % (160) of 294 rows,  30.5% from the original 523 rows\n",
    "- The dataset I used for min and max salary analysis is just over half of 294 rows\n",
    "\n",
    "\n",
    "### Conditions to take into account\n",
    " \n",
    "- Jobs with fixed salaries make up 60.6 % and other salaries 39.40%  of the dataset 294 rows\n",
    " \n",
    "- The data sample size of 294 rows is a very small  and contains a few months from 2023\n",
    "- Jobs appear on the website for a limited period until someone is hired so this has impacted 2023 data as well as my analysis\n",
    "- This analysis is to demonstrate that I can apply similar methods to large scale data\n",
    "- Further investigation is required if these jobs advertised are seasonal or  if companies demand is a one off or continues.\n",
    "- Some jobs are advertised by recruitment agencies on behalf of employers so there may be more jobs on the employers’ website\n",
    "- On the day of scrapping  (28/04/2024) the website had 2872 Data Analyst Jobs in England but my program extracted 2874 which is an extra of 2 jobs. A further investigation is required as to why this happened.\n",
    "\n",
    "\n",
    "\n",
    "## 8. References\n",
    " \n",
    "* Getting Started with Data Science by Murtaza Haider (book)\n",
    "* https://stackoverflow.com/\n",
    "* [ChatGPT](https://chatgpt.com/auth/login)\n",
    "\n",
    "\n",
    "## 9. Idea for future project work\n",
    "\n",
    "* Automatic scrapping of different locations and job titles\n"
   ]
  },
  {
   "cell_type": "code",
   "execution_count": null,
   "id": "75abdd1a",
   "metadata": {},
   "outputs": [],
   "source": []
  }
 ],
 "metadata": {
  "kernelspec": {
   "display_name": "Python 3 (ipykernel)",
   "language": "python",
   "name": "python3"
  },
  "language_info": {
   "codemirror_mode": {
    "name": "ipython",
    "version": 3
   },
   "file_extension": ".py",
   "mimetype": "text/x-python",
   "name": "python",
   "nbconvert_exporter": "python",
   "pygments_lexer": "ipython3",
   "version": "3.8.18"
  },
  "varInspector": {
   "cols": {
    "lenName": 16,
    "lenType": 16,
    "lenVar": 40
   },
   "kernels_config": {
    "python": {
     "delete_cmd_postfix": "",
     "delete_cmd_prefix": "del ",
     "library": "var_list.py",
     "varRefreshCmd": "print(var_dic_list())"
    },
    "r": {
     "delete_cmd_postfix": ") ",
     "delete_cmd_prefix": "rm(",
     "library": "var_list.r",
     "varRefreshCmd": "cat(var_dic_list()) "
    }
   },
   "types_to_exclude": [
    "module",
    "function",
    "builtin_function_or_method",
    "instance",
    "_Feature"
   ],
   "window_display": false
  }
 },
 "nbformat": 4,
 "nbformat_minor": 5
}
